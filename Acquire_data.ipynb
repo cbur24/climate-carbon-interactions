{
 "cells": [
  {
   "cell_type": "markdown",
   "id": "44a46ec6-228e-49d8-b8a2-959b2c530cc8",
   "metadata": {},
   "source": [
    "## Process Sami's harmonized NDVI"
   ]
  },
  {
   "cell_type": "code",
   "execution_count": null,
   "id": "b17f7f7a-dbab-4d87-a71e-bd19e5848873",
   "metadata": {},
   "outputs": [],
   "source": [
    "import xarray as xr\n",
    "from odc.geo.xr import assign_crs\n",
    "import pandas as pd\n",
    "\n",
    "ds = pd.read_parquet('/g/data/os22/chad_tmp/climate-carbon-interactions/data/MCD43_AVHRR_NDVI_hybrid_2020-10-12.parquet')\n",
    "\n",
    "ds['date'] = pd.to_datetime(ds['date'])\n",
    "ds =  ds.rename({'date':'time'}, axis=1)\n",
    "ds = ds.set_index(['x','y','time'])\n",
    "ds = ds.drop(['month', 'year', 'season', 'sza', 'tod'], axis=1)\n",
    "\n",
    "ds = ds.to_xarray()\n",
    "ds = ds.transpose()\n",
    "ds = assign_crs(ds, crs='epsg:4326')\n",
    "\n",
    "ds.to_netcdf('/g/data/os22/chad_tmp/climate-carbon-interactions/data/MCD43_AVHRR_NDVI_hybrid_EasternOzWoody.nc')"
   ]
  },
  {
   "cell_type": "markdown",
   "id": "f5be2bcf-e12c-4133-adec-406d5401bb1a",
   "metadata": {},
   "source": [
    "## Gobal LST from AVHRR\n",
    "\n",
    "data avilable here: http://glass.umd.edu/LST/v02/\n",
    "\n",
    "paper here: https://essd.copernicus.org/articles/12/3247/2020/#section5\n"
   ]
  },
  {
   "cell_type": "code",
   "execution_count": null,
   "id": "544c8ffa-d724-43e7-ae89-7b4728a8428d",
   "metadata": {
    "tags": []
   },
   "outputs": [],
   "source": [
    "# ds.plot.imshow(col='time', col_wrap=4, robust=True)"
   ]
  },
  {
   "cell_type": "markdown",
   "id": "144c321d-9112-4a3c-957b-1506d46a4bf1",
   "metadata": {},
   "source": [
    "## Soil Moisture (S-GRAFS)"
   ]
  },
  {
   "cell_type": "code",
   "execution_count": null,
   "id": "3e438659-b9bf-4ad8-ba56-7909331d90d3",
   "metadata": {
    "tags": []
   },
   "outputs": [],
   "source": [
    "import sys\n",
    "import os\n",
    "import numpy as np\n",
    "import pandas as pd\n",
    "import warnings\n",
    "import odc.geo.xr\n",
    "import xarray as xr\n",
    "from odc.geo.xr import assign_crs\n",
    "import pandas as pd\n",
    "# import geopandas as gpd"
   ]
  },
  {
   "cell_type": "code",
   "execution_count": null,
   "id": "58f9b8b5-f358-4cbe-8956-3f564df296f6",
   "metadata": {
    "tags": []
   },
   "outputs": [],
   "source": [
    "base = '/g/data/fj4/SatelliteSoilMoistureProducts/S-GRAFS/SM_vol_1km/'"
   ]
  },
  {
   "cell_type": "code",
   "execution_count": null,
   "id": "c8821470-4d04-4239-a8a4-ee0b42d5d29c",
   "metadata": {
    "tags": []
   },
   "outputs": [],
   "source": [
    "sys.path.append('/g/data/os22/chad_tmp/AusEFlux/src/')\n",
    "from dask_utils import start_local_dask\n",
    "\n",
    "client = start_local_dask(mem_safety_margin='2Gb')\n",
    "client"
   ]
  },
  {
   "cell_type": "code",
   "execution_count": null,
   "id": "0c67410d-c04a-4bc8-888b-8e238190e249",
   "metadata": {
    "tags": []
   },
   "outputs": [],
   "source": [
    "files = [base+i for i in os.listdir(base) if i.endswith('.nc')]\n",
    "files.sort()\n",
    "print(len(files))"
   ]
  },
  {
   "cell_type": "code",
   "execution_count": null,
   "id": "7d45704d-0587-4d31-90c7-6367c5d4366b",
   "metadata": {
    "tags": []
   },
   "outputs": [],
   "source": [
    "ds = xr.open_mfdataset(files) #chunks=dict(latitude=1000, longitude=1000)\n",
    "ds = assign_crs(ds, crs='epsg:4326')\n",
    "ds = ds[['soil_moisture']]\n",
    "ds = ds.resample(time='MS', loffset=pd.Timedelta(14, 'd')).mean()\n",
    "ds"
   ]
  },
  {
   "cell_type": "code",
   "execution_count": null,
   "id": "52953ae5-31ee-462e-9b73-91281ae36c4f",
   "metadata": {
    "tags": []
   },
   "outputs": [],
   "source": [
    "%%time\n",
    "ds = ds.compute()"
   ]
  },
  {
   "cell_type": "code",
   "execution_count": null,
   "id": "32dcde07-ae49-4dd0-b065-795cfce02ea4",
   "metadata": {},
   "outputs": [],
   "source": [
    "ds.attrs['nodata'] = np.nan"
   ]
  },
  {
   "cell_type": "code",
   "execution_count": null,
   "id": "6a366255-a3e9-457f-a580-e9c960f0d2cd",
   "metadata": {},
   "outputs": [],
   "source": [
    "gpp = assign_crs(xr.open_dataset('/g/data/os22/chad_tmp/NEE_modelling/results/predictions/AusEFlux_GPP_2003_2022_5km_quantiles_v1.1.nc'), crs='epsg:4326')\n",
    "\n",
    "ds_5k = ds.odc.reproject(how=gpp.odc.geobox, resampling='average')"
   ]
  },
  {
   "cell_type": "code",
   "execution_count": null,
   "id": "5a0c2fda-79f0-441b-89cd-82a2835bdef7",
   "metadata": {},
   "outputs": [],
   "source": [
    "ds.to_netcdf('/g/data/os22/chad_tmp/climate-carbon-interactions/data/S-GRAFS_1km_monthly_2015_2022.nc')"
   ]
  },
  {
   "cell_type": "code",
   "execution_count": null,
   "id": "2e23a500-fb36-49c7-8484-be81db6ba3ac",
   "metadata": {},
   "outputs": [],
   "source": [
    "ds_5k.to_netcdf('/g/data/os22/chad_tmp/climate-carbon-interactions/data/S-GRAFS_5km_monthly_2015_2022.nc')"
   ]
  },
  {
   "cell_type": "markdown",
   "id": "87cb6bce-9578-4403-97b9-fefdc653b198",
   "metadata": {},
   "source": [
    "## Woody Cover Fraction (~Trees)\n",
    "\n",
    "For the years 2000-2022 this was already processed in the `AusEFlux` repo.\n",
    "\n",
    "We'll need to mosaic the 25m datasets to get the 90's.  This requires a ton of memory, ~300 GiB"
   ]
  },
  {
   "cell_type": "code",
   "execution_count": null,
   "id": "9f97d6e9-2a66-428c-91fe-d3631f95eb90",
   "metadata": {},
   "outputs": [],
   "source": [
    "import os\n",
    "import pandas as pd\n",
    "import xarray as xr\n",
    "import numpy as np\n",
    "from odc.geo.xr import assign_crs\n",
    "import warnings\n",
    "import matplotlib.pyplot as plt\n",
    "\n",
    "import sys\n",
    "sys.path.append('/g/data/os22/chad_tmp/AusEFlux/src/')\n",
    "from dask_utils import start_local_dask\n",
    "from _collect_prediction_data import round_coords"
   ]
  },
  {
   "cell_type": "code",
   "execution_count": null,
   "id": "fa8fc07f-0551-4c42-985c-01cb625c1f0f",
   "metadata": {},
   "outputs": [],
   "source": [
    "client = start_local_dask(mem_safety_margin='2Gb')\n",
    "client"
   ]
  },
  {
   "cell_type": "code",
   "execution_count": null,
   "id": "e6604ddf-c2eb-4a5e-85d9-905f7043b07d",
   "metadata": {},
   "outputs": [],
   "source": [
    "base = '/g/data/os22/chad_tmp/AusEFlux/data/5km/WCF/'\n",
    "files = [base+i for i in os.listdir(base) if i.endswith('.nc')]\n",
    "files.sort()"
   ]
  },
  {
   "cell_type": "code",
   "execution_count": null,
   "id": "7f15ca1f-4ebb-4c0c-b6d8-b88c55b0b82d",
   "metadata": {},
   "outputs": [],
   "source": [
    "wcf = xr.open_mfdataset(files)\n",
    "wcf = assign_crs(wcf, crs='EPSG:4326')\n",
    "wcf = wcf.compute()\n",
    "del wcf.WCF.attrs['grid_mapping']\n",
    "wcf.to_netcdf('/g/data/os22/chad_tmp/climate-carbon-interactions/data/WCF_5km_monthly_2000_2022.nc')"
   ]
  },
  {
   "cell_type": "markdown",
   "id": "a11c4826-4971-4737-99fd-8b6f6a693335",
   "metadata": {},
   "source": [
    "### Mosaicing the 25m tiles of WCF"
   ]
  },
  {
   "cell_type": "code",
   "execution_count": null,
   "id": "a054dc95-742d-4518-8c17-15a709d7d703",
   "metadata": {},
   "outputs": [],
   "source": [
    "base = '/g/data/ub8/au/LandCover/DEA_ALC/'\n",
    "years = [str(i) for i in range(1995,2000)]\n",
    "tiles = [i for i in os.listdir(base)]\n",
    "tiles.sort()"
   ]
  },
  {
   "cell_type": "code",
   "execution_count": null,
   "id": "7420ac67-00f5-4ccc-ae87-ead035e3dfe5",
   "metadata": {},
   "outputs": [],
   "source": [
    "gbox = xr.open_dataset('/g/data/os22/chad_tmp/climate-carbon-interactions/data/WCF_5km_monthly_2000_2022.nc').odc.geobox"
   ]
  },
  {
   "cell_type": "code",
   "execution_count": null,
   "id": "b3d5eceb-9f37-40f8-b3a2-0cfd9a8707d2",
   "metadata": {},
   "outputs": [],
   "source": [
    "for y in years:\n",
    "    print(y)\n",
    "    dss=[]\n",
    "    i=0\n",
    "    for t in tiles:\n",
    "        print(\"  {:03}/{:03}\\r\".format(i + 1, len(range(0, len(tiles)))), end=\"\")\n",
    "        ds = xr.open_dataset('/g/data/ub8/au/LandCover/DEA_ALC/'+t+'/fc_metrics_'+t+'_'+y+'.nc', chunks=dict(x=4000, y=4000))\n",
    "        ds = ds.transpose('y', 'x')\n",
    "        ds = assign_crs(ds, crs='epsg:3577').drop('crs').to_array().squeeze().drop('variable').rename('WCF')\n",
    "        dss.append(ds)\n",
    "        i+=1\n",
    "\n",
    "    warnings.filterwarnings(\"ignore\")\n",
    "    ds = xr.combine_by_coords(dss).compute()\n",
    "    ds = ds.WCF\n",
    "    ds.attrs['nodata'] = np.nan\n",
    "    ds = ds.odc.reproject(gbox, resampling='average').compute()\n",
    "    ds = round_coords(ds)\n",
    "    time = pd.date_range(y+\"-01\", y+\"-12\", freq='MS') \n",
    "    time = [t+pd.Timedelta(14, 'd') for t in time]\n",
    "    ds = ds.expand_dims(time=time)\n",
    "    ds.to_netcdf('/g/data/os22/chad_tmp/climate-carbon-interactions/data/WCF/WCF_'+y+'.nc')\n",
    "    "
   ]
  },
  {
   "cell_type": "markdown",
   "id": "975ff4b6-dd24-437a-ae94-3683cbd12165",
   "metadata": {},
   "source": [
    "### Merge the files"
   ]
  },
  {
   "cell_type": "code",
   "execution_count": null,
   "id": "a3e251dd-a743-4033-85e5-9123568d3658",
   "metadata": {},
   "outputs": [],
   "source": [
    "_2000_2022 = assign_crs(xr.open_dataset('/g/data/os22/chad_tmp/climate-carbon-interactions/data/WCF_5km_monthly_2000_2022.nc'), crs='EPSG:4326')\n",
    "mean = _2000_2022.WCF.sel(time=slice('2000', '2010')).mean('time')\n",
    "mask = np.isnan(mean)\n",
    "mask = ~mask"
   ]
  },
  {
   "cell_type": "code",
   "execution_count": null,
   "id": "b159a1d0-e438-498c-b0b2-9d1bacf29e9b",
   "metadata": {},
   "outputs": [],
   "source": [
    "base = '/g/data/os22/chad_tmp/climate-carbon-interactions/data/WCF/'\n",
    "files = [base+i for i in os.listdir(base) if i.endswith('.nc')]\n",
    "files.sort()"
   ]
  },
  {
   "cell_type": "code",
   "execution_count": null,
   "id": "ed2ee62d-38d6-4af0-973e-9f0c35467a8b",
   "metadata": {},
   "outputs": [],
   "source": [
    "wcf = xr.open_mfdataset(files)\n",
    "wcf = wcf.rename({'__xarray_dataarray_variable__':'WCF'})\n",
    "wcf = assign_crs(wcf, crs='EPSG:4326')\n",
    "wcf = wcf.where(mask)\n",
    "ds = xr.concat([wcf, _2000_2022], dim='time')\n",
    "ds = ds.compute()"
   ]
  },
  {
   "cell_type": "code",
   "execution_count": null,
   "id": "1c296ade-254f-4c83-9f89-6c5cc7b79878",
   "metadata": {},
   "outputs": [],
   "source": [
    "ds.to_netcdf('/g/data/os22/chad_tmp/climate-carbon-interactions/data/WCF_5km_monthly_1990_2022.nc')"
   ]
  },
  {
   "cell_type": "code",
   "execution_count": null,
   "id": "85639fa3-d5c1-478a-962c-e4fa586f52c5",
   "metadata": {},
   "outputs": [],
   "source": [
    "ds.WCF.mean(['latitude', 'longitude']).plot(figsize=(13,4));\n",
    "plt.title('Mean WCF 1992-2022 ');\n",
    "\n",
    "(ds.WCF.sel(time=slice('2018','2022')).mean('time') - ds.WCF.sel(time=slice('1990','1994')).mean('time')).plot.imshow(size=7, robust=True, cmap='RdBu')\n",
    "plt.title('Difference WCF: 2018-2022 average minus 1990-94 average');"
   ]
  },
  {
   "cell_type": "markdown",
   "id": "cc4e2dbe-a205-4fd0-aa0c-43f35fe0311d",
   "metadata": {},
   "source": [
    "## ANUCLIM 1982-2022\n",
    "\n",
    "Including fractional anomalies"
   ]
  },
  {
   "cell_type": "code",
   "execution_count": null,
   "id": "68e357fa-087f-4104-882e-c1466fe19036",
   "metadata": {},
   "outputs": [],
   "source": [
    "import xarray as xr\n",
    "import rioxarray\n",
    "from datetime import datetime\n",
    "import pandas as pd\n",
    "import numpy as np\n",
    "import os\n",
    "from odc.geo.xr import assign_crs\n",
    "\n",
    "import sys\n",
    "sys.path.append('/g/data/os22/chad_tmp/AusEFlux/src/')\n",
    "from _collect_prediction_data import round_coords"
   ]
  },
  {
   "cell_type": "code",
   "execution_count": null,
   "id": "d8d657b1-f015-4598-ab74-6f344d7f5488",
   "metadata": {},
   "outputs": [],
   "source": [
    "from datacube.utils.dask import start_local_dask\n",
    "client = start_local_dask(mem_safety_margin='2Gb')\n",
    "client"
   ]
  },
  {
   "cell_type": "code",
   "execution_count": null,
   "id": "30fc1cbe-3ab7-457b-ad00-31821f482b77",
   "metadata": {},
   "outputs": [],
   "source": [
    "gbox = xr.open_dataset('/g/data/os22/chad_tmp/climate-carbon-interactions/data/WCF_5km_monthly_2000_2022.nc').odc.geobox"
   ]
  },
  {
   "cell_type": "code",
   "execution_count": null,
   "id": "c103c14b-96d5-4a47-874a-d3fb6e0a3088",
   "metadata": {},
   "outputs": [],
   "source": [
    "base='/g/data/gh70/ANUClimate/v2-0/stable/month/'\n",
    "var =  'tavg' #'rain' # 'vpd' 'srad'\n",
    "\n",
    "years = [str(i) for i in range(1982,2023)]\n",
    "\n",
    "i=0\n",
    "pp = []\n",
    "for y in years:\n",
    "    print(\" {:02}/{:02}\\r\".format(i + 1, len(years)), end=\"\")\n",
    "    ds = xr.open_mfdataset([base+var+'/'+y+'/'+i for i in os.listdir(base+var+'/'+y+'/')],\n",
    "                              chunks=dict(lat=1000, lon=1000))\n",
    "    \n",
    "    ds = assign_crs(ds, crs='epsg:4283') #GDA94\n",
    "    ds = ds.drop('crs')[var]\n",
    "    ds.attrs['nodata'] = np.nan\n",
    "    ds = ds.odc.reproject(gbox, resampling='average')\n",
    "    ds = round_coords(ds)\n",
    "    pp.append(ds)\n",
    "    i+=1\n",
    "\n",
    "ds = xr.concat(pp, dim='time').sortby('time')\n",
    "ds = ds.compute()\n",
    "ds = ds.rename(var)\n",
    "ds.to_netcdf('/g/data/os22/chad_tmp/climate-carbon-interactions/data/'+var+'_5km_monthly_1982_2022.nc')"
   ]
  },
  {
   "cell_type": "markdown",
   "id": "501817c3-8162-4bf5-b30c-3808e76d3cb5",
   "metadata": {},
   "source": [
    "### Fractional anomalies\n",
    "\n",
    "obs / climatology\n",
    "\n",
    "kNDVI, LAI, rain_cml3, rain_cml6, rain_cml12"
   ]
  },
  {
   "cell_type": "code",
   "execution_count": null,
   "id": "5bb5bd12-afe5-4617-bc78-478a5499d200",
   "metadata": {},
   "outputs": [],
   "source": [
    "var = 'tavg'\n",
    "ds = assign_crs(xr.open_dataset('/g/data/os22/chad_tmp/climate-carbon-interactions/data/5km/'+var+'_5km_monthly_1982_2022.nc'), crs='EPSG:4326')"
   ]
  },
  {
   "cell_type": "code",
   "execution_count": null,
   "id": "f13a08eb-6d73-4f1f-90eb-3d9f0916a192",
   "metadata": {},
   "outputs": [],
   "source": [
    "mean = ds.groupby(\"time.month\").mean(\"time\")"
   ]
  },
  {
   "cell_type": "code",
   "execution_count": null,
   "id": "9c9e4922-a382-429e-b844-92b7675f24b6",
   "metadata": {},
   "outputs": [],
   "source": [
    "frac = ds.groupby(\"time.month\") / mean"
   ]
  },
  {
   "cell_type": "code",
   "execution_count": null,
   "id": "a1fd914e-6009-4ef2-9094-a75b0a19a882",
   "metadata": {},
   "outputs": [],
   "source": [
    "frac[var].mean(['latitude', 'longitude']).plot(figsize=(13,4))"
   ]
  },
  {
   "cell_type": "code",
   "execution_count": null,
   "id": "023a5a4b-f5ca-4052-a5c1-c85a15b2ed86",
   "metadata": {},
   "outputs": [],
   "source": [
    "frac.drop('month').rename({var:var+'_anom'}).to_netcdf('/g/data/os22/chad_tmp/climate-carbon-interactions/data/5km/'+var+'_anom_5km_monthly_1982_2022.nc')"
   ]
  },
  {
   "cell_type": "markdown",
   "id": "509a67dd-3177-4b41-bbf2-b27cbf8e7bed",
   "metadata": {},
   "source": [
    "## AVHRR NDVI\n",
    "\n",
    "Started doing this by downloading directly the global daily netcdfs from the links below, then processing them. But swithced to using GEE instead. \n",
    "\n",
    "from here: https://www.ncei.noaa.gov/data/avhrr-land-normalized-difference-vegetation-index/access/\n",
    "\n",
    "description: https://climatedataguide.ucar.edu/climate-data/ndvi-normalized-difference-vegetation-index-noaa-avhrr\n",
    "\n",
    "THREDDS: https://www.ncei.noaa.gov/thredds/catalog/cdr/ndvi/catalog.html"
   ]
  },
  {
   "cell_type": "code",
   "execution_count": null,
   "id": "a015729c-7040-4775-bad7-925ca85ba08a",
   "metadata": {
    "tags": []
   },
   "outputs": [],
   "source": [
    "# import os\n",
    "# import wget\n",
    "# import requests\n",
    "# from bs4 import BeautifulSoup\n",
    "\n",
    "# base_url = 'https://www.ncei.noaa.gov/data/avhrr-land-normalized-difference-vegetation-index/access/'\n",
    "# year = [str(y) for y in range(1982,2014)]\n",
    "# out_loc = '/g/data/os22/chad_tmp/climate-carbon-interactions/data/AVHRR/'\n",
    "\n",
    "# for y in year:\n",
    "#     print(y)\n",
    "#     #where the data is listed for a given year\n",
    "#     url = \"https://www.ncei.noaa.gov/data/avhrr-land-normalized-difference-vegetation-index/access/\"+y\n",
    "    \n",
    "#     #get all relevant links for that year\n",
    "#     soup = BeautifulSoup(requests.get(url).content, \"html.parser\")\n",
    "#     files_to_dl = []\n",
    "#     for link in soup.select('a[href*=\".nc\"]'):\n",
    "#         files_to_dl.append(link[\"href\"])\n",
    "    \n",
    "#     #create folder if necessary\n",
    "#     if os.path.exists(out_loc+y):\n",
    "#         pass\n",
    "#     else:\n",
    "#         os.mkdir(out_loc+y)\n",
    "    \n",
    "#     #download links\n",
    "#     i=0\n",
    "#     for filename in files_to_dl:\n",
    "#         print(\"  {:03}/{:03}\\r\".format(i + 1, len(range(0, len(files_to_dl)))), end=\"\")\n",
    "        \n",
    "#         if os.path.exists(out_loc+y+'/'+filename):\n",
    "#             i+=1\n",
    "#             continue\n",
    "        \n",
    "#         else:\n",
    "#             wget.download(url=base_url+y+'/'+filename,\n",
    "#                   out=out_loc+y+'/')\n",
    "#             i+=1\n",
    "\n",
    "#------------------------------------------------------------------------------\n",
    "##Parallel version of the above...not faster due to band width limits on ARE\n",
    "\n",
    "# import multiprocessing as mp\n",
    "# from tqdm import tqdm\n",
    "\n",
    "# def _parallel_dl(filename, y, base_url, out_loc):\n",
    "#     wget.download(url=base_url+y+'/'+filename,\n",
    "#                   out=out_loc+y+'/')\n",
    "\n",
    "# #download each link\n",
    "# def update(*a):\n",
    "#     pbar.update()      \n",
    "\n",
    "# for y in year:\n",
    "#     print(y)\n",
    "#     #where the data is listed for a given year\n",
    "#     url = \"https://www.ncei.noaa.gov/data/avhrr-land-normalized-difference-vegetation-index/access/\"+y\n",
    "    \n",
    "#     #get all relevant links for that year\n",
    "#     soup = BeautifulSoup(requests.get(url).content, \"html.parser\")\n",
    "#     files_to_dl = []\n",
    "#     for link in soup.select('a[href*=\".nc\"]'):\n",
    "#         files_to_dl.append(link[\"href\"])\n",
    "    \n",
    "#     if os.path.exists(out_loc+y):\n",
    "#         pass\n",
    "#     else:\n",
    "#         os.mkdir(out_loc+y)\n",
    "    \n",
    "#     pbar = tqdm(total=len(files_to_dl))\n",
    "\n",
    "#     with mp.Pool(ncpus) as pool:\n",
    "#         for filename in files_to_dl:\n",
    "#             pool.apply_async(\n",
    "#                 _parallel_dl,\n",
    "#                     [filename,\n",
    "#                      y, \n",
    "#                      base_url,\n",
    "#                      out_loc\n",
    "#                     ],\n",
    "#                 callback=update,\n",
    "#                 )\n",
    "#         pool.close()\n",
    "#         pool.join()\n",
    "#         pbar.close()\n",
    "\n",
    "#---------------------------------------------------------------------------\n",
    "## Process AVHRR into monthly mean NDVI\n",
    "\n",
    "# base = '/g/data/os22/chad_tmp/climate-carbon-interactions/data/AVHRR/1982/'\n",
    "\n",
    "# files = [base+i for i in os.listdir(base) if i.endswith('.nc')]\n",
    "# files.sort()\n",
    "\n",
    "# warnings.filterwarnings(\"ignore\")\n",
    "# ds = xr.open_mfdataset(files) #chunks=dict(latitude=1000, longitude=1000)\n",
    "\n",
    "# ds = assign_crs(ds, ds.crs.attrs['epsg_code'])\n",
    "# ds = ds.drop(['crs', 'lat_bnds', 'lon_bnds'])\n",
    "# ds = ds.sel(longitude=slice(110,155), latitude=slice(-9,-45)) #aus extent\n",
    "\n",
    "# ds = ds.compute()\n",
    "\n",
    "# #QA masking\n",
    "# flag_keys = ds.QA.flag_meanings.split()\n",
    "# qa_dict = dict(zip(flag_keys, ds.QA.flag_masks))\n",
    "\n",
    "# clouds = np.bitwise_and(ds['QA'], qa_dict['cloudy'])\n",
    "# clouds = xr.where(clouds>0, 1, 0).astype(bool) #equals 1 where cloudy\n",
    "# cloud_shadows = np.bitwise_and(ds['QA'], qa_dict['cloud_shadow'])\n",
    "# cloud_shadows = xr.where(cloud_shadows>0, 1, 0).astype(bool)  #equals 1 where cloud_shadow\n",
    "\n",
    "# mask = (clouds | cloud_shadows) #combine\n",
    "\n",
    "# ds = ds.where(~mask)\n",
    "\n",
    "# ds = ds.NDVI.resample(time='MS').mean()\n",
    "\n",
    "# ds = assign_crs(ds, crs='epsg:4326')\n",
    "# del ds.attrs['grid_mapping']\n",
    "\n",
    "# ds.to_netcdf('/g/data/os22/chad_tmp/climate-carbon-interactions/data/AVHRR/AVHRR_cdr_NDVI_monthly_1982.nc')"
   ]
  }
 ],
 "metadata": {
  "kernelspec": {
   "display_name": "Python 3 (ipykernel)",
   "language": "python",
   "name": "python3"
  },
  "language_info": {
   "codemirror_mode": {
    "name": "ipython",
    "version": 3
   },
   "file_extension": ".py",
   "mimetype": "text/x-python",
   "name": "python",
   "nbconvert_exporter": "python",
   "pygments_lexer": "ipython3",
   "version": "3.9.2"
  }
 },
 "nbformat": 4,
 "nbformat_minor": 5
}
