{
 "cells": [
  {
   "cell_type": "markdown",
   "id": "c5e2115e-95f5-4c63-adbb-630e472d34a4",
   "metadata": {},
   "source": [
    "## AVHRR NDVI\n",
    "\n",
    "from here: https://www.ncei.noaa.gov/data/avhrr-land-normalized-difference-vegetation-index/access/\n",
    "\n",
    "description: https://climatedataguide.ucar.edu/climate-data/ndvi-normalized-difference-vegetation-index-noaa-avhrr\n",
    "\n",
    "THREDDS: https://www.ncei.noaa.gov/thredds/catalog/cdr/ndvi/catalog.html"
   ]
  },
  {
   "cell_type": "code",
   "execution_count": null,
   "id": "b3660f02-5155-49a0-a59c-8d5ca588e0f0",
   "metadata": {
    "tags": []
   },
   "outputs": [],
   "source": [
    "import os\n",
    "import wget\n",
    "import requests\n",
    "from bs4 import BeautifulSoup"
   ]
  },
  {
   "cell_type": "code",
   "execution_count": null,
   "id": "cb19a748-ee70-45d2-82a4-f5bf83d85722",
   "metadata": {
    "tags": []
   },
   "outputs": [],
   "source": [
    "base_url = 'https://www.ncei.noaa.gov/data/avhrr-land-normalized-difference-vegetation-index/access/'\n",
    "year = [str(y) for y in range(1982,2014)]\n",
    "out_loc = '/g/data/os22/chad_tmp/climate-carbon-interactions/data/AVHRR/'"
   ]
  },
  {
   "cell_type": "code",
   "execution_count": null,
   "id": "a015729c-7040-4775-bad7-925ca85ba08a",
   "metadata": {
    "tags": []
   },
   "outputs": [],
   "source": [
    "for y in year:\n",
    "    print(y)\n",
    "    #where the data is listed for a given year\n",
    "    url = \"https://www.ncei.noaa.gov/data/avhrr-land-normalized-difference-vegetation-index/access/\"+y\n",
    "    \n",
    "    #get all relevant links for that year\n",
    "    soup = BeautifulSoup(requests.get(url).content, \"html.parser\")\n",
    "    files_to_dl = []\n",
    "    for link in soup.select('a[href*=\".nc\"]'):\n",
    "        files_to_dl.append(link[\"href\"])\n",
    "    \n",
    "    #create folder if necessary\n",
    "    if os.path.exists(out_loc+y):\n",
    "        pass\n",
    "    else:\n",
    "        os.mkdir(out_loc+y)\n",
    "    \n",
    "    #download links\n",
    "    i=0\n",
    "    for filename in files_to_dl:\n",
    "        print(\"  {:03}/{:03}\\r\".format(i + 1, len(range(0, len(files_to_dl)))), end=\"\")\n",
    "        \n",
    "        if os.path.exists(out_loc+y+'/'+filename):\n",
    "            i+=1\n",
    "            continue\n",
    "        \n",
    "        else:\n",
    "            wget.download(url=base_url+y+'/'+filename,\n",
    "                  out=out_loc+y+'/')\n",
    "            i+=1"
   ]
  },
  {
   "cell_type": "markdown",
   "id": "90794353-ff88-42a9-bf4a-12bcb1ef2613",
   "metadata": {},
   "source": [
    "### Parallel version of the above"
   ]
  },
  {
   "cell_type": "code",
   "execution_count": null,
   "id": "4ff17f3e-a51b-4a70-b3ea-60a63c534cdf",
   "metadata": {
    "tags": []
   },
   "outputs": [],
   "source": [
    "# import multiprocessing as mp\n",
    "# from tqdm import tqdm\n",
    "\n",
    "# def _parallel_dl(filename, y, base_url, out_loc):\n",
    "#     wget.download(url=base_url+y+'/'+filename,\n",
    "#                   out=out_loc+y+'/')\n",
    "\n",
    "# #download each link\n",
    "# def update(*a):\n",
    "#     pbar.update()      \n",
    "\n",
    "# for y in year:\n",
    "#     print(y)\n",
    "#     #where the data is listed for a given year\n",
    "#     url = \"https://www.ncei.noaa.gov/data/avhrr-land-normalized-difference-vegetation-index/access/\"+y\n",
    "    \n",
    "#     #get all relevant links for that year\n",
    "#     soup = BeautifulSoup(requests.get(url).content, \"html.parser\")\n",
    "#     files_to_dl = []\n",
    "#     for link in soup.select('a[href*=\".nc\"]'):\n",
    "#         files_to_dl.append(link[\"href\"])\n",
    "    \n",
    "#     if os.path.exists(out_loc+y):\n",
    "#         pass\n",
    "#     else:\n",
    "#         os.mkdir(out_loc+y)\n",
    "    \n",
    "#     pbar = tqdm(total=len(files_to_dl))\n",
    "\n",
    "#     with mp.Pool(ncpus) as pool:\n",
    "#         for filename in files_to_dl:\n",
    "#             pool.apply_async(\n",
    "#                 _parallel_dl,\n",
    "#                     [filename,\n",
    "#                      y, \n",
    "#                      base_url,\n",
    "#                      out_loc\n",
    "#                     ],\n",
    "#                 callback=update,\n",
    "#                 )\n",
    "#         pool.close()\n",
    "#         pool.join()\n",
    "#         pbar.close()\n"
   ]
  },
  {
   "cell_type": "markdown",
   "id": "00fbb959-f6e5-4d4f-861c-f8567533423a",
   "metadata": {},
   "source": [
    "## Process AVHRR into monthly mean NDVI\n",
    "\n",
    "Consider doing more quality flagging with outlier removal"
   ]
  },
  {
   "cell_type": "code",
   "execution_count": 4,
   "id": "1e5cb86d-169b-416d-a258-b1e7f2a7c912",
   "metadata": {},
   "outputs": [],
   "source": [
    "import os\n",
    "import xarray as xr\n",
    "import odc.geo.xr\n",
    "from odc.geo.xr import assign_crs\n",
    "import numpy as np\n",
    "import warnings"
   ]
  },
  {
   "cell_type": "code",
   "execution_count": 5,
   "id": "996183df-c7b8-4489-af2f-8ab62a216434",
   "metadata": {
    "tags": []
   },
   "outputs": [],
   "source": [
    "base = '/g/data/os22/chad_tmp/climate-carbon-interactions/data/AVHRR/1982/'\n",
    "\n",
    "files = [base+i for i in os.listdir(base) if i.endswith('.nc')]\n",
    "files.sort()\n",
    "\n",
    "warnings.filterwarnings(\"ignore\")\n",
    "ds = xr.open_mfdataset(files) #chunks=dict(latitude=1000, longitude=1000)\n",
    "\n",
    "ds = assign_crs(ds, ds.crs.attrs['epsg_code'])\n",
    "ds = ds.drop(['crs', 'lat_bnds', 'lon_bnds'])\n",
    "ds = ds.sel(longitude=slice(110,155), latitude=slice(-9,-45)) #aus extent\n",
    "\n",
    "ds = ds.compute()\n",
    "\n",
    "#QA masking\n",
    "flag_keys = ds.QA.flag_meanings.split()\n",
    "qa_dict = dict(zip(flag_keys, ds.QA.flag_masks))\n",
    "\n",
    "clouds = np.bitwise_and(ds['QA'], qa_dict['cloudy'])\n",
    "clouds = xr.where(clouds>0, 1, 0).astype(bool) #equals 1 where cloudy\n",
    "cloud_shadows = np.bitwise_and(ds['QA'], qa_dict['cloud_shadow'])\n",
    "cloud_shadows = xr.where(cloud_shadows>0, 1, 0).astype(bool)  #equals 1 where cloud_shadow\n",
    "\n",
    "mask = (clouds | cloud_shadows) #combine\n",
    "\n",
    "ds = ds.where(~mask)\n",
    "\n",
    "ds = ds.NDVI.resample(time='MS').mean()\n",
    "\n",
    "ds = assign_crs(ds, crs='epsg:4326')\n",
    "del ds.attrs['grid_mapping']\n",
    "\n",
    "ds.to_netcdf('/g/data/os22/chad_tmp/climate-carbon-interactions/data/AVHRR/AVHRR_cdr_NDVI_monthly_1982.nc')"
   ]
  },
  {
   "cell_type": "markdown",
   "id": "44a46ec6-228e-49d8-b8a2-959b2c530cc8",
   "metadata": {},
   "source": [
    "## Process Sami's harmonized NDVI"
   ]
  },
  {
   "cell_type": "code",
   "execution_count": null,
   "id": "b17f7f7a-dbab-4d87-a71e-bd19e5848873",
   "metadata": {},
   "outputs": [],
   "source": [
    "import xarray as xr\n",
    "from odc.geo.xr import assign_crs\n",
    "import pandas as pd\n",
    "\n",
    "ds = pd.read_parquet('/g/data/os22/chad_tmp/climate-carbon-interactions/data/MCD43_AVHRR_NDVI_hybrid_2020-10-12.parquet')\n",
    "\n",
    "ds['date'] = pd.to_datetime(ds['date'])\n",
    "ds =  ds.rename({'date':'time'}, axis=1)\n",
    "ds = ds.set_index(['x','y','time'])\n",
    "ds = ds.drop(['month', 'year', 'season', 'sza', 'tod'], axis=1)\n",
    "\n",
    "ds = ds.to_xarray()\n",
    "ds = ds.transpose()\n",
    "ds = assign_crs(ds, crs='epsg:4326')\n",
    "\n",
    "ds.to_netcdf('/g/data/os22/chad_tmp/climate-carbon-interactions/data/MCD43_AVHRR_NDVI_hybrid_EasternOzWoody.nc')"
   ]
  },
  {
   "cell_type": "markdown",
   "id": "f5be2bcf-e12c-4133-adec-406d5401bb1a",
   "metadata": {},
   "source": [
    "## Gobal LST from AVHRR\n",
    "\n",
    "data avilable here: http://glass.umd.edu/LST/v02/\n",
    "\n",
    "paper here: https://essd.copernicus.org/articles/12/3247/2020/#section5\n"
   ]
  },
  {
   "cell_type": "code",
   "execution_count": 41,
   "id": "544c8ffa-d724-43e7-ae89-7b4728a8428d",
   "metadata": {
    "tags": []
   },
   "outputs": [],
   "source": [
    "# ds.plot.imshow(col='time', col_wrap=4, robust=True)"
   ]
  },
  {
   "cell_type": "code",
   "execution_count": null,
   "id": "4ab95e68-485a-42dd-a3bd-7e6c192f430c",
   "metadata": {},
   "outputs": [],
   "source": []
  }
 ],
 "metadata": {
  "kernelspec": {
   "display_name": "Python 3 (ipykernel)",
   "language": "python",
   "name": "python3"
  },
  "language_info": {
   "codemirror_mode": {
    "name": "ipython",
    "version": 3
   },
   "file_extension": ".py",
   "mimetype": "text/x-python",
   "name": "python",
   "nbconvert_exporter": "python",
   "pygments_lexer": "ipython3",
   "version": "3.11.0"
  }
 },
 "nbformat": 4,
 "nbformat_minor": 5
}
