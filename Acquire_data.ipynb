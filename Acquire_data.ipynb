{
 "cells": [
  {
   "cell_type": "markdown",
   "id": "44a46ec6-228e-49d8-b8a2-959b2c530cc8",
   "metadata": {},
   "source": [
    "## Process Sami's harmonized NDVI"
   ]
  },
  {
   "cell_type": "code",
   "execution_count": null,
   "id": "b17f7f7a-dbab-4d87-a71e-bd19e5848873",
   "metadata": {},
   "outputs": [],
   "source": [
    "import xarray as xr\n",
    "from odc.geo.xr import assign_crs\n",
    "import pandas as pd\n",
    "\n",
    "ds = pd.read_parquet('/g/data/os22/chad_tmp/climate-carbon-interactions/data/MCD43_AVHRR_NDVI_hybrid_2020-10-12.parquet')\n",
    "\n",
    "ds['date'] = pd.to_datetime(ds['date'])\n",
    "ds =  ds.rename({'date':'time'}, axis=1)\n",
    "ds = ds.set_index(['x','y','time'])\n",
    "ds = ds.drop(['month', 'year', 'season', 'sza', 'tod'], axis=1)\n",
    "\n",
    "ds = ds.to_xarray()\n",
    "ds = ds.transpose()\n",
    "ds = assign_crs(ds, crs='epsg:4326')\n",
    "\n",
    "ds.to_netcdf('/g/data/os22/chad_tmp/climate-carbon-interactions/data/MCD43_AVHRR_NDVI_hybrid_EasternOzWoody.nc')"
   ]
  },
  {
   "cell_type": "markdown",
   "id": "f5be2bcf-e12c-4133-adec-406d5401bb1a",
   "metadata": {},
   "source": [
    "## Gobal LST from AVHRR\n",
    "\n",
    "data avilable here: http://glass.umd.edu/LST/v02/\n",
    "\n",
    "paper here: https://essd.copernicus.org/articles/12/3247/2020/#section5\n"
   ]
  },
  {
   "cell_type": "code",
   "execution_count": null,
   "id": "544c8ffa-d724-43e7-ae89-7b4728a8428d",
   "metadata": {
    "tags": []
   },
   "outputs": [],
   "source": [
    "# ds.plot.imshow(col='time', col_wrap=4, robust=True)"
   ]
  },
  {
   "cell_type": "markdown",
   "id": "144c321d-9112-4a3c-957b-1506d46a4bf1",
   "metadata": {},
   "source": [
    "## Soil Moisture (S-GRAFS)"
   ]
  },
  {
   "cell_type": "code",
   "execution_count": null,
   "id": "3e438659-b9bf-4ad8-ba56-7909331d90d3",
   "metadata": {
    "tags": []
   },
   "outputs": [],
   "source": [
    "import sys\n",
    "import os\n",
    "import numpy as np\n",
    "import pandas as pd\n",
    "import warnings\n",
    "import odc.geo.xr\n",
    "import xarray as xr\n",
    "from odc.geo.xr import assign_crs\n",
    "import pandas as pd\n",
    "# import geopandas as gpd"
   ]
  },
  {
   "cell_type": "code",
   "execution_count": null,
   "id": "58f9b8b5-f358-4cbe-8956-3f564df296f6",
   "metadata": {
    "tags": []
   },
   "outputs": [],
   "source": [
    "base = '/g/data/fj4/SatelliteSoilMoistureProducts/S-GRAFS/SM_vol_1km/'"
   ]
  },
  {
   "cell_type": "code",
   "execution_count": null,
   "id": "c8821470-4d04-4239-a8a4-ee0b42d5d29c",
   "metadata": {
    "tags": []
   },
   "outputs": [],
   "source": [
    "sys.path.append('/g/data/os22/chad_tmp/AusEFlux/src/')\n",
    "from dask_utils import start_local_dask\n",
    "\n",
    "client = start_local_dask(mem_safety_margin='2Gb')\n",
    "client"
   ]
  },
  {
   "cell_type": "code",
   "execution_count": null,
   "id": "0c67410d-c04a-4bc8-888b-8e238190e249",
   "metadata": {
    "tags": []
   },
   "outputs": [],
   "source": [
    "files = [base+i for i in os.listdir(base) if i.endswith('.nc')]\n",
    "files.sort()\n",
    "print(len(files))"
   ]
  },
  {
   "cell_type": "code",
   "execution_count": null,
   "id": "7d45704d-0587-4d31-90c7-6367c5d4366b",
   "metadata": {
    "tags": []
   },
   "outputs": [],
   "source": [
    "ds = xr.open_mfdataset(files) #chunks=dict(latitude=1000, longitude=1000)\n",
    "ds = assign_crs(ds, crs='epsg:4326')\n",
    "ds = ds[['soil_moisture']]\n",
    "ds = ds.resample(time='MS', loffset=pd.Timedelta(14, 'd')).mean()\n",
    "ds"
   ]
  },
  {
   "cell_type": "code",
   "execution_count": null,
   "id": "52953ae5-31ee-462e-9b73-91281ae36c4f",
   "metadata": {
    "tags": []
   },
   "outputs": [],
   "source": [
    "%%time\n",
    "ds = ds.compute()"
   ]
  },
  {
   "cell_type": "code",
   "execution_count": null,
   "id": "32dcde07-ae49-4dd0-b065-795cfce02ea4",
   "metadata": {},
   "outputs": [],
   "source": [
    "ds.attrs['nodata'] = np.nan"
   ]
  },
  {
   "cell_type": "code",
   "execution_count": null,
   "id": "6a366255-a3e9-457f-a580-e9c960f0d2cd",
   "metadata": {},
   "outputs": [],
   "source": [
    "gpp = assign_crs(xr.open_dataset('/g/data/os22/chad_tmp/NEE_modelling/results/predictions/AusEFlux_GPP_2003_2022_5km_quantiles_v1.1.nc'), crs='epsg:4326')\n",
    "\n",
    "ds_5k = ds.odc.reproject(how=gpp.odc.geobox, resampling='average')"
   ]
  },
  {
   "cell_type": "code",
   "execution_count": null,
   "id": "5a0c2fda-79f0-441b-89cd-82a2835bdef7",
   "metadata": {},
   "outputs": [],
   "source": [
    "ds.to_netcdf('/g/data/os22/chad_tmp/climate-carbon-interactions/data/S-GRAFS_1km_monthly_2015_2022.nc')"
   ]
  },
  {
   "cell_type": "code",
   "execution_count": null,
   "id": "2e23a500-fb36-49c7-8484-be81db6ba3ac",
   "metadata": {},
   "outputs": [],
   "source": [
    "ds_5k.to_netcdf('/g/data/os22/chad_tmp/climate-carbon-interactions/data/S-GRAFS_5km_monthly_2015_2022.nc')"
   ]
  },
  {
   "cell_type": "markdown",
   "id": "509a67dd-3177-4b41-bbf2-b27cbf8e7bed",
   "metadata": {},
   "source": [
    "## AVHRR NDVI\n",
    "\n",
    "Started doing this by downloading directly the global daily netcdfs from the links below, then processing them. But swithced to using GEE instead. \n",
    "\n",
    "from here: https://www.ncei.noaa.gov/data/avhrr-land-normalized-difference-vegetation-index/access/\n",
    "\n",
    "description: https://climatedataguide.ucar.edu/climate-data/ndvi-normalized-difference-vegetation-index-noaa-avhrr\n",
    "\n",
    "THREDDS: https://www.ncei.noaa.gov/thredds/catalog/cdr/ndvi/catalog.html"
   ]
  },
  {
   "cell_type": "code",
   "execution_count": null,
   "id": "a015729c-7040-4775-bad7-925ca85ba08a",
   "metadata": {
    "tags": []
   },
   "outputs": [],
   "source": [
    "# import os\n",
    "# import wget\n",
    "# import requests\n",
    "# from bs4 import BeautifulSoup\n",
    "\n",
    "# base_url = 'https://www.ncei.noaa.gov/data/avhrr-land-normalized-difference-vegetation-index/access/'\n",
    "# year = [str(y) for y in range(1982,2014)]\n",
    "# out_loc = '/g/data/os22/chad_tmp/climate-carbon-interactions/data/AVHRR/'\n",
    "\n",
    "# for y in year:\n",
    "#     print(y)\n",
    "#     #where the data is listed for a given year\n",
    "#     url = \"https://www.ncei.noaa.gov/data/avhrr-land-normalized-difference-vegetation-index/access/\"+y\n",
    "    \n",
    "#     #get all relevant links for that year\n",
    "#     soup = BeautifulSoup(requests.get(url).content, \"html.parser\")\n",
    "#     files_to_dl = []\n",
    "#     for link in soup.select('a[href*=\".nc\"]'):\n",
    "#         files_to_dl.append(link[\"href\"])\n",
    "    \n",
    "#     #create folder if necessary\n",
    "#     if os.path.exists(out_loc+y):\n",
    "#         pass\n",
    "#     else:\n",
    "#         os.mkdir(out_loc+y)\n",
    "    \n",
    "#     #download links\n",
    "#     i=0\n",
    "#     for filename in files_to_dl:\n",
    "#         print(\"  {:03}/{:03}\\r\".format(i + 1, len(range(0, len(files_to_dl)))), end=\"\")\n",
    "        \n",
    "#         if os.path.exists(out_loc+y+'/'+filename):\n",
    "#             i+=1\n",
    "#             continue\n",
    "        \n",
    "#         else:\n",
    "#             wget.download(url=base_url+y+'/'+filename,\n",
    "#                   out=out_loc+y+'/')\n",
    "#             i+=1\n",
    "\n",
    "#------------------------------------------------------------------------------\n",
    "##Parallel version of the above...not faster due to band width limits on ARE\n",
    "\n",
    "# import multiprocessing as mp\n",
    "# from tqdm import tqdm\n",
    "\n",
    "# def _parallel_dl(filename, y, base_url, out_loc):\n",
    "#     wget.download(url=base_url+y+'/'+filename,\n",
    "#                   out=out_loc+y+'/')\n",
    "\n",
    "# #download each link\n",
    "# def update(*a):\n",
    "#     pbar.update()      \n",
    "\n",
    "# for y in year:\n",
    "#     print(y)\n",
    "#     #where the data is listed for a given year\n",
    "#     url = \"https://www.ncei.noaa.gov/data/avhrr-land-normalized-difference-vegetation-index/access/\"+y\n",
    "    \n",
    "#     #get all relevant links for that year\n",
    "#     soup = BeautifulSoup(requests.get(url).content, \"html.parser\")\n",
    "#     files_to_dl = []\n",
    "#     for link in soup.select('a[href*=\".nc\"]'):\n",
    "#         files_to_dl.append(link[\"href\"])\n",
    "    \n",
    "#     if os.path.exists(out_loc+y):\n",
    "#         pass\n",
    "#     else:\n",
    "#         os.mkdir(out_loc+y)\n",
    "    \n",
    "#     pbar = tqdm(total=len(files_to_dl))\n",
    "\n",
    "#     with mp.Pool(ncpus) as pool:\n",
    "#         for filename in files_to_dl:\n",
    "#             pool.apply_async(\n",
    "#                 _parallel_dl,\n",
    "#                     [filename,\n",
    "#                      y, \n",
    "#                      base_url,\n",
    "#                      out_loc\n",
    "#                     ],\n",
    "#                 callback=update,\n",
    "#                 )\n",
    "#         pool.close()\n",
    "#         pool.join()\n",
    "#         pbar.close()\n",
    "\n",
    "#---------------------------------------------------------------------------\n",
    "## Process AVHRR into monthly mean NDVI\n",
    "\n",
    "# base = '/g/data/os22/chad_tmp/climate-carbon-interactions/data/AVHRR/1982/'\n",
    "\n",
    "# files = [base+i for i in os.listdir(base) if i.endswith('.nc')]\n",
    "# files.sort()\n",
    "\n",
    "# warnings.filterwarnings(\"ignore\")\n",
    "# ds = xr.open_mfdataset(files) #chunks=dict(latitude=1000, longitude=1000)\n",
    "\n",
    "# ds = assign_crs(ds, ds.crs.attrs['epsg_code'])\n",
    "# ds = ds.drop(['crs', 'lat_bnds', 'lon_bnds'])\n",
    "# ds = ds.sel(longitude=slice(110,155), latitude=slice(-9,-45)) #aus extent\n",
    "\n",
    "# ds = ds.compute()\n",
    "\n",
    "# #QA masking\n",
    "# flag_keys = ds.QA.flag_meanings.split()\n",
    "# qa_dict = dict(zip(flag_keys, ds.QA.flag_masks))\n",
    "\n",
    "# clouds = np.bitwise_and(ds['QA'], qa_dict['cloudy'])\n",
    "# clouds = xr.where(clouds>0, 1, 0).astype(bool) #equals 1 where cloudy\n",
    "# cloud_shadows = np.bitwise_and(ds['QA'], qa_dict['cloud_shadow'])\n",
    "# cloud_shadows = xr.where(cloud_shadows>0, 1, 0).astype(bool)  #equals 1 where cloud_shadow\n",
    "\n",
    "# mask = (clouds | cloud_shadows) #combine\n",
    "\n",
    "# ds = ds.where(~mask)\n",
    "\n",
    "# ds = ds.NDVI.resample(time='MS').mean()\n",
    "\n",
    "# ds = assign_crs(ds, crs='epsg:4326')\n",
    "# del ds.attrs['grid_mapping']\n",
    "\n",
    "# ds.to_netcdf('/g/data/os22/chad_tmp/climate-carbon-interactions/data/AVHRR/AVHRR_cdr_NDVI_monthly_1982.nc')"
   ]
  }
 ],
 "metadata": {
  "kernelspec": {
   "display_name": "Python 3 (ipykernel)",
   "language": "python",
   "name": "python3"
  },
  "language_info": {
   "codemirror_mode": {
    "name": "ipython",
    "version": 3
   },
   "file_extension": ".py",
   "mimetype": "text/x-python",
   "name": "python",
   "nbconvert_exporter": "python",
   "pygments_lexer": "ipython3",
   "version": "3.9.2"
  }
 },
 "nbformat": 4,
 "nbformat_minor": 5
}
