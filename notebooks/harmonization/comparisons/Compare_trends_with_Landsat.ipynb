{
 "cells": [
  {
   "cell_type": "markdown",
   "id": "f171bb45-0926-4e48-97dd-e403df0fccd3",
   "metadata": {},
   "source": [
    "# Compare the harmonized AVHRR with Landsat\n",
    "\n",
    "Using monthly median DEA Landsat 5 & 7 surface relectance NBAR, 1988-2010"
   ]
  },
  {
   "cell_type": "code",
   "execution_count": null,
   "id": "b7d62418-1bae-4bf0-9318-2093e827866a",
   "metadata": {
    "tags": []
   },
   "outputs": [],
   "source": [
    "import numpy as np\n",
    "import xarray as xr\n",
    "import seaborn as sb\n",
    "import pandas as pd\n",
    "import geopandas as gpd\n",
    "from scipy import stats\n",
    "import scipy.signal\n",
    "import xskillscore as xs\n",
    "import contextily as ctx\n",
    "import matplotlib.pyplot as plt\n",
    "import matplotlib as mpl\n",
    "from matplotlib.cm import ScalarMappable\n",
    "from odc.geo.xr import assign_crs\n",
    "from matplotlib.ticker import FormatStrFormatter\n",
    "from xarrayMannKendall import Mann_Kendall_test\n",
    "\n",
    "import sys\n",
    "sys.path.append('/g/data/os22/chad_tmp/NEE_modelling/')\n",
    "from _collect_prediction_data import round_coords\n",
    "\n",
    "sys.path.append('/g/data/os22/chad_tmp/dea-notebooks/Tools/')\n",
    "from dea_tools.spatial import xr_rasterize\n",
    "from dea_tools.temporal import xr_phenology\n",
    "\n",
    "# Using ggplot styles in this notebook\n",
    "plt.style.use('ggplot')\n",
    "\n",
    "%matplotlib inline"
   ]
  },
  {
   "cell_type": "markdown",
   "id": "389f5071-6337-4c3c-be61-b071bb1789f2",
   "metadata": {},
   "source": [
    "## Analysis Parameters"
   ]
  },
  {
   "cell_type": "code",
   "execution_count": null,
   "id": "804d8c26-66d4-42dd-96a4-ded2559d2974",
   "metadata": {},
   "outputs": [],
   "source": [
    "model_var='NDVI'\n",
    "crs='epsg:4326'\n",
    "base = '/g/data/os22/chad_tmp/climate-carbon-interactions/data/'"
   ]
  },
  {
   "cell_type": "markdown",
   "id": "307e1775-f0bc-4f67-9574-24df2f6beef3",
   "metadata": {},
   "source": [
    "## Open datasets"
   ]
  },
  {
   "cell_type": "code",
   "execution_count": null,
   "id": "c6b7fcf4-a999-44c1-a05e-6537868b93ed",
   "metadata": {},
   "outputs": [],
   "source": [
    "ls = xr.open_dataset(base+'/NDVI_harmonization/Landsat_NDVI_5km_monthly_1988_2012.nc')['NDVI']\n",
    "ls = assign_crs(ls, crs=crs)\n",
    "ls.attrs['nodata'] = np.nan\n",
    "\n",
    "# trees = xr.open_dataset(f'{base}NDVI_harmonization/LGBM/NDVI_trees_CLIM_LGBM_harmonize_5km_monthly_1982_2013.nc')['NDVI']\n",
    "# nontrees = xr.open_dataset(f'{base}/NDVI_harmonization/LGBM/NDVI_nontrees_CLIM_LGBM_harmonize_5km_monthly_1982_2013.nc')['NDVI']\n",
    "# merge = xr.where(np.isnan(trees), nontrees, trees)\n",
    "# merge = assign_crs(merge, crs=crs)\n",
    "# merge.attrs['nodata'] = np.nan\n",
    "# merge = merge.rename('NDVI')\n",
    "\n",
    "# merge = xr.open_dataset(f'{base}NDVI_harmonization/LGBM/NDVI_CLIM_LGBM_5km_monthly_1982_2022_wGaps.nc')['NDVI']\n",
    "merge = xr.open_dataset(f'{base}/NDVI_harmonization/LGBM/NDVI_CLIM_LGBM_5km_monthly_1982_2022_noGaps.nc')['NDVI']\n",
    "merge = assign_crs(merge, crs=crs)\n",
    "merge.attrs['nodata'] = np.nan\n",
    "merge = merge.rename('NDVI')\n",
    "\n",
    "syn = xr.open_dataset(f'{base}/synthetic/NDVI/NDVI_CLIM_synthetic_5km_monthly_1982_2022.nc')['NDVI']\n",
    "syn = assign_crs(syn, crs=crs)\n",
    "syn.attrs['nodata'] = np.nan\n",
    "syn = syn.rename('NDVI')\n",
    "\n",
    "modis = xr.open_dataset(base+model_var+'_harmonization/MODIS_'+model_var+'_5km_monthly_200003_202212.nc')[model_var+'_median']\n",
    "modis = assign_crs(modis, crs=crs)\n",
    "modis.attrs['nodata'] = np.nan\n",
    "\n",
    "merge = merge.rename({'latitude':'y', 'longitude':'x'})\n",
    "ls = ls.rename({'latitude':'y', 'longitude':'x'})\n",
    "modis = modis.rename({'latitude':'y', 'longitude':'x'})\n",
    "syn = syn.rename({'latitude':'y', 'longitude':'x'})"
   ]
  },
  {
   "cell_type": "markdown",
   "id": "8babac35-df29-446c-b94f-8982e791b7b2",
   "metadata": {},
   "source": [
    "## Match datasets"
   ]
  },
  {
   "cell_type": "code",
   "execution_count": null,
   "id": "22784335-59ed-4525-9966-453ad8f137e6",
   "metadata": {},
   "outputs": [],
   "source": [
    "merge = merge.sel(time=ls.time)\n",
    "modis = modis.sel(time=slice('2001', '2012'))\n",
    "syn = syn.sel(time=ls.time)\n",
    "\n",
    "avhrr_mask =  ~np.isnan(merge)\n",
    "del avhrr_mask.attrs['nodata']\n",
    "avhrr_mask = assign_crs(avhrr_mask, crs=crs)\n",
    "\n",
    "ls_mask =  ~np.isnan(ls)\n",
    "del ls_mask.attrs['nodata']\n",
    "ls_mask = assign_crs(ls_mask, crs=crs)\n",
    "\n",
    "ls = ls.where(avhrr_mask)\n",
    "merge = merge.where(ls_mask)\n",
    "\n",
    "modis = modis.where(ls_mask)\n",
    "modis = modis.where(avhrr_mask)\n",
    "\n",
    "syn = syn.where(ls_mask)\n",
    "syn = syn.where(avhrr_mask)"
   ]
  },
  {
   "cell_type": "code",
   "execution_count": null,
   "id": "94ab02fb-c689-40dc-a36a-8c296f499cca",
   "metadata": {},
   "outputs": [],
   "source": [
    "# ls.sel(time='2000').plot.imshow(col='time', col_wrap=4)"
   ]
  },
  {
   "cell_type": "code",
   "execution_count": null,
   "id": "2d9d25c7-546e-4692-aabc-3831baa9b774",
   "metadata": {},
   "outputs": [],
   "source": [
    "fraction_avail_ls = (~np.isnan(ls)).sum('time')/len(ls.time)\n",
    "fraction_avail_merge = (~np.isnan(merge)).sum('time')/len(merge.time)\n",
    "\n",
    "fig,ax=plt.subplots(1,1, figsize=(5,4),sharey=True, layout='constrained')\n",
    "\n",
    "im = fraction_avail_ls.where(fraction_avail_ls>0).rename('').plot(vmin=0.1, vmax=0.95, ax=ax, cmap='magma', add_labels=False, add_colorbar=False)\n",
    "ctx.add_basemap(ax, source=ctx.providers.CartoDB.Voyager, crs='EPSG:4326', attribution='', attribution_size=1)\n",
    "\n",
    "cb = fig.colorbar(im, ax=ax, shrink=0.75, orientation='vertical', label='Fraction Available');\n",
    "ax.set_title('Mean Fraction: '+str(round(fraction_avail_ls.where(fraction_avail_ls>0).mean().values.item(), 3)));"
   ]
  },
  {
   "cell_type": "markdown",
   "id": "76b8f9a6-3f7b-4af3-a26d-ee27235143fe",
   "metadata": {},
   "source": [
    "### Timeseries plots\n"
   ]
  },
  {
   "cell_type": "markdown",
   "id": "6a080751-970f-4e1c-aef1-78eafcf1a2e8",
   "metadata": {},
   "source": [
    "#### per region"
   ]
  },
  {
   "cell_type": "code",
   "execution_count": null,
   "id": "ac47e928-109c-4b78-b980-aae4200c25e8",
   "metadata": {},
   "outputs": [],
   "source": [
    "gdf = gpd.read_file('/g/data/os22/chad_tmp/NEE_modelling/data/bioclimatic_regions.geojson')"
   ]
  },
  {
   "cell_type": "code",
   "execution_count": null,
   "id": "ddce57d8-2024-44b4-9623-ca548cc72935",
   "metadata": {},
   "outputs": [],
   "source": [
    "plt.style.use('ggplot')\n",
    "mosiac = [\n",
    "    [\"A\", \"B\"],\n",
    "    [\"C\", \"D\"],\n",
    "    [\"E\", \"F\"],\n",
    "    [\"G\", \"G\"],\n",
    "]\n",
    "\n",
    "fig, axes = plt.subplot_mosaic(mosiac, figsize=(20,20))\n",
    "\n",
    "for ax, (index, row) in zip(axes, gdf.iterrows()):\n",
    "    print(row['region_name'])\n",
    "    # Generate a polygon mask to keep only data within the polygon\n",
    "    mask = xr_rasterize(gdf.iloc[[index]], ls, crs=crs)\n",
    "    mask = mask.rename({'latitude':'y', 'longitude':'x'})\n",
    "    mask = round_coords(mask)\n",
    "    \n",
    "    # Mask dataset to set pixels outside the polygon to `NaN`\n",
    "    ls_region = ls.where(mask)\n",
    "    merge_region = merge.where(mask)\n",
    "    modis_region = modis.where(mask)\n",
    "    # syn_region = syn.where(mask)\n",
    "\n",
    "    ls_region.mean(['x','y']).rolling(time=3).mean().plot(ax=axes[ax], label='Landsat', c ='forestgreen', linewidth=2)\n",
    "    merge_region.mean(['x','y']).rolling(time=3).mean().plot(ax=axes[ax], label='AVHRR-adjusted (GBM)', c='red', linewidth=2)\n",
    "    # modis_region.mean(['x','y']).rolling(time=3).mean().plot(ax=axes[ax], label='MODIS', c='blue', linewidth=2)\n",
    "    # syn_region.mean(['x','y']).rolling(time=3).mean().plot(ax=axes[ax], label='Synthetic', c='orange', linewidth=2)\n",
    "    \n",
    "    axes[ax].set_ylabel('')\n",
    "    axes[ax].set_xlabel('')\n",
    "    # axes[ax].sharex(axes['E'])\n",
    "    axes[ax].tick_params(axis='y', labelsize=15)\n",
    "    axes[ax].tick_params(axis='x', labelsize=15)\n",
    "    axes[ax].set_title(row['region_name'], fontsize=20)\n",
    "    axes[ax].grid(True)\n",
    "\n",
    "#the last Aus-wide plot\n",
    "ls.mean(['x','y']).rolling(time=3).mean().plot(ax=axes['G'], label='Landsat', c ='forestgreen', linewidth=2)\n",
    "merge.mean(['x','y']).rolling(time=3).mean().plot(ax=axes['G'], label='AVHRR-adjusted (GBM)', c='red', linewidth=2)\n",
    "# modis.mean(['x','y']).rolling(time=3).mean().plot(ax=axes['G'], label='MODIS', c='blue', linewidth=2)\n",
    "# syn.mean(['x','y']).rolling(time=3).mean().plot(ax=axes['G'], label='Synthetic', c='orange', linewidth=2)\n",
    "\n",
    "axes['G'].set_title('Australia', fontsize=20)\n",
    "axes['G'].legend(fontsize=16)\n",
    "axes['G'].set_ylabel('')\n",
    "axes['G'].set_xlabel('')\n",
    "axes['G'].tick_params(axis='y', labelsize=15)\n",
    "axes['G'].tick_params(axis='x', labelsize=15)\n",
    "axes['G'].grid(True)\n",
    "\n",
    "fig.supylabel(model_var, fontsize=20)    \n",
    "plt.tight_layout(rect=(0.015,0,1,1))\n",
    "fig.savefig(f'/g/data/os22/chad_tmp/climate-carbon-interactions/results/figs/{model_var}_compare_landsat_timeseries_bioregion.png',\n",
    "            bbox_inches='tight', dpi=300);"
   ]
  },
  {
   "cell_type": "code",
   "execution_count": null,
   "id": "91081dc4-c8e6-428e-86cf-db0000953689",
   "metadata": {},
   "outputs": [],
   "source": [
    "import warnings\n",
    "warnings.simplefilter('ignore')\n",
    "\n",
    "#standardized anom\n",
    "def stand_anomalies(ds):\n",
    "    return xr.apply_ufunc(\n",
    "        lambda x, m, s: (x - m) / s,\n",
    "            ds.groupby(\"time.month\"),\n",
    "            ds.groupby(\"time.month\").mean(),\n",
    "            ds.groupby(\"time.month\").std()\n",
    "    )\n",
    "    \n",
    "rain_std_anom = stand_anomalies(rain)\n",
    "merge_std_anom = stand_anomalies(merge)\n",
    "ls_std_anom = stand_anomalies(ls)\n",
    "syn_std_anom = stand_anomalies(syn)"
   ]
  },
  {
   "cell_type": "code",
   "execution_count": null,
   "id": "436c0e98-589a-41ce-b39e-88488771db31",
   "metadata": {},
   "outputs": [],
   "source": [
    "roll=12"
   ]
  },
  {
   "cell_type": "code",
   "execution_count": null,
   "id": "812900d4-4b36-40ca-b3e2-079927a76f1b",
   "metadata": {},
   "outputs": [],
   "source": [
    "rain_df = rain_std_anom.rename('rain').rolling(time=roll,\n",
    "                min_periods=roll).mean().mean(['latitude','longitude']).to_dataframe().drop(['spatial_ref', 'month'], axis=1)\n",
    "\n",
    "plt.style.use('default')\n",
    "fig, ax = plt.subplots(1,1, figsize=(14,4))\n",
    "ax2 = ax.twinx()\n",
    "\n",
    "# syn_std_anom.drop('month').rolling(time=roll, min_periods=roll).mean().mean(['x','y']).plot(ax=ax, label='Synthetic')\n",
    "ls_std_anom.drop('month').rolling(time=roll, min_periods=roll).mean().mean(['x','y']).plot(ax=ax, label='Landsat')\n",
    "merge_std_anom.drop('month').rolling(time=roll, min_periods=roll).mean().mean(['x','y']).plot(ax=ax, label='AVHRR-Adj. (GBM)')\n",
    "\n",
    "norm=plt.Normalize(-2.5,2.5)\n",
    "cmap = mpl.colors.LinearSegmentedColormap.from_list(\"\", ['saddlebrown','chocolate','white','darkturquoise','darkcyan'], N=256)\n",
    "\n",
    "# Plot bars\n",
    "bar = ax2.bar(rain_df.index, 1, color=cmap(norm(rain_df['rain'])), width=32)\n",
    "sm = ScalarMappable(cmap=cmap, norm=norm)\n",
    "sm.set_array([])\n",
    "cbar = plt.colorbar(sm, shrink=0.8, pad=0.01)\n",
    "cbar.set_label('Rainfall Anomaly (z-score)',labelpad=.5)\n",
    "\n",
    "ax2.set_zorder(ax.get_zorder()-1)\n",
    "ax.set_frame_on(False)\n",
    "ax.axhline(0, c='grey', linestyle='--')\n",
    "\n",
    "# Reformat y-axis label and tick labels\n",
    "ax.set_ylabel(model_var+' Anomaly (z-score)')\n",
    "ax.set_xlabel('')\n",
    "ax2.set_ylabel('')\n",
    "ax2.set_yticks([])\n",
    "ax2.set_ylim([0, 1]) \n",
    "ax.margins(x=0)\n",
    "ax2.margins(x=0)\n",
    "\n",
    "# Adjust the margins around the plot area\n",
    "plt.subplots_adjust(left=0.1, right=None, top=None, bottom=0.2, wspace=None, hspace=None)\n",
    "\n",
    "ax.legend()\n",
    "ax.set_title('Australian standardised NDVI anomalies ('+str(roll)+'-month rolling mean)');\n",
    "fig.savefig(\"/g/data/os22/chad_tmp/climate-carbon-interactions/results/figs/NDVI_rolling_anomalies_compare_landsat_\"+str(roll)+\"Mrollingmean.png\",\n",
    "            bbox_inches='tight', dpi=300)"
   ]
  },
  {
   "cell_type": "markdown",
   "id": "2041c47b-1316-4dd7-b91b-bded13420917",
   "metadata": {},
   "source": [
    "### Per-pixel error metrics"
   ]
  },
  {
   "cell_type": "code",
   "execution_count": null,
   "id": "77483d7d-a560-4534-956c-ebc328854f52",
   "metadata": {},
   "outputs": [],
   "source": [
    "merge_mean = merge.mean('time')\n",
    "low_ndvi_mask = xr.where(merge_mean<0.10,0, 1)"
   ]
  },
  {
   "cell_type": "code",
   "execution_count": null,
   "id": "d01149b9-2386-4342-b2c0-696e90791375",
   "metadata": {},
   "outputs": [],
   "source": [
    "orig_corr = xr.corr(merge, ls, dim='time')\n",
    "orig_corr = orig_corr.where(low_ndvi_mask)\n",
    "\n",
    "orig_rmse = xs.rmse(merge, ls, dim='time', skipna=True)\n",
    "orig_rmse = orig_rmse.where(low_ndvi_mask)"
   ]
  },
  {
   "cell_type": "code",
   "execution_count": null,
   "id": "7c424d60-50da-40ae-a593-a5f8e1261121",
   "metadata": {},
   "outputs": [],
   "source": [
    "fig,ax = plt.subplots(1,2, figsize=(14,6), sharey=True)\n",
    "im = orig_corr.plot(vmin=0, vmax=1, cmap='pink', ax=ax[0], add_colorbar=False)\n",
    "ctx.add_basemap(ax[0], source=ctx.providers.CartoDB.Voyager, crs='EPSG:4326', attribution='', attribution_size=1)\n",
    "cb = fig.colorbar(im, ax=ax[0], shrink=0.75, orientation='vertical');\n",
    "ax[0].set_title(f'R='\"{:.2f}\".format(orig_corr.mean().values))\n",
    "ax[0].set_yticklabels([])\n",
    "ax[0].set_ylabel('')\n",
    "ax[0].set_xlabel('')\n",
    "ax[0].set_xticklabels([])\n",
    "\n",
    "im = (orig_rmse / merge_mean).plot(robust=True, cmap='cividis', ax=ax[1], add_colorbar=False)\n",
    "ctx.add_basemap(ax[1], source=ctx.providers.CartoDB.Voyager, crs='EPSG:4326', attribution='', attribution_size=1)\n",
    "cb = fig.colorbar(im, ax=ax[1], shrink=0.75, orientation='vertical');\n",
    "ax[1].set_title(f'RMSE / NDVI-mean='\"{:.2f}\".format( (orig_rmse / merge_mean).mean().values))\n",
    "ax[1].set_yticklabels([])\n",
    "ax[1].set_ylabel('')\n",
    "ax[1].set_xlabel('')\n",
    "ax[1].set_xticklabels([]);\n",
    "\n",
    "plt.tight_layout()\n",
    "fig.savefig(f'/g/data/os22/chad_tmp/climate-carbon-interactions/results/figs/{model_var}_compare_Landsat_perpixel.png',\n",
    "            bbox_inches='tight', dpi=300);"
   ]
  },
  {
   "cell_type": "markdown",
   "id": "bbcd41fd-cf23-4ef6-b0cd-08bc6b1db6de",
   "metadata": {},
   "source": [
    "## Residuals through time\n",
    "\n"
   ]
  },
  {
   "cell_type": "code",
   "execution_count": null,
   "id": "9e0b4569-3989-4790-a74f-5f0d9d8ec9a1",
   "metadata": {},
   "outputs": [],
   "source": [
    "#residuals after harmonization\n",
    "residual = (ls - merge).mean(['x', 'y']).drop('spatial_ref').to_dataframe(name='Landsat residuals')\n",
    "residual_sd = (ls - merge).std(['x', 'y']).drop('spatial_ref').to_dataframe(name='Landsat residuals')\n",
    "\n",
    "residual_syn = (ls - syn).mean(['x', 'y']).drop('spatial_ref').to_dataframe(name='Synthetic residuals')"
   ]
  },
  {
   "cell_type": "code",
   "execution_count": null,
   "id": "227baed6-1d4b-45c8-a92c-b325067ecb80",
   "metadata": {},
   "outputs": [],
   "source": [
    "fig,ax = plt.subplots(1,1, figsize=(12,4), sharex=True)\n",
    "\n",
    "residual.plot(ax=ax, legend=False, color='blue')\n",
    "ax.fill_between(residual.index, (residual-residual_sd)['Landsat residuals'],\n",
    "                (residual+residual_sd)['Landsat residuals'], alpha=0.15, color='blue')\n",
    "\n",
    "# residual_syn.plot(ax=ax, legend=False, color='forestgreen')\n",
    "\n",
    "ax.axhline(0.0, color='k', linestyle='--')\n",
    "# ax.legend(loc='upper left')\n",
    "ax.set_title('Average Residuals with Landsat 5 & 7 (NBAR)')\n",
    "ax.set_ylim(-0.125, 0.125)\n",
    "ax.set_ylabel(model_var+\" $_{Landsat}$\"+ \" - \"+model_var+\"$_{AVHRR adj.}$\", fontsize=13)\n",
    "ax.set_xlabel(None)\n",
    "ax.tick_params(axis='y', labelsize=12)\n",
    "ax.tick_params(axis='x', labelsize=12)\n",
    "ax.margins(x=0)\n",
    "\n",
    "ax.axvline('1988-11', color='red', linestyle='--', alpha=0.5)\n",
    "plt.text('1987-05',-0.1,'N9-->',rotation=0)\n",
    "\n",
    "ax.axvline('1994', color='red', linestyle='--', alpha=0.5)\n",
    "plt.text('1990-02',-0.1,'<-- N11 -->',rotation=0)\n",
    "\n",
    "ax.axvline('2000', color='red', linestyle='--', alpha=0.5)\n",
    "plt.text('1996',-0.1,'<-- N14 -->',rotation=0)\n",
    "\n",
    "ax.axvline('2007', color='red', linestyle='--', alpha=0.5)\n",
    "plt.text('2002-09',-0.1,'<-- N16 -->',rotation=0)\n",
    "\n",
    "ax.axvline('2010', color='red', linestyle='--', alpha=0.5)\n",
    "plt.text('2007-10',-0.1,'<-- N18 -->',rotation=0)\n",
    "\n",
    "plt.tight_layout()\n",
    "fig.savefig(f'/g/data/os22/chad_tmp/climate-carbon-interactions/results/figs/{model_var}_compare_Landsat_residuals.png',\n",
    "            bbox_inches='tight', dpi=300);"
   ]
  },
  {
   "cell_type": "markdown",
   "id": "4535db25-be97-482c-b238-f52db5b7449c",
   "metadata": {},
   "source": [
    "## Compare phenology trends"
   ]
  },
  {
   "cell_type": "markdown",
   "id": "b4738553-2285-4118-9ddb-63f737f9c4a7",
   "metadata": {},
   "source": [
    "### Smoothing filters"
   ]
  },
  {
   "cell_type": "code",
   "execution_count": null,
   "id": "0e75b444-f36b-4bfb-a33c-913d1c216bd7",
   "metadata": {},
   "outputs": [],
   "source": [
    "# rolling means\n",
    "ls_smooth = ls.rolling(time=3, center=True, min_periods=1).mean()\n",
    "merge_smooth = merge.rolling(time=3, center=True, min_periods=1).mean()\n",
    "\n",
    "#SG cuts of last 6 months so clip to complete calendar years.\n",
    "ls_smooth = ls_smooth.sel(time=slice('1982', '2021'))\n",
    "merge_smooth = merge_smooth.sel(time=slice('1982', '2021'))\n",
    "\n",
    "# #increase temporal res.\n",
    "ls_smooth = ls_smooth.resample(time=\"2W\").interpolate(\"linear\")\n",
    "merge_smooth = merge_smooth.resample(time=\"2W\").interpolate(\"linear\")"
   ]
  },
  {
   "cell_type": "code",
   "execution_count": null,
   "id": "2823fea7-0071-468e-85dc-e405c47e7a1e",
   "metadata": {},
   "outputs": [],
   "source": [
    "fig,ax=plt.subplots(1,1, figsize=(12,4))\n",
    "ls.mean(['x', 'y']).plot(ax=ax, label='Landsat NDVI')\n",
    "merge_smooth.mean(['x', 'y']).plot(ax=ax, label='AVHRR-Adj. rolling mean')\n",
    "ls_smooth.mean(['x', 'y']).plot(ax=ax, label='Landsat NDVI rolling mean')\n",
    "\n",
    "ax.legend(loc='upper right')\n",
    "ax.set_title('Signal smoothing of NDVI');"
   ]
  },
  {
   "cell_type": "markdown",
   "id": "2c791517-9261-43e2-b41b-591cc9e9d427",
   "metadata": {},
   "source": [
    "### Phenology"
   ]
  },
  {
   "cell_type": "code",
   "execution_count": null,
   "id": "b54f0676-8ff4-44c8-950d-c20541f77e70",
   "metadata": {},
   "outputs": [],
   "source": [
    "import warnings\n",
    "warnings.simplefilter('ignore')\n",
    "ls_doy = ls_smooth.groupby('time.year').map(xr_phenology)\n",
    "merge_doy = merge_smooth.groupby('time.year').map(xr_phenology)"
   ]
  },
  {
   "cell_type": "code",
   "execution_count": null,
   "id": "d9e0206a-b44b-4006-ab4c-4a07a6731835",
   "metadata": {},
   "outputs": [],
   "source": [
    "fig,ax=plt.subplots(1,1, figsize=(11,4))\n",
    "# ax2 = ax.twinx()\n",
    "ls_doy.vPOS.mean(['x', 'y']).plot(ax=ax, c='orange', label='vPOS Landsat')\n",
    "merge_doy.vPOS.mean(['x', 'y']).plot(ax=ax, c='blue', label='vPOS AVHRR-Adj.')\n",
    "# doy.AOS.where(doy.AOS>0).mean(['x', 'y']).plot(ax=ax2, label='AOS NDVI')\n",
    "# doy.Trough.where(doy.AOS>0).mean(['x', 'y']).plot(ax=ax2, label='AOS NDVI')\n",
    "ax.legend(loc='upper left')\n",
    "# ax2.legend(loc='upper right')\n",
    "ax.set_title('')\n",
    "# ax2.set_title('Australia-wide trends in Peak-Of-Season NDVI');"
   ]
  },
  {
   "cell_type": "markdown",
   "id": "5ca81602-6704-4637-b8be-8fcfec2ee670",
   "metadata": {
    "tags": []
   },
   "source": [
    "### Per pixel trends in POS\n",
    "\n",
    "Use the Mann-Kendall robust regression (this is quite slow)"
   ]
  },
  {
   "cell_type": "code",
   "execution_count": null,
   "id": "493da8ce-3c56-4cdf-8387-43f911fa401d",
   "metadata": {},
   "outputs": [],
   "source": [
    "ls_pos_trends = Mann_Kendall_test(ls_doy['POS'].rename({'year':'time'}),\n",
    "                               alpha=0.05,\n",
    "                               method='theilslopes'\n",
    "                              ).compute()\n",
    "\n",
    "ls_vpos_trends = Mann_Kendall_test(ls_doy['vPOS'].rename({'year':'time'}),\n",
    "                               alpha=0.05,\n",
    "                               method='theilslopes'\n",
    "                              ).compute()\n",
    "\n",
    "merge_pos_trends = Mann_Kendall_test(merge_doy['POS'].rename({'year':'time'}),\n",
    "                               alpha=0.05,\n",
    "                               method='theilslopes'\n",
    "                              ).compute()\n",
    "\n",
    "merge_vpos_trends = Mann_Kendall_test(merge_doy['vPOS'].rename({'year':'time'}),\n",
    "                               alpha=0.05,\n",
    "                               method='theilslopes'\n",
    "                              ).compute()"
   ]
  },
  {
   "cell_type": "code",
   "execution_count": null,
   "id": "0623e1c5-5c72-4c8e-b050-83b7d890eabd",
   "metadata": {},
   "outputs": [],
   "source": [
    "sb.set(font_scale=1.0)\n",
    "vmin=1\n",
    "vmax=300\n",
    "font=12\n",
    "\n",
    "fig,ax = plt.subplots(2,2, figsize=(10,7), sharex=True, sharey=True, layout='constrained')\n",
    "for a,i in zip(ax.reshape(-1), range(0,4)):\n",
    "    if i==0:\n",
    "        im = ls_doy['POS'].where(ls_doy['POS']>20).median('year').plot(cmap='cubehelix_r',\n",
    "                                                vmin=vmin, vmax=vmax,ax=a, add_labels=False, add_colorbar=False)\n",
    "        ctx.add_basemap(a, source=ctx.providers.CartoDB.Voyager, crs='EPSG:4326', attribution='', attribution_size=1)\n",
    "        cb = fig.colorbar(im, ax=a, shrink=0.75, orientation='vertical', label='')\n",
    "        a.set_title('Landsat Median POS 1988-2012', fontsize=font)\n",
    "    \n",
    "    if i==1:\n",
    "        t = ls_pos_trends.trend.where((ls_pos_trends.trend>-0.02) | (ls_pos_trends.trend<-0.03))\n",
    "        im = t.plot(vmin=-3, vmax=3, ax=a, add_labels=False, cmap='BrBG_r', add_colorbar=False)\n",
    "        cb = fig.colorbar(im, ax=a, shrink=0.75, orientation='vertical', label='')\n",
    "        xr.plot.contourf(ls_vpos_trends.trend.where(ls_vpos_trends.signif), ax=a, alpha=0, hatches=['////'], add_colorbar=False)\n",
    "        ctx.add_basemap(a, source=ctx.providers.CartoDB.Voyager, crs='EPSG:4326', attribution='', attribution_size=1)\n",
    "        a.set_title('Landsat Trends in POS 1988-2012', fontsize=font)\n",
    "\n",
    "    if i==2:\n",
    "        im = merge_doy['POS'].where(merge_doy['POS']>20).median('year').plot(cmap='cubehelix_r',\n",
    "                                                        vmin=vmin, vmax=vmax,ax=a, add_labels=False, add_colorbar=False)\n",
    "        ctx.add_basemap(a, source=ctx.providers.CartoDB.Voyager, crs='EPSG:4326', attribution='', attribution_size=1)\n",
    "        cb = fig.colorbar(im, ax=a, shrink=0.75, orientation='vertical', label='')\n",
    "        a.set_title('AVHRR-Adj. Median POS 1988-2012', fontsize=font)\n",
    "    \n",
    "    if i==3:\n",
    "        t = merge_pos_trends.trend.where((merge_pos_trends.trend>-0.02) | (merge_pos_trends.trend<-0.03))\n",
    "        im = t.plot(vmin=-3, vmax=3, ax=a, add_labels=False, cmap='BrBG_r', add_colorbar=False)\n",
    "        cb = fig.colorbar(im, ax=a, shrink=0.75, orientation='vertical', label='')\n",
    "        xr.plot.contourf(merge_vpos_trends.trend.where(merge_vpos_trends.signif), ax=a, alpha=0, hatches=['////'], add_colorbar=False)\n",
    "        ctx.add_basemap(a, source=ctx.providers.CartoDB.Voyager, crs='EPSG:4326', attribution='', attribution_size=1)\n",
    "        a.set_title('AVHRR-Adj. Trends in POS 1988-2012', fontsize=font)\n",
    "    \n",
    "    a.set_yticklabels([])\n",
    "    a.set_ylabel('')\n",
    "    a.set_xlabel('')\n",
    "    a.set_xticklabels([]);\n",
    "fig.savefig(\"/g/data/os22/chad_tmp/climate-carbon-interactions/results/figs/POS_NDVI_compare_landsat_perpixel_trends.png\",\n",
    "            bbox_inches='tight', dpi=300)\n"
   ]
  },
  {
   "cell_type": "code",
   "execution_count": null,
   "id": "404e1f86-0570-4aff-b968-bff9ddd83fee",
   "metadata": {},
   "outputs": [],
   "source": [
    "sb.set(font_scale=1.0)\n",
    "fig,ax = plt.subplots(2,2, figsize=(10,7), sharex=True, sharey=True, layout='constrained')\n",
    "for a,i in zip(ax.reshape(-1), range(0,4)):\n",
    "    if i==0:\n",
    "        m = ls_doy['vPOS'].median('year')\n",
    "        im = m.where(m>0).plot(cmap='gist_earth_r', vmin=0.1, vmax=0.8,ax=a, add_labels=False, add_colorbar=False)\n",
    "        ctx.add_basemap(a, source=ctx.providers.CartoDB.Voyager, crs='EPSG:4326', attribution='', attribution_size=1)\n",
    "        cb = fig.colorbar(im, ax=a, shrink=0.75, orientation='vertical', label='')\n",
    "        a.set_title('Landsat Median vPOS 1988-2012', fontsize=font)\n",
    "    \n",
    "    if i==1:\n",
    "        im = ls_vpos_trends.trend.where(ls_vpos_trends.trend!=0).plot(vmin=-0.005, vmax=0.005, ax=a, add_labels=False, cmap='BrBG', add_colorbar=False)\n",
    "        cb = fig.colorbar(im, ax=a, shrink=0.75, orientation='vertical', label='')\n",
    "        xr.plot.contourf(ls_vpos_trends.trend.where(ls_vpos_trends.signif), ax=a, alpha=0, hatches=['////'], add_colorbar=False)\n",
    "        ctx.add_basemap(a, source=ctx.providers.CartoDB.Voyager, crs='EPSG:4326', attribution='', attribution_size=1)\n",
    "        a.set_title('Landsat Trends in vPOS 1988-2012', fontsize=font)\n",
    "\n",
    "    if i==2:\n",
    "        m = merge_doy['vPOS'].median('year')\n",
    "        im = m.where(m>0).plot(cmap='gist_earth_r', vmin=0.1, vmax=0.8,ax=a, add_labels=False, add_colorbar=False)\n",
    "        ctx.add_basemap(a, source=ctx.providers.CartoDB.Voyager, crs='EPSG:4326', attribution='', attribution_size=1)\n",
    "        cb = fig.colorbar(im, ax=a, shrink=0.75, orientation='vertical', label='')\n",
    "        a.set_title('AVHRR-Adj. Median vPOS 1988-2012', fontsize=font)\n",
    "    \n",
    "    if i==3:\n",
    "        im = merge_vpos_trends.trend.where(merge_vpos_trends.trend!=0).plot(vmin=-0.005, vmax=0.005, ax=a, add_labels=False, cmap='BrBG', add_colorbar=False)\n",
    "        cb = fig.colorbar(im, ax=a, shrink=0.75, orientation='vertical', label='')\n",
    "        xr.plot.contourf(merge_vpos_trends.trend.where(merge_vpos_trends.signif), ax=a, alpha=0, hatches=['////'], add_colorbar=False)\n",
    "        ctx.add_basemap(a, source=ctx.providers.CartoDB.Voyager, crs='EPSG:4326', attribution='', attribution_size=1)\n",
    "        a.set_title('AVHRR-Adj. Trends in vPOS 1988-2012', fontsize=font)\n",
    "    \n",
    "    a.set_yticklabels([])\n",
    "    a.set_ylabel('')\n",
    "    a.set_xlabel('')\n",
    "    a.set_xticklabels([]);\n",
    "fig.savefig(\"/g/data/os22/chad_tmp/climate-carbon-interactions/results/figs/vPOS_NDVI_compare_landsat_perpixel_trends.png\",\n",
    "            bbox_inches='tight', dpi=300)"
   ]
  },
  {
   "cell_type": "markdown",
   "id": "5361ff7f-3de0-498f-aeb9-e69a8d0d7a1a",
   "metadata": {},
   "source": [
    "### Trends in POS & vPOS etc. disaggregrated by bioclimatic region\n"
   ]
  },
  {
   "cell_type": "code",
   "execution_count": null,
   "id": "4856c788-37cf-49e3-943d-f8af632e0d7b",
   "metadata": {},
   "outputs": [],
   "source": [
    "gdf = gpd.read_file('/g/data/os22/chad_tmp/NEE_modelling/data/bioclimatic_regions.geojson')"
   ]
  },
  {
   "cell_type": "code",
   "execution_count": null,
   "id": "a4ff2a77-9885-42f6-b0c3-f67dbf60219c",
   "metadata": {},
   "outputs": [],
   "source": [
    "doy_var = [ls_pos_trends, ls_vpos_trends, merge_pos_trends, merge_vpos_trends]\n",
    "names = ['Landsat_POS', 'Landsat_vPOS', 'AVHRR-Adj._POS', 'AVHRR-Adj._vPOS']\n",
    "\n",
    "outer = []\n",
    "for index, row in gdf.iterrows():\n",
    "    mask = xr_rasterize(gdf.iloc[[index]], ls.isel(time=1))\n",
    "    mask = round_coords(mask)\n",
    "    \n",
    "    mask = mask.rename({'latitude':'y', 'longitude':'x'})\n",
    "    \n",
    "    inner = []\n",
    "    for v,n in zip(doy_var, names):\n",
    "        var_region = v.where(mask)\n",
    "        \n",
    "        doy_df = var_region.drop('spatial_ref').to_dataframe()\n",
    "        doy_df = doy_df[['trend', 'signif']]\n",
    "        \n",
    "        doy_df['region'] = row['region_name']\n",
    "        doy_df = doy_df.rename({\n",
    "            'trend':'trend_'+n,\n",
    "            'signif':'signif_'+n,\n",
    "                      }, axis=1)\n",
    "        inner.append(doy_df)\n",
    "    outer.append(inner)\n",
    "\n",
    "trends_df=[]\n",
    "for i in range(0,len(outer)):\n",
    "    xx = trends_df.append(pd.concat(outer[i]))\n",
    "trends_df = pd.concat(trends_df).reset_index(drop=True)"
   ]
  },
  {
   "cell_type": "markdown",
   "id": "49f70f57-aef4-4fa6-8dbe-067bb2ae7797",
   "metadata": {},
   "source": [
    "### POS\n",
    "\n",
    "Landsat"
   ]
  },
  {
   "cell_type": "code",
   "execution_count": null,
   "id": "0fc3723b-dea0-4980-84fc-7847d075604c",
   "metadata": {},
   "outputs": [],
   "source": [
    "sb.set(font_scale=1.35)\n",
    "\n",
    "g = sb.displot(trends_df, kind=\"kde\", fill=True, x=\"trend_Landsat_POS\",\n",
    "    col=\"region\", col_wrap=6, palette='viridis',\n",
    "    facet_kws=dict(sharex=True, sharey=False, xlim=(-2.5,2.5))\n",
    ")\n",
    "\n",
    "g.set_titles(col_template=\"{col_name}\", row_template=\"{row_name}\")\n",
    "\n",
    "def specs(x, **kwargs):\n",
    "    plt.axvline(0, c='black', ls='--', lw=1, alpha=0.5)\n",
    "    plt.axvline(x.median(), c='orange', ls='--', lw=2.5)\n",
    "    ax = plt.gca()\n",
    "    ax.text(.05, .8, 'M={:.4f}'.format(x.median()),\n",
    "            transform=ax.transAxes)\n",
    "\n",
    "g.map(specs, \"trend_Landsat_POS\")\n",
    "g.savefig(\"/g/data/os22/chad_tmp/climate-carbon-interactions/results/figs/POS_NDVI_landsat_bioregion_dist_1988_2012.png\",\n",
    "          bbox_inches='tight', dpi=300);"
   ]
  },
  {
   "cell_type": "markdown",
   "id": "307d2562-42b9-4f96-a590-efe0304b3786",
   "metadata": {},
   "source": [
    "AVHRR-adj."
   ]
  },
  {
   "cell_type": "code",
   "execution_count": null,
   "id": "bdc42e2e-4216-4aac-a454-158a5fbbd1c2",
   "metadata": {},
   "outputs": [],
   "source": [
    "sb.set(font_scale=1.35)\n",
    "\n",
    "g = sb.displot(trends_df, kind=\"kde\", fill=True, x=\"trend_AVHRR-Adj._POS\",\n",
    "    col=\"region\", col_wrap=6, palette='viridis',\n",
    "    facet_kws=dict(sharex=True, sharey=False, xlim=(-2.5,2.5))\n",
    ")\n",
    "\n",
    "g.set_titles(col_template=\"{col_name}\", row_template=\"{row_name}\")\n",
    "\n",
    "def specs(x, **kwargs):\n",
    "    plt.axvline(0, c='black', ls='--', lw=1, alpha=0.5)\n",
    "    plt.axvline(x.median(), c='orange', ls='--', lw=2.5)\n",
    "    ax = plt.gca()\n",
    "    ax.text(.05, .8, 'M={:.4f}'.format(x.median()),\n",
    "            transform=ax.transAxes)\n",
    "\n",
    "g.map(specs, \"trend_AVHRR-Adj._POS\")\n",
    "g.savefig(\"/g/data/os22/chad_tmp/climate-carbon-interactions/results/figs/POS_NDVI_AVHRR-Adj._bioregion_dist_1988_2012.png\",\n",
    "          bbox_inches='tight', dpi=300);"
   ]
  },
  {
   "cell_type": "markdown",
   "id": "0cb85276-71ce-457f-8917-323b53a9eaf8",
   "metadata": {},
   "source": [
    "### vPOS\n",
    "\n",
    "Landsat"
   ]
  },
  {
   "cell_type": "code",
   "execution_count": null,
   "id": "e3f29419-3f03-46cf-a23b-f4de390b3fc7",
   "metadata": {
    "scrolled": true
   },
   "outputs": [],
   "source": [
    "sb.set(font_scale=1.35)\n",
    "\n",
    "g = sb.displot(trends_df, kind=\"kde\", fill=True, x=\"trend_Landsat_vPOS\",\n",
    "    col=\"region\", col_wrap=6, palette='viridis',\n",
    "    facet_kws=dict(sharex=True, sharey=False, xlim=(-0.005, 0.005))\n",
    ")\n",
    "g.set_titles(col_template=\"{col_name}\", row_template=\"{row_name}\")\n",
    "\n",
    "def specs(x, **kwargs):\n",
    "    plt.axvline(0, c='black', ls='--', lw=1, alpha=0.5)\n",
    "    plt.axvline(x.median(), c='orange', ls='--', lw=2.5)\n",
    "    ax = plt.gca()\n",
    "    ax.text(.05, .8, 'M={:.4f}'.format(x.median()),\n",
    "            transform=ax.transAxes)\n",
    "\n",
    "g.map(specs, \"trend_Landsat_vPOS\")\n",
    "g.savefig(\"/g/data/os22/chad_tmp/climate-carbon-interactions/results/figs/vPOS_NDVI_landsat_bioregion_dist_1988_2012.png\",\n",
    "          bbox_inches='tight', dpi=300);"
   ]
  },
  {
   "cell_type": "markdown",
   "id": "4c9abf34-c30b-4290-8056-c95a7b46c044",
   "metadata": {},
   "source": [
    "AVHRR-Adj."
   ]
  },
  {
   "cell_type": "code",
   "execution_count": null,
   "id": "d53e554d-e8ed-4c1f-a8f7-9287569a660b",
   "metadata": {
    "scrolled": true
   },
   "outputs": [],
   "source": [
    "sb.set(font_scale=1.35)\n",
    "\n",
    "g = sb.displot(trends_df, kind=\"kde\", fill=True, x=\"trend_AVHRR-Adj._vPOS\",\n",
    "    col=\"region\", col_wrap=6, palette='viridis',\n",
    "    facet_kws=dict(sharex=True, sharey=False, xlim=(-0.005, 0.005))\n",
    ")\n",
    "g.set_titles(col_template=\"{col_name}\", row_template=\"{row_name}\")\n",
    "\n",
    "def specs(x, **kwargs):\n",
    "    plt.axvline(0, c='black', ls='--', lw=1, alpha=0.5)\n",
    "    plt.axvline(x.median(), c='orange', ls='--', lw=2.5)\n",
    "    ax = plt.gca()\n",
    "    ax.text(.05, .8, 'M={:.4f}'.format(x.median()),\n",
    "            transform=ax.transAxes)\n",
    "\n",
    "g.map(specs, \"trend_AVHRR-Adj._vPOS\")\n",
    "g.savefig(\"/g/data/os22/chad_tmp/climate-carbon-interactions/results/figs/vPOS_NDVI_AVHRR-Adj._bioregion_dist_1988_2012.png\",\n",
    "          bbox_inches='tight', dpi=300);"
   ]
  },
  {
   "cell_type": "markdown",
   "id": "84a16238-1dff-401d-84c9-b2ffb1672071",
   "metadata": {},
   "source": []
  }
 ],
 "metadata": {
  "kernelspec": {
   "display_name": "Python 3 (ipykernel)",
   "language": "python",
   "name": "python3"
  },
  "language_info": {
   "codemirror_mode": {
    "name": "ipython",
    "version": 3
   },
   "file_extension": ".py",
   "mimetype": "text/x-python",
   "name": "python",
   "nbconvert_exporter": "python",
   "pygments_lexer": "ipython3",
   "version": "3.9.2"
  }
 },
 "nbformat": 4,
 "nbformat_minor": 5
}
