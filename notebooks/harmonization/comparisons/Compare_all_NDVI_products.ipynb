{
 "cells": [
  {
   "cell_type": "markdown",
   "id": "f171bb45-0926-4e48-97dd-e403df0fccd3",
   "metadata": {},
   "source": [
    "# Compare all the versions of AVHRR NDVI to MODIS\n",
    "\n",
    "and then compare their anomalies with Landsat anomalies"
   ]
  },
  {
   "cell_type": "code",
   "execution_count": null,
   "id": "b7d62418-1bae-4bf0-9318-2093e827866a",
   "metadata": {
    "tags": []
   },
   "outputs": [],
   "source": [
    "import numpy as np\n",
    "import xarray as xr\n",
    "import seaborn as sb\n",
    "import pandas as pd\n",
    "import geopandas as gpd\n",
    "from scipy import stats\n",
    "import xskillscore as xs\n",
    "import contextily as ctx\n",
    "import matplotlib as mpl\n",
    "import matplotlib.pyplot as plt\n",
    "from odc.geo.xr import assign_crs\n",
    "from scipy.stats import gaussian_kde\n",
    "from matplotlib.cm import ScalarMappable\n",
    "from sklearn.metrics import mean_absolute_error\n",
    "from matplotlib.ticker import FormatStrFormatter\n",
    "\n",
    "import sys\n",
    "sys.path.append('/g/data/os22/chad_tmp/NEE_modelling/')\n",
    "from _collect_prediction_data import round_coords\n",
    "\n",
    "sys.path.append('/g/data/os22/chad_tmp/dea-notebooks/Tools/')\n",
    "from dea_tools.spatial import xr_rasterize\n",
    "\n",
    "# Using ggplot styles in this notebook\n",
    "plt.style.use('ggplot')\n",
    "\n",
    "%matplotlib inline"
   ]
  },
  {
   "cell_type": "markdown",
   "id": "389f5071-6337-4c3c-be61-b071bb1789f2",
   "metadata": {},
   "source": [
    "## Analysis Parameters"
   ]
  },
  {
   "cell_type": "code",
   "execution_count": null,
   "id": "804d8c26-66d4-42dd-96a4-ded2559d2974",
   "metadata": {},
   "outputs": [],
   "source": [
    "model_var='NDVI'\n",
    "crs='epsg:4326'\n",
    "base = '/g/data/os22/chad_tmp/climate-carbon-interactions/data/'"
   ]
  },
  {
   "cell_type": "markdown",
   "id": "307e1775-f0bc-4f67-9574-24df2f6beef3",
   "metadata": {},
   "source": [
    "## Open datasets"
   ]
  },
  {
   "cell_type": "code",
   "execution_count": null,
   "id": "c6b7fcf4-a999-44c1-a05e-6537868b93ed",
   "metadata": {},
   "outputs": [],
   "source": [
    "avhrr = xr.open_dataset(base+model_var+'_harmonization/AVHRR_'+model_var+'_5km_monthly_1982_2013.nc')[model_var+'_avhrr']\n",
    "avhrr = assign_crs(avhrr, crs=crs)\n",
    "avhrr.attrs['nodata'] = np.nan\n",
    "\n",
    "modis = xr.open_dataset(base+model_var+'_harmonization/MODIS_'+model_var+'_5km_monthly_200003_202212.nc')[model_var+'_median']\n",
    "modis = assign_crs(modis, crs=crs)\n",
    "modis.attrs['nodata'] = np.nan\n",
    "\n",
    "gimms_pku = xr.open_dataset(base+model_var+'_harmonization/AVHRR_GIMMS-PKU_1982_2013.nc').rename({'__xarray_dataarray_variable__':'NDVI'})['NDVI']\n",
    "gimms_pku = assign_crs(gimms_pku, crs=crs)\n",
    "gimms_pku.attrs['nodata'] = np.nan\n",
    "\n",
    "gimms_pku_cons = xr.open_dataset(base+model_var+'_harmonization/AVHRR_GIMMS-PKU-MODIS_1982_2022.nc').rename({'__xarray_dataarray_variable__':'NDVI'})['NDVI']\n",
    "gimms_pku_cons = gimms_pku_cons.sel(time=slice('1982','2013'))\n",
    "gimms_pku_cons = assign_crs(gimms_pku_cons, crs=crs)\n",
    "gimms_pku_cons.attrs['nodata'] = np.nan\n",
    "\n",
    "gimms = xr.open_dataset(base+model_var+'_harmonization/AVHRR_GIMMS3g_v1.1_1982_2013.nc')['NDVI']\n",
    "gimms = assign_crs(gimms, crs='epsg:3577')\n",
    "gimms.attrs['nodata'] = np.nan\n",
    "\n",
    "merge = xr.open_dataset(f'{base}/NDVI_harmonization/LGBM/NDVI_CLIM_LGBM_5km_monthly_1982_2022_noGaps.nc')['NDVI']\n",
    "merge = assign_crs(merge, crs=crs)\n",
    "merge.attrs['nodata'] = np.nan\n",
    "merge = merge.rename('NDVI')\n"
   ]
  },
  {
   "cell_type": "markdown",
   "id": "c818eda3-b8b1-49e1-8290-6f96383adf7b",
   "metadata": {},
   "source": [
    "## Resample datasets to match GIMMS"
   ]
  },
  {
   "cell_type": "code",
   "execution_count": null,
   "id": "dfa4c92b-4115-4fc1-bb0d-4d98f7d0c5f3",
   "metadata": {},
   "outputs": [],
   "source": [
    "avhrr = avhrr.sel(time=slice('1982', '2013'))\n",
    "gimms_pku = gimms_pku.sel(time=slice('1982', '2013'))\n",
    "gimms_pku_cons = gimms_pku_cons.sel(time=slice('1982', '2013'))\n",
    "gimms = gimms.sel(time=slice('1982', '2013'))\n",
    "merge = merge.sel(time=slice('1982', '2013'))\n",
    "# modis = modis.sel(time=slice('1982', '2013'))\n",
    "\n",
    "avhrr = avhrr.odc.reproject(gimms_pku.odc.geobox, resampling='average')\n",
    "avhrr = round_coords(avhrr)\n",
    "\n",
    "gimms_pku_cons = gimms_pku_cons.odc.reproject(gimms_pku.odc.geobox, resampling='nearest')\n",
    "gimms_pku_cons = round_coords(gimms_pku_cons)\n",
    "\n",
    "gimms = gimms.odc.reproject(gimms_pku.odc.geobox, resampling='nearest')\n",
    "gimms = round_coords(gimms)\n",
    "gimms_pku = round_coords(gimms_pku)\n",
    "\n",
    "modis = modis.odc.reproject(gimms_pku.odc.geobox, resampling='average')\n",
    "modis = round_coords(modis)\n",
    "\n",
    "merge = merge.odc.reproject(gimms_pku.odc.geobox, resampling='average')\n",
    "merge = round_coords(merge)"
   ]
  },
  {
   "cell_type": "code",
   "execution_count": null,
   "id": "7b577ca3-5fe2-4bd3-a684-5535f0fff07e",
   "metadata": {},
   "outputs": [],
   "source": [
    "gimms_mask =  ~np.isnan(gimms)\n",
    "del gimms_mask.attrs['nodata']\n",
    "gimms_mask = assign_crs(gimms_mask, crs=crs)\n",
    "\n",
    "gimms_mask_cons =  ~np.isnan(gimms_pku_cons)\n",
    "del gimms_mask_cons.attrs['nodata']\n",
    "gimms_mask_cons = assign_crs(gimms_mask_cons, crs=crs)\n",
    "\n",
    "cdr_mask =  ~np.isnan(avhrr)\n",
    "del cdr_mask.attrs['nodata']\n",
    "cdr_mask = assign_crs(cdr_mask, crs=crs)\n",
    "\n",
    "pku_mask =  ~np.isnan(gimms_pku)\n",
    "del pku_mask.attrs['nodata']\n",
    "pku_mask = assign_crs(pku_mask, crs=crs)\n",
    "\n",
    "#combine masks\n",
    "mask = (gimms_mask & cdr_mask & pku_mask & gimms_mask_cons)"
   ]
  },
  {
   "cell_type": "code",
   "execution_count": null,
   "id": "22784335-59ed-4525-9966-453ad8f137e6",
   "metadata": {},
   "outputs": [],
   "source": [
    "gimms_pku = gimms_pku.where(mask)\n",
    "gimms = gimms.where(mask)\n",
    "avhrr = avhrr.where(mask)\n",
    "gimms_pku_cons = gimms_pku_cons.where(mask)\n",
    "merge = merge.where(mask)"
   ]
  },
  {
   "cell_type": "markdown",
   "id": "76b8f9a6-3f7b-4af3-a26d-ee27235143fe",
   "metadata": {},
   "source": [
    "### Timeseries plots\n"
   ]
  },
  {
   "cell_type": "markdown",
   "id": "6a080751-970f-4e1c-aef1-78eafcf1a2e8",
   "metadata": {},
   "source": [
    "#### per region"
   ]
  },
  {
   "cell_type": "code",
   "execution_count": null,
   "id": "ac47e928-109c-4b78-b980-aae4200c25e8",
   "metadata": {},
   "outputs": [],
   "source": [
    "gdf = gpd.read_file('/g/data/os22/chad_tmp/NEE_modelling/data/bioclimatic_regions.geojson')"
   ]
  },
  {
   "cell_type": "code",
   "execution_count": null,
   "id": "497c3f4a-1c8b-4946-859f-bc79b8f6ad80",
   "metadata": {},
   "outputs": [],
   "source": [
    "roll=12"
   ]
  },
  {
   "cell_type": "code",
   "execution_count": null,
   "id": "ddce57d8-2024-44b4-9623-ca548cc72935",
   "metadata": {},
   "outputs": [],
   "source": [
    "mosiac = [\n",
    "    [\"A\", \"B\"],\n",
    "    [\"C\", \"D\"],\n",
    "    [\"E\", \"F\"],\n",
    "    [\"G\", \"G\"],\n",
    "]\n",
    "\n",
    "fig, axes = plt.subplot_mosaic(mosiac, figsize=(20,20))\n",
    "\n",
    "for ax, (index, row) in zip(axes, gdf.iterrows()):\n",
    "    print(row['region_name'])\n",
    "    # Generate a polygon mask to keep only data within the polygon\n",
    "    m = xr_rasterize(gdf.iloc[[index]], gimms_pku, crs=crs)\n",
    "    m = round_coords(m)\n",
    "    \n",
    "    # Mask dataset to set pixels outside the polygon to `NaN`\n",
    "    # modis_region = modis.where(mask)\n",
    "    avhrr_region = avhrr.where(m)\n",
    "    #merge_region = merge.where(mask)\n",
    "    gimms_pku_region = gimms_pku.where(m)\n",
    "    gimms_pku_cons_region = gimms_pku_cons.where(m)\n",
    "    gimms_region = gimms.where(m)\n",
    "\n",
    "    avhrr_region.mean(['latitude','longitude']).rolling(time=roll, min_periods=roll).mean().plot(ax=axes[ax], label='ACDR', c ='forestgreen', linewidth=2)\n",
    "    gimms_pku_region.mean(['latitude','longitude']).rolling(time=roll, min_periods=roll).mean().plot(ax=axes[ax], label='GIMMS-PKU', c='orange', linewidth=2)\n",
    "    gimms_pku_cons_region.mean(['latitude','longitude']).rolling(time=roll, min_periods=roll).mean().plot(ax=axes[ax], label='GIMMS-PKU-consolidated', c='blue', linewidth=2)\n",
    "    gimms_region.mean(['latitude','longitude']).rolling(time=roll, min_periods=roll).mean().plot(ax=axes[ax], label='GIMMS3g',c='purple', linewidth=2)\n",
    "    # modis_region.mean(['latitude','longitude']).rolling(time=roll).mean().plot(ax=axes[ax], label='MODIS', c='black', linewidth=2)\n",
    "    #merge_region.mean(['latitude','longitude']).rolling(time=3).mean().plot(ax=axes[ax], label='AVHRR adjusted (GBM)', c='red', linewidth=2)\n",
    "    \n",
    "    axes[ax].set_ylabel('')\n",
    "    axes[ax].set_xlabel('')\n",
    "    # axes[ax].sharex(axes['E'])\n",
    "    axes[ax].tick_params(axis='y', labelsize=15)\n",
    "    axes[ax].tick_params(axis='x', labelsize=15)\n",
    "    axes[ax].set_title(row['region_name'], fontsize=20)\n",
    "    axes[ax].grid(True)\n",
    "\n",
    "#the last Aus-wide plot\n",
    "avhrr.mean(['latitude','longitude']).rolling(time=roll, min_periods=roll).mean().plot(ax=axes['G'], label='CDR', c ='forestgreen', linewidth=2)\n",
    "gimms_pku.mean(['latitude','longitude']).rolling(time=roll, min_periods=roll).mean().plot(ax=axes['G'], label='GIMMS-PKU', c='orange', linewidth=2)\n",
    "gimms_pku_cons.mean(['latitude','longitude']).rolling(time=roll, min_periods=roll).mean().plot(ax=axes['G'], label='GIMMS-PKU-consolidated', c='blue', linewidth=2)\n",
    "gimms.mean(['latitude','longitude']).rolling(time=roll, min_periods=roll).mean().plot(ax=axes['G'], label='GIMMS3g',c='purple', linewidth=2)\n",
    "# modis.mean(['latitude','longitude']).rolling(time=roll).mean().plot(ax=axes['G'], label='MODIS', color='black', linewidth=2)\n",
    "#merge.mean(['latitude','longitude']).rolling(time=3).mean().plot(ax=axes['G'], label='AVHRR-Adjusted (GBM)', c='red', linewidth=2)\n",
    "\n",
    "axes['G'].set_title('Australia', fontsize=20)\n",
    "axes['G'].legend(fontsize=16)\n",
    "axes['G'].set_ylabel('')\n",
    "axes['G'].set_xlabel('')\n",
    "axes['G'].tick_params(axis='y', labelsize=15)\n",
    "axes['G'].tick_params(axis='x', labelsize=15)\n",
    "axes['G'].grid(True)\n",
    "\n",
    "fig.supylabel(model_var, fontsize=20)    \n",
    "plt.tight_layout(rect=(0.015,0,1,1))\n",
    "# fig.savefig(f'/g/data/os22/chad_tmp/climate-carbon-interactions/results/figs/{model_var}_compareallproducts_timeseries_bioregion.png',\n",
    "#             bbox_inches='tight', dpi=300);"
   ]
  },
  {
   "cell_type": "markdown",
   "id": "2041c47b-1316-4dd7-b91b-bded13420917",
   "metadata": {},
   "source": [
    "### Per-pixel error metrics"
   ]
  },
  {
   "cell_type": "code",
   "execution_count": null,
   "id": "77483d7d-a560-4534-956c-ebc328854f52",
   "metadata": {},
   "outputs": [],
   "source": [
    "modis_mean = modis.mean('time')\n",
    "low_ndvi_mask = xr.where(modis_mean<0.10,0, 1)\n",
    "modis = modis.sel(time=slice('2000-03', '2013'))"
   ]
  },
  {
   "cell_type": "code",
   "execution_count": null,
   "id": "a27e96ae-3bde-4dd6-b776-92a806e3c443",
   "metadata": {},
   "outputs": [],
   "source": [
    "modis = modis.where(mask.sel(time=modis.time))"
   ]
  },
  {
   "cell_type": "code",
   "execution_count": null,
   "id": "d01149b9-2386-4342-b2c0-696e90791375",
   "metadata": {},
   "outputs": [],
   "source": [
    "cdr_corr = xr.corr(modis, avhrr.sel(time=modis.time), dim='time')\n",
    "cdr_corr = cdr_corr.where(low_ndvi_mask)\n",
    "\n",
    "corr_pku = xr.corr(modis, gimms_pku.sel(time=modis.time), dim='time')\n",
    "corr_pku = corr_pku.where(low_ndvi_mask)\n",
    "\n",
    "corr_pku_cons = xr.corr(modis, gimms_pku_cons.sel(time=modis.time), dim='time')\n",
    "corr_pku_cons = corr_pku_cons.where(low_ndvi_mask)\n",
    "\n",
    "corr_gimms = xr.corr(modis, gimms.sel(time=modis.time), dim='time')\n",
    "corr_gimms = corr_gimms.where(low_ndvi_mask)\n",
    "\n",
    "#-----------------------------------------------------------\n",
    "cdr_rmse = xs.rmse(modis,avhrr.sel(time=modis.time), dim='time', skipna=True)\n",
    "cdr_rmse = cdr_rmse.where(low_ndvi_mask)\n",
    "\n",
    "rmse_pku = xs.rmse(modis, gimms_pku.sel(time=modis.time), dim='time', skipna=True)\n",
    "rmse_pku = rmse_pku.where(low_ndvi_mask)\n",
    "\n",
    "rmse_pku_cons = xs.rmse(modis, gimms_pku_cons.sel(time=modis.time), dim='time', skipna=True)\n",
    "rmse_pku_cons = rmse_pku_cons.where(low_ndvi_mask)\n",
    "\n",
    "rmse_gimms = xs.rmse(modis, gimms.sel(time=modis.time), dim='time', skipna=True)\n",
    "rmse_gimms = rmse_gimms.where(low_ndvi_mask)"
   ]
  },
  {
   "cell_type": "code",
   "execution_count": null,
   "id": "334839f0-28ac-423a-ac87-a4989f1f9b82",
   "metadata": {},
   "outputs": [],
   "source": [
    "corr_data = [cdr_corr,corr_gimms,corr_pku, corr_pku_cons] \n",
    "products=['CDR', 'GIMMS3g','GIMMS-PKU','GIMMS-PKU-Consolidated'] \n",
    "\n",
    "fig,axes = plt.subplots(1,4, figsize=(18,4), sharey=True)\n",
    "\n",
    "for ax, ds, n in zip(axes.ravel(), corr_data, products):\n",
    "    if n=='Difference':\n",
    "        cmap='RdBu'\n",
    "        vmin=-0.5\n",
    "        vmax=0.5\n",
    "    else:\n",
    "        cmap='pink'\n",
    "        vmin=0\n",
    "        vmax=1\n",
    "    im = ds.plot(vmin=vmin, vmax=vmax, cmap=cmap, ax=ax, add_colorbar=False)\n",
    "    ctx.add_basemap(ax, source=ctx.providers.CartoDB.Voyager, crs='EPSG:4326', attribution='', attribution_size=1)\n",
    "    ax.set_title(f'{n}', fontsize=12) #f'{n}: {ds.mean().values}'\n",
    "    ax.set_yticklabels([])\n",
    "    ax.set_ylabel('')\n",
    "    ax.set_xlabel('')\n",
    "    ax.set_xticklabels([])\n",
    "\n",
    "plt.subplots_adjust(wspace=0.075)\n",
    "cbar = fig.colorbar(im, location='right', ax=axes.ravel().tolist(), fraction=0.05, shrink=0.65)\n",
    "cbar.ax.yaxis.set_major_formatter(FormatStrFormatter('%.2f'))\n",
    "cbar.ax.set_title('R', fontsize=12)\n",
    "# cbar.set_label(label=var+' PgC/year', size=15, weight='bold')\n",
    "cbar.ax.tick_params(labelsize=12)\n",
    "# fig.savefig(f'/g/data/os22/chad_tmp/climate-carbon-interactions/results/figs/{model_var}_compareallproducts_correlation_perpixel.png',\n",
    "#             bbox_inches='tight', dpi=300);"
   ]
  },
  {
   "cell_type": "code",
   "execution_count": null,
   "id": "35400b35-2d59-400f-8f93-3cb1f58042ab",
   "metadata": {},
   "outputs": [],
   "source": [
    "corr_data = [cdr_rmse, rmse_gimms,rmse_pku, rmse_pku_cons] \n",
    "products=['CDR','GIMMS3g','GIMMS-PKU', 'GIMMS-PKU-Consolidated'] \n",
    "\n",
    "fig,axes = plt.subplots(1,4, figsize=(18,4), sharey=True)\n",
    "\n",
    "for ax, ds, n in zip(axes.ravel(), corr_data, products):\n",
    "    if model_var=='NDVI':\n",
    "        if n=='Difference':\n",
    "            cmap='RdBu'\n",
    "            vmin=-0.1\n",
    "            vmax=0.1\n",
    "        else:\n",
    "            cmap='YlGnBu_r'\n",
    "            vmin=0.1\n",
    "            vmax=0.4\n",
    "    \n",
    "    if model_var=='LST':\n",
    "        if n=='Difference':\n",
    "            cmap='RdBu'\n",
    "            vmin=-6\n",
    "            vmax=6\n",
    "        else:\n",
    "            cmap='cividis'\n",
    "            vmin=0\n",
    "            vmax=7.0\n",
    "    im = (ds/modis_mean).plot(vmin=vmin, vmax=vmax, cmap=cmap, ax=ax, add_colorbar=False)   \n",
    "    ctx.add_basemap(ax, source=ctx.providers.CartoDB.Voyager, crs='EPSG:4326', attribution='', attribution_size=1)\n",
    "    ax.set_yticklabels([])\n",
    "    ax.set_xticklabels([])\n",
    "    ax.set_title(f'{n}', fontsize=12) #f'{n}: {(ds/modis_mean).mean().values}'\n",
    "    ax.set_ylabel('')\n",
    "    ax.set_xlabel('')\n",
    "\n",
    "plt.subplots_adjust(wspace=0.075)\n",
    "cbar = fig.colorbar(im, location='right', ax=axes.ravel().tolist(), fraction=0.05, shrink=0.65)\n",
    "cbar.ax.yaxis.set_major_formatter(FormatStrFormatter('%.2f'))\n",
    "cbar.ax.set_title('CV', fontsize=12)\n",
    "# cbar.set_label(label=var+' PgC/year', size=15, weight='bold')\n",
    "cbar.ax.tick_params(labelsize=12)\n",
    "# fig.savefig(f'/g/data/os22/chad_tmp/climate-carbon-interactions/results/figs/{model_var}_compareallproducts_CV_perpixel.png',\n",
    "#             bbox_inches='tight', dpi=300);"
   ]
  },
  {
   "cell_type": "markdown",
   "id": "873d8d1a-3a4a-4ddc-9d79-d94a2c9a6946",
   "metadata": {},
   "source": [
    "## Seasonality"
   ]
  },
  {
   "cell_type": "code",
   "execution_count": null,
   "id": "7f00c1a3-49b7-417f-9251-e5a0f47bc5d9",
   "metadata": {},
   "outputs": [],
   "source": [
    "import sys\n",
    "sys.path.append('/g/data/os22/chad_tmp/climate-carbon-interactions/src')\n",
    "from _collect_prediction_data import allNaN_arg"
   ]
  },
  {
   "cell_type": "code",
   "execution_count": null,
   "id": "a2a06c96-0b08-4aa7-b8e9-454c2f4adbe4",
   "metadata": {},
   "outputs": [],
   "source": [
    "avhrr_clim = avhrr.sel(time=slice('2001','2013')).groupby('time.month').mean()\n",
    "modis_clim = modis.sel(time=slice('2001','2013')).groupby('time.month').mean()\n",
    "gimms_pku_clim = gimms_pku.sel(time=slice('2001','2013')).groupby('time.month').mean()\n",
    "gimms_pku_cons_clim = gimms_pku_cons.sel(time=slice('2001','2013')).groupby('time.month').mean()\n",
    "gimms_clim = gimms.sel(time=slice('2001','2013')).groupby('time.month').mean()\n",
    "merge_clim = merge.sel(time=slice('2001','2013')).groupby('time.month').mean()\n",
    "\n",
    "avhrr_clim_max = allNaN_arg(avhrr_clim, 'month', 'max')\n",
    "modis_clim_max = allNaN_arg(modis_clim, 'month', 'max')\n",
    "gimms_pku_clim_max = allNaN_arg(gimms_pku_clim, 'month', 'max')\n",
    "gimms_pku_cons_clim_max = allNaN_arg(gimms_pku_cons_clim, 'month', 'max')\n",
    "gimms_clim_max = allNaN_arg(gimms_clim, 'month', 'max')\n",
    "merge_clim_max = allNaN_arg(merge_clim, 'month', 'max')"
   ]
  },
  {
   "cell_type": "code",
   "execution_count": null,
   "id": "b5a88577-9ca7-4d8e-8b52-e883bc60091c",
   "metadata": {},
   "outputs": [],
   "source": [
    "corr_data = [modis_clim_max,avhrr_clim_max, gimms_clim_max, gimms_pku_clim_max, gimms_pku_cons_clim_max, merge_clim_max] \n",
    "products=['MODIS', 'CDR','GIMMS3g','GIMMS-PKU', 'GIMMS-PKU-Consolidated', 'This Study (CLIM)'] \n",
    "\n",
    "fig,axes = plt.subplots(2,3, figsize=(12,8), sharey=True, layout='constrained')\n",
    "\n",
    "for ax, ds, n in zip(axes.ravel(), corr_data, products):\n",
    "    cmap='twilight'\n",
    "    im = ds.plot(cmap=cmap, ax=ax, add_colorbar=False)   \n",
    "    ctx.add_basemap(ax, source=ctx.providers.CartoDB.Voyager, crs='EPSG:4326', attribution='', attribution_size=1)\n",
    "    ax.set_yticklabels([])\n",
    "    ax.set_xticklabels([])\n",
    "    ax.set_title(f'{n}', fontsize=12)\n",
    "    ax.set_ylabel('')\n",
    "    ax.set_xlabel('')\n",
    "\n",
    "# plt.subplots_adjust(wspace=0.075)\n",
    "cbar = fig.colorbar(im, orientation='horizontal',\n",
    "                                 ax=axes,\n",
    "                                 norm = mpl.colors.Normalize(vmin=1, vmax=12),\n",
    "                                 ticks=[1,2,3,4,5,6,7,8,9,10,11,12],\n",
    "                                 cmap=cmap,\n",
    "                    shrink=0.30\n",
    "                   )\n",
    "\n",
    "cbar.set_ticklabels([\"J\",\"F\",\"M\",\"A\",\"M\",\"J\",\"J\",\"A\",\"S\",\"O\",\"N\",\"D\"], fontsize=10)\n",
    "cbar.ax.set_title('Month-of-max NDVI', fontsize=12)\n",
    "fig.savefig(f'/g/data/os22/chad_tmp/climate-carbon-interactions/results/figs/{model_var}_compareallproducts_seasonality.png',\n",
    "            bbox_inches='tight', dpi=300);"
   ]
  },
  {
   "cell_type": "code",
   "execution_count": null,
   "id": "7c54e669-3e89-41c4-979c-c8d28e8344e1",
   "metadata": {},
   "outputs": [],
   "source": [
    "avhrr_clim = avhrr.sel(time=slice('2001','2013')).groupby('time.month').mean()\n",
    "modis_clim = modis.sel(time=slice('2001','2013')).groupby('time.month').mean()\n",
    "gimms_pku_clim = gimms_pku.sel(time=slice('2001','2013')).groupby('time.month').mean()\n",
    "gimms_pku_cons_clim = gimms_pku_cons.sel(time=slice('2001','2013')).groupby('time.month').mean()\n",
    "gimms_clim = gimms.sel(time=slice('2001','2013')).groupby('time.month').mean()\n",
    "merge_clim ="
   ]
  },
  {
   "cell_type": "code",
   "execution_count": null,
   "id": "0f83f1a9-2c2e-4a00-90f4-b37161599a16",
   "metadata": {},
   "outputs": [],
   "source": [
    "corr_data = [avhrr_clim, gimms_clim, gimms_pku_clim, gimms_pku_cons_clim, merge_clim, modis_clim] \n",
    "products=['CDR','GIMMS3g','GIMMS-PKU', 'GIMMS-PKU-Consolidated', 'This Study (CLIM)', 'MODIS'] \n",
    "\n",
    "fig,axes = plt.subplots(1,1, figsize=(6,5), sharey=True, layout='constrained')\n",
    "\n",
    "for ds, n in zip(corr_data, products):\n",
    "    if n=='MODIS':\n",
    "        ds.mean(['latitude', 'longitude']).plot(ax=axes, label=n, linewidth=2, linestyle='--', c='black')   \n",
    "    else:\n",
    "        ds.mean(['latitude', 'longitude']).plot(ax=axes, label=n, linewidth=2)\n",
    "    # ax.set_yticklabels([])\n",
    "    # ax.set_xticklabels([])\n",
    "# axes.legend(ncols=2)\n",
    "axes.set_title(\"Australia's NDVI Seasonal Cycle (2001-2013)\")\n",
    "axes.set_ylabel('NDVI')\n",
    "axes.set_xlabel('Month')\n",
    "axes.set_xticks([1,2,3,4,5,6,7,8,9,10,11,12])\n",
    "axes.set_xticklabels([\"J\",\"F\",\"M\",\"A\",\"M\",\"J\",\"J\",\"A\",\"S\",\"O\",\"N\",\"D\"], fontsize=10);\n",
    "fig.savefig(f'/g/data/os22/chad_tmp/climate-carbon-interactions/results/figs/{model_var}_compareallproducts_seasonality_timseseries.png',\n",
    "            bbox_inches='tight', dpi=300);"
   ]
  },
  {
   "cell_type": "code",
   "execution_count": null,
   "id": "b4d6dfff-dd4b-4eaa-9447-94b595a21aa4",
   "metadata": {},
   "outputs": [],
   "source": [
    "# get handles and labels for reuse\n",
    "label_params = axes.get_legend_handles_labels() \n",
    "\n",
    "figl, axl = plt.subplots()\n",
    "axl.axis(False)\n",
    "axl.legend(*label_params, loc=\"best\", fontsize=20, markerscale=2.0, ncol=1)\n",
    "figl.savefig('/g/data/os22/chad_tmp/climate-carbon-interactions/results/figs/climatology_legend.png', bbox_inches='tight', dpi=300)"
   ]
  },
  {
   "cell_type": "markdown",
   "id": "b6105010-d024-4d18-a5b4-dfa185850e42",
   "metadata": {},
   "source": [
    "## Anomalies against Landsat"
   ]
  },
  {
   "cell_type": "code",
   "execution_count": null,
   "id": "7830755e-86a2-42dd-aaa7-38c291b2fa20",
   "metadata": {},
   "outputs": [],
   "source": [
    "cdr = xr.open_dataset(base+model_var+'_harmonization/AVHRR_'+model_var+'_5km_monthly_1982_2013.nc')[model_var+'_avhrr']\n",
    "cdr = assign_crs(cdr, crs=crs)\n",
    "cdr.attrs['nodata'] = np.nan\n",
    "cdr = cdr.rename('NDVI')\n",
    "\n",
    "pku = xr.open_dataset(base+model_var+'_harmonization/AVHRR_GIMMS-PKU_1982_2013.nc').rename({'__xarray_dataarray_variable__':'NDVI'})['NDVI']\n",
    "pku = assign_crs(pku, crs=crs)\n",
    "pku.attrs['nodata'] = np.nan\n",
    "\n",
    "pku_cons = xr.open_dataset(base+model_var+'_harmonization/AVHRR_GIMMS-PKU-MODIS_1982_2022.nc').rename({'__xarray_dataarray_variable__':'NDVI'})['NDVI']\n",
    "pku_cons = pku_cons.sel(time=slice('1982','2013'))\n",
    "pku_cons = assign_crs(pku_cons, crs=crs)\n",
    "pku_cons.attrs['nodata'] = np.nan\n",
    "\n",
    "gimms = xr.open_dataset(base+model_var+'_harmonization/AVHRR_GIMMS3g_v1.1_1982_2013.nc')['NDVI']\n",
    "gimms = assign_crs(gimms, crs='epsg:3577')\n",
    "gimms.attrs['nodata'] = np.nan\n",
    "\n",
    "ls = xr.open_dataset(base+'/NDVI_harmonization/Landsat_NDVI_5km_monthly_1988_2012.nc')['NDVI']\n",
    "ls = assign_crs(ls, crs=crs)\n",
    "ls.attrs['nodata'] = np.nan\n",
    "\n",
    "rain = xr.open_dataset('/g/data/os22/chad_tmp/climate-carbon-interactions/data/5km/rain_5km_monthly_1981_2022.nc').rain\n",
    "rain = assign_crs(rain, crs=crs)\n",
    "rain.attrs['nodata'] = np.nan"
   ]
  },
  {
   "cell_type": "markdown",
   "id": "04c7d88a-293e-4e33-bc97-e7e54c52c9b5",
   "metadata": {},
   "source": [
    "### Match datasets"
   ]
  },
  {
   "cell_type": "code",
   "execution_count": null,
   "id": "724eb092-d823-4a75-b3e3-4262f9a8f8ec",
   "metadata": {},
   "outputs": [],
   "source": [
    "pku = pku.sel(time=ls.time)\n",
    "pku_cons = pku_cons.sel(time=ls.time)\n",
    "gimms = gimms.sel(time=ls.time)\n",
    "rain = rain.sel(time=ls.time)\n",
    "cdr = cdr.sel(time=ls.time)\n",
    "\n",
    "ls = ls.odc.reproject(pku.odc.geobox, resampling='average')\n",
    "cdr = cdr.odc.reproject(pku.odc.geobox, resampling='average')\n",
    "gimms = gimms.odc.reproject(pku.odc.geobox, resampling='nearest')\n",
    "pku_cons = pku_cons.odc.reproject(pku.odc.geobox, resampling='nearest')\n",
    "rain = rain.odc.reproject(pku.odc.geobox, resampling='average')\n",
    "\n",
    "ls = round_coords(ls)\n",
    "pku = round_coords(pku)\n",
    "pku_cons = round_coords(pku_cons)\n",
    "rain = round_coords(rain)\n",
    "cdr = round_coords(cdr)\n",
    "gimms = round_coords(gimms)"
   ]
  },
  {
   "cell_type": "code",
   "execution_count": null,
   "id": "374e03de-03fa-4796-ad40-5f3a9a48e287",
   "metadata": {},
   "outputs": [],
   "source": [
    "gimms_mask =  ~np.isnan(gimms)\n",
    "del gimms_mask.attrs['nodata']\n",
    "gimms_mask = assign_crs(gimms_mask, crs=crs)\n",
    "\n",
    "cdr_mask =  ~np.isnan(cdr)\n",
    "del cdr_mask.attrs['nodata']\n",
    "cdr_mask = assign_crs(cdr_mask, crs=crs)\n",
    "\n",
    "pku_mask =  ~np.isnan(pku)\n",
    "del pku_mask.attrs['nodata']\n",
    "pku_mask = assign_crs(pku_mask, crs=crs)\n",
    "\n",
    "pku_cons_mask =  ~np.isnan(pku_cons)\n",
    "del pku_cons_mask.attrs['nodata']\n",
    "pku_cons_mask = assign_crs(pku_cons_mask, crs=crs)\n",
    "\n",
    "ls_mask =  ~np.isnan(ls)\n",
    "del ls_mask.attrs['nodata']\n",
    "ls_mask = assign_crs(ls_mask, crs=crs)\n",
    "\n",
    "#combine masks\n",
    "mask = (gimms_mask & pku_mask & pku_cons_mask & ls_mask & cdr_mask)\n",
    "# mask = (pku_mask & ls_mask)"
   ]
  },
  {
   "cell_type": "code",
   "execution_count": null,
   "id": "25eebd3c-cf81-4af5-8044-38ba0babf8ea",
   "metadata": {},
   "outputs": [],
   "source": [
    "pku = pku.where(mask)\n",
    "pku_cons = pku_cons.where(mask)\n",
    "gimms = gimms.where(mask)\n",
    "rain = rain.where(mask)\n",
    "cdr = cdr.where(mask)\n",
    "ls = ls.where(mask)\n",
    "\n",
    "cdr = cdr.rename({'latitude':'y', 'longitude':'x'})\n",
    "pku = pku.rename({'latitude':'y', 'longitude':'x'})\n",
    "pku_cons = pku_cons.rename({'latitude':'y', 'longitude':'x'})\n",
    "ls = ls.rename({'latitude':'y', 'longitude':'x'})\n",
    "rain = rain.rename({'latitude':'y', 'longitude':'x'})\n",
    "gimms = gimms.rename({'latitude':'y', 'longitude':'x'})"
   ]
  },
  {
   "cell_type": "code",
   "execution_count": null,
   "id": "280ca6de-1938-46ae-ba3d-44488a36c6f3",
   "metadata": {},
   "outputs": [],
   "source": [
    "fraction_avail= (~np.isnan(pku)).sum('time')/len(pku.time)\n",
    "\n",
    "fig,ax=plt.subplots(1,1, figsize=(5,4),sharey=True, layout='constrained')\n",
    "\n",
    "im = fraction_avail.where(fraction_avail>0).rename('').plot(vmin=0.1, vmax=0.95, ax=ax, cmap='magma', add_labels=False, add_colorbar=False)\n",
    "ctx.add_basemap(ax, source=ctx.providers.CartoDB.Voyager, crs='EPSG:4326', attribution='', attribution_size=1)\n",
    "\n",
    "cb = fig.colorbar(im, ax=ax, shrink=0.75, orientation='vertical', label='Fraction Available');\n",
    "ax.set_title('Mean Fraction: '+str(round(fraction_avail.where(fraction_avail>0).mean().values.item(), 3)));"
   ]
  },
  {
   "cell_type": "markdown",
   "id": "a1d90fe3-cc49-42cd-ad2c-f7ae2026c50e",
   "metadata": {},
   "source": [
    "### Calculate standardised anomalies"
   ]
  },
  {
   "cell_type": "code",
   "execution_count": null,
   "id": "0f520957-0c8c-48fb-bbbe-68bc6e74f6a3",
   "metadata": {},
   "outputs": [],
   "source": [
    "import warnings\n",
    "warnings.simplefilter('ignore')\n",
    "\n",
    "#standardized anom\n",
    "def stand_anomalies(ds):\n",
    "    return xr.apply_ufunc(\n",
    "        lambda x, m, s: (x - m) / s,\n",
    "            ds.groupby(\"time.month\"),\n",
    "            ds.sel(time=slice('1988', '2012')).groupby(\"time.month\").mean(),\n",
    "            ds.sel(time=slice('1988', '2012')).groupby(\"time.month\").std()\n",
    "    )\n",
    "    \n",
    "rain_std_anom = stand_anomalies(rain)\n",
    "pku_std_anom = stand_anomalies(pku)\n",
    "pku_cons_std_anom = stand_anomalies(pku_cons)\n",
    "gimms_std_anom = stand_anomalies(gimms)\n",
    "ls_std_anom = stand_anomalies(ls)\n",
    "cdr_std_anom = stand_anomalies(cdr)"
   ]
  },
  {
   "cell_type": "markdown",
   "id": "7e681f0c-4062-4e41-9e37-9c4315b1ae0e",
   "metadata": {},
   "source": [
    "### Rolling mean anomalies"
   ]
  },
  {
   "cell_type": "code",
   "execution_count": null,
   "id": "c521ec14-cf0e-4e24-ba97-78add3936c2e",
   "metadata": {},
   "outputs": [],
   "source": [
    "roll=12"
   ]
  },
  {
   "cell_type": "code",
   "execution_count": null,
   "id": "a7037899-2b78-4b3d-9346-105d1303c6cd",
   "metadata": {},
   "outputs": [],
   "source": [
    "rain_df = rain_std_anom.rename('rain').mean(['x','y']).rolling(time=roll,\n",
    "                min_periods=roll).mean().sel(time=slice('1989','2001')).to_dataframe().drop(['spatial_ref', 'month'], axis=1)\n",
    "\n",
    "plt.style.use('default')\n",
    "fig, ax = plt.subplots(1,1, figsize=(14,4))\n",
    "ax2 = ax.twinx()\n",
    "#.sel(time=slice('1988','2001'))\n",
    "pku_std_anom.drop('month').sel(time=slice('1988','2001')).mean(['x','y']).rolling(time=roll, min_periods=roll).mean().plot(ax=ax, label='GIMMS-PKU')\n",
    "pku_cons_std_anom.drop('month').sel(time=slice('1988','2001')).mean(['x','y']).rolling(time=roll, min_periods=roll).mean().plot(ax=ax, label='GIMMS-PKU-consolidated')\n",
    "gimms_std_anom.drop('month').sel(time=slice('1988','2001')).mean(['x','y']).rolling(time=roll, min_periods=roll).mean().plot(ax=ax, label='GIMMS3g')\n",
    "cdr_std_anom.drop('month').sel(time=slice('1988','2001')).mean(['x','y']).rolling(time=roll, min_periods=roll).mean().plot(ax=ax, label='CDR')\n",
    "ls_std_anom.drop('month').sel(time=slice('1988','2001')).mean(['x','y']).rolling(time=roll, min_periods=roll).mean().plot(ax=ax, label='Landsat', color='black')\n",
    "\n",
    "norm=plt.Normalize(-2.5,2.5)\n",
    "cmap = mpl.colors.LinearSegmentedColormap.from_list(\"\", ['saddlebrown','chocolate','white','darkturquoise','darkcyan'], N=256)\n",
    "\n",
    "# Plot bars\n",
    "bar = ax2.bar(rain_df.index, 1, color=cmap(norm(rain_df['rain'])), width=32)\n",
    "sm = ScalarMappable(cmap=cmap, norm=norm)\n",
    "sm.set_array([])\n",
    "cbar = plt.colorbar(sm, shrink=0.8, pad=0.01)\n",
    "cbar.set_label('Rainfall Anomaly (z-score)',labelpad=.5)\n",
    "\n",
    "ax2.set_zorder(ax.get_zorder()-1)\n",
    "ax.set_frame_on(False)\n",
    "ax.axhline(0, c='grey', linestyle='--')\n",
    "\n",
    "# Reformat y-axis label and tick labels\n",
    "ax.set_ylabel(model_var+' Anomaly (z-score)')\n",
    "ax.set_xlabel('')\n",
    "ax2.set_ylabel('')\n",
    "ax2.set_yticks([])\n",
    "ax2.set_ylim([0, 1]) \n",
    "ax.set_ylim([-0.75, 0.85]) \n",
    "ax.margins(x=0)\n",
    "ax2.margins(x=0)\n",
    "\n",
    "# Adjust the margins around the plot area\n",
    "plt.subplots_adjust(left=0.1, right=None, top=None, bottom=0.2, wspace=None, hspace=None)\n",
    "ax.legend()\n",
    "ax.set_title(None);\n",
    "fig.savefig(\"/g/data/os22/chad_tmp/climate-carbon-interactions/results/figs/Australian_NDVI_compareall_anomalies_landsat_\"+str(roll)+\"Mrollingmean.png\",\n",
    "            bbox_inches='tight', dpi=300)"
   ]
  },
  {
   "cell_type": "code",
   "execution_count": null,
   "id": "598e8fb2-195f-43fe-9fd3-9de3f86ac320",
   "metadata": {},
   "outputs": [],
   "source": []
  },
  {
   "cell_type": "code",
   "execution_count": null,
   "id": "e8eee3c3-b574-494a-b98d-908848172532",
   "metadata": {},
   "outputs": [],
   "source": []
  }
 ],
 "metadata": {
  "kernelspec": {
   "display_name": "Python 3 (ipykernel)",
   "language": "python",
   "name": "python3"
  },
  "language_info": {
   "codemirror_mode": {
    "name": "ipython",
    "version": 3
   },
   "file_extension": ".py",
   "mimetype": "text/x-python",
   "name": "python",
   "nbconvert_exporter": "python",
   "pygments_lexer": "ipython3",
   "version": "3.9.2"
  }
 },
 "nbformat": 4,
 "nbformat_minor": 5
}
