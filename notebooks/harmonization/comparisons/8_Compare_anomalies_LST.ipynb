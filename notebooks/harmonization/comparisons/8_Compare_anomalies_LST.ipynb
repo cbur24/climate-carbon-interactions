{
 "cells": [
  {
   "cell_type": "markdown",
   "id": "f171bb45-0926-4e48-97dd-e403df0fccd3",
   "metadata": {},
   "source": [
    "# Compare anomalies between GIMMS-PKU consolidate, Landsat, and AVHRR-Adj.\n"
   ]
  },
  {
   "cell_type": "code",
   "execution_count": null,
   "id": "b7d62418-1bae-4bf0-9318-2093e827866a",
   "metadata": {
    "tags": []
   },
   "outputs": [],
   "source": [
    "import numpy as np\n",
    "import xarray as xr\n",
    "import seaborn as sb\n",
    "import pandas as pd\n",
    "import geopandas as gpd\n",
    "import matplotlib as mpl\n",
    "from matplotlib.cm import ScalarMappable\n",
    "import contextily as ctx\n",
    "import matplotlib.pyplot as plt\n",
    "from odc.geo.xr import assign_crs\n",
    "from matplotlib.ticker import FormatStrFormatter\n",
    "\n",
    "import sys\n",
    "sys.path.append('/g/data/os22/chad_tmp/NEE_modelling/')\n",
    "from _collect_prediction_data import round_coords\n",
    "\n",
    "# Using ggplot styles in this notebook\n",
    "plt.style.use('ggplot')\n",
    "\n",
    "%matplotlib inline"
   ]
  },
  {
   "cell_type": "markdown",
   "id": "389f5071-6337-4c3c-be61-b071bb1789f2",
   "metadata": {},
   "source": [
    "## Analysis Parameters"
   ]
  },
  {
   "cell_type": "code",
   "execution_count": null,
   "id": "804d8c26-66d4-42dd-96a4-ded2559d2974",
   "metadata": {},
   "outputs": [],
   "source": [
    "model_var='LST'\n",
    "crs='epsg:4326'\n",
    "base = '/g/data/os22/chad_tmp/climate-carbon-interactions/data/'"
   ]
  },
  {
   "cell_type": "markdown",
   "id": "307e1775-f0bc-4f67-9574-24df2f6beef3",
   "metadata": {},
   "source": [
    "## Open datasets"
   ]
  },
  {
   "cell_type": "code",
   "execution_count": null,
   "id": "c6b7fcf4-a999-44c1-a05e-6537868b93ed",
   "metadata": {},
   "outputs": [],
   "source": [
    "syn = xr.open_dataset(f'{base}/synthetic/LST/LST_CLIM_synthetic_5km_monthly_1982_2022.nc')['LST']\n",
    "syn = assign_crs(syn, crs=crs)\n",
    "syn.attrs['nodata'] = np.nan\n",
    "syn = syn.rename('LST')\n",
    "syn = syn-273.15\n",
    "\n",
    "# merge = xr.open_dataset(f'{base}NDVI_harmonization/LGBM/NDVI_NOCLIM_LGBM_5km_monthly_1982_2022_wGaps.nc')['NDVI']\n",
    "merge = xr.open_dataset(f'{base}/LST_harmonization/LGBM/LST_NOCLIM_LGBM_5km_monthly_1982_2022_wGaps.nc')['LST']\n",
    "merge = assign_crs(merge, crs=crs)\n",
    "merge.attrs['nodata'] = np.nan\n",
    "merge = merge.rename('LST')\n",
    "\n",
    "rain = xr.open_dataset('/g/data/os22/chad_tmp/climate-carbon-interactions/data/5km/rain_5km_monthly_1981_2022.nc').rain\n",
    "rain = assign_crs(rain, crs=crs)\n",
    "rain.attrs['nodata'] = np.nan"
   ]
  },
  {
   "cell_type": "markdown",
   "id": "8babac35-df29-446c-b94f-8982e791b7b2",
   "metadata": {},
   "source": [
    "## Match datasets"
   ]
  },
  {
   "cell_type": "code",
   "execution_count": null,
   "id": "5e188f17-2e1e-4643-ae9d-15889d550571",
   "metadata": {},
   "outputs": [],
   "source": [
    "# merge = merge.odc.reproject(pku.odc.geobox, resampling='average')\n",
    "# rain = rain.odc.reproject(pku.odc.geobox, resampling='average')\n",
    "# syn = syn.odc.reproject(pku.odc.geobox, resampling='average')\n",
    "\n",
    "# merge = round_coords(merge)\n",
    "# rain = round_coords(rain)\n",
    "# syn = round_coords(syn)"
   ]
  },
  {
   "cell_type": "code",
   "execution_count": null,
   "id": "8bacbaf0-9d4f-4d17-9490-fcfeacce6669",
   "metadata": {},
   "outputs": [],
   "source": [
    "mask =  ~np.isnan(merge)\n",
    "del mask.attrs['nodata']\n",
    "mask = assign_crs(mask, crs=crs)"
   ]
  },
  {
   "cell_type": "code",
   "execution_count": null,
   "id": "22784335-59ed-4525-9966-453ad8f137e6",
   "metadata": {},
   "outputs": [],
   "source": [
    "merge = merge.where(mask)\n",
    "rain = rain.sel(time=merge.time).where(mask)\n",
    "syn = syn.where(mask)\n",
    "\n",
    "merge = merge.rename({'latitude':'y', 'longitude':'x'})\n",
    "rain = rain.rename({'latitude':'y', 'longitude':'x'})\n",
    "syn = syn.rename({'latitude':'y', 'longitude':'x'})"
   ]
  },
  {
   "cell_type": "code",
   "execution_count": null,
   "id": "2d9d25c7-546e-4692-aabc-3831baa9b774",
   "metadata": {},
   "outputs": [],
   "source": [
    "fraction_avail= (~np.isnan(merge)).sum('time')/len(merge.time)\n",
    "\n",
    "fig,ax=plt.subplots(1,1, figsize=(5,4),sharey=True, layout='constrained')\n",
    "\n",
    "im = fraction_avail.where(fraction_avail>0).rename('').plot(vmin=0.1, vmax=0.95, ax=ax, cmap='magma', add_labels=False, add_colorbar=False)\n",
    "ctx.add_basemap(ax, source=ctx.providers.CartoDB.Voyager, crs='EPSG:4326', attribution='', attribution_size=1)\n",
    "\n",
    "cb = fig.colorbar(im, ax=ax, shrink=0.75, orientation='vertical', label='Fraction Available');\n",
    "ax.set_title('Mean Fraction: '+str(round(fraction_avail.where(fraction_avail>0).mean().values.item(), 3)));"
   ]
  },
  {
   "cell_type": "markdown",
   "id": "db0117cb-3dd4-421c-8a45-bddaf464a43f",
   "metadata": {},
   "source": [
    "## Calculate standardised anomalies"
   ]
  },
  {
   "cell_type": "code",
   "execution_count": null,
   "id": "b18d1d7d-ca62-43b9-ac4f-51e1707b9e13",
   "metadata": {},
   "outputs": [],
   "source": [
    "import warnings\n",
    "warnings.simplefilter('ignore')\n",
    "\n",
    "#standardized anom\n",
    "def stand_anomalies(ds):\n",
    "    return xr.apply_ufunc(\n",
    "        lambda x, m, s: (x - m) / s,\n",
    "            ds.groupby(\"time.month\"),\n",
    "            ds.groupby(\"time.month\").mean(),\n",
    "            ds.groupby(\"time.month\").std()\n",
    "    )\n",
    "    \n",
    "rain_std_anom = stand_anomalies(rain)\n",
    "merge_std_anom = stand_anomalies(merge)\n",
    "syn_std_anom = stand_anomalies(syn)"
   ]
  },
  {
   "cell_type": "markdown",
   "id": "829cb264-40f8-4346-92b3-5fe7531dc75e",
   "metadata": {},
   "source": [
    "## Rolling mean anomalies"
   ]
  },
  {
   "cell_type": "code",
   "execution_count": null,
   "id": "3c838244-55f7-405d-935c-d03aad6371fb",
   "metadata": {},
   "outputs": [],
   "source": [
    "roll=12"
   ]
  },
  {
   "cell_type": "code",
   "execution_count": null,
   "id": "65b32797-f3f0-4600-90f0-177b979b3bbe",
   "metadata": {},
   "outputs": [],
   "source": [
    "rain_df = rain_std_anom.rename('rain').rolling(time=roll,\n",
    "                min_periods=roll).mean().mean(['x','y']).to_dataframe().drop(['spatial_ref', 'month'], axis=1)\n",
    "\n",
    "plt.style.use('default')\n",
    "fig, ax = plt.subplots(1,1, figsize=(14,4))\n",
    "ax2 = ax.twinx()\n",
    "\n",
    "syn_std_anom.drop('month').rolling(time=roll, min_periods=roll).mean().mean(['x','y']).plot(ax=ax, label='Synthetic')\n",
    "merge_std_anom.drop('month').rolling(time=roll, min_periods=roll).mean().mean(['x','y']).plot(ax=ax, label='AVHRR-Adj. (GBM)')\n",
    "\n",
    "norm=plt.Normalize(-2.5,2.5)\n",
    "cmap = mpl.colors.LinearSegmentedColormap.from_list(\"\", ['saddlebrown','chocolate','white','darkturquoise','darkcyan'], N=256)\n",
    "\n",
    "# Plot bars\n",
    "bar = ax2.bar(rain_df.index, 1, color=cmap(norm(rain_df['rain'])), width=32)\n",
    "sm = ScalarMappable(cmap=cmap, norm=norm)\n",
    "sm.set_array([])\n",
    "cbar = plt.colorbar(sm, shrink=0.8, pad=0.01)\n",
    "cbar.set_label('Rainfall Anomaly (z-score)',labelpad=.5)\n",
    "\n",
    "ax2.set_zorder(ax.get_zorder()-1)\n",
    "ax.set_frame_on(False)\n",
    "ax.axhline(0, c='grey', linestyle='--')\n",
    "\n",
    "# Reformat y-axis label and tick labels\n",
    "ax.set_ylabel(model_var+' Anomaly (z-score)')\n",
    "ax.set_xlabel('')\n",
    "ax2.set_ylabel('')\n",
    "ax2.set_yticks([])\n",
    "ax2.set_ylim([0, 1]) \n",
    "ax.margins(x=0)\n",
    "ax2.margins(x=0)\n",
    "\n",
    "# Adjust the margins around the plot area\n",
    "plt.subplots_adjust(left=0.1, right=None, top=None, bottom=0.2, wspace=None, hspace=None)\n",
    "\n",
    "ax.legend()\n",
    "ax.set_title('Australian standardised LST anomalies ('+str(roll)+'-month rolling mean)');\n",
    "fig.savefig(\"/g/data/os22/chad_tmp/climate-carbon-interactions/results/figs/Australian_LST_\"+str(roll)+\"Mrollingmean.png\",\n",
    "            bbox_inches='tight', dpi=300)"
   ]
  },
  {
   "cell_type": "markdown",
   "id": "63107725-f2de-4707-b3cc-b1f3dfd6e27a",
   "metadata": {},
   "source": [
    "### Compare rainfall anomalies with NDVI anomalies per pixel"
   ]
  },
  {
   "cell_type": "code",
   "execution_count": null,
   "id": "386efcc0-0812-46ff-8bcc-b1fd24710bce",
   "metadata": {},
   "outputs": [],
   "source": [
    "year='1988'\n",
    "\n",
    "fig,ax = plt.subplots(1,3, figsize=(14,4), sharex=True, layout='constrained')\n",
    "rain_std_anom.sel(time=year).mean('time').plot.imshow(vmin=-2.5, vmax=2.5, cmap='RdBu', ax=ax[0], add_labels=False)\n",
    "merge_std_anom.sel(time=year).mean('time').plot.imshow(vmin=-2.5, vmax=2.5, cmap='BrBG', ax=ax[1], add_labels=False)\n",
    "syn_std_anom.sel(time=year).mean('time').plot.imshow(vmin=-2.5, vmax=2.5, cmap='BrBG', ax=ax[2], add_labels=False)\n",
    "\n",
    "ax[0].set_title('Rainfall anomaly '+year+' '+str(rain_std_anom.sel(time=year).mean().values))\n",
    "ax[1].set_title('AVHRR Adj (GBM) NDVI anomaly '+year+' '+str(merge_std_anom.sel(time=year).mean().values))\n",
    "ax[2].set_title('Synthetic) NDVI anomaly '+year+' '+str(syn_std_anom.sel(time=year).mean().values))\n",
    "\n",
    "ax[0].set_yticklabels([])\n",
    "ax[0].set_ylabel('')\n",
    "ax[0].set_xlabel('')\n",
    "ax[0].set_xticklabels([]);\n",
    "\n",
    "ax[1].set_yticklabels([])\n",
    "ax[1].set_ylabel('')\n",
    "ax[1].set_xlabel('')\n",
    "ax[1].set_xticklabels([]);\n",
    "\n",
    "ax[2].set_yticklabels([])\n",
    "ax[2].set_ylabel('')\n",
    "ax[2].set_xlabel('')\n",
    "ax[2].set_xticklabels([]);"
   ]
  },
  {
   "cell_type": "code",
   "execution_count": null,
   "id": "99217000-faa8-40c3-8a12-09a0377e956e",
   "metadata": {},
   "outputs": [],
   "source": [
    "rain_std_anom.sel(time=year).plot.imshow(vmin=-2.5, vmax=2.5, cmap='RdBu', col='time', col_wrap=6);"
   ]
  },
  {
   "cell_type": "code",
   "execution_count": null,
   "id": "e1625e07-0708-4694-bb9c-d8b5ae3358e3",
   "metadata": {},
   "outputs": [],
   "source": [
    "merge_std_anom.sel(time=year).plot.imshow(vmin=-2.5, vmax=2.5, cmap='BrBG', col='time', col_wrap=6);"
   ]
  },
  {
   "cell_type": "code",
   "execution_count": null,
   "id": "dfa6c943-76c0-4ecb-9326-354b22cae34d",
   "metadata": {},
   "outputs": [],
   "source": [
    "syn_std_anom.sel(time=year).plot.imshow(vmin=-2.5, vmax=2.5, cmap='BrBG', col='time', col_wrap=6);"
   ]
  },
  {
   "cell_type": "code",
   "execution_count": null,
   "id": "fa39b38a-0b8f-4cd1-ab51-46d241bce4a7",
   "metadata": {},
   "outputs": [],
   "source": [
    "(merge.sel(time=year)-syn.sel(time=year)).plot.imshow(robust=True, cmap='BrBG', col='time', col_wrap=6);"
   ]
  },
  {
   "cell_type": "code",
   "execution_count": null,
   "id": "2a925440-054f-4cd3-9ed2-ec5b2953899a",
   "metadata": {},
   "outputs": [],
   "source": []
  },
  {
   "cell_type": "code",
   "execution_count": null,
   "id": "80c6e232-b6be-4e03-b827-5571f9e326c2",
   "metadata": {},
   "outputs": [],
   "source": []
  }
 ],
 "metadata": {
  "kernelspec": {
   "display_name": "Python 3 (ipykernel)",
   "language": "python",
   "name": "python3"
  },
  "language_info": {
   "codemirror_mode": {
    "name": "ipython",
    "version": 3
   },
   "file_extension": ".py",
   "mimetype": "text/x-python",
   "name": "python",
   "nbconvert_exporter": "python",
   "pygments_lexer": "ipython3",
   "version": "3.9.2"
  }
 },
 "nbformat": 4,
 "nbformat_minor": 5
}
