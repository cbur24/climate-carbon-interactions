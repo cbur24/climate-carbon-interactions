{
 "cells": [
  {
   "cell_type": "code",
   "execution_count": null,
   "id": "e981afa9-f54a-4b7a-be78-c87b1e679af9",
   "metadata": {},
   "outputs": [],
   "source": [
    "import numpy as np\n",
    "import xarray as xr\n",
    "import seaborn as sb\n",
    "import pandas as pd\n",
    "import geopandas as gpd\n",
    "from scipy import stats\n",
    "import xskillscore as xs\n",
    "import matplotlib.pyplot as plt\n",
    "from odc.geo.xr import assign_crs\n",
    "from scipy.stats import gaussian_kde\n",
    "from sklearn.metrics import mean_absolute_error\n",
    "\n",
    "import sys\n",
    "sys.path.append('/g/data/os22/chad_tmp/NEE_modelling/')\n",
    "from _collect_prediction_data import round_coords\n",
    "\n",
    "sys.path.append('/g/data/os22/chad_tmp/dea-notebooks/Tools/')\n",
    "from dea_tools.spatial import xr_rasterize"
   ]
  },
  {
   "cell_type": "markdown",
   "id": "590f482a-57cc-4591-89ca-e5aadcb2e402",
   "metadata": {},
   "source": [
    "## Plotting harmonized NDVI time-series some regions"
   ]
  },
  {
   "cell_type": "code",
   "execution_count": null,
   "id": "804d8c26-66d4-42dd-96a4-ded2559d2974",
   "metadata": {},
   "outputs": [],
   "source": [
    "var='ndvi'\n",
    "crs='epsg:3577'\n",
    "\n",
    "merge = assign_crs(xr.open_dataset('/g/data/os22/chad_tmp/climate-carbon-interactions/data/'+var.upper()+'_harmonization/regions/trees_Harmonized_'+var.upper()+'_AVHRR_MODIS_1982_2013.nc'),\n",
    "                   crs=crs)\n",
    "\n",
    "merge_lgbm = xr.open_dataset('/g/data/os22/chad_tmp/climate-carbon-interactions/data/NDVI_harmonization/NDVI_trees_LGBM_harmonize_test_5km_monthly_1982_2013.nc')['NDVI']\n",
    "\n",
    "merge_old = assign_crs(xr.open_dataset('/g/data/os22/chad_tmp/climate-carbon-interactions/data/'+var.upper()+'_harmonization/Harmonized_'+var.upper()+'_AVHRR_MODIS_1982_2013.nc'),\n",
    "                   crs=crs)\n",
    "\n",
    "# merge = merge.isel(x=range(625,715), y=range(650,755))"
   ]
  },
  {
   "cell_type": "code",
   "execution_count": null,
   "id": "1993321f-521f-47e4-9992-7fa8a7d6aa07",
   "metadata": {},
   "outputs": [],
   "source": [
    "trees = xr.open_dataset('/g/data/os22/chad_tmp/climate-carbon-interactions/data/5km/trees_5km_monthly_1982_2022.nc')['trees']\n",
    "trees = assign_crs(trees, crs ='epsg:4326')\n",
    "trees=trees.sel(time=slice('2001', '2019'))\n",
    "trees=trees.odc.reproject(how=merge.odc.geobox)\n",
    "trees = trees.mean('time')\n",
    "mask = xr.where(trees>0.5, 1, 0)"
   ]
  },
  {
   "cell_type": "code",
   "execution_count": null,
   "id": "6580858b-533b-430e-ada4-6937821a42b8",
   "metadata": {},
   "outputs": [],
   "source": [
    "merge_old = merge_old.where(mask)\n",
    "# merge_lgbm = merge_lgbm.where(mask)"
   ]
  },
  {
   "cell_type": "code",
   "execution_count": null,
   "id": "0a1ea2c8-e846-43be-b253-babefe262414",
   "metadata": {},
   "outputs": [],
   "source": [
    "avhrr_mask = ~np.isnan(merge_old['ndvi_cdr'])"
   ]
  },
  {
   "cell_type": "code",
   "execution_count": null,
   "id": "91d3ced2-8390-4841-9585-5719f18b5e25",
   "metadata": {},
   "outputs": [],
   "source": [
    "# mask = mask.odc.reproject(ndvi.odc.geobox, resampling= 'nearest')\n",
    "mask = round_coords(mask)"
   ]
  },
  {
   "cell_type": "code",
   "execution_count": null,
   "id": "d5243d22-09ad-4585-9d77-e0e735e3d71a",
   "metadata": {},
   "outputs": [],
   "source": [
    "ndvi = xr.open_dataset('/g/data/os22/chad_tmp/climate-carbon-interactions/data/5km/NDVI_5km_monthly_1982_2022.nc')"
   ]
  },
  {
   "cell_type": "code",
   "execution_count": null,
   "id": "109aefac-0a54-40b0-84a5-218010ab1313",
   "metadata": {},
   "outputs": [],
   "source": [
    "ndvi.NDVI.where(mask).sel(longitude=slice(140,150), latitude=slice(-10,-20)).isel(time=1).plot() #.sel(longitude=slice(144,149), latitude=slice(-40,-45))"
   ]
  },
  {
   "cell_type": "code",
   "execution_count": null,
   "id": "cec11647-e571-45a0-9fd2-bd82b3eb800c",
   "metadata": {},
   "outputs": [],
   "source": [
    "merge_lgbm.isel(x=slice(600,800), y=slice(0,230)).mean(['x','y']).rolling(time=3).mean().plot(figsize=(11,4))"
   ]
  },
  {
   "cell_type": "code",
   "execution_count": null,
   "id": "3351726c-4dd4-4afc-bf67-2798ce50b28a",
   "metadata": {},
   "outputs": [],
   "source": [
    "# merge_lgbm.sel(longitude=slice(140,150), latitude=slice(-10,-20)).mean(['x','y']).rolling(time=3).mean().plot(figsize=(11,4))\n",
    "# plt.title(\"Tropical Forests QLD ('trees') Calibrated AVHRR & MODIS NDVI\")"
   ]
  },
  {
   "cell_type": "code",
   "execution_count": null,
   "id": "36b0d96f-fa81-45e4-84a9-525927de187a",
   "metadata": {
    "scrolled": true
   },
   "outputs": [],
   "source": [
    "ndvi.NDVI.where(mask).sel(longitude=slice(140,150), latitude=slice(-10,-20)).mean(['latitude','longitude']).rolling(time=3).mean().plot(figsize=(11,4))\n",
    "plt.title(\"Tropical Forests QLD ('trees') Calibrated AVHRR & MODIS NDVI\")"
   ]
  },
  {
   "cell_type": "code",
   "execution_count": null,
   "id": "842ec088-8643-4d8e-9dde-10c1ef0588bb",
   "metadata": {},
   "outputs": [],
   "source": []
  },
  {
   "cell_type": "markdown",
   "id": "ff8c1920-c98e-4d6b-a138-12341673eae7",
   "metadata": {},
   "source": [
    "## Comparing the different models"
   ]
  },
  {
   "cell_type": "code",
   "execution_count": null,
   "id": "7d2ebb35-f4f4-42c3-99ef-13068b84b870",
   "metadata": {},
   "outputs": [],
   "source": [
    "var='ndvi'\n",
    "crs='epsg:3577'\n",
    "name='nontrees'\n",
    "\n",
    "merge = assign_crs(xr.open_dataset('/g/data/os22/chad_tmp/climate-carbon-interactions/data/'+var.upper()+'_harmonization/regions/non_trees_Harmonized_'+var.upper()+'_AVHRR_MODIS_1982_2013.nc'),\n",
    "                   crs=crs)\n",
    "\n",
    "merge_lgbm = xr.open_dataset('/g/data/os22/chad_tmp/climate-carbon-interactions/data/NDVI_harmonization/NDVI_'+name+'_LGBM_harmonize_test_5km_monthly_2001_2013.nc')['NDVI']\n",
    "\n",
    "merge_old = assign_crs(xr.open_dataset('/g/data/os22/chad_tmp/climate-carbon-interactions/data/'+var.upper()+'_harmonization/Harmonized_'+var.upper()+'_AVHRR_MODIS_1982_2013.nc'),\n",
    "                   crs=crs)\n",
    "\n",
    "# merge = merge.isel(x=range(625,715), y=range(650,755))"
   ]
  },
  {
   "cell_type": "code",
   "execution_count": null,
   "id": "ccab13ab-2b2f-4120-aae0-e195609f7595",
   "metadata": {},
   "outputs": [],
   "source": [
    "trees = xr.open_dataset('/g/data/os22/chad_tmp/climate-carbon-interactions/data/5km/trees_5km_monthly_1982_2022.nc')['trees']\n",
    "trees = assign_crs(trees, crs ='epsg:4326')\n",
    "trees=trees.sel(time=slice('2001', '2018'))\n",
    "trees=trees.odc.reproject(how=merge_lgbm.odc.geobox)\n",
    "trees = trees.mean('time')\n",
    "\n",
    "if name=='trees':\n",
    "    mask = xr.where(trees>0.5, 1, 0)\n",
    "if name=='nontrees':\n",
    "    mask = xr.where(trees<=0.5, 1, 0)"
   ]
  },
  {
   "cell_type": "code",
   "execution_count": null,
   "id": "a19853d8-e8e6-43fc-860f-f91a7634834c",
   "metadata": {},
   "outputs": [],
   "source": [
    "sami = assign_crs(xr.open_dataset('/g/data/os22/chad_tmp/climate-carbon-interactions/data/NDVI_harmonization/MCD43_AVHRR_NDVI_hybrid_EasternOzWoody.nc'),\n",
    "                                 crs='epsg:4326')[['ndvi_mcd_pred', 'ndvi_mcd', 'ndvi_cdr']]\n",
    "sami = sami.sel(time=slice('2001', '2013'))\n",
    "sami = sami.odc.reproject(how=merge.odc.geobox)\n",
    "sami = sami.astype('float32')\n",
    "sami = sami.where(mask)\n",
    "sami['time'] = merge.sel(time=slice('2001','2013')).time\n",
    "\n",
    "sami_mask = ~np.isnan(sami['ndvi_cdr'])\n",
    "\n",
    "sami = sami.where(sami_mask)"
   ]
  },
  {
   "cell_type": "code",
   "execution_count": null,
   "id": "504210dc-da79-4d7a-9b9f-7d32cbade537",
   "metadata": {},
   "outputs": [],
   "source": [
    "avhrr_mask = ~np.isnan(merge['ndvi_cdr'].sel(time=slice('2001', '2013')))\n",
    "\n",
    "merge = merge.where(avhrr_mask).sel(time=slice('2001', '2013'))\n",
    "\n",
    "merge_old = merge_old.where(avhrr_mask).sel(time=slice('2001', '2013'))\n",
    "\n",
    "merge_lgbm = merge_lgbm.where(avhrr_mask).sel(time=slice('2001', '2013'))\n",
    "\n",
    "# sami = sami.mask(avhrr_mask)"
   ]
  },
  {
   "cell_type": "markdown",
   "id": "94ec78b8-ff99-429e-ac74-a9ff38becdee",
   "metadata": {},
   "source": [
    "## Convert to dataframes for nice plotting"
   ]
  },
  {
   "cell_type": "code",
   "execution_count": null,
   "id": "7374a77c-042c-4468-b285-9eec505a42b6",
   "metadata": {},
   "outputs": [],
   "source": [
    "modis_flat = sami[var+'_mcd'].values.flatten()\n",
    "avhrr_flat = sami[var+'_cdr'].values.flatten()\n",
    "avhrr_adjust = sami[var+'_mcd_pred'].values.flatten()\n",
    "\n",
    "df = pd.DataFrame({'MODIS':modis_flat, 'AVHRR-original':avhrr_flat, 'AVHRR-adjusted':avhrr_adjust})\n",
    "df = df.dropna()\n",
    "df_sample = df.sample(n=20000, random_state=1) #too many pixels to plot so grab sample"
   ]
  },
  {
   "cell_type": "code",
   "execution_count": null,
   "id": "9a194e01-c010-48b0-845b-75475ca68caa",
   "metadata": {},
   "outputs": [],
   "source": [
    "modis_flat = merge[var+'_mcd'].values.flatten()\n",
    "avhrr_flat = merge[var+'_cdr'].values.flatten()\n",
    "avhrr_adjust = merge_lgbm.values.flatten()\n",
    "\n",
    "df = pd.DataFrame({'MODIS':modis_flat, 'AVHRR-original':avhrr_flat, 'AVHRR-adjusted':avhrr_adjust})\n",
    "df = df.dropna()\n",
    "df_sample = df.sample(n=20000, random_state=1) #too many pixels to plot so grab sample"
   ]
  },
  {
   "cell_type": "code",
   "execution_count": null,
   "id": "8ef49dca-c3af-4136-85bb-04f00b0b12dc",
   "metadata": {},
   "outputs": [],
   "source": [
    "modis_flat = merge_old[var+'_mcd'].values.flatten()\n",
    "avhrr_flat = merge_old[var+'_cdr'].values.flatten()\n",
    "avhrr_adjust = merge_old[var+'_mcd_pred'].values.flatten()\n",
    "\n",
    "df = pd.DataFrame({'MODIS':modis_flat, 'AVHRR-original':avhrr_flat, 'AVHRR-adjusted':avhrr_adjust})\n",
    "df = df.dropna()\n",
    "df_sample = df.sample(n=20000, random_state=1) #too many pixels to plot so grab sample"
   ]
  },
  {
   "cell_type": "code",
   "execution_count": null,
   "id": "ccd03bbd-193a-43d8-bc83-f46ad4990c39",
   "metadata": {},
   "outputs": [],
   "source": [
    "modis_flat = merge[var+'_mcd'].values.flatten()\n",
    "avhrr_flat = merge[var+'_cdr'].values.flatten()\n",
    "avhrr_adjust = merge[var+'_mcd_pred'].values.flatten()\n",
    "\n",
    "df = pd.DataFrame({'MODIS':modis_flat, 'AVHRR-original':avhrr_flat, 'AVHRR-adjusted':avhrr_adjust})\n",
    "df = df.dropna()\n",
    "df_sample = df.sample(n=20000, random_state=1) #too many pixels to plot so grab sample"
   ]
  },
  {
   "cell_type": "code",
   "execution_count": null,
   "id": "b4ffbcf3-a5f2-4542-b44f-01d18dd124d8",
   "metadata": {},
   "outputs": [],
   "source": [
    "# df = merge.ndvi_mcd.mean(['x', 'y']).rename('MODIS').drop('spatial_ref').to_dataframe()\n",
    "# df['AVHRR-original'] = merge.ndvi_cdr.mean(['x', 'y']).drop('spatial_ref').to_dataframe()\n",
    "# df['AVHRR-adjusted'] = merge.ndvi_mcd_pred.mean(['x', 'y']).drop('spatial_ref').to_dataframe()\n",
    "# df = df.dropna()\n",
    "# df.head()"
   ]
  },
  {
   "cell_type": "markdown",
   "id": "34d716b5-695c-4203-9918-43281019e2a2",
   "metadata": {},
   "source": [
    "## Scatter plots of before and after harmonization"
   ]
  },
  {
   "cell_type": "code",
   "execution_count": null,
   "id": "40ba3f7c-01ec-4cc6-8766-0ab83b225e59",
   "metadata": {},
   "outputs": [],
   "source": [
    "products=['AVHRR-original', 'AVHRR-adjusted']\n",
    "\n",
    "fig,ax = plt.subplots(1,2, figsize=(10,5), sharey=True)\n",
    "font=15\n",
    "\n",
    "for prod, ax in zip(products, ax.ravel()):\n",
    "    obs,pred = df_sample['MODIS'].values, df_sample[prod].values\n",
    "    slope, intercept, r_value, p_value, std_err = stats.linregress(obs,pred)\n",
    "    r2 = r_value**2\n",
    "    ac = mean_absolute_error(obs, pred)\n",
    "    \n",
    "    xy = np.vstack([obs,pred])\n",
    "    z = gaussian_kde(xy)(xy)\n",
    "    \n",
    "    sb.scatterplot(data=df_sample, x='MODIS',y=prod, c=z, s=20, lw=1, alpha=0.5, ax=ax)\n",
    "    sb.regplot(data=df_sample, x='MODIS',y=prod, scatter=False, color='blue', ax=ax)\n",
    "    sb.regplot(data=df_sample, x='MODIS',y='MODIS', color='black', scatter=False, line_kws={'linestyle':'dashed'}, ax=ax)\n",
    "    ax.set_title(prod, fontsize=font)\n",
    "    ax.set_xlabel('MODIS '+var.upper(), fontsize=font)\n",
    "    ax.set_ylabel('')\n",
    "    ax.set_ylim(0.0,0.8)\n",
    "    ax.set_xlim(0.0,0.8)\n",
    "    ax.text(.05, .90, 'r\\N{SUPERSCRIPT TWO}={:.2f}'.format(np.mean(r2)),\n",
    "            transform=ax.transAxes, fontsize=font)\n",
    "    ax.text(.05, .825, 'MAE={:.2g}'.format(np.mean(ac)),\n",
    "            transform=ax.transAxes, fontsize=font)\n",
    "    ax.tick_params(axis='x', labelsize=font)\n",
    "    ax.tick_params(axis='y', labelsize=font)\n",
    "\n",
    "fig.supylabel('AVHRR '+var.upper(), fontsize=font)\n",
    "plt.tight_layout();"
   ]
  },
  {
   "cell_type": "markdown",
   "id": "310424df-cc14-4c51-af44-a6d843e72fd9",
   "metadata": {},
   "source": [
    "## Comparisons"
   ]
  },
  {
   "cell_type": "code",
   "execution_count": null,
   "id": "cc89158b-1cd1-40f3-b6f3-3a793848cfc8",
   "metadata": {},
   "outputs": [],
   "source": [
    "# fig, ax = plt.subplots(1,1, figsize=(11,4))\n",
    "# merge_old[var+'_mcd'].mean(['x','y']).plot(ax=ax, label='MODIS-mine', c='black')\n",
    "# sami[var+'_mcd'].mean(['x','y']).plot(ax=ax, label='MODIS-sami', c='red')"
   ]
  },
  {
   "cell_type": "code",
   "execution_count": null,
   "id": "e1021029-95eb-42ec-abcd-e0581fcc1f1e",
   "metadata": {},
   "outputs": [],
   "source": [
    "# Dictionary to save results \n",
    "gdf = gpd.read_file('/g/data/os22/chad_tmp/NEE_modelling/data/bioclimatic_regions.geojson')\n",
    "\n",
    "for index, row in gdf.iterrows():\n",
    "    \n",
    "    if (name=='trees') & (row['region_name']=='Desert'):\n",
    "        pass\n",
    "\n",
    "    else:\n",
    "        print(row['region_name'])\n",
    "        \n",
    "        # Generate a polygon mask to keep only data within the polygon\n",
    "        mask_region = xr_rasterize(gdf.iloc[[index]], merge)\n",
    "        mask_lgbm = xr_rasterize(gdf.iloc[[index]], merge_lgbm)\n",
    "        mask_old = xr_rasterize(gdf.iloc[[index]], merge_old)\n",
    "        # mask_sami = xr_rasterize(gdf.iloc[[index]], sami)\n",
    "        #mask = round_coords(mask)\n",
    "        \n",
    "        # Mask dataset to set pixels outside the polygon to `NaN`\n",
    "        merge_region = merge.where(mask_region)\n",
    "        merge_lgbm_region = merge_lgbm.where(mask_lgbm)\n",
    "        merge_old_region = merge_old.where(mask_old)\n",
    "        #sami_region = merge_old.where(mask_sami)\n",
    "        \n",
    "        fig, ax = plt.subplots(1,1, figsize=(11,4))\n",
    "        merge_region[var+'_cdr'].mean(['x','y']).rolling(time=3).mean().plot(ax=ax, label='AVHRR original')\n",
    "        # sami_region[var+'_cdr'].sel(time=slice('2001', '2013')).mean(['x','y']).plot(ax=ax, label='AVHRR original')\n",
    "        \n",
    "        merge_region[var+'_mcd_pred'].mean(['x','y']).rolling(time=3).mean().plot(ax=ax, label='AVHRR adjusted - nontrees GAM')\n",
    "        \n",
    "        merge_lgbm_region.mean(['x','y']).rolling(time=3).mean().plot(ax=ax, label='AVHRR adjusted - nontrees LGBM')\n",
    "        \n",
    "        merge_old_region[var+'_mcd_pred'].mean(['x','y']).rolling(time=3).mean().plot(ax=ax, label='AVHRR adjusted - Aus GAM')\n",
    "        \n",
    "        # sami_region[var+'_mcd_pred'].mean(['x','y']).plot(ax=ax, label='AVHRR adjusted - Sami GAM')\n",
    "        \n",
    "        merge_old_region[var+'_mcd'].mean(['x','y']).rolling(time=3).mean().plot(ax=ax, label='MODIS', c='black')\n",
    "        # sami_region[var+'_mcd'].mean(['x','y']).plot(ax=ax, label='MODIS', c='black')\n",
    "        \n",
    "        # sami_region[var+'_cdr'].sel(time=slice('2001', '2013')).mean(['x','y']).plot(ax=ax, label='AVHRR original')\n",
    "        ax.legend()\n",
    "        ax.set_title(row['region_name']);"
   ]
  },
  {
   "cell_type": "code",
   "execution_count": null,
   "id": "532cacc1-2197-4cfd-b9ba-cf06ca0cea92",
   "metadata": {},
   "outputs": [],
   "source": [
    "fig, ax = plt.subplots(1,1, figsize=(13,5))\n",
    "merge[var+'_cdr'].mean(['x','y']).rolling(time=3).mean().plot(ax=ax, label='AVHRR original')\n",
    "merge[var+'_mcd_pred'].mean(['x','y']).rolling(time=3).mean().plot(ax=ax, label='AVHRR adjusted - nontrees GAM')\n",
    "merge_lgbm.mean(['x','y']).rolling(time=3).mean().plot(ax=ax, label='AVHRR adjusted - nontrees LGBM')\n",
    "merge_old[var+'_mcd_pred'].rolling(time=3).mean().mean(['x','y']).plot(ax=ax, label='AVHRR adjusted - Aus model')\n",
    "\n",
    "merge[var+'_mcd'].mean(['x','y']).rolling(time=3).mean().plot(ax=ax, label='MODIS', c='black')\n",
    "# ax.set_ylim(0.15, 0.40)\n",
    "ax.legend()\n",
    "ax.set_title('Australia (nontrees only)');"
   ]
  },
  {
   "cell_type": "code",
   "execution_count": null,
   "id": "4fb99ae4-c992-4a98-a6ce-d19a29a2b8a2",
   "metadata": {},
   "outputs": [],
   "source": [
    "adjusted_corr = xr.corr(merge_old[var+'_mcd'],\n",
    "                        merge_old[var+'_mcd_pred'], \n",
    "                        dim='time'\n",
    "                       )\n",
    "\n",
    "orig_corr = xr.corr(merge_old[var+'_mcd'],\n",
    "                        merge_old[var+'_cdr'], \n",
    "                        dim='time'\n",
    "                       )\n",
    "\n",
    "adjusted_mape = xs.mape(merge_old[var+'_mcd'],\n",
    "                        merge_old[var+'_mcd_pred'], \n",
    "                        dim='time', skipna=True) *100\n",
    "\n",
    "orig_mape = xs.mape(merge_old[var+'_mcd'],\n",
    "                    merge_old[var+'_cdr'], \n",
    "                        dim='time', skipna=True) *100\n",
    "\n",
    "adjusted_rmse = xs.rmse(merge_old[var+'_mcd'],\n",
    "                        merge_old[var+'_mcd_pred'], \n",
    "                        dim='time', skipna=True)\n",
    "\n",
    "orig_rmse = xs.rmse(merge_old[var+'_mcd'],\n",
    "                    merge_old[var+'_cdr'], \n",
    "                        dim='time', skipna=True)"
   ]
  },
  {
   "cell_type": "code",
   "execution_count": null,
   "id": "f9d7a365-583c-4c0b-86c6-95c01483af6b",
   "metadata": {},
   "outputs": [],
   "source": [
    "corr_data = [orig_corr, adjusted_corr, adjusted_corr-orig_corr]\n",
    "products=['AVHRR-original', 'AVHRR-adjusted', 'Difference']\n",
    "\n",
    "fig,axes = plt.subplots(1,3, figsize=(20,5), sharey=True)\n",
    "\n",
    "for ax, ds, n in zip(axes.ravel(), corr_data, products):\n",
    "    if n=='Difference':\n",
    "        cmap='RdBu'\n",
    "        vmin=-0.5\n",
    "        vmax=0.5\n",
    "    else:\n",
    "        cmap='magma'\n",
    "        vmin=0\n",
    "        vmax=1\n",
    "    im = ds.plot.imshow(vmin=vmin, vmax=vmax, cmap=cmap, ax=ax, add_colorbar=True)\n",
    "    ax.set_title(f'{n} R '\"{:.2f}\".format(ds.mean().values))\n",
    "    #ax.set_title(n,  fontsize=15);\n",
    "    ax.set_yticklabels([])\n",
    "    ax.set_ylabel('')\n",
    "    ax.set_xlabel('')\n",
    "    ax.set_xticklabels([])\n",
    "\n",
    "# fig.subplots_adjust(wspace=0.05)\n",
    "# fig.colorbar(im, ax=axes.ravel().tolist(), pad=0.01, label='Correlation');\n",
    "# plt.suptitle('Correlation', fontsize=15)\n",
    "plt.tight_layout();"
   ]
  },
  {
   "cell_type": "code",
   "execution_count": null,
   "id": "8090237e-470f-45e5-b605-88a286722b51",
   "metadata": {},
   "outputs": [],
   "source": []
  },
  {
   "cell_type": "markdown",
   "id": "7e68deea-e2dd-42f6-9cab-4d0c63ae92f8",
   "metadata": {},
   "source": [
    "## Adding features to GAM inpust"
   ]
  },
  {
   "cell_type": "code",
   "execution_count": null,
   "id": "1797f377-8a81-444d-897c-5230bd86221a",
   "metadata": {},
   "outputs": [],
   "source": [
    "# mod=assign_crs(xr.open_dataset('/g/data/os22/chad_tmp/climate-carbon-interactions/data/NDVI_harmonization/MODIS_NDVI_5km_monthly_2001_2022.nc')['NDVI_median'], crs='epsg:3577')\n",
    "# av=assign_crs(xr.open_dataset('/g/data/os22/chad_tmp/climate-carbon-interactions/data/NDVI_harmonization/AVHRR_5km_monthly_1982_2013_climate.nc'), crs='epsg:3577')"
   ]
  },
  {
   "cell_type": "code",
   "execution_count": null,
   "id": "8e382ba7-2b20-41ec-b997-023573ed6790",
   "metadata": {},
   "outputs": [],
   "source": [
    "# rain_cml3 = xr.open_dataset('/g/data/os22/chad_tmp/climate-carbon-interactions/data/5km/rain_cml3_5km_monthly_1982_2022.nc')['rain_cml3']\n",
    "# rain_cml3 = assign_crs(rain_cml3, crs ='epsg:4326')\n",
    "# rain_cml3=rain_cml3.sel(time=slice('1982', '2013'))\n",
    "# rain_cml3=rain_cml3.odc.reproject(how=av.odc.geobox)\n",
    "# av['rain_cml3'] = rain_cml3\n",
    "\n",
    "# rain_cml6 = xr.open_dataset('/g/data/os22/chad_tmp/climate-carbon-interactions/data/5km/rain_cml6_5km_monthly_1982_2022.nc')['rain_cml6']\n",
    "# rain_cml6 = assign_crs(rain_cml6, crs ='epsg:4326')\n",
    "# rain_cml6=rain_cml6.sel(time=slice('1982', '2013'))\n",
    "# rain_cml6=rain_cml6.odc.reproject(how=av.odc.geobox)\n",
    "# av['rain_cml6'] = rain_cml6\n",
    "\n",
    "# rain_cml3_anom = xr.open_dataset('/g/data/os22/chad_tmp/climate-carbon-interactions/data/5km/rain_cml3_anom_5km_monthly_1982_2022.nc')['rain_cml3_anom']\n",
    "# rain_cml3_anom = assign_crs(rain_cml3_anom, crs ='epsg:4326')\n",
    "# rain_cml3_anom=rain_cml3_anom.sel(time=slice('1982', '2013'))\n",
    "# rain_cml3_anom=rain_cml3_anom.odc.reproject(how=av.odc.geobox)\n",
    "# av['rain_cml3_anom'] = rain_cml3_anom\n",
    "\n",
    "# vpd = xr.open_dataset('/g/data/os22/chad_tmp/climate-carbon-interactions/data/5km/vpd_5km_monthly_1982_2022.nc')['vpd']\n",
    "# vpd = assign_crs(vpd, crs ='epsg:4326')\n",
    "# vpd=vpd.sel(time=slice('1982', '2013'))\n",
    "# vpd=vpd.odc.reproject(how=av.odc.geobox)\n",
    "# av['vpd'] = vpd\n",
    "\n",
    "# srad = xr.open_dataset('/g/data/os22/chad_tmp/climate-carbon-interactions/data/5km/srad_5km_monthly_1982_2022.nc')['srad']\n",
    "# srad = assign_crs(srad, crs ='epsg:4326')\n",
    "# srad=srad.sel(time=slice('1982', '2013'))\n",
    "# srad=srad.odc.reproject(how=av.odc.geobox)\n",
    "# av['srad'] = srad\n",
    "\n",
    "# CO2 = xr.open_dataset('/g/data/os22/chad_tmp/climate-carbon-interactions/data/5km/CO2_5km_monthly_1982_2022.nc')['CO2']\n",
    "# CO2 = assign_crs(CO2, crs ='epsg:4326')\n",
    "# CO2=CO2.sel(time=slice('1982', '2013'))\n",
    "# CO2=CO2.odc.reproject(how=av.odc.geobox)\n",
    "# av['CO2'] = CO2.transpose('time','x', 'y')\n",
    "\n",
    "# for i in av.data_vars:\n",
    "#     try:\n",
    "#         del av[i].attrs['grid_mapping']\n",
    "#     except:\n",
    "#         continue\n",
    "\n",
    "# av.to_netcdf('/g/data/os22/chad_tmp/climate-carbon-interactions/data/NDVI_harmonization/AVHRR_5km_monthly_1982_2013_climate.nc')"
   ]
  },
  {
   "cell_type": "code",
   "execution_count": null,
   "id": "c3aa4900-84f4-43c4-9cb6-77b6696a4897",
   "metadata": {},
   "outputs": [],
   "source": [
    "# trees = xr.open_dataset('/g/data/os22/chad_tmp/climate-carbon-interactions/data/5km/trees_5km_monthly_1982_2022.nc')['trees']\n",
    "# trees = assign_crs(trees, crs ='epsg:4326')\n",
    "# trees=trees.sel(time=slice('2001', '2019'))\n",
    "# trees=trees.odc.reproject(how=mod.odc.geobox)\n",
    "# trees = trees.mean('time')\n",
    "# trees = xr.where(trees>0.5, 1, 0)\n",
    "# not_trees = xr.where(trees<=0.5, 1, 0)\n",
    "\n",
    "# vars = [trees,not_trees]\n",
    "\n",
    "# for mask, n in zip(vars, ['trees', 'non_trees']):\n",
    "#     mod_region = mod.where(mask)\n",
    "#     av_region = av.where(mask)\n",
    "#     mod_region.to_netcdf('/g/data/os22/chad_tmp/climate-carbon-interactions/data/NDVI_harmonization/regions/'+n+'_MODIS_NDVI_5km_monthly_2001_2022.nc')\n",
    "#     av_region.to_netcdf('/g/data/os22/chad_tmp/climate-carbon-interactions/data/NDVI_harmonization/regions/'+n+'_AVHRR_5km_monthly_1982_2013_climate.nc')"
   ]
  },
  {
   "cell_type": "code",
   "execution_count": null,
   "id": "d17e8916-b579-4c20-8d50-8368df121100",
   "metadata": {},
   "outputs": [],
   "source": [
    "# gdf = gpd.read_file('/g/data/os22/chad_tmp/NEE_modelling/data/bioclimatic_regions.geojson')\n",
    "\n",
    "# for index, row in gdf.iterrows():\n",
    "#     print(row['region_name'])\n",
    "#     mask = xr_rasterize(gdf.iloc[[index]], mod.isel(time=1))\n",
    "#     mod_region = mod.where(mask)\n",
    "#     av_region = av.where(mask)\n",
    "        \n",
    "#     mod_region.to_netcdf('/g/data/os22/chad_tmp/climate-carbon-interactions/data/NDVI_harmonization/regions/'+row['region_name']+'_MODIS_NDVI_5km_monthly_2001_2022.nc')\n",
    "#     av_region.to_netcdf('/g/data/os22/chad_tmp/climate-carbon-interactions/data/NDVI_harmonization/regions/'+row['region_name']+'_AVHRR_5km_monthly_1982_2013_extras.nc')\n"
   ]
  },
  {
   "cell_type": "code",
   "execution_count": null,
   "id": "ad322f67-c1d5-41f0-ae0a-db8ccafc3f67",
   "metadata": {},
   "outputs": [],
   "source": [
    "# mod = mod.isel(x=range(625,715), y=range(650,755))\n",
    "# av = av\n",
    "\n",
    "# mod.to_netcdf('/g/data/os22/chad_tmp/climate-carbon-interactions/data/NDVI_harmonization/TAS_MODIS_NDVI_5km_monthly_2001_2022.nc')\n",
    "# av.to_netcdf('/g/data/os22/chad_tmp/climate-carbon-interactions/data/NDVI_harmonization/TAS_AVHRR_5km_monthly_1982_2013.nc')"
   ]
  }
 ],
 "metadata": {
  "kernelspec": {
   "display_name": "Python 3 (ipykernel)",
   "language": "python",
   "name": "python3"
  },
  "language_info": {
   "codemirror_mode": {
    "name": "ipython",
    "version": 3
   },
   "file_extension": ".py",
   "mimetype": "text/x-python",
   "name": "python",
   "nbconvert_exporter": "python",
   "pygments_lexer": "ipython3",
   "version": "3.9.2"
  }
 },
 "nbformat": 4,
 "nbformat_minor": 5
}
