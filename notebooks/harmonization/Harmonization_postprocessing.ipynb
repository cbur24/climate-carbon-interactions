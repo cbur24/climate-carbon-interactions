{
 "cells": [
  {
   "cell_type": "markdown",
   "id": "f171bb45-0926-4e48-97dd-e403df0fccd3",
   "metadata": {},
   "source": [
    "# Harmonization of MODIS and AVHRR\n",
    "\n",
    "Following [Rifai et al. (2022)](https://bg.copernicus.org/articles/19/491/2022/)\n",
    "\n",
    "    <var>-MODIS = s(<var>-AVHRR)+s(month)+s(SZA)+s(TOD)+s(x,y)\n",
    "\n",
    "This process was run using an R script and the `mgcv` package. This notebook post-processes the output of the GAM harmonization:\n",
    "- Create plots of before and after harmonization\n",
    "- Merging the calibrated AVHRR with MODIS to create a continous time-series 1982-2022\n",
    "- Gapfilling\n",
    "    \n",
    "        \n",
    "    \n"
   ]
  },
  {
   "cell_type": "code",
   "execution_count": null,
   "id": "b7d62418-1bae-4bf0-9318-2093e827866a",
   "metadata": {
    "tags": []
   },
   "outputs": [],
   "source": [
    "import numpy as np\n",
    "import xarray as xr\n",
    "import seaborn as sb\n",
    "import pandas as pd\n",
    "from scipy import stats\n",
    "import matplotlib.pyplot as plt\n",
    "from odc.geo.xr import assign_crs\n",
    "from scipy.stats import gaussian_kde\n",
    "from sklearn.metrics import mean_absolute_error\n",
    "\n",
    "import sys\n",
    "sys.path.append('/g/data/os22/chad_tmp/NEE_modelling/')\n",
    "from _collect_prediction_data import round_coords\n"
   ]
  },
  {
   "cell_type": "markdown",
   "id": "307e1775-f0bc-4f67-9574-24df2f6beef3",
   "metadata": {},
   "source": [
    "## Open datasets"
   ]
  },
  {
   "cell_type": "code",
   "execution_count": null,
   "id": "18b608e8-7a1c-4ab7-8450-d63b442e77c0",
   "metadata": {},
   "outputs": [],
   "source": [
    "var='lst'\n",
    "crs='epsg:4326'\n",
    "\n",
    "merge = assign_crs(xr.open_dataset('/g/data/os22/chad_tmp/climate-carbon-interactions/data/'+var.upper()+'_harmonization/Harmonized_'+var.upper()+'_AVHRR_MODIS_1982_2013.nc'),\n",
    "                   crs=crs)"
   ]
  },
  {
   "cell_type": "markdown",
   "id": "f00a43de-57ff-428a-99bf-555ccfe2b471",
   "metadata": {},
   "source": [
    "## Convert to dataframes for nice plotting"
   ]
  },
  {
   "cell_type": "code",
   "execution_count": null,
   "id": "04cdf89f-b57b-40c4-9b6e-90e1c820279f",
   "metadata": {},
   "outputs": [],
   "source": [
    "modis_flat = merge[var+'_mcd'].sel(time=slice('2001', '2013')).values.flatten()\n",
    "avhrr_flat = merge[var+'_cdr'].sel(time=slice('2001', '2013')).values.flatten()\n",
    "avhrr_adjust = merge[var+'_mcd_pred'].sel(time=slice('2001', '2013')).values.flatten()\n",
    "\n",
    "df = pd.DataFrame({'MODIS':modis_flat, 'AVHRR-original':avhrr_flat, 'AVHRR-adjusted':avhrr_adjust})\n",
    "df = df.dropna()\n",
    "df_sample = df.sample(n=10000, random_state=1) #too many pixels to plot so grab sample"
   ]
  },
  {
   "cell_type": "code",
   "execution_count": null,
   "id": "879cc280-14d1-4af1-8940-8c6f2f497653",
   "metadata": {},
   "outputs": [],
   "source": [
    "# df = merge.ndvi_mcd.mean(['x', 'y']).rename('MODIS').drop('spatial_ref').to_dataframe()\n",
    "# df['AVHRR-original'] = merge.ndvi_cdr.mean(['x', 'y']).drop('spatial_ref').to_dataframe()\n",
    "# df['AVHRR-adjusted'] = merge.ndvi_mcd_pred.mean(['x', 'y']).drop('spatial_ref').to_dataframe()\n",
    "# df = df.dropna()\n",
    "# df.head()"
   ]
  },
  {
   "cell_type": "markdown",
   "id": "9e8df43c-023e-42b7-b29c-094ab4a8a5c5",
   "metadata": {},
   "source": [
    "## Scatter plots of before and after harmonization"
   ]
  },
  {
   "cell_type": "code",
   "execution_count": null,
   "id": "bbbe16be-08d5-478c-838d-106b5271cba6",
   "metadata": {},
   "outputs": [],
   "source": [
    "products=['AVHRR-original', 'AVHRR-adjusted']\n",
    "\n",
    "fig,ax = plt.subplots(1,2, figsize=(10,5), sharey=True)\n",
    "font=15\n",
    "\n",
    "for prod, ax in zip(products, ax.ravel()):\n",
    "    obs,pred = df_sample['MODIS'].values, df_sample[prod].values\n",
    "    slope, intercept, r_value, p_value, std_err = stats.linregress(obs,pred)\n",
    "    r2 = r_value**2\n",
    "    ac = mean_absolute_error(obs, pred)\n",
    "    \n",
    "    xy = np.vstack([obs,pred])\n",
    "    z = gaussian_kde(xy)(xy)\n",
    "    \n",
    "    sb.scatterplot(data=df_sample, x='MODIS',y=prod, c=z, s=50, lw=1, alpha=0.5, ax=ax)\n",
    "    sb.regplot(data=df_sample, x='MODIS',y=prod, scatter=False, color='blue', ax=ax)\n",
    "    sb.regplot(data=df_sample, x='MODIS',y='MODIS', color='black', scatter=False, line_kws={'linestyle':'dashed'}, ax=ax)\n",
    "    ax.set_title(prod, fontsize=font)\n",
    "    ax.set_xlabel('MODIS '+var.upper(), fontsize=font)\n",
    "    ax.set_ylabel('')\n",
    "    # ax.set_ylim(0,0.9)\n",
    "    # ax.set_xlim(0,0.9)\n",
    "    ax.text(.05, .90, 'r\\N{SUPERSCRIPT TWO}={:.2f}'.format(np.mean(r2)),\n",
    "            transform=ax.transAxes, fontsize=font)\n",
    "    ax.text(.05, .825, 'MAE={:.2g}'.format(np.mean(ac)),\n",
    "            transform=ax.transAxes, fontsize=font)\n",
    "    ax.tick_params(axis='x', labelsize=font)\n",
    "    ax.tick_params(axis='y', labelsize=font)\n",
    "\n",
    "fig.supylabel('AVHRR '+var.upper(), fontsize=font)\n",
    "plt.tight_layout();"
   ]
  },
  {
   "cell_type": "markdown",
   "id": "cde034cd-2128-4498-825b-d6062c72ef26",
   "metadata": {},
   "source": [
    "## Per-pixel Correlations"
   ]
  },
  {
   "cell_type": "code",
   "execution_count": null,
   "id": "d01149b9-2386-4342-b2c0-696e90791375",
   "metadata": {},
   "outputs": [],
   "source": [
    "adjusted_corr = xr.corr(merge[var+'_mcd'].sel(time=slice('2001', '2013')),\n",
    "                        merge[var+'_mcd_pred'].sel(time=slice('2001', '2013')), \n",
    "                        dim='time'\n",
    "                       )\n",
    "\n",
    "orig_corr = xr.corr(merge[var+'_mcd'].sel(time=slice('2001', '2013')),\n",
    "                        merge[var+'_cdr'].sel(time=slice('2001', '2013')), \n",
    "                        dim='time'\n",
    "                       )"
   ]
  },
  {
   "cell_type": "code",
   "execution_count": null,
   "id": "f90e605d-4d35-46bb-b231-2fec3d24f71a",
   "metadata": {},
   "outputs": [],
   "source": [
    "corr_data = [orig_corr, adjusted_corr]"
   ]
  },
  {
   "cell_type": "code",
   "execution_count": null,
   "id": "334839f0-28ac-423a-ac87-a4989f1f9b82",
   "metadata": {},
   "outputs": [],
   "source": [
    "fig,axes = plt.subplots(1,2, figsize=(16,6), sharey=True)\n",
    "\n",
    "for ax, ds, n in zip(axes.ravel(), corr_data, products):\n",
    "    im = ds.plot.imshow(vmin=0, vmax=1.0, cmap='magma', ax=ax, add_colorbar=False)\n",
    "    ax.set_title(n,  fontsize=20);\n",
    "    ax.set_yticklabels([])\n",
    "    ax.set_ylabel('')\n",
    "    ax.set_xlabel('')\n",
    "    ax.set_xticklabels([])\n",
    "\n",
    "fig.subplots_adjust(wspace=0.05)\n",
    "fig.colorbar(im, ax=axes.ravel().tolist(), pad=0.01, label='Correlation');\n",
    "# plt.tight_layout();"
   ]
  },
  {
   "cell_type": "markdown",
   "id": "fddaecea-fdb6-49af-9852-e0244b2b83e9",
   "metadata": {},
   "source": [
    "## Merge the calibrated AVHRR with MODIS\n",
    "\n",
    "In the AVHRR record, the last 3 months of 1994 are all NaNs, which in the R script means they were discarded from the time-series. This means the time-series in `<var>_AVHRR_MODIS_1982_2013.nc` has missing time-steps.  Below, this is recitified by simply adding 3 empty time-slices. "
   ]
  },
  {
   "cell_type": "code",
   "execution_count": null,
   "id": "eb390ed7-5957-4951-9e44-fec98b61f8b1",
   "metadata": {},
   "outputs": [],
   "source": [
    "if var=='ndvi':\n",
    "    gbox = xr.open_dataset('/g/data/os22/chad_tmp/climate-carbon-interactions/data/5km/WCF_5km_monthly_1990_2022.nc').odc.geobox\n",
    "\n",
    "#grab some time-slices from another dataset\n",
    "missing_time_steps = xr.open_dataset('/g/data/os22/chad_tmp/climate-carbon-interactions/data/5km/WCF_5km_monthly_1990_2022.nc').sel(time=slice('1994-10', '1994-12')).time"
   ]
  },
  {
   "cell_type": "markdown",
   "id": "d697da90-376f-41f2-8031-a48f76db05dd",
   "metadata": {},
   "source": [
    "### Open the calibrated AVHRR\n",
    "\n",
    "extract timeseries 1982-2000, resample to epsg:4326 (only if NDVI)"
   ]
  },
  {
   "cell_type": "code",
   "execution_count": null,
   "id": "95cae013-07ea-47d4-85c3-271a15fcaa1c",
   "metadata": {},
   "outputs": [],
   "source": [
    "ds = assign_crs(xr.open_dataset('/g/data/os22/chad_tmp/climate-carbon-interactions/data/'+var.upper()+'_harmonization/Harmonized_'+var.upper()+'_AVHRR_MODIS_1982_2013.nc'),\n",
    "                   crs=crs)\n",
    "\n",
    "ds_pred = ds[var+'_mcd_pred']\n",
    "ds_pred = ds_pred.rename(var.upper()).sel(time=slice('1982', '2000'))\n",
    "ds_pred.attrs['nodata'] = np.nan\n",
    "\n",
    "if var=='ndvi':\n",
    "    ds_pred = ds_pred.odc.reproject(gbox, resampling='bilinear')\n",
    "ds_pred = round_coords(ds_pred)"
   ]
  },
  {
   "cell_type": "markdown",
   "id": "6a908123-c76b-48c4-9e2e-76a10b9452cf",
   "metadata": {},
   "source": [
    "### Creating three empty slices of data\n",
    "\n",
    "and merge back with calibrated avhrr"
   ]
  },
  {
   "cell_type": "code",
   "execution_count": null,
   "id": "165a4374-caab-41f9-ab19-cb21d65b9095",
   "metadata": {},
   "outputs": [],
   "source": [
    "extras = ds_pred.isel(time=range(0,3)) # just grab 3 random slices\n",
    "extras = xr.where(extras>100000,np.nan, np.nan) #make values all NaNs\n",
    "extras['time'] = missing_time_steps #change time-stamp to missing values\n",
    "extras = round_coords(extras)"
   ]
  },
  {
   "cell_type": "code",
   "execution_count": null,
   "id": "8ffc57cc-0400-4036-a0c5-9d511a1d30a5",
   "metadata": {},
   "outputs": [],
   "source": [
    "ds_pred = xr.concat([ds_pred, extras], dim='time').sortby('time')"
   ]
  },
  {
   "cell_type": "markdown",
   "id": "7aba1252-4761-44a1-ac95-04b21fafefad",
   "metadata": {},
   "source": [
    "### Merge calibrated AVHRR with MODIS"
   ]
  },
  {
   "cell_type": "code",
   "execution_count": null,
   "id": "76c89a09-5090-4d67-b279-f25eee398724",
   "metadata": {},
   "outputs": [],
   "source": [
    "mod = assign_crs(xr.open_dataset('/g/data/os22/chad_tmp/climate-carbon-interactions/data/'+var.upper()+'_harmonization/MODIS_'+var.upper()+'_5km_monthly_2001_2022.nc'),\n",
    "                 crs=crs)"
   ]
  },
  {
   "cell_type": "code",
   "execution_count": null,
   "id": "c6b10719-bd3c-4daa-9e4e-db1515562ac6",
   "metadata": {},
   "outputs": [],
   "source": [
    "mod.attrs['nodata'] = np.nan\n",
    "if var=='ndvi':\n",
    "    mod = mod.odc.reproject(gbox, resampling='bilinear')\n",
    "    mod = round_coords(mod)\n",
    "\n",
    "mod = round_coords(mod)\n",
    "mod = mod[var.upper()+'_median']\n",
    "mod = mod.rename(var.upper())\n",
    "merged = xr.concat([ds_pred,mod], dim='time')\n",
    "merged = merged.rename(var.upper())"
   ]
  },
  {
   "cell_type": "code",
   "execution_count": null,
   "id": "8c78670e-a57f-415b-ab82-e160fa0a1862",
   "metadata": {},
   "outputs": [],
   "source": [
    "merged.astype(np.float32).to_netcdf('/g/data/os22/chad_tmp/climate-carbon-interactions/data/5km/'+var.upper()+'_5km_monthly_1982_2022_wGaps.nc')"
   ]
  },
  {
   "cell_type": "markdown",
   "id": "9ecb5a5e-459b-4085-a389-5ab6e6922883",
   "metadata": {},
   "source": [
    "## Gap-filling\n",
    "\n",
    "Try with climatologies and linear interp"
   ]
  },
  {
   "cell_type": "code",
   "execution_count": null,
   "id": "d7b754e2-bb7e-4e33-a0b4-2dd2bdd0f0e9",
   "metadata": {},
   "outputs": [],
   "source": [
    "import os\n",
    "import xarray as xr\n",
    "import numpy as np\n",
    "import seaborn as sb\n",
    "import matplotlib.pyplot as plt\n",
    "from odc.geo.xr import assign_crs"
   ]
  },
  {
   "cell_type": "code",
   "execution_count": null,
   "id": "e483dc9c-1f59-48ab-bfd9-d3cd14ce7d47",
   "metadata": {},
   "outputs": [],
   "source": [
    "from datacube.utils.dask import start_local_dask\n",
    "client = start_local_dask(mem_safety_margin='2Gb')\n",
    "client"
   ]
  },
  {
   "cell_type": "code",
   "execution_count": null,
   "id": "9c7af2c8-fa13-419b-8f3c-33303013fce3",
   "metadata": {},
   "outputs": [],
   "source": [
    "var='lst'\n",
    "crs='epsg:4326'\n",
    "\n",
    "file='/g/data/os22/chad_tmp/climate-carbon-interactions/data/5km/'+var.upper()+'_5km_monthly_1982_2022_wGaps.nc'\n",
    "chunks=dict(latitude=1000, longitude=1000, time=-1)\n",
    "\n",
    "ds = assign_crs(xr.open_dataset(file, chunks=chunks), crs=crs)"
   ]
  },
  {
   "cell_type": "markdown",
   "id": "f6813c8e-2a63-4607-bbe4-c8818f18c1be",
   "metadata": {},
   "source": [
    "### Count fraction of missing data"
   ]
  },
  {
   "cell_type": "code",
   "execution_count": null,
   "id": "f98d50e0-a5a5-4e32-b282-250c1c353907",
   "metadata": {},
   "outputs": [],
   "source": [
    "mask = np.isnan(ds[var.upper()].mean('time').compute())\n",
    "mask = (~mask)\n",
    "\n",
    "total_valid_pixels = mask.sum().values\n",
    "nans = np.isnan(ds[var.upper()].compute())\n",
    "num_of_nans = nans.where(mask).sum(['latitude', 'longitude'])\n",
    "num_of_nans_normalised = num_of_nans / total_valid_pixels"
   ]
  },
  {
   "cell_type": "markdown",
   "id": "b9f5fc78-6a6e-42dc-99e1-883e47fdfec0",
   "metadata": {},
   "source": [
    "### Plot fraction missing against rainfall\n",
    "\n",
    "To see if missing data coincides with increased cloud coverage"
   ]
  },
  {
   "cell_type": "code",
   "execution_count": null,
   "id": "58ff1753-a964-4376-b21f-1f0df69bd6c9",
   "metadata": {},
   "outputs": [],
   "source": [
    "rain = xr.open_dataset('/g/data/os22/chad_tmp/climate-carbon-interactions/data/5km/rain_5km_monthly_1981_2022.nc').rain"
   ]
  },
  {
   "cell_type": "code",
   "execution_count": null,
   "id": "5771b21e-2a29-41f1-b88e-a4510104f7e4",
   "metadata": {},
   "outputs": [],
   "source": [
    "# #compute climatology\n",
    "# rain_clim = rain.sel(time=slice('1982', '2012')).groupby(\"time.month\").mean(\"time\")#.compute()\n",
    "# rain_anom = rain.groupby(\"time.month\") - rain_clim"
   ]
  },
  {
   "cell_type": "code",
   "execution_count": null,
   "id": "4049dc62-3e9c-49ea-bd1b-893a8f6587b5",
   "metadata": {},
   "outputs": [],
   "source": [
    "rain = rain.sel(time=slice('1982', '2000')).mean(['latitude', 'longitude'])\n",
    "df = rain.to_dataframe('Rainfall')\n",
    "\n",
    "#Add fractions missing to dataframe for easy plotting\n",
    "df['Fraction Missing'] = num_of_nans_normalised.sel(time=slice('1982', '2000')).drop('spatial_ref').to_dataframe()"
   ]
  },
  {
   "cell_type": "code",
   "execution_count": null,
   "id": "918e3c4f-96a5-40e5-afe4-c9abf9fcc878",
   "metadata": {},
   "outputs": [],
   "source": [
    "fig,ax = plt.subplots(1,1, figsize=(13,4))\n",
    "ax2 = ax.twinx()\n",
    "\n",
    "# sb.barplot(data=df, x=df.index, y='Rainfall Anomaly', ax=ax2, color='skyblue')\n",
    "ax2.bar(df.index, height=df['Rainfall'], width=20, color='skyblue')\n",
    "sb.lineplot(data=df, x=df.index, y='Fraction Missing', ax=ax, c='black')\n",
    "ax2.set_zorder(ax.get_zorder()-1)\n",
    "ax2.set_ylabel('Mean Rainfall (mm)')\n",
    "ax.set_frame_on(False)"
   ]
  },
  {
   "cell_type": "markdown",
   "id": "62e5d1ef-78ce-4944-a574-4dd8442ad4cd",
   "metadata": {},
   "source": [
    "### Per pixel fractions of missing data"
   ]
  },
  {
   "cell_type": "code",
   "execution_count": null,
   "id": "0bf48e18-5a16-4dd2-a383-8327a1562fbf",
   "metadata": {},
   "outputs": [],
   "source": [
    "avhrr_nans = (~nans).sel(time=slice('1982', '2000'))"
   ]
  },
  {
   "cell_type": "code",
   "execution_count": null,
   "id": "beab8117-55a0-452d-a1fd-eb3973c7a11e",
   "metadata": {},
   "outputs": [],
   "source": [
    "(avhrr_nans.sum('time')/len(avhrr_nans.time)).where(mask).plot(add_labels=False, vmin=0, vmax=1, cmap='inferno', size=6)\n",
    "plt.title('AVHRR Available Fraction of Data, monthly: 1982-2000');"
   ]
  },
  {
   "cell_type": "markdown",
   "id": "47c7c5fb-d344-48a1-a256-d1602fe846f6",
   "metadata": {},
   "source": [
    "## Test some interpolation methods"
   ]
  },
  {
   "cell_type": "markdown",
   "id": "f967f2f6-f5b1-456f-92d4-a9ad37c39f1c",
   "metadata": {},
   "source": [
    "#### Select some areas"
   ]
  },
  {
   "cell_type": "code",
   "execution_count": null,
   "id": "6fd12901-99c2-486d-a76d-69c493c87607",
   "metadata": {},
   "outputs": [],
   "source": [
    "test_area_1 = ds[var.upper()].isel(latitude=range(115,120), longitude=range(355,360)) #Northern Territory tropical savannah\n",
    "test_area_2 = ds[var.upper()].isel(latitude=range(455,460), longitude=range(100,105)) # SW WA cropping\n",
    "test_area_3 = ds[var.upper()].isel(latitude=range(545,550), longitude=range(745,750)) # SE Aus forest\n",
    "\n",
    "#summarise\n",
    "test_area_1 = test_area_1.sel(time=slice('1982', '2000')).mean(['latitude', 'longitude'])\n",
    "test_area_2 = test_area_2.sel(time=slice('1982', '2000')).mean(['latitude', 'longitude'])\n",
    "test_area_3 = test_area_3.sel(time=slice('1982', '2000')).mean(['latitude', 'longitude'])"
   ]
  },
  {
   "cell_type": "markdown",
   "id": "fe51bcdc-0305-4920-8b57-511157754a5f",
   "metadata": {},
   "source": [
    "### Conduct various interpolations"
   ]
  },
  {
   "cell_type": "code",
   "execution_count": null,
   "id": "f6c48756-45bf-49ad-9c75-a604ead7e478",
   "metadata": {},
   "outputs": [],
   "source": [
    "## ---------Interpolate area 1------------------------------------------------------------\n",
    "\n",
    "linear_area_1 = test_area_1.interpolate_na(method='linear', dim='time', limit=3)\n",
    "slinear_area_1 = test_area_1.interpolate_na(method='slinear', dim='time', limit=3)\n",
    "cubic_area_1 = test_area_1.interpolate_na(method='cubic', dim='time', limit=3)\n",
    "\n",
    "#fill with climatology\n",
    "test_area_1_clim = ds[var.upper()].isel(latitude=range(115,120),\n",
    "                                longitude=range(355,360)).groupby(\"time.month\").mean(\"time\")\n",
    "test_area_1_clim = test_area_1.groupby(\"time.month\").mean(\"time\")#.compute()\n",
    "clim_area_1 = test_area_1.groupby(\"time.month\").fillna(test_area_1_clim)\n",
    "\n",
    "#combined fill\n",
    "combine_area_1 = linear_area_1.groupby(\"time.month\").fillna(clim_area_1).compute()\n",
    "\n",
    "## ---------Interpolate area 2-------------------------------------------------------------\n",
    "linear_area_2 = test_area_2.interpolate_na(method='linear', dim='time', limit=3)\n",
    "slinear_area_2 = test_area_2.interpolate_na(method='slinear', dim='time', limit=3)\n",
    "cubic_area_2 = test_area_2.interpolate_na(method='cubic', dim='time', limit=3)\n",
    "\n",
    "#fill with climatology\n",
    "test_area_1_clim = ds[var.upper()].isel(latitude=range(115,120),\n",
    "                                longitude=range(355,360)).groupby(\"time.month\").mean(\"time\")\n",
    "test_area_2_clim = test_area_2.groupby(\"time.month\").mean(\"time\")#.compute()\n",
    "clim_area_2 = test_area_2.groupby(\"time.month\").fillna(test_area_2_clim)\n",
    "\n",
    "#combined fill\n",
    "combine_area_2 = linear_area_2.groupby(\"time.month\").fillna(clim_area_2).compute()\n",
    "\n",
    "## ---------Interpolate area 3--------------------------------------------------------------\n",
    "\n",
    "linear_area_3 = test_area_3.interpolate_na(method='linear', dim='time', limit=3)\n",
    "slinear_area_3 = test_area_3.interpolate_na(method='slinear', dim='time', limit=3)\n",
    "cubic_area_3 = test_area_3.interpolate_na(method='cubic', dim='time', limit=3)\n",
    "\n",
    "#fill with climatology\n",
    "test_area_1_clim = ds[var.upper()].isel(latitude=range(115,120),\n",
    "                                longitude=range(355,360)).groupby(\"time.month\").mean(\"time\")\n",
    "test_area_3_clim = test_area_3.groupby(\"time.month\").mean(\"time\")\n",
    "clim_area_3 = test_area_3.groupby(\"time.month\").fillna(test_area_3_clim)\n",
    "\n",
    "#combined fill\n",
    "combine_area_3 = linear_area_3.groupby(\"time.month\").fillna(clim_area_3).compute()"
   ]
  },
  {
   "cell_type": "markdown",
   "id": "2ae139a7-6916-41ed-abaa-980acead4200",
   "metadata": {},
   "source": [
    "### Plot the interpolation results"
   ]
  },
  {
   "cell_type": "code",
   "execution_count": null,
   "id": "2b7c2a02-642e-4e8a-9320-28e1cf65cf18",
   "metadata": {},
   "outputs": [],
   "source": [
    "fig,ax = plt.subplots(1,1, figsize=(13,4), sharey=True)\n",
    "\n",
    "combine_area_1.plot(ax=ax, label='linear+climatology', linestyle='--', c='green')\n",
    "linear_area_1.plot(ax=ax, label='linear', linestyle='dashdot', c='red')\n",
    "test_area_1.plot(ax=ax, label='original', c='black')\n",
    "\n",
    "ax.set_title('Northern Territory test area for interpolation')\n",
    "ax.legend();"
   ]
  },
  {
   "cell_type": "code",
   "execution_count": null,
   "id": "48b6ff69-a728-4022-b0e0-69eed9594d87",
   "metadata": {},
   "outputs": [],
   "source": [
    "fig,ax = plt.subplots(1,1, figsize=(13,4), sharey=True)\n",
    "\n",
    "combine_area_2.plot(ax=ax, label='linear+climatology', linestyle='--', c='green')\n",
    "linear_area_2.plot(ax=ax, label='linear', linestyle='dashdot', c='red')\n",
    "test_area_2.plot(ax=ax, label='original', c='black')\n",
    "ax.set_title('SW WA test area for interpolation')\n",
    "ax.legend();"
   ]
  },
  {
   "cell_type": "code",
   "execution_count": null,
   "id": "8786a237-725c-4a39-bc4b-140ffbd1c082",
   "metadata": {},
   "outputs": [],
   "source": [
    "fig,ax = plt.subplots(1,1, figsize=(13,4), sharey=True)\n",
    "\n",
    "combine_area_3.plot(ax=ax, label='linear+climatology', linestyle='--', c='green')\n",
    "linear_area_3.plot(ax=ax, label='linear', linestyle='dashdot', c='red')\n",
    "\n",
    "test_area_3.plot(ax=ax, label='original', c='black')\n",
    "ax.set_title('SE Aus forest test area for interpolation')\n",
    "ax.legend();"
   ]
  },
  {
   "cell_type": "markdown",
   "id": "b96b97ef-c787-404d-a505-77fdea62c75b",
   "metadata": {},
   "source": [
    "### Fill dataset using the combined interpolation approach\n",
    "\n",
    "First linear interpolate maximum 3 steps. Then fill remaining gaps with climatology"
   ]
  },
  {
   "cell_type": "code",
   "execution_count": null,
   "id": "aa2935ac-4af1-4045-97ba-45aa00acdabc",
   "metadata": {},
   "outputs": [],
   "source": [
    "#inter[olate nans with linear method\n",
    "ds_linear = ds.interpolate_na(method='linear', dim='time', limit=3)\n",
    "\n",
    "#compute climatology\n",
    "clim = ds.groupby(\"time.month\").mean(\"time\")\n",
    "\n",
    "#fill remaining gaps with climatology\n",
    "ds_combine = ds_linear.groupby(\"time.month\").fillna(clim).compute()"
   ]
  },
  {
   "cell_type": "markdown",
   "id": "af0a3fc5-c4f5-44db-8d17-55a50ca5b447",
   "metadata": {},
   "source": [
    "### Compare"
   ]
  },
  {
   "cell_type": "code",
   "execution_count": null,
   "id": "6a7992e0-1e5e-4ebf-9120-1df3335bf879",
   "metadata": {},
   "outputs": [],
   "source": [
    "# fig,ax = plt.subplots(1,1, figsize=(13,5), sharey=True)\n",
    "# ds.NDVI.sel(time=slice('1982','2000')).mean(['latitude', 'longitude']).plot(ax=ax, label='No-fill')\n",
    "# ds_linear.NDVI.sel(time=slice('1982','2000')).mean(['latitude', 'longitude']).plot(ax=ax, label='linear')\n",
    "# ds_combine.NDVI.sel(time=slice('1982','2000')).mean(['latitude', 'longitude']).plot(ax=ax, label='linear+climatology')\n",
    "# ax.legend()\n",
    "# plt.title('Australia wide')"
   ]
  },
  {
   "cell_type": "markdown",
   "id": "ea33f6a0-48fe-4096-9698-56832b60cb89",
   "metadata": {},
   "source": [
    "## Consider using CLIMFILL for gapfilling:\n",
    "\n",
    "https://github.com/climachine/climfill/blob/master/example_workflow.py"
   ]
  },
  {
   "cell_type": "markdown",
   "id": "8bd9a5f8-4413-4b1d-a53f-15e837bca43d",
   "metadata": {},
   "source": [
    "## Export results"
   ]
  },
  {
   "cell_type": "code",
   "execution_count": null,
   "id": "328572ed-c08a-4e06-bdee-bbeddb145407",
   "metadata": {},
   "outputs": [],
   "source": [
    "ds_combine.drop('month').to_netcdf('/g/data/os22/chad_tmp/climate-carbon-interactions/data/5km/'+var.upper()+'_5km_monthly_1982_2022.nc')"
   ]
  },
  {
   "cell_type": "code",
   "execution_count": null,
   "id": "190f49e0-9c9c-4c7f-b023-da802afd1bbd",
   "metadata": {},
   "outputs": [],
   "source": []
  }
 ],
 "metadata": {
  "kernelspec": {
   "display_name": "Python 3 (ipykernel)",
   "language": "python",
   "name": "python3"
  },
  "language_info": {
   "codemirror_mode": {
    "name": "ipython",
    "version": 3
   },
   "file_extension": ".py",
   "mimetype": "text/x-python",
   "name": "python",
   "nbconvert_exporter": "python",
   "pygments_lexer": "ipython3",
   "version": "3.9.2"
  }
 },
 "nbformat": 4,
 "nbformat_minor": 5
}
