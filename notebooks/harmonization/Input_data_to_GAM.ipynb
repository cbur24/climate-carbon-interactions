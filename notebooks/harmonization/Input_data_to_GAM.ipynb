{
 "cells": [
  {
   "cell_type": "markdown",
   "id": "7e68deea-e2dd-42f6-9cab-4d0c63ae92f8",
   "metadata": {},
   "source": [
    "# Create input datasets to GAM"
   ]
  },
  {
   "cell_type": "code",
   "execution_count": null,
   "id": "7712b2da-5181-4443-9c44-86b6ac40d02f",
   "metadata": {},
   "outputs": [],
   "source": [
    "import xarray as xr\n",
    "import numpy as np\n",
    "import pandas as pd\n",
    "from scipy import stats\n",
    "import geopandas as gpd\n",
    "from odc.geo.xr import assign_crs\n",
    "import matplotlib.pyplot as plt\n",
    "\n",
    "import sys\n",
    "sys.path.append('/g/data/os22/chad_tmp/AusEFlux/src/')\n",
    "from _collect_prediction_data import round_coords\n",
    "\n",
    "import warnings\n",
    "warnings.filterwarnings(\"ignore\")"
   ]
  },
  {
   "cell_type": "code",
   "execution_count": null,
   "id": "140f0005-bc3e-42c7-976d-bd364bdd6f49",
   "metadata": {},
   "outputs": [],
   "source": [
    "name='nontrees'\n",
    "model_var = 'NDVI'"
   ]
  },
  {
   "cell_type": "code",
   "execution_count": null,
   "id": "1332972f-7795-4341-a2f9-2b25b6ae8c41",
   "metadata": {},
   "outputs": [],
   "source": [
    "ds = xr.open_dataset('/g/data/os22/chad_tmp/climate-carbon-interactions/data/NDVI_harmonization/AVHRR_NDVI_5km_monthly_1982_2013.nc')\n",
    "ds = assign_crs(ds, crs ='epsg:4326')"
   ]
  },
  {
   "cell_type": "code",
   "execution_count": null,
   "id": "a8bfec4f-5a91-4c71-9f10-9bd24fd85260",
   "metadata": {},
   "outputs": [],
   "source": [
    "before_fraction_avail = (~np.isnan(ds['NDVI_avhrr'])).sum('time')/len(ds.time)"
   ]
  },
  {
   "cell_type": "code",
   "execution_count": null,
   "id": "bdb4de60-78b9-428e-8241-c1b4fc4ca488",
   "metadata": {},
   "outputs": [],
   "source": [
    "#filter by num of obs/month\n",
    "# ds = ds.where(ds['n_obs']>=2)\n",
    "\n",
    "#remove any very low NDVI vals\n",
    "ds = ds.where(ds['NDVI_avhrr']>=0.01)\n",
    "\n",
    "# filter by coefficient of variation each month\n",
    "ds['ndvi_cv'] = ds['NDVI_stddev'] / ds['NDVI_avhrr']\n",
    "ds = ds.where(ds['ndvi_cv']<0.5)\n",
    "\n",
    "#filter by large std dev anomalies\n",
    "def stand_anomalies(ds, clim_mean, clim_std):\n",
    "    std_anom = xr.apply_ufunc(lambda x, m, s: (x - m) / s,\n",
    "    ds.compute().groupby(\"time.month\"),\n",
    "    clim_mean, clim_std)\n",
    "    return std_anom\n",
    "\n",
    "#calculate anomalies\n",
    "ndvi_clim_std = ds.groupby('time.month').std()\n",
    "ndvi_clim = ds.groupby('time.month').mean()\n",
    "ndvi_std_anom = stand_anomalies(ds, ndvi_clim, ndvi_clim_std)\n",
    "\n",
    "#create masks where values are < 4 stddev >\n",
    "ndvi_anom_mask = xr.where((ndvi_std_anom['NDVI_avhrr'] > -4) & (ndvi_std_anom['NDVI_avhrr'] < 4), 1, 0)\n",
    "sza_anom_mask = xr.where((ndvi_std_anom['SZEN_median'] > -4) & (ndvi_std_anom['SZEN_median'] < 4), 1, 0)\n",
    "tod_anom_mask = xr.where((ndvi_std_anom['TIMEOFDAY_median'] > -4) & (ndvi_std_anom['TIMEOFDAY_median'] < 4), 1, 0)\n",
    "\n",
    "ds = ds.where(ndvi_anom_mask)\n",
    "ds = ds.where(sza_anom_mask)\n",
    "ds = ds.where(tod_anom_mask)"
   ]
  },
  {
   "cell_type": "markdown",
   "id": "7279a50b-f0a5-48d3-a438-1fffe595e614",
   "metadata": {},
   "source": [
    "### Plot available fraction of data before/after filtering"
   ]
  },
  {
   "cell_type": "code",
   "execution_count": null,
   "id": "538b783d-b749-4b9b-b735-128013467512",
   "metadata": {},
   "outputs": [],
   "source": [
    "after_fraction_avail = (~np.isnan(ds['NDVI_avhrr'])).sum('time')/len(ds.time)\n",
    "\n",
    "fig,ax=plt.subplots(1,2, figsize=(11,4))\n",
    "before_fraction_avail.plot.imshow(robust=True, ax=ax[0], cmap='magma')\n",
    "after_fraction_avail.plot.imshow(robust=True, ax=ax[1], cmap='magma')\n",
    "ax[0].set_title(str(before_fraction_avail.mean().values));\n",
    "ax[1].set_title(str(after_fraction_avail.mean().values));"
   ]
  },
  {
   "cell_type": "markdown",
   "id": "066d073e-a0b9-4233-a541-26bd963b826b",
   "metadata": {},
   "source": [
    "### Add lagged NDVI features"
   ]
  },
  {
   "cell_type": "code",
   "execution_count": null,
   "id": "a7acea4c-c30a-4451-9608-5f9dae9cef5d",
   "metadata": {},
   "outputs": [],
   "source": [
    "ds['NDVI_avhrr_1f'] = ds['NDVI_avhrr'].shift(time=1)\n",
    "ds['NDVI_avhrr_1b'] = ds['NDVI_avhrr'].shift(time=-1)\n",
    "# ds['NDVI_avhrr_2f'] = ds['NDVI_avhrr'].shift(time=2)\n",
    "# ds['NDVI_avhrr_2b'] = ds['NDVI_avhrr'].shift(time=-2)"
   ]
  },
  {
   "cell_type": "code",
   "execution_count": null,
   "id": "5357de29-cca1-4b6b-a6ec-ba3b1c2acc16",
   "metadata": {},
   "outputs": [],
   "source": [
    "# ds = ds.sel(time=slice(t1, t2))\n",
    "ds = ds.drop('month')"
   ]
  },
  {
   "cell_type": "markdown",
   "id": "6a6ac230-1765-4fda-9c0e-d1755968c66b",
   "metadata": {},
   "source": [
    "### Open covariables"
   ]
  },
  {
   "cell_type": "code",
   "execution_count": null,
   "id": "ed16e97b-8bac-4124-afc1-3f46cc54e757",
   "metadata": {},
   "outputs": [],
   "source": [
    "base = '/g/data/os22/chad_tmp/climate-carbon-interactions/data/'\n",
    "\n",
    "datasets = [\n",
    "    'NDVI_harmonization/MODIS_NDVI_5km_monthly_200003_202212.nc',\n",
    "    '5km/rain_cml3_5km_monthly_1982_2022.nc',\n",
    "    '5km/srad_5km_monthly_1982_2022.nc',\n",
    "           ]"
   ]
  },
  {
   "cell_type": "code",
   "execution_count": null,
   "id": "6dba5078-609f-43c6-b793-d1c1c42797f3",
   "metadata": {},
   "outputs": [],
   "source": [
    "dss = []\n",
    "names = []\n",
    "for d in datasets:\n",
    "    xx =  assign_crs(xr.open_dataset(base+d),crs='epsg:4326').sel(time=slice('1982','2013'))\n",
    "    # if \"MODIS\" in d:\n",
    "    #     #xx = xx.odc.reproject(how=ds.odc.geobox)\n",
    "    #     #xx = round_coords(xx)\n",
    "    xx = round_coords(xx)\n",
    "    xx = xx.drop('spatial_ref')\n",
    "    names.append(list(xx.data_vars)[0])\n",
    "    dss.append(xx.transpose('time', 'latitude', 'longitude'))\n",
    "\n",
    "covars = xr.merge(dss)\n",
    "covars = assign_crs(covars, crs ='epsg:4326')\n",
    "covars = covars.rename({'NDVI_median':'NDVI_modis'})\n",
    "\n",
    "#merge the AVHR with covariables\n",
    "ds = xr.merge([ds,covars])"
   ]
  },
  {
   "cell_type": "markdown",
   "id": "e0d0a2c7-a26b-4951-b460-196d45d9964e",
   "metadata": {},
   "source": [
    "### Add some MODIS summary stats"
   ]
  },
  {
   "cell_type": "code",
   "execution_count": null,
   "id": "adc0683d-e3d7-4eb4-9d2a-cdc508ccb920",
   "metadata": {},
   "outputs": [],
   "source": [
    "mean_modis = ds['NDVI_modis'].mean('time')\n",
    "mean_modis = mean_modis.expand_dims(time=ds.time)\n",
    "ds['NDVI_modis_mean'] = mean_modis\n",
    "\n",
    "min_modis = ds['NDVI_modis'].quantile(0.05, dim='time').drop('quantile')\n",
    "min_modis = min_modis.expand_dims(time=ds.time)\n",
    "ds['NDVI_modis_min'] = min_modis\n",
    "\n",
    "max_modis = ds['NDVI_modis'].quantile(0.95, dim='time').drop('quantile')\n",
    "max_modis = max_modis.expand_dims(time=ds.time)\n",
    "ds['NDVI_modis_max'] = max_modis\n",
    "\n",
    "#remove unneeded variables\n",
    "ds = ds.drop(['NDVI_stddev', 'n_obs', 'ndvi_cv', 'NDVI_modis'])"
   ]
  },
  {
   "cell_type": "markdown",
   "id": "217e808b-9bc7-46ec-853e-9819239683b6",
   "metadata": {},
   "source": [
    "### Mask"
   ]
  },
  {
   "cell_type": "code",
   "execution_count": null,
   "id": "ffe467fd-9f62-4cfd-b853-660ae3e35008",
   "metadata": {},
   "outputs": [],
   "source": [
    "name='trees'"
   ]
  },
  {
   "cell_type": "code",
   "execution_count": null,
   "id": "b6d2eac8-3a25-4ade-8aba-ae7e99882e46",
   "metadata": {},
   "outputs": [],
   "source": [
    "# if model_var=='NDVI'\n",
    "trees = xr.open_dataset('/g/data/os22/chad_tmp/climate-carbon-interactions/data/5km/WCF_5km_monthly_1982_2022.nc')['WCF']\n",
    "trees = assign_crs(trees, crs ='epsg:4326')\n",
    "trees = trees.sel(time=slice('2001', '2018'))\n",
    "trees = trees.mean('time')\n",
    "\n",
    "if model_var=='NDVI':\n",
    "    if name=='trees':\n",
    "        mask = xr.where(trees>0.25, 1, 0)\n",
    "    if name=='nontrees':\n",
    "        mask = xr.where(trees<=0.25, 1, 0)\n",
    "\n",
    "if model_var=='LST':\n",
    "    if name=='AUS':\n",
    "        mask = xr.where(trees>=0, 1, 0) # set everywhere as valid"
   ]
  },
  {
   "cell_type": "code",
   "execution_count": null,
   "id": "b67d0831-5a68-420c-a214-ec3cbfbb6a00",
   "metadata": {},
   "outputs": [],
   "source": [
    "ds = ds.where(mask)"
   ]
  },
  {
   "cell_type": "markdown",
   "id": "a9b73195-b853-4381-8fef-06c24e1f0fac",
   "metadata": {},
   "source": [
    "### Export"
   ]
  },
  {
   "cell_type": "code",
   "execution_count": null,
   "id": "e423c9c5-56f3-4576-ac46-5b51ef898bf4",
   "metadata": {},
   "outputs": [],
   "source": [
    "for i in ds.data_vars:\n",
    "    try:\n",
    "        del ds[i].attrs['grid_mapping']\n",
    "    except:\n",
    "        continue"
   ]
  },
  {
   "cell_type": "code",
   "execution_count": null,
   "id": "d13c60c0-b670-4ded-af52-c027cc5875e6",
   "metadata": {},
   "outputs": [],
   "source": [
    "ds.to_netcdf('/g/data/os22/chad_tmp/climate-carbon-interactions/data/NDVI_harmonization/regions/'+name+'_AVHRR_NDVI_5km_monthly_1982_2013_extraFeatures.nc')"
   ]
  },
  {
   "cell_type": "markdown",
   "id": "ea1488d9-9663-4f7c-9335-1c57698e09e1",
   "metadata": {},
   "source": [
    "### Modis clipped to regions"
   ]
  },
  {
   "cell_type": "code",
   "execution_count": null,
   "id": "fbcafea2-a140-4f75-8b01-19ca41e3de5f",
   "metadata": {},
   "outputs": [],
   "source": [
    "mod_path = '/g/data/os22/chad_tmp/climate-carbon-interactions/data/NDVI_harmonization/MODIS_NDVI_5km_monthly_200003_202212.nc'\n",
    "mod = xr.open_dataset(mod_path)\n",
    "mod = assign_crs(mod, crs ='epsg:4326')"
   ]
  },
  {
   "cell_type": "code",
   "execution_count": null,
   "id": "8db8c426-3b36-4add-a847-62de64e2c97f",
   "metadata": {},
   "outputs": [],
   "source": [
    "mod = mod.where(mask)"
   ]
  },
  {
   "cell_type": "code",
   "execution_count": null,
   "id": "a6456c1e-e385-41c8-89ba-73a2d5bbd67f",
   "metadata": {},
   "outputs": [],
   "source": [
    "mod.to_netcdf('/g/data/os22/chad_tmp/climate-carbon-interactions/data/NDVI_harmonization/regions/'+name+'_MODIS_NDVI_5km_monthly_200003_202212.nc')"
   ]
  },
  {
   "cell_type": "markdown",
   "id": "4e44b4c9-7193-4fbd-aa4b-d37aeaff3dfa",
   "metadata": {},
   "source": [
    "## Post-process GAM results"
   ]
  },
  {
   "cell_type": "code",
   "execution_count": null,
   "id": "dde5b4c7-57ca-4142-828e-3b590b8614ad",
   "metadata": {},
   "outputs": [],
   "source": [
    "import xarray as xr\n",
    "import numpy as np\n",
    "import pandas as pd\n",
    "from scipy import stats\n",
    "import geopandas as gpd\n",
    "from odc.geo.xr import assign_crs\n",
    "import matplotlib.pyplot as plt\n",
    "\n",
    "import sys\n",
    "sys.path.append('/g/data/os22/chad_tmp/AusEFlux/src/')\n",
    "from _collect_prediction_data import round_coords\n",
    "\n",
    "import warnings\n",
    "warnings.filterwarnings(\"ignore\")"
   ]
  },
  {
   "cell_type": "code",
   "execution_count": null,
   "id": "aa2b073f-af9a-4062-8c82-8d098a87bd7c",
   "metadata": {},
   "outputs": [],
   "source": [
    "name='nontrees'\n",
    "model_var = 'NDVI'"
   ]
  },
  {
   "cell_type": "code",
   "execution_count": null,
   "id": "89b49892-d458-439c-b6d7-5906fc1b8a64",
   "metadata": {},
   "outputs": [],
   "source": [
    "path = '/g/data/os22/chad_tmp/climate-carbon-interactions/data/NDVI_harmonization/regions/'+name+'_AVHRR_MODIS_NDVI_GAM_harmonized_climate_1982_2013.nc'\n",
    "ds = xr.open_dataset(path)\n",
    "ds = assign_crs(ds, crs ='epsg:4326')"
   ]
  },
  {
   "cell_type": "code",
   "execution_count": null,
   "id": "7f37d398-e964-4576-9aa8-960e1e391062",
   "metadata": {},
   "outputs": [],
   "source": [
    "ds = ds['ndvi_mcd_pred'].rename('NDVI')"
   ]
  },
  {
   "cell_type": "code",
   "execution_count": null,
   "id": "610408a3-21f4-4aa6-bd7f-731b1d877837",
   "metadata": {},
   "outputs": [],
   "source": [
    "# ds.sel(time='2001').plot.imshow(col='time', col_wrap=4, robust=True)"
   ]
  },
  {
   "cell_type": "code",
   "execution_count": null,
   "id": "6dddced2-1200-4c10-9730-b003760c79b9",
   "metadata": {},
   "outputs": [],
   "source": [
    "ds.to_netcdf('/g/data/os22/chad_tmp/climate-carbon-interactions/data/NDVI_harmonization/NDVI_'+name+'_GAM_harmonize_5km_monthly_1982_2013.nc')"
   ]
  }
 ],
 "metadata": {
  "kernelspec": {
   "display_name": "Python 3 (ipykernel)",
   "language": "python",
   "name": "python3"
  },
  "language_info": {
   "codemirror_mode": {
    "name": "ipython",
    "version": 3
   },
   "file_extension": ".py",
   "mimetype": "text/x-python",
   "name": "python",
   "nbconvert_exporter": "python",
   "pygments_lexer": "ipython3",
   "version": "3.9.2"
  }
 },
 "nbformat": 4,
 "nbformat_minor": 5
}
