{
 "cells": [
  {
   "cell_type": "markdown",
   "id": "bb00a025-659c-47f3-a468-48a275d6930f",
   "metadata": {},
   "source": [
    "# Predictions"
   ]
  },
  {
   "cell_type": "code",
   "execution_count": null,
   "id": "939bcd25-6f50-4612-8d52-1cfe7caa5c55",
   "metadata": {},
   "outputs": [],
   "source": [
    "import xarray as xr\n",
    "import numpy as np\n",
    "from joblib import load\n",
    "import warnings\n",
    "from odc.geo.xr import assign_crs\n",
    "import matplotlib.pyplot as plt\n",
    "from datacube.utils.dask import start_local_dask\n",
    "\n",
    "import sys\n",
    "sys.path.append('/g/data/os22/chad_tmp/dea-notebooks/Tools/')\n",
    "from dea_tools.classification import predict_xr, HiddenPrints\n",
    "\n",
    "sys.path.append('/g/data/os22/chad_tmp/AusEFlux/src/')\n",
    "from _collect_prediction_data import round_coords"
   ]
  },
  {
   "cell_type": "code",
   "execution_count": null,
   "id": "317ebf67-22b1-4f81-a099-a547d326dddc",
   "metadata": {},
   "outputs": [],
   "source": [
    "client = start_local_dask(mem_safety_margin='2Gb')\n",
    "client"
   ]
  },
  {
   "cell_type": "code",
   "execution_count": null,
   "id": "44a03e66-ecfc-4444-8dc4-4a9bda2e18fd",
   "metadata": {},
   "outputs": [],
   "source": [
    "model_var='NDVI'\n",
    "name='nontrees'\n",
    "t1 = '1982'\n",
    "t2 = '2013'"
   ]
  },
  {
   "cell_type": "markdown",
   "id": "36f5426b-a0e3-4901-b101-ec8cb604a8d2",
   "metadata": {},
   "source": [
    "### Load model"
   ]
  },
  {
   "cell_type": "code",
   "execution_count": null,
   "id": "e51968a0-f8ed-4be0-b337-9907bdd4bde2",
   "metadata": {},
   "outputs": [],
   "source": [
    "model = load('/g/data/os22/chad_tmp/climate-carbon-interactions/data/NDVI_harmonization/Harmonization_LGBM_'+name+'.joblib').set_params(n_jobs=1)"
   ]
  },
  {
   "cell_type": "markdown",
   "id": "aecd3878-af3f-4566-98bf-2be9c55ea426",
   "metadata": {},
   "source": [
    "### Load prediction data\n",
    "\n",
    "and index to match training data order"
   ]
  },
  {
   "cell_type": "code",
   "execution_count": null,
   "id": "fb23b43c-2809-45a5-bd2f-539ba6291ff1",
   "metadata": {},
   "outputs": [],
   "source": [
    "ds = xr.open_dataset('/g/data/os22/chad_tmp/climate-carbon-interactions/data/NDVI_harmonization/AVHRR_5km_monthly_1982_2013.nc')\n",
    "ds = assign_crs(ds, crs ='epsg:3577')\n",
    "ds = ds.sel(time=slice(t1, t2))\n",
    "ds = ds.rename({'NDVI_median': 'NDVI_median_avhrr'})\n",
    "\n",
    "moy = xr.open_dataset('/g/data/os22/chad_tmp/climate-carbon-interactions/data/5km/MOY_5km_monthly_1982_2022.nc')['month']\n",
    "moy = assign_crs(moy, crs ='epsg:4326')\n",
    "moy=moy.sel(time=slice(t1, t2))\n",
    "moy=moy.odc.reproject(how=ds.odc.geobox)\n",
    "moy = moy.transpose('time','y','x')\n",
    "ds['MOY'] = moy\n",
    "\n",
    "rain_cml3 = xr.open_dataset('/g/data/os22/chad_tmp/climate-carbon-interactions/data/5km/rain_cml3_5km_monthly_1982_2022.nc')['rain_cml3']\n",
    "rain_cml3 = assign_crs(rain_cml3, crs ='epsg:4326')\n",
    "rain_cml3=rain_cml3.sel(time=slice(t1, t2))\n",
    "rain_cml3=rain_cml3.odc.reproject(how=ds.odc.geobox)\n",
    "ds['rain_cml3'] = rain_cml3\n",
    "\n",
    "rain_cml6 = xr.open_dataset('/g/data/os22/chad_tmp/climate-carbon-interactions/data/5km/rain_cml6_5km_monthly_1982_2022.nc')['rain_cml6']\n",
    "rain_cml6 = assign_crs(rain_cml6, crs ='epsg:4326')\n",
    "rain_cml6=rain_cml6.sel(time=slice(t1, t2))\n",
    "rain_cml6=rain_cml6.odc.reproject(how=ds.odc.geobox)\n",
    "ds['rain_cml6'] = rain_cml6\n",
    "\n",
    "rain_cml3_anom = xr.open_dataset('/g/data/os22/chad_tmp/climate-carbon-interactions/data/5km/rain_cml3_anom_5km_monthly_1982_2022.nc')['rain_cml3_anom']\n",
    "rain_cml3_anom = assign_crs(rain_cml3_anom, crs ='epsg:4326')\n",
    "rain_cml3_anom=rain_cml3_anom.sel(time=slice(t1, t2))\n",
    "rain_cml3_anom=rain_cml3_anom.odc.reproject(how=ds.odc.geobox)\n",
    "ds['rain_cml3_anom'] = rain_cml3_anom\n",
    "\n",
    "vpd = xr.open_dataset('/g/data/os22/chad_tmp/climate-carbon-interactions/data/5km/vpd_5km_monthly_1982_2022.nc')['vpd']\n",
    "vpd = assign_crs(vpd, crs ='epsg:4326')\n",
    "vpd=vpd.sel(time=slice(t1, t2))\n",
    "vpd=vpd.odc.reproject(how=ds.odc.geobox)\n",
    "ds['vpd'] = vpd\n",
    "\n",
    "srad = xr.open_dataset('/g/data/os22/chad_tmp/climate-carbon-interactions/data/5km/srad_5km_monthly_1982_2022.nc')['srad']\n",
    "srad = assign_crs(srad, crs ='epsg:4326')\n",
    "srad=srad.sel(time=slice(t1, t2))\n",
    "srad=srad.odc.reproject(how=ds.odc.geobox)\n",
    "ds['srad'] = srad\n",
    "\n",
    "tavg = xr.open_dataset('/g/data/os22/chad_tmp/climate-carbon-interactions/data/5km/tavg_5km_monthly_1982_2022.nc')['tavg']\n",
    "tavg = assign_crs(tavg, crs ='epsg:4326')\n",
    "tavg=tavg.sel(time=slice('2001', '2013'))\n",
    "tavg=tavg.odc.reproject(how=ds.odc.geobox)\n",
    "ds['tavg'] = tavg\n",
    "\n",
    "CO2 = xr.open_dataset('/g/data/os22/chad_tmp/climate-carbon-interactions/data/5km/CO2_5km_monthly_1982_2022.nc')['CO2']\n",
    "CO2 = assign_crs(CO2, crs ='epsg:4326')\n",
    "CO2=CO2.sel(time=slice(t1, t2))\n",
    "CO2=CO2.odc.reproject(how=ds.odc.geobox)\n",
    "ds['CO2'] = CO2.transpose('time','x', 'y')\n",
    "\n",
    "mod = xr.open_dataset('/g/data/os22/chad_tmp/climate-carbon-interactions/data/NDVI_harmonization/MODIS_NDVI_5km_monthly_2001_2022.nc')['NDVI_median']\n",
    "mod = assign_crs(mod, crs ='epsg:3577')\n",
    "mod = mod.sel(time=slice('2001', '2013'))\n",
    "\n",
    "mean = mod.mean('time')\n",
    "mean = mean.expand_dims(time=ds.time)\n",
    "ds['NDVI_modis_mean'] = mean\n",
    "\n",
    "ds = ds.drop(['NDVI_stddev', 'n_obs'])"
   ]
  },
  {
   "cell_type": "markdown",
   "id": "76a4fcba-410d-40ca-90ff-37d7a1455139",
   "metadata": {},
   "source": [
    "### Add lat as a variable\n",
    "\n",
    "Plus ensure order of the variables is correct for predictions"
   ]
  },
  {
   "cell_type": "code",
   "execution_count": null,
   "id": "bfdf32e2-49cb-4dbf-9a70-6c26f0d07c3d",
   "metadata": {},
   "outputs": [],
   "source": [
    "y = ds.y\n",
    "y = y.expand_dims(time=ds.time, x=ds.x)\n",
    "y = y.transpose('time', 'y', 'x')\n",
    "ds['y_gridded'] = y\n",
    "\n",
    "# lon = ds.longitude\n",
    "# lon = lon.expand_dims(time=ds.time, latitude=ds.latitude)\n",
    "# lon = lon.transpose('time', 'latitude', 'longitude')\n",
    "# ds['longitude_gridded'] = lon"
   ]
  },
  {
   "cell_type": "code",
   "execution_count": null,
   "id": "75a58540-430f-4b41-b92a-2768cfd63350",
   "metadata": {},
   "outputs": [],
   "source": [
    "columns = list(ds.data_vars)[:-1]\n",
    "columns.insert(0, 'y_gridded')\n",
    "ds = ds[columns]\n",
    "# ds = ds.rename({'latitude':'y', 'longitude':'x'})"
   ]
  },
  {
   "cell_type": "markdown",
   "id": "08a87027-d8d8-47ea-b336-4c8ee669232d",
   "metadata": {},
   "source": [
    "### Create a mask"
   ]
  },
  {
   "cell_type": "code",
   "execution_count": null,
   "id": "3865f580-259f-495d-b107-e68a3edf6711",
   "metadata": {},
   "outputs": [],
   "source": [
    "trees = xr.open_dataset('/g/data/os22/chad_tmp/climate-carbon-interactions/data/5km/trees_5km_monthly_1982_2022.nc')['trees']\n",
    "trees = assign_crs(trees, crs ='epsg:4326')\n",
    "trees=trees.sel(time=slice('2001', '2018'))\n",
    "trees=trees.odc.reproject(how=ds.odc.geobox)\n",
    "trees = trees.mean('time')\n",
    "\n",
    "if name=='trees':\n",
    "    mask = xr.where(trees>0.5, 1, 0)\n",
    "if name=='nontrees':\n",
    "    mask = xr.where(trees<=0.5, 1, 0)\n",
    "# mask = ~np.isnan(ds['NDVI_modis_mean'])\n",
    "\n",
    "avhrr_mask = ~np.isnan(ds['NDVI_median_avhrr'])"
   ]
  },
  {
   "cell_type": "markdown",
   "id": "21439f55-ba6a-4f0b-99cf-758e033464e1",
   "metadata": {},
   "source": [
    "### Predict"
   ]
  },
  {
   "cell_type": "code",
   "execution_count": null,
   "id": "4cbffda7-5d1d-4caa-b05d-7cc53fdb52e0",
   "metadata": {},
   "outputs": [],
   "source": [
    "warnings.filterwarnings(\"ignore\")\n",
    "results = []\n",
    "i=0\n",
    "for i in range(0, len(ds.time)):\n",
    "    print(\" {:03}/{:03}\\r\".format(i + 1, len(range(0, len(ds.time)))), end=\"\")\n",
    "    with HiddenPrints():\n",
    "        predicted = predict_xr(model,\n",
    "                            ds.isel(time=i).drop('time'),\n",
    "                            proba=False,\n",
    "                            clean=True,\n",
    "                            chunk_size=100000,\n",
    "                              ).compute()\n",
    "    \n",
    "    # predicted = predicted.Predictions.where(~mask.isel(time=i))\n",
    "    predicted = predicted.assign_coords(time=ds.isel(time=i).time).expand_dims(time=1)\n",
    "    results.append(predicted.astype('float32'))\n",
    "    i+=1"
   ]
  },
  {
   "cell_type": "code",
   "execution_count": null,
   "id": "e9564a44-c8e8-4251-9dc4-c4edfde40e2d",
   "metadata": {},
   "outputs": [],
   "source": [
    "yy = xr.concat(results, dim='time').sortby('time').rename({'Predictions':model_var})#.astype('float32')\n",
    "yy = yy.where(mask)"
   ]
  },
  {
   "cell_type": "code",
   "execution_count": null,
   "id": "0af92c2f-ab47-4396-8d30-dc552181918e",
   "metadata": {},
   "outputs": [],
   "source": [
    "yy = yy.where(avhrr_mask)"
   ]
  },
  {
   "cell_type": "code",
   "execution_count": null,
   "id": "08c09c36-d957-4a93-aaa8-6df48cff3d95",
   "metadata": {},
   "outputs": [],
   "source": [
    "yy.to_netcdf('/g/data/os22/chad_tmp/climate-carbon-interactions/data/NDVI_harmonization/'+model_var+'_'+name+'_LGBM_harmonize_test_5km_monthly_1982_2013.nc')"
   ]
  },
  {
   "cell_type": "code",
   "execution_count": null,
   "id": "1c171f3c-1951-4f5a-8739-5ad29c3f7109",
   "metadata": {},
   "outputs": [],
   "source": [
    "yy[model_var].mean(['x', 'y']).plot(figsize=(11,4))"
   ]
  },
  {
   "cell_type": "code",
   "execution_count": null,
   "id": "ec683077-af19-4e90-839f-77c8c10c151a",
   "metadata": {},
   "outputs": [],
   "source": []
  },
  {
   "cell_type": "code",
   "execution_count": null,
   "id": "85b127d7-f4dd-444f-b220-92aabc81cc74",
   "metadata": {},
   "outputs": [],
   "source": []
  }
 ],
 "metadata": {
  "kernelspec": {
   "display_name": "Python 3 (ipykernel)",
   "language": "python",
   "name": "python3"
  },
  "language_info": {
   "codemirror_mode": {
    "name": "ipython",
    "version": 3
   },
   "file_extension": ".py",
   "mimetype": "text/x-python",
   "name": "python",
   "nbconvert_exporter": "python",
   "pygments_lexer": "ipython3",
   "version": "3.9.2"
  }
 },
 "nbformat": 4,
 "nbformat_minor": 5
}
