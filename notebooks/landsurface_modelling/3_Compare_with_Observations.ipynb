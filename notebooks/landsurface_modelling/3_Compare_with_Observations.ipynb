{
 "cells": [
  {
   "cell_type": "markdown",
   "id": "05d5eb2a-07bd-4cb7-9cc7-b8917779f3a9",
   "metadata": {},
   "source": [
    "## Compare Synthetic with Observations\n",
    "\n",
    "per pixel error estimates\n"
   ]
  },
  {
   "cell_type": "code",
   "execution_count": null,
   "id": "15e9a552-82ff-4df9-bda4-ddb75a21afff",
   "metadata": {},
   "outputs": [],
   "source": [
    "import folium\n",
    "import xskillscore as xs\n",
    "import xarray as xr\n",
    "import numpy as np\n",
    "import matplotlib.pyplot as plt\n",
    "import matplotlib as mpl\n",
    "import seaborn as sb\n",
    "\n",
    "import odc.geo.xr\n",
    "from odc.geo.xr import assign_crs"
   ]
  },
  {
   "cell_type": "code",
   "execution_count": null,
   "id": "0d39bd73-f450-4648-b28c-13153156088c",
   "metadata": {},
   "outputs": [],
   "source": [
    "model_var='LST'"
   ]
  },
  {
   "cell_type": "code",
   "execution_count": null,
   "id": "07dcf134-a00a-4d84-adb4-2ac9c5c47db8",
   "metadata": {},
   "outputs": [],
   "source": [
    "yy = xr.open_dataset('/g/data/os22/chad_tmp/climate-carbon-interactions/results/ml_predictions/'+model_var+'_predicted_5km_monthly_1982_2022.nc')\n",
    "obs = xr.open_dataset('/g/data/os22/chad_tmp/climate-carbon-interactions/data/'+model_var+'_harmonization/'+model_var+'_5km_monthly_1982_2022_wGaps.nc')\n",
    "\n",
    "if model_var=='LST':\n",
    "    yy = yy-273.15\n",
    "    obs = obs-273.15\n",
    "\n",
    "obs = obs.sel(time=yy.time)\n",
    "obs = obs[model_var].rename({'latitude':'y', 'longitude':'x'})\n",
    "gaps_mask = ~np.isnan(obs)"
   ]
  },
  {
   "cell_type": "code",
   "execution_count": null,
   "id": "9a49aebf-a3ad-4fab-bbce-d27e07701819",
   "metadata": {},
   "outputs": [],
   "source": [
    "diff = yy[model_var] - obs"
   ]
  },
  {
   "cell_type": "code",
   "execution_count": null,
   "id": "b9df7951-fe82-416a-9d14-e38bde697430",
   "metadata": {},
   "outputs": [],
   "source": [
    "fig, ax = plt.subplots(1,1, figsize=(13,5))\n",
    "yy[model_var].where(gaps_mask).mean(['x','y']).plot(ax=ax, label='predictions')\n",
    "obs.mean(['x','y']).plot(ax=ax, label='observed')\n",
    "# ax.set_ylim(0.15, 0.40)\n",
    "ax.legend()\n",
    "ax.set_title('Aus-Wide '+model_var+ ' matched data gaps');"
   ]
  },
  {
   "cell_type": "markdown",
   "id": "3b1acd07-302e-48e0-889e-e9003086edd3",
   "metadata": {},
   "source": [
    "### Error metrics"
   ]
  },
  {
   "cell_type": "code",
   "execution_count": null,
   "id": "f1c68916-b744-4f12-a316-d492b6cc9f33",
   "metadata": {},
   "outputs": [],
   "source": [
    "corr = xr.corr(obs, yy[model_var], dim='time')\n",
    "mape = xs.mape(yy[model_var], obs, dim='time', skipna=True)\n",
    "mape = mape*100\n",
    "mae = xs.mae(yy[model_var], obs, dim='time', skipna=True)\n",
    "\n",
    "mape = mape.rename('MAPE (%)')\n",
    "mae = mae.rename('MAE')\n",
    "corr = corr.rename('Pearson Correlation')"
   ]
  },
  {
   "cell_type": "code",
   "execution_count": null,
   "id": "7988e353-3482-4708-9d87-2812299ac545",
   "metadata": {},
   "outputs": [],
   "source": [
    "pred_mean = yy[model_var].mean('time')\n",
    "obs_mean = obs.mean('time')"
   ]
  },
  {
   "cell_type": "code",
   "execution_count": null,
   "id": "42249346-31d7-46ee-b205-ff473084c70a",
   "metadata": {},
   "outputs": [],
   "source": [
    "fig, ax = plt.subplots(1,3, figsize=(15,5), sharey=True)\n",
    "mae.plot.imshow(ax=ax[0], robust=True, add_labels=False, cmap='cividis')\n",
    "mape.plot.imshow(ax=ax[1], robust=True, add_labels=False, cmap='inferno')\n",
    "corr.plot.imshow(ax=ax[2], cmap='magma', vmin=0.5, vmax=1.0, add_labels=False)\n",
    "ax[0].set_title('Mean Absolute Error')\n",
    "ax[1].set_title('Mean Absolute Percentage Error')\n",
    "ax[2].set_title('Pearson Correlation Coefficient')\n",
    "plt.tight_layout()\n",
    "\n",
    "fig.savefig(\"/g/data/os22/chad_tmp/climate-carbon-interactions/results/figs/Error_metrics_\"+model_var+\"_lgbm.png\",\n",
    "            bbox_inches='tight', dpi=300)"
   ]
  },
  {
   "cell_type": "code",
   "execution_count": null,
   "id": "0d9ea5b9-b392-4a5b-80a7-23e7fe2411fe",
   "metadata": {},
   "outputs": [],
   "source": [
    "m = folium.Map(control_scale = True)\n",
    "\n",
    "# assign_crs(corr, crs='EPSG:4326').odc.add_to(m, vmin=0.5, vmax=1.0, cmap='magma')\n",
    "assign_crs(mae, crs='EPSG:4326').odc.add_to(m, robust=True, cmap='inferno')\n",
    "\n",
    "# Zoom map to Australia\n",
    "m.fit_bounds(corr.odc.map_bounds())\n",
    "\n",
    "tile = folium.TileLayer(\n",
    "        tiles = 'https://server.arcgisonline.com/ArcGIS/rest/services/World_Imagery/MapServer/tile/{z}/{y}/{x}',\n",
    "        attr = 'Esri',\n",
    "        name = 'Esri Satellite',\n",
    "        overlay = True,\n",
    "        control = True\n",
    "       ).add_to(m)\n",
    "\n",
    "folium.LayerControl().add_to(m)\n",
    "display(m)"
   ]
  },
  {
   "cell_type": "code",
   "execution_count": null,
   "id": "f81a30bc-57bd-4262-b7f5-249a5a933bc4",
   "metadata": {},
   "outputs": [],
   "source": []
  }
 ],
 "metadata": {
  "kernelspec": {
   "display_name": "Python 3 (ipykernel)",
   "language": "python",
   "name": "python3"
  },
  "language_info": {
   "codemirror_mode": {
    "name": "ipython",
    "version": 3
   },
   "file_extension": ".py",
   "mimetype": "text/x-python",
   "name": "python",
   "nbconvert_exporter": "python",
   "pygments_lexer": "ipython3",
   "version": "3.9.2"
  }
 },
 "nbformat": 4,
 "nbformat_minor": 5
}
