{
 "cells": [
  {
   "cell_type": "markdown",
   "id": "bb00a025-659c-47f3-a468-48a275d6930f",
   "metadata": {},
   "source": [
    "# Predictions"
   ]
  },
  {
   "cell_type": "code",
   "execution_count": null,
   "id": "939bcd25-6f50-4612-8d52-1cfe7caa5c55",
   "metadata": {},
   "outputs": [],
   "source": [
    "import xarray as xr\n",
    "import numpy as np\n",
    "from joblib import load\n",
    "from odc.geo.xr import assign_crs\n",
    "import matplotlib.pyplot as plt\n",
    "from datacube.utils.dask import start_local_dask\n",
    "\n",
    "import sys\n",
    "sys.path.append('/g/data/os22/chad_tmp/dea-notebooks/Tools/')\n",
    "from dea_tools.classification import predict_xr, HiddenPrints\n",
    "\n",
    "sys.path.append('/g/data/os22/chad_tmp/AusEFlux/src/')\n",
    "from _collect_prediction_data import round_coords"
   ]
  },
  {
   "cell_type": "code",
   "execution_count": null,
   "id": "317ebf67-22b1-4f81-a099-a547d326dddc",
   "metadata": {},
   "outputs": [],
   "source": [
    "client = start_local_dask(mem_safety_margin='2Gb')\n",
    "client"
   ]
  },
  {
   "cell_type": "code",
   "execution_count": null,
   "id": "44a03e66-ecfc-4444-8dc4-4a9bda2e18fd",
   "metadata": {},
   "outputs": [],
   "source": [
    "model_var='LST'"
   ]
  },
  {
   "cell_type": "markdown",
   "id": "36f5426b-a0e3-4901-b101-ec8cb604a8d2",
   "metadata": {},
   "source": [
    "### Load model"
   ]
  },
  {
   "cell_type": "code",
   "execution_count": null,
   "id": "e51968a0-f8ed-4be0-b337-9907bdd4bde2",
   "metadata": {},
   "outputs": [],
   "source": [
    "model = load('/g/data/os22/chad_tmp/climate-carbon-interactions/results/models/gapfill/gapfill_'+model_var+'_LGBM.joblib').set_params(n_jobs=1)"
   ]
  },
  {
   "cell_type": "markdown",
   "id": "aecd3878-af3f-4566-98bf-2be9c55ea426",
   "metadata": {},
   "source": [
    "### Load prediction data\n",
    "\n",
    "and index to match training data order"
   ]
  },
  {
   "cell_type": "code",
   "execution_count": null,
   "id": "fb23b43c-2809-45a5-bd2f-539ba6291ff1",
   "metadata": {},
   "outputs": [],
   "source": [
    "base = '/g/data/os22/chad_tmp/climate-carbon-interactions/data/'\n",
    "\n",
    "datasets = [\n",
    "     model_var+'_harmonization/'+model_var+'_5km_monthly_1982_2022_wGaps.nc',\n",
    "    '5km/rain_5km_monthly_1981_2022.nc',\n",
    "    '5km/rain_cml3_5km_monthly_1982_2022.nc',\n",
    "    '5km/rain_cml3_anom_5km_monthly_1982_2022.nc',\n",
    "    '5km/rain_cml6_5km_monthly_1982_2022.nc',\n",
    "    '5km/rain_cml12_5km_monthly_1982_2022.nc',\n",
    "    '5km/srad_5km_monthly_1982_2022.nc',\n",
    "    '5km/srad_anom_5km_monthly_1982_2022.nc',\n",
    "    '5km/tavg_5km_monthly_1982_2022.nc',\n",
    "    '5km/tavg_anom_5km_monthly_1982_2022.nc',\n",
    "    '5km/vpd_5km_monthly_1982_2022.nc',\n",
    "    '5km/MOY_5km_monthly_1982_2022.nc',\n",
    "    '5km/Elevation_5km_monthly_1982_2022.nc',\n",
    "    '5km/CO2_5km_monthly_1982_2022.nc',\n",
    "    '5km/WCF_5km_monthly_1982_2022.nc',\n",
    "    #'5km/VegH_5km_monthly_1982_2022.nc',\n",
    "    '5km/Aspect_5km_monthly_1982_2022.nc',\n",
    "    # '5km/Landcover_5km_monthly_1982_2022.nc'\n",
    "           ]"
   ]
  },
  {
   "cell_type": "code",
   "execution_count": null,
   "id": "65d68181-e167-4765-8163-1d0f5298afeb",
   "metadata": {},
   "outputs": [],
   "source": [
    "dss = []\n",
    "for d in datasets:\n",
    "    xx = xr.open_dataset(base+d).sel(time=slice('1982','2022'))\n",
    "    xx = assign_crs(xx, crs ='epsg:4326')\n",
    "    xx = round_coords(xx)\n",
    "    xx = xx.drop('spatial_ref')\n",
    "    dss.append(xx)\n",
    "\n",
    "ds = xr.merge(dss)\n",
    "ds = assign_crs(ds, crs ='epsg:4326')"
   ]
  },
  {
   "cell_type": "markdown",
   "id": "76a4fcba-410d-40ca-90ff-37d7a1455139",
   "metadata": {},
   "source": [
    "### Add lat as a variable\n",
    "\n",
    "Plus ensure order of the variables is correct for predictions"
   ]
  },
  {
   "cell_type": "code",
   "execution_count": null,
   "id": "bfdf32e2-49cb-4dbf-9a70-6c26f0d07c3d",
   "metadata": {},
   "outputs": [],
   "source": [
    "lat = ds.latitude\n",
    "lat = lat.expand_dims(time=ds.time, longitude=ds.longitude)\n",
    "lat = lat.transpose('time', 'latitude', 'longitude')\n",
    "ds['latitude_gridded'] = lat\n",
    "\n",
    "# lon = ds.longitude\n",
    "# lon = lon.expand_dims(time=ds.time, latitude=ds.latitude)\n",
    "# lon = lon.transpose('time', 'latitude', 'longitude')\n",
    "# ds['longitude_gridded'] = lon"
   ]
  },
  {
   "cell_type": "code",
   "execution_count": null,
   "id": "75a58540-430f-4b41-b92a-2768cfd63350",
   "metadata": {},
   "outputs": [],
   "source": [
    "columns = list(ds.data_vars)[1:-1]\n",
    "# columns.insert(0, 'longitude_gridded')\n",
    "columns.insert(0, 'latitude_gridded')\n",
    "ds = ds[columns]\n",
    "ds = ds.rename({'latitude':'y', 'longitude':'x'})"
   ]
  },
  {
   "cell_type": "markdown",
   "id": "08a87027-d8d8-47ea-b336-4c8ee669232d",
   "metadata": {},
   "source": [
    "### Create a mask"
   ]
  },
  {
   "cell_type": "code",
   "execution_count": null,
   "id": "3865f580-259f-495d-b107-e68a3edf6711",
   "metadata": {},
   "outputs": [],
   "source": [
    "mask = ~np.isnan(ds.WCF.sel(time='2015').mean('time'))"
   ]
  },
  {
   "cell_type": "markdown",
   "id": "21439f55-ba6a-4f0b-99cf-758e033464e1",
   "metadata": {},
   "source": [
    "### Predict"
   ]
  },
  {
   "cell_type": "code",
   "execution_count": null,
   "id": "4cbffda7-5d1d-4caa-b05d-7cc53fdb52e0",
   "metadata": {},
   "outputs": [],
   "source": [
    "results = []\n",
    "i=0\n",
    "for i in range(0, len(ds.time)):\n",
    "    print(\" {:03}/{:03}\\r\".format(i + 1, len(range(0, len(ds.time)))), end=\"\")\n",
    "    with HiddenPrints():\n",
    "        predicted = predict_xr(model,\n",
    "                            ds.isel(time=i).drop('time'),\n",
    "                            proba=False,\n",
    "                            clean=True,\n",
    "                            chunk_size=100000,\n",
    "                              ).compute()\n",
    "    \n",
    "    # predicted = predicted.Predictions.where(~mask.isel(time=i))\n",
    "    predicted = predicted.assign_coords(time=ds.isel(time=i).time).expand_dims(time=1)\n",
    "    results.append(predicted.astype('float32'))\n",
    "    i+=1"
   ]
  },
  {
   "cell_type": "code",
   "execution_count": null,
   "id": "e9564a44-c8e8-4251-9dc4-c4edfde40e2d",
   "metadata": {},
   "outputs": [],
   "source": [
    "yy = xr.concat(results, dim='time').sortby('time').rename({'Predictions':model_var})#.astype('float32')\n",
    "yy = yy.where(mask)"
   ]
  },
  {
   "cell_type": "code",
   "execution_count": null,
   "id": "08c09c36-d957-4a93-aaa8-6df48cff3d95",
   "metadata": {},
   "outputs": [],
   "source": [
    "yy.to_netcdf('/g/data/os22/chad_tmp/climate-carbon-interactions/results/ml_predictions/'+model_var+'_predicted_5km_monthly_1982_2022.nc')"
   ]
  },
  {
   "cell_type": "code",
   "execution_count": null,
   "id": "90e9b2a4-f471-4529-a6e2-df4bb6617004",
   "metadata": {},
   "outputs": [],
   "source": [
    "yy[model_var].mean(['x','y']).plot(figsize=(11,5))"
   ]
  },
  {
   "cell_type": "code",
   "execution_count": null,
   "id": "a53a3fe7-31a0-47b4-89f5-02698a326919",
   "metadata": {},
   "outputs": [],
   "source": []
  }
 ],
 "metadata": {
  "kernelspec": {
   "display_name": "Python 3 (ipykernel)",
   "language": "python",
   "name": "python3"
  },
  "language_info": {
   "codemirror_mode": {
    "name": "ipython",
    "version": 3
   },
   "file_extension": ".py",
   "mimetype": "text/x-python",
   "name": "python",
   "nbconvert_exporter": "python",
   "pygments_lexer": "ipython3",
   "version": "3.9.2"
  }
 },
 "nbformat": 4,
 "nbformat_minor": 5
}
