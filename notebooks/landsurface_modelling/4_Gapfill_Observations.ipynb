{
 "cells": [
  {
   "cell_type": "markdown",
   "id": "62dedf8e-c714-4688-809d-cc17e3adbec5",
   "metadata": {},
   "source": [
    "# Gapfilling Observations with Synthetic data"
   ]
  },
  {
   "cell_type": "markdown",
   "id": "149aeee1-6bb0-4dfe-9b73-afc75e82a38a",
   "metadata": {},
   "source": [
    "## Create no-gaps datasets"
   ]
  },
  {
   "cell_type": "code",
   "execution_count": null,
   "id": "48051475-5842-4531-8425-5a6085c4eafe",
   "metadata": {},
   "outputs": [],
   "source": [
    "import folium\n",
    "import numpy as np\n",
    "import xarray as xr\n",
    "import seaborn as sb\n",
    "import matplotlib as mpl\n",
    "import matplotlib.pyplot as plt\n",
    "from matplotlib.cm import ScalarMappable\n",
    "import odc.geo.xr\n",
    "from odc.geo.xr import assign_crs"
   ]
  },
  {
   "cell_type": "code",
   "execution_count": null,
   "id": "9daa2d37-79f7-442a-988a-3c38a68a4cd2",
   "metadata": {},
   "outputs": [],
   "source": [
    "model_var='NDVI'"
   ]
  },
  {
   "cell_type": "code",
   "execution_count": null,
   "id": "6076d9ac-3cda-4d21-ad69-081492078302",
   "metadata": {},
   "outputs": [],
   "source": [
    "yy = xr.open_dataset('/g/data/os22/chad_tmp/climate-carbon-interactions/results/ml_predictions/'+model_var+'_predicted_5km_monthly_1982_2022.nc')\n",
    "obs = xr.open_dataset('/g/data/os22/chad_tmp/climate-carbon-interactions/data/'+model_var+'_harmonization/'+model_var+'_5km_monthly_1982_2022_wGaps.nc')\n",
    "\n",
    "if model_var=='LST':\n",
    "    yy = yy-273.15\n",
    "    obs = obs-273.15\n",
    "\n",
    "obs = obs.sel(time=yy.time)\n",
    "yy = yy.rename({'y':'latitude', 'x':'longitude'})"
   ]
  },
  {
   "cell_type": "code",
   "execution_count": null,
   "id": "c76c9b56-2e0e-4b40-868c-db1083b4f4f2",
   "metadata": {},
   "outputs": [],
   "source": [
    "#fill with synthetic data\n",
    "syn_fill = obs.fillna(yy[model_var])"
   ]
  },
  {
   "cell_type": "markdown",
   "id": "98e287db-f5c0-4b46-a036-03955a987d88",
   "metadata": {},
   "source": [
    "## Save to disk"
   ]
  },
  {
   "cell_type": "code",
   "execution_count": null,
   "id": "53221042-767c-42ce-be4b-895e8f57b597",
   "metadata": {},
   "outputs": [],
   "source": [
    "syn_fill.to_netcdf('/g/data/os22/chad_tmp/climate-carbon-interactions/data/5km/'+model_var+'_5km_monthly_1982_2022.nc')"
   ]
  },
  {
   "cell_type": "markdown",
   "id": "07d998b6-dad7-4289-b243-f304ea7b600d",
   "metadata": {},
   "source": [
    "## Plots"
   ]
  },
  {
   "cell_type": "code",
   "execution_count": null,
   "id": "93265a9c-70aa-410a-afdd-8c257575dd95",
   "metadata": {},
   "outputs": [],
   "source": [
    "data = [obs, yy[model_var], syn_fill]\n",
    "products=['Observed', 'Synthetic', 'Gap-filled']"
   ]
  },
  {
   "cell_type": "code",
   "execution_count": null,
   "id": "30179eee-6bfa-427e-ba8c-43f54e6c075c",
   "metadata": {},
   "outputs": [],
   "source": [
    "if model_var=='NDVI':\n",
    "    cmap='gist_earth_r'\n",
    "    vmin=0.1\n",
    "    vmax=0.8\n",
    "\n",
    "if model_var=='LST':\n",
    "    cmap='inferno'\n",
    "    vmin=5\n",
    "    vmax=40\n",
    "\n",
    "t = 210\n",
    "\n",
    "fig,axes = plt.subplots(1,3, figsize=(18,6), sharey=True)\n",
    "for ax, ds, n in zip(axes.ravel(), data, products):\n",
    "    im = ds.isel(time=t).plot.imshow(ax=ax, robust=True, vmin=vmin, vmax=vmax, add_colorbar=False, cmap=cmap) #\n",
    "    y = ds.isel(time=t).time.dt.year.values\n",
    "    m = ds.isel(time=t).time.dt.month.values\n",
    "    ax.set_title(n+' '+str(y)+'-'+str(m),  fontsize=15);\n",
    "    ax.set_yticklabels([])\n",
    "    ax.set_ylabel('')\n",
    "    ax.set_xlabel('')\n",
    "    ax.set_xticklabels([])\n",
    "fig.subplots_adjust(wspace=0.05)\n",
    "fig.colorbar(im, ax=axes.ravel().tolist(), pad=0.01, label=model_var);"
   ]
  },
  {
   "cell_type": "markdown",
   "id": "9dde9c60-6ddd-4e7f-a2c0-2acbc45c87d3",
   "metadata": {},
   "source": [
    "## Animations"
   ]
  },
  {
   "cell_type": "code",
   "execution_count": null,
   "id": "0ec7ff75-84e9-4f4d-afa4-c3385e19c898",
   "metadata": {},
   "outputs": [],
   "source": [
    "import sys\n",
    "sys.path.append('/g/data/os22/chad_tmp/dea-notebooks/Tools/')\n",
    "from dea_tools.plotting import xr_animation\n",
    "from IPython.display import Image"
   ]
  },
  {
   "cell_type": "code",
   "execution_count": null,
   "id": "323be52d-9133-4f22-a494-b86d16a8ff70",
   "metadata": {},
   "outputs": [],
   "source": [
    "# # Produce time series animation\n",
    "# path = '/g/data/os22/chad_tmp/climate-carbon-interactions/results/gifs/'+model_var+'_observed.gif'\n",
    "# path = '/g/data/os22/chad_tmp/climate-carbon-interactions/results/gifs/'+model_var+'_synthetic.gif'\n",
    "path = '/g/data/os22/chad_tmp/climate-carbon-interactions/results/gifs/'+model_var+'_gapfilled.gif'\n",
    "\n",
    "if model_var=='NDVI':\n",
    "    cmap='gist_earth_r'\n",
    "    vmin=0.1\n",
    "    vmax=0.8\n",
    "\n",
    "if model_var=='LST':\n",
    "    cmap='inferno'\n",
    "    vmin=5\n",
    "    vmax=45\n",
    "\n",
    "xr_animation(\n",
    "             # ds=obs.to_dataset().sel(time=slice('1982','2000')).rolling(time=2, min_periods=1).mean(), \n",
    "             # ds=yy[model_var].to_dataset().sel(time=slice('1982','2000')).rolling(time=2, min_periods=1).mean(), \n",
    "             syn_fill.to_dataset().sel(time=slice('1982','2000')).rolling(time=2, min_periods=1).mean(), \n",
    "             output_path=path,\n",
    "             bands=[model_var],  \n",
    "             show_date='%B-%Y',\n",
    "             show_text=model_var,\n",
    "             interval=200,\n",
    "             imshow_kwargs={'cmap': cmap, 'vmin': vmin, 'vmax': vmax},\n",
    "             colorbar_kwargs={'colors': 'black'},\n",
    "             # width_pixels=300,\n",
    "             annotation_kwargs= {'color':'black', 'animated': True}\n",
    "    ) \n",
    "\n",
    "# Plot animated gif\n",
    "plt.close()\n",
    "Image(filename=path)"
   ]
  },
  {
   "cell_type": "markdown",
   "id": "fe8be11c-ef7f-4257-a936-1544759ea413",
   "metadata": {},
   "source": [
    "## Create a Aus-wide timeseries plot\n",
    "\n",
    "With rainfall anomalies"
   ]
  },
  {
   "cell_type": "code",
   "execution_count": null,
   "id": "363f1b97-3687-4e72-b6ac-9191b66501f1",
   "metadata": {},
   "outputs": [],
   "source": [
    "yy = xr.open_dataset('/g/data/os22/chad_tmp/climate-carbon-interactions/results/ml_predictions/'+model_var+'_predicted_5km_monthly_1982_2022.nc')\n",
    "yy = yy[model_var]\n",
    "obs = xr.open_dataset('/g/data/os22/chad_tmp/climate-carbon-interactions/data/'+model_var+'_harmonization/'+model_var+'_5km_monthly_1982_2022_wGaps.nc')\n",
    "obs = obs[model_var].sel(time=slice('1982','2022')).rename({'latitude':'y', 'longitude':'x'})\n"
   ]
  },
  {
   "cell_type": "code",
   "execution_count": null,
   "id": "efbc9d15-0ff4-4bf6-b485-5976c688eda4",
   "metadata": {},
   "outputs": [],
   "source": [
    "rain = xr.open_dataset('/g/data/os22/chad_tmp/climate-carbon-interactions/data/5km/rain_5km_monthly_1981_2022.nc').rain\n",
    "rain_clim_std = rain.sel(time=slice('1982', '2012')).groupby('time.month').std().compute()\n",
    "rain_clim_mean = rain.sel(time=slice('1982', '2012')).groupby('time.month').mean().compute()\n",
    "\n",
    "#standardized anom\n",
    "def stand_anomalies(ds, clim_mean, clim_std):\n",
    "    std_anom = xr.apply_ufunc(lambda x, m, s: (x - m) / s,\n",
    "    ds.compute().groupby(\"time.month\"),\n",
    "    clim_mean, clim_std)\n",
    "    return std_anom\n",
    "\n",
    "rain_std_anom = stand_anomalies(rain, rain_clim_mean, rain_clim_std)\n",
    "\n",
    "rain_df = rain_std_anom.rename('rain').sel(time=slice('1982', '2022')).rolling(time=3,\n",
    "                min_periods=1).mean().mean(['latitude','longitude']).to_dataframe().drop(['spatial_ref', 'month'], axis=1)"
   ]
  },
  {
   "cell_type": "code",
   "execution_count": null,
   "id": "f2d91742-da5c-4197-8973-5425b1de6281",
   "metadata": {},
   "outputs": [],
   "source": [
    "#fill with synthetic data\n",
    "syn_fill = obs.fillna(yy)"
   ]
  },
  {
   "cell_type": "code",
   "execution_count": null,
   "id": "042e4a53-2be1-4d1c-b994-0c7cdbc988f2",
   "metadata": {},
   "outputs": [],
   "source": [
    "fig, ax = plt.subplots(1,1, figsize=(18,6))\n",
    "ax2 = ax.twinx()\n",
    "\n",
    "obs.rolling(time=3, min_periods=1).mean().mean(['x','y']).plot(ax=ax, label='observed (with gaps)', c='black')\n",
    "yy.rolling(time=3, min_periods=1).mean().mean(['x','y']).plot(ax=ax, label='predictions', linestyle='dashed', c='red')\n",
    "syn_fill.rolling(time=3, min_periods=1).mean().mean(['x','y']).plot(ax=ax, label='ML gap-filled', linestyle='dashed', c='forestgreen')\n",
    "\n",
    "norm=plt.Normalize(-2,2)\n",
    "cmap = mpl.colors.LinearSegmentedColormap.from_list(\"\", ['saddlebrown','chocolate','white','darkturquoise','darkcyan'], N=256)\n",
    "\n",
    "# Plot bars\n",
    "bar = ax2.bar(rain_df.index, 1, color=cmap(norm(rain_df['rain'])), width=32)\n",
    "\n",
    "sm = ScalarMappable(cmap=cmap, norm=norm)\n",
    "sm.set_array([])\n",
    "cbar = plt.colorbar(sm, shrink=0.8, pad=0.01)\n",
    "cbar.set_label('Rainfall Anomaly',labelpad=.5)\n",
    "\n",
    "ax2.set_zorder(ax.get_zorder()-1)\n",
    "ax.set_frame_on(False)\n",
    "\n",
    "# Reformat y-axis label and tick labels\n",
    "ax.set_ylabel(model_var)\n",
    "ax.set_xlabel('')\n",
    "ax2.set_ylabel('')\n",
    "ax2.set_yticks([])\n",
    "ax2.set_ylim([0, 1]) \n",
    "ax.margins(x=0)\n",
    "\n",
    "# Adjust the margins around the plot area\n",
    "plt.subplots_adjust(left=0.1, right=None, top=None, bottom=0.2, wspace=None, hspace=None)\n",
    "\n",
    "if model_var=='NDVI':\n",
    "    ax.set_ylim(0.20, 0.40)\n",
    "\n",
    "ax.legend()\n",
    "ax.set_title('Australian three-month rolling mean '+model_var);\n",
    "fig.savefig(\"/g/data/os22/chad_tmp/climate-carbon-interactions/results/figs/Australian_\"+model_var+\"_rollingmean.png\",\n",
    "            bbox_inches='tight', dpi=300)"
   ]
  },
  {
   "cell_type": "code",
   "execution_count": null,
   "id": "f2a1af68-3eca-4f65-8401-6c43b0d433ed",
   "metadata": {},
   "outputs": [],
   "source": []
  },
  {
   "cell_type": "markdown",
   "id": "406d585d-db23-4e93-b62c-7fae68bce89d",
   "metadata": {},
   "source": [
    "## Test areas\n",
    "\n"
   ]
  },
  {
   "cell_type": "code",
   "execution_count": null,
   "id": "b64ec57f-b86c-4950-a608-44fe2fb5b376",
   "metadata": {},
   "outputs": [],
   "source": [
    "test_area_1 = obs.isel(y=range(115,120), x=range(355,360)) #Northern Territory tropical savannah\n",
    "test_area_2 = obs.isel(y=range(455,460), x=range(100,105)) # SW WA cropping\n",
    "test_area_3 = obs.isel(y=range(545,550), x=range(745,750)) # SE Aus forest\n",
    "\n",
    "test_area_1_yy = yy[model_var].isel(y=range(115,120), x=range(355,360))\n",
    "test_area_2_yy = yy[model_var].isel(y=range(455,460), x=range(100,105)) \n",
    "test_area_3_yy = yy[model_var].isel(y=range(545,550), x=range(745,750)) \n",
    "\n",
    "test_area_1 = test_area_1.sel(time=slice('1982', '2000')).mean(['x', 'y'])\n",
    "test_area_2 = test_area_2.sel(time=slice('1982', '2000')).mean(['x', 'y'])\n",
    "test_area_3 = test_area_3.sel(time=slice('1982', '2000')).mean(['x', 'y'])\n",
    "\n",
    "test_area_1_yy = test_area_1_yy.sel(time=slice('1982', '2000')).mean(['x', 'y'])\n",
    "test_area_2_yy = test_area_2_yy.sel(time=slice('1982', '2000')).mean(['x', 'y'])\n",
    "test_area_3_yy = test_area_3_yy.sel(time=slice('1982', '2000')).mean(['x', 'y'])"
   ]
  },
  {
   "cell_type": "code",
   "execution_count": null,
   "id": "9ed76dab-16f2-4429-a3b2-ef2b33a8a0c4",
   "metadata": {},
   "outputs": [],
   "source": [
    "#fill with climatology\n",
    "linear_area_1 = test_area_1.interpolate_na(method='linear', dim='time', limit=3)\n",
    "test_area_1_clim = test_area_1.groupby(\"time.month\").mean(\"time\")\n",
    "clim_area_1 = test_area_1.groupby(\"time.month\").fillna(test_area_1_clim)\n",
    "\n",
    "#combined fill\n",
    "combine_area_1 = linear_area_1.groupby(\"time.month\").fillna(clim_area_1).compute()\n",
    "\n",
    "#fill with synthetic data\n",
    "syn_fill_area_1 = test_area_1.fillna(test_area_1_yy)\n",
    "\n",
    "#---------------------------------------------------------------------------------\n",
    "#fill with climatology\n",
    "linear_area_2 = test_area_2.interpolate_na(method='linear', dim='time', limit=3)\n",
    "test_area_2_clim = test_area_2.groupby(\"time.month\").mean(\"time\")\n",
    "clim_area_2 = test_area_2.groupby(\"time.month\").fillna(test_area_2_clim)\n",
    "\n",
    "#combined fill\n",
    "combine_area_2 = linear_area_2.groupby(\"time.month\").fillna(clim_area_2).compute()\n",
    "\n",
    "#fill with synthetic data\n",
    "syn_fill_area_2 = test_area_2.fillna(test_area_2_yy)\n",
    "\n",
    "#---------------------------------------------------------------------------------\n",
    "#fill with climatology\n",
    "linear_area_3 = test_area_3.interpolate_na(method='linear', dim='time', limit=3)\n",
    "test_area_3_clim = test_area_3.groupby(\"time.month\").mean(\"time\")\n",
    "clim_area_3 = test_area_3.groupby(\"time.month\").fillna(test_area_3_clim)\n",
    "\n",
    "#combined fill\n",
    "combine_area_3 = linear_area_3.groupby(\"time.month\").fillna(clim_area_3).compute()\n",
    "\n",
    "#fill with synthetic data\n",
    "syn_fill_area_3 = test_area_3.fillna(test_area_3_yy)"
   ]
  },
  {
   "cell_type": "code",
   "execution_count": null,
   "id": "bb8c33f7-a6b8-479c-887a-c2d8eab5fe2f",
   "metadata": {},
   "outputs": [],
   "source": [
    "fig,ax = plt.subplots(3,1, figsize=(13,12), sharex=True)\n",
    "\n",
    "combine_area_1.plot(ax=ax[0], label='linear+climatology', linestyle='--', c='green')\n",
    "syn_fill_area_1.plot(ax=ax[0], label='synthetic', linestyle='dashdot', c='red')\n",
    "test_area_1.plot(ax=ax[0], label='original', c='black')\n",
    "ax[0].set_xlabel('')\n",
    "ax[0].set_title('Northern Territory test area, savannah')\n",
    "ax[0].legend()\n",
    "\n",
    "combine_area_2.plot(ax=ax[1], label='linear+climatology', linestyle='--', c='green')\n",
    "syn_fill_area_2.plot(ax=ax[1], label='synthetic', linestyle='dashdot', c='red')\n",
    "test_area_2.plot(ax=ax[1], label='original', c='black')\n",
    "ax[1].set_xlabel('')\n",
    "ax[1].set_title('SW WA test area, cropping')\n",
    "\n",
    "combine_area_3.plot(ax=ax[2], label='linear+climatology', linestyle='--', c='green')\n",
    "syn_fill_area_3.plot(ax=ax[2], label='synthetic', linestyle='dashdot', c='red')\n",
    "test_area_3.plot(ax=ax[2], label='original', c='black')\n",
    "ax[1].set_xlabel('')\n",
    "ax[2].set_title('SE Aus test area, forest')\n",
    "plt.tight_layout();"
   ]
  }
 ],
 "metadata": {
  "kernelspec": {
   "display_name": "Python 3 (ipykernel)",
   "language": "python",
   "name": "python3"
  },
  "language_info": {
   "codemirror_mode": {
    "name": "ipython",
    "version": 3
   },
   "file_extension": ".py",
   "mimetype": "text/x-python",
   "name": "python",
   "nbconvert_exporter": "python",
   "pygments_lexer": "ipython3",
   "version": "3.9.2"
  }
 },
 "nbformat": 4,
 "nbformat_minor": 5
}
