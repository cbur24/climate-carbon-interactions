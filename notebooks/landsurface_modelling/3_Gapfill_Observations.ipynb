{
 "cells": [
  {
   "cell_type": "markdown",
   "id": "62dedf8e-c714-4688-809d-cc17e3adbec5",
   "metadata": {},
   "source": [
    "# Gapfilling Observations with Synthetic data"
   ]
  },
  {
   "cell_type": "markdown",
   "id": "149aeee1-6bb0-4dfe-9b73-afc75e82a38a",
   "metadata": {},
   "source": [
    "## Create no-gaps datasets"
   ]
  },
  {
   "cell_type": "code",
   "execution_count": null,
   "id": "48051475-5842-4531-8425-5a6085c4eafe",
   "metadata": {},
   "outputs": [],
   "source": [
    "import folium\n",
    "import numpy as np\n",
    "import xarray as xr\n",
    "import seaborn as sb\n",
    "import matplotlib as mpl\n",
    "import matplotlib.pyplot as plt\n",
    "from matplotlib.cm import ScalarMappable\n",
    "import odc.geo.xr\n",
    "from odc.geo.xr import assign_crs\n",
    "import sys\n",
    "sys.path.append('/g/data/os22/chad_tmp/AusEFlux/src/')\n",
    "from _collect_prediction_data import round_coords"
   ]
  },
  {
   "cell_type": "code",
   "execution_count": null,
   "id": "9daa2d37-79f7-442a-988a-3c38a68a4cd2",
   "metadata": {},
   "outputs": [],
   "source": [
    "model_var='LST'\n",
    "feat = 'CLIM'\n",
    "base = '/g/data/os22/chad_tmp/climate-carbon-interactions/data/'"
   ]
  },
  {
   "cell_type": "code",
   "execution_count": null,
   "id": "6076d9ac-3cda-4d21-ad69-081492078302",
   "metadata": {},
   "outputs": [],
   "source": [
    "yy = xr.open_dataset(f'{base}synthetic/{model_var}/{model_var}_{feat}_synthetic_5km_monthly_1982_2022.nc')\n",
    "obs = xr.open_dataset(f'{base}{model_var}_harmonization/LGBM/{model_var}_{feat}_LGBM_5km_monthly_1982_2022_wGaps.nc')\n",
    "\n",
    "if model_var=='LST':\n",
    "    yy = yy-273.15\n",
    "    obs = obs-273.15\n",
    "\n",
    "obs = obs.sel(time=yy.time)"
   ]
  },
  {
   "cell_type": "markdown",
   "id": "982a62da-b938-47a6-b9dc-ce295f469bda",
   "metadata": {},
   "source": [
    "### Gapfill small gaps with linear interpolation"
   ]
  },
  {
   "cell_type": "code",
   "execution_count": null,
   "id": "c76c9b56-2e0e-4b40-868c-db1083b4f4f2",
   "metadata": {},
   "outputs": [],
   "source": [
    "# seperate into climatologies and anomalies\n",
    "obs_monthly = obs.groupby('time.month').mean()\n",
    "obs_anom = obs.groupby('time.month') - obs_monthly  \n",
    "\n",
    "# fill linearly by one-step\n",
    "obs_anom = obs_anom.interpolate_na(dim='time', method='linear', limit=1)\n",
    "\n",
    "#recombine anomalies and climatology\n",
    "obs_fill = obs_anom.groupby('time.month') + obs_monthly\n",
    "obs_fill = assign_crs(obs_fill.drop('month'), crs='epsg:4326')"
   ]
  },
  {
   "cell_type": "markdown",
   "id": "3efbd720-71d9-4e4f-8a86-20e9aa72899a",
   "metadata": {},
   "source": [
    "### Fill remaining data-gaps with synthetic data"
   ]
  },
  {
   "cell_type": "code",
   "execution_count": null,
   "id": "0f9a0166-a379-43e3-b33d-bce1349ac992",
   "metadata": {},
   "outputs": [],
   "source": [
    "syn_fill = obs_fill.fillna(yy[model_var])"
   ]
  },
  {
   "cell_type": "markdown",
   "id": "98e287db-f5c0-4b46-a036-03955a987d88",
   "metadata": {},
   "source": [
    "## Save to disk"
   ]
  },
  {
   "cell_type": "code",
   "execution_count": null,
   "id": "53221042-767c-42ce-be4b-895e8f57b597",
   "metadata": {},
   "outputs": [],
   "source": [
    "#export here for the carbon flux modelling\n",
    "syn_fill.to_netcdf(base+'5km/'+model_var+'_5km_monthly_1982_2022.nc')"
   ]
  },
  {
   "cell_type": "code",
   "execution_count": null,
   "id": "c75f47da-52a7-47dd-85e4-cfdaa27660f6",
   "metadata": {},
   "outputs": [],
   "source": [
    "#export here for publication\n",
    "syn_fill.to_netcdf(f'{base}{model_var}_harmonization/LGBM/{model_var}_{feat}_LGBM_5km_monthly_1982_2022_noGaps.nc')"
   ]
  },
  {
   "cell_type": "markdown",
   "id": "fe8be11c-ef7f-4257-a936-1544759ea413",
   "metadata": {},
   "source": [
    "## Create a Aus-wide timeseries plot\n",
    "\n",
    "With rainfall anomalies"
   ]
  },
  {
   "cell_type": "code",
   "execution_count": null,
   "id": "efbc9d15-0ff4-4bf6-b485-5976c688eda4",
   "metadata": {},
   "outputs": [],
   "source": [
    "rain = xr.open_dataset('/g/data/os22/chad_tmp/climate-carbon-interactions/data/5km/rain_5km_monthly_1981_2022.nc').rain\n",
    "rain_clim_std = rain.sel(time=slice('1982', '2012')).groupby('time.month').std().compute()\n",
    "rain_clim_mean = rain.sel(time=slice('1982', '2012')).groupby('time.month').mean().compute()\n",
    "\n",
    "#standardized anom\n",
    "def stand_anomalies(ds, clim_mean, clim_std):\n",
    "    std_anom = xr.apply_ufunc(lambda x, m, s: (x - m) / s,\n",
    "    ds.compute().groupby(\"time.month\"),\n",
    "    clim_mean, clim_std)\n",
    "    return std_anom\n",
    "\n",
    "rain_std_anom = stand_anomalies(rain, rain_clim_mean, rain_clim_std)\n",
    "\n",
    "rain_df = rain_std_anom.rename('rain').sel(time=slice('1982', '2022')).rolling(time=3,\n",
    "                min_periods=1).mean().mean(['latitude','longitude']).to_dataframe().drop(['spatial_ref', 'month'], axis=1)"
   ]
  },
  {
   "cell_type": "code",
   "execution_count": null,
   "id": "042e4a53-2be1-4d1c-b994-0c7cdbc988f2",
   "metadata": {},
   "outputs": [],
   "source": [
    "fig, ax = plt.subplots(1,1, figsize=(18,6))\n",
    "ax2 = ax.twinx()\n",
    "# .rolling(time=3, min_periods=1).mean()\n",
    "obs[model_var].mean(['latitude','longitude']).plot(ax=ax, label='Obs. (Cal. LGBM) with gaps', c='red')\n",
    "yy[model_var].mean(['latitude','longitude']).plot(ax=ax, label='Synthetic', c='green')\n",
    "syn_fill[model_var].mean(['latitude','longitude']).plot(ax=ax, label='Obs. (Cal. LGBM) without gaps', c='black')\n",
    "\n",
    "norm=plt.Normalize(-2,2)\n",
    "cmap = mpl.colors.LinearSegmentedColormap.from_list(\"\", ['saddlebrown','chocolate','white','darkturquoise','darkcyan'], N=256)\n",
    "\n",
    "# Plot bars\n",
    "bar = ax2.bar(rain_df.index, 1, color=cmap(norm(rain_df['rain'])), width=32)\n",
    "\n",
    "sm = ScalarMappable(cmap=cmap, norm=norm)\n",
    "sm.set_array([])\n",
    "cbar = plt.colorbar(sm, shrink=0.8, pad=0.01)\n",
    "cbar.set_label('Rainfall Anomaly (z-score)',labelpad=.5)\n",
    "\n",
    "ax2.set_zorder(ax.get_zorder()-1)\n",
    "ax.set_frame_on(False)\n",
    "\n",
    "# Reformat y-axis label and tick labels\n",
    "ax.set_ylabel(model_var)\n",
    "ax.set_xlabel('')\n",
    "ax2.set_ylabel('')\n",
    "ax2.set_yticks([])\n",
    "ax2.set_ylim([0, 1]) \n",
    "ax.margins(x=0)\n",
    "\n",
    "# Adjust the margins around the plot area\n",
    "plt.subplots_adjust(left=0.1, right=None, top=None, bottom=0.2, wspace=None, hspace=None)\n",
    "\n",
    "if model_var=='NDVI':\n",
    "    ax.set_ylim(0.20, 0.40)\n",
    "\n",
    "ax.legend()\n",
    "ax.set_title('Australian Mean '+model_var);\n",
    "# fig.savefig(\"/g/data/os22/chad_tmp/climate-carbon-interactions/results/figs/Australian_\"+model_var+\"_rollingmean.png\",\n",
    "#             bbox_inches='tight', dpi=300)"
   ]
  },
  {
   "cell_type": "markdown",
   "id": "c0050cb8-5569-4061-b0d2-3ec8a9770b1e",
   "metadata": {},
   "source": [
    "## Animations"
   ]
  },
  {
   "cell_type": "code",
   "execution_count": null,
   "id": "0ec7ff75-84e9-4f4d-afa4-c3385e19c898",
   "metadata": {},
   "outputs": [],
   "source": [
    "import sys\n",
    "sys.path.append('/g/data/os22/chad_tmp/dea-notebooks/Tools/')\n",
    "from dea_tools.plotting import xr_animation\n",
    "from IPython.display import Image"
   ]
  },
  {
   "cell_type": "code",
   "execution_count": null,
   "id": "323be52d-9133-4f22-a494-b86d16a8ff70",
   "metadata": {},
   "outputs": [],
   "source": [
    "# # Produce time series animation\n",
    "# path = '/g/data/os22/chad_tmp/climate-carbon-interactions/results/gifs/'+model_var+'_observed.gif'\n",
    "# path = '/g/data/os22/chad_tmp/climate-carbon-interactions/results/gifs/'+model_var+'_synthetic_LGBM.gif'\n",
    "path = '/g/data/os22/chad_tmp/climate-carbon-interactions/results/gifs/'+model_var+'_gapfilled_LGBM.gif'\n",
    "\n",
    "if model_var=='NDVI':\n",
    "    cmap='gist_earth_r'\n",
    "    vmin=0.1\n",
    "    vmax=0.8\n",
    "\n",
    "if model_var=='LST':\n",
    "    cmap='inferno'\n",
    "    vmin=5\n",
    "    vmax=45\n",
    "\n",
    "xr_animation(\n",
    "             # ds=obs.sel(time=slice('1982','2001')).rolling(time=2, min_periods=1).mean(), \n",
    "             # ds=yy.sel(time=slice('1982','2001')).rolling(time=2, min_periods=1).mean(), \n",
    "             syn_fill.sel(time=slice('1982','2001')).rolling(time=2, min_periods=1).mean(), \n",
    "             output_path=path,\n",
    "             bands=[model_var],  \n",
    "             show_date='%B-%Y',\n",
    "             show_text=model_var,\n",
    "             interval=150,\n",
    "             imshow_kwargs={'cmap': cmap, 'vmin': vmin, 'vmax': vmax},\n",
    "             colorbar_kwargs={'colors': 'black'},\n",
    "             # width_pixels=300,\n",
    "             annotation_kwargs= {'color':'black', 'animated': True}\n",
    "    ) \n",
    "\n",
    "# Plot animated gif\n",
    "plt.close()\n",
    "Image(filename=path)"
   ]
  },
  {
   "cell_type": "code",
   "execution_count": null,
   "id": "f964b4a6-7fa7-4288-a9a9-a90880ba0eff",
   "metadata": {},
   "outputs": [],
   "source": []
  }
 ],
 "metadata": {
  "kernelspec": {
   "display_name": "Python 3 (ipykernel)",
   "language": "python",
   "name": "python3"
  },
  "language_info": {
   "codemirror_mode": {
    "name": "ipython",
    "version": 3
   },
   "file_extension": ".py",
   "mimetype": "text/x-python",
   "name": "python",
   "nbconvert_exporter": "python",
   "pygments_lexer": "ipython3",
   "version": "3.9.2"
  }
 },
 "nbformat": 4,
 "nbformat_minor": 5
}
