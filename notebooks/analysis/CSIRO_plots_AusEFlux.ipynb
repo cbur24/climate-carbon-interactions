{
 "cells": [
  {
   "cell_type": "markdown",
   "id": "acb6844b-ce7c-40c6-ae28-2a4931de0e15",
   "metadata": {},
   "source": [
    "# Compare CSIRO above ground biomass plots with AusEFlux\n",
    "\n",
    "Or, compare with Fluxcom-RS which has a spatial resolution of ~8km.  Fluxcom data is only for NEE.\n",
    "\n",
    "All data and outputs and code are on google drive"
   ]
  },
  {
   "cell_type": "markdown",
   "id": "de2e255f-8dda-4e70-892f-394583527d3b",
   "metadata": {},
   "source": [
    "## Import packages"
   ]
  },
  {
   "cell_type": "code",
   "execution_count": null,
   "id": "cf918d42-8754-415c-9288-d68b77ef48d2",
   "metadata": {},
   "outputs": [],
   "source": [
    "import os\n",
    "import sys\n",
    "import folium\n",
    "import odc.geo.xr\n",
    "import numpy as np\n",
    "import xarray as xr\n",
    "import pandas as pd\n",
    "import seaborn as sb\n",
    "import geopandas as gpd\n",
    "import matplotlib.pyplot as plt\n",
    "from odc.geo.xr import assign_crs"
   ]
  },
  {
   "cell_type": "markdown",
   "id": "7e21599b-4a71-40cb-9d98-6a64d00b848f",
   "metadata": {},
   "source": [
    "## Analysis Parameters\n",
    "\n",
    "Variables to adjust depending on analysis required"
   ]
  },
  {
   "cell_type": "code",
   "execution_count": null,
   "id": "189ad441-cebe-4b0c-9f41-9234745bc4fb",
   "metadata": {},
   "outputs": [],
   "source": [
    "var = 'NEE' # 'NEE', 'ER', or 'GPP'\n",
    "suffix = 'v1.1' #version of AusEFlux\n",
    "product = 'AusEFlux' # 'AusEFlux' or 'Fluxcom'\n",
    "\n",
    "# date range to extract from AusEflux (or fluxcom)\n",
    "start_date = '2003-01'\n",
    "end_date = '2021-12' #fluxcom stops at 2015\n",
    "\n",
    "#locations of files\n",
    "auseflux_flux_loc = '/g/data/os22/chad_tmp/NEE_modelling/results/predictions/AusEFlux_'+var+'_2003_2022_1km_quantiles_'+suffix+'.nc'\n",
    "fluxcom_flux_loc = '/g/data/os22/chad_tmp/NEE_modelling/data/FLUXCOM/NEE_rs.nc'\n",
    "input_loc = '/g/data/os22/chad_tmp/climate-carbon-interactions/data/'\n",
    "output_loc = '/g/data/os22/chad_tmp/climate-carbon-interactions/results/hannah_csiro_plots/'"
   ]
  },
  {
   "cell_type": "markdown",
   "id": "3b5542a6-bcff-4edc-a185-8e5f71b5c884",
   "metadata": {},
   "source": [
    "## Import data"
   ]
  },
  {
   "cell_type": "markdown",
   "id": "a6c36985-2969-4e0a-a904-701625715566",
   "metadata": {},
   "source": [
    "### Import gridded flux data"
   ]
  },
  {
   "cell_type": "code",
   "execution_count": null,
   "id": "baf19be5-fc52-48d9-a434-284d091eb6b5",
   "metadata": {},
   "outputs": [],
   "source": [
    "if product == 'AusEFlux':\n",
    "    ds = assign_crs(xr.open_dataset(auseflux_flux_loc), crs='epsg:4326')[var+'_median']\n",
    "    print(ds)\n",
    "\n",
    "if product =='Fluxcom':\n",
    "    ds = assign_crs(xr.open_dataset(fluxcom_flux_loc), crs='epsg:4326')[var]\n",
    "    print(ds)"
   ]
  },
  {
   "cell_type": "markdown",
   "id": "c680cbd5-a9ba-4f7e-9a38-af2bcdd2ad4f",
   "metadata": {},
   "source": [
    "## Import CSIRO plots\n",
    "\n",
    "And convert to geopandas to allow for exploring interactively on a map"
   ]
  },
  {
   "cell_type": "code",
   "execution_count": null,
   "id": "da5e2a51-e18d-48ae-82dd-e124580a7f70",
   "metadata": {},
   "outputs": [],
   "source": [
    "#open as pandas dataframe\n",
    "sites = pd.read_csv(input_loc+'CSIRO_plot_locations.csv')\n",
    "\n",
    "#convert to geodataframe\n",
    "gdf_sites = gpd.GeoDataFrame(\n",
    "    sites, geometry=gpd.points_from_xy(sites.Long, sites.Lat), crs=\"EPSG:4326\"\n",
    ")"
   ]
  },
  {
   "cell_type": "markdown",
   "id": "f6619929-85f7-4bfd-9db1-d8e3e102f96a",
   "metadata": {},
   "source": [
    "## Exploratory Interactive plots\n",
    "\n",
    "Uncomment if interested"
   ]
  },
  {
   "cell_type": "code",
   "execution_count": null,
   "id": "6534a76c-248a-48ed-a0fa-3fabc8065702",
   "metadata": {},
   "outputs": [],
   "source": [
    "#plot the site data over a basemap\n",
    "\n",
    "# gdf_sites.explore(column='Plot number',\n",
    "#                   attr='Esri',\n",
    "#                  tiles = 'https://server.arcgisonline.com/ArcGIS/rest/services/World_Imagery/MapServer/tile/{z}/{y}/{x}')"
   ]
  },
  {
   "cell_type": "code",
   "execution_count": null,
   "id": "8471556e-3ae7-41c2-a1c0-86a2608e5e79",
   "metadata": {},
   "outputs": [],
   "source": [
    "#plot the first timestep of AusEFlux on a basemap\n",
    "\n",
    "# # # Create folium Map (ipyleaflet is also supported)\n",
    "# m = folium.Map(control_scale = True)\n",
    "\n",
    "# # Plot each sample image with different colormap\n",
    "# ds.isel(time=0).odc.add_to(m, cmap='RdBu_r', robust=True)\n",
    "\n",
    "\n",
    "# # Zoom map to Australia\n",
    "# m.fit_bounds(ds.isel(time=0).odc.map_bounds())\n",
    "\n",
    "# tile = folium.TileLayer(\n",
    "#         tiles = 'https://server.arcgisonline.com/ArcGIS/rest/services/World_Imagery/MapServer/tile/{z}/{y}/{x}',\n",
    "#         attr = 'Esri',\n",
    "#         name = 'Esri Satellite',\n",
    "#         overlay = True,\n",
    "#         control = True\n",
    "#        ).add_to(m)\n",
    "\n",
    "# folium.LayerControl().add_to(m)\n",
    "# display(m)"
   ]
  },
  {
   "cell_type": "markdown",
   "id": "9926ec03-881b-4907-bd48-7389ee95a2b3",
   "metadata": {},
   "source": [
    "## Extract pixel values over plot sites\n",
    "\n",
    "Two sites: `'Olive Creek'` and `'Downfall'` are adjacent permnanent waterbodies, and are thus masked out in AusEflux."
   ]
  },
  {
   "cell_type": "code",
   "execution_count": null,
   "id": "7600d315-7a8e-48f7-b81c-6481f42c8150",
   "metadata": {},
   "outputs": [],
   "source": [
    "td = []\n",
    "for i in range(0, len(sites)):\n",
    "    # indexing spatiotemporal values at CSIRO sites\n",
    "    idx=dict(latitude=sites.iloc[i]['Lat'],\n",
    "             longitude=sites.iloc[i]['Long'])\n",
    "\n",
    "    # grab nearest pixel\n",
    "    da = ds.sel(idx, method='nearest').sel(time=slice(start_date, end_date)) \n",
    "    \n",
    "    # convert to dataframe and rename\n",
    "    da = da.rename(var).to_dataframe().drop(['longitude', 'latitude', 'spatial_ref'], axis=1)\n",
    "    \n",
    "    #convert fluxcom to /month instead of /day\n",
    "    if product == 'Fluxcom':\n",
    "        da[var] = da[var]*30\n",
    "    \n",
    "    # add site id\n",
    "    da['plot_number'] = sites.iloc[i]['Plot number']\n",
    "    da['plot_name'] = sites.iloc[i]['Plot name']\n",
    "    td.append(da)\n",
    "\n",
    "# 'dropna' will remove the two sites beside water\n",
    "ts = pd.concat(td)\n",
    "ts.head()"
   ]
  },
  {
   "cell_type": "markdown",
   "id": "20ce8ba1-eb9a-4210-a97f-e5fb864618fb",
   "metadata": {},
   "source": [
    "## Save full timeseries to csv"
   ]
  },
  {
   "cell_type": "code",
   "execution_count": null,
   "id": "3c0529a2-d623-4aab-8e34-96f4ae0c9fe7",
   "metadata": {},
   "outputs": [],
   "source": [
    "ts.to_csv(output_loc+var+'_'+product+'_CSIRO_plots.csv')"
   ]
  },
  {
   "cell_type": "markdown",
   "id": "b85cebfe-eb14-4e71-a17f-e4a962e6172e",
   "metadata": {},
   "source": [
    "## Generate some plots"
   ]
  },
  {
   "cell_type": "markdown",
   "id": "093bd4cb-eaf2-441a-9b45-1771969842f2",
   "metadata": {},
   "source": [
    "### Box plots of annual mean flux"
   ]
  },
  {
   "cell_type": "code",
   "execution_count": null,
   "id": "85ba59ea-c57f-4ea5-9128-9e4b0fc89562",
   "metadata": {},
   "outputs": [],
   "source": [
    "df_annual_mean = ts[[var, 'plot_number']].groupby('plot_number').resample('Y').mean()"
   ]
  },
  {
   "cell_type": "code",
   "execution_count": null,
   "id": "247eed56-c11c-4987-9321-759cc102b2d0",
   "metadata": {},
   "outputs": [],
   "source": [
    "sb.set(font_scale=1.5)\n",
    "\n",
    "fig, ax =  plt.subplots(1,1,figsize=(20,5), sharex=True)\n",
    "sb.boxplot(x='plot_number',\n",
    "           y=var,\n",
    "           data=df_annual_mean.reset_index(),\n",
    "           ax=ax,palette='Spectral')\n",
    "ax.yaxis.grid(True) # Hide the horizontal gridlines\n",
    "ax.xaxis.grid(True) # Show the vertical gridlines\n",
    "ax.set_ylabel('')\n",
    "ax.set_xlabel('')\n",
    "if var == 'NEE':\n",
    "    ax.axhline(0, c='grey', linestyle='--')\n",
    "fig.supylabel(var+' (gC m\\N{SUPERSCRIPT TWO} mon⁻¹)', fontsize=16);\n",
    "plt.title(product+' Annual Mean '+var+' Fluxes at CSIRO Sites')\n",
    "plt.tight_layout()\n",
    "\n",
    "fig.savefig(output_loc+product+'_annual_mean_boxplot_'+var+'.png',\n",
    "            bbox_inches='tight', dpi=300)"
   ]
  },
  {
   "cell_type": "markdown",
   "id": "eecbcbd4-6478-4f72-88f2-4a3dee103157",
   "metadata": {},
   "source": [
    "### Annual Cumulative NEE flux boxplots\n",
    "\n",
    "If plotting NEE. \n",
    "\n",
    "To convert to total flux (rather than flux per m2), we need to multiply the fluxes by the area of the pixel size (in AusEflux this is ~1km or ~5km depending on the dataset, and for Fluxcom-RS this is ~8km) used. To do this, we need to reproject the geobox to albers equal area."
   ]
  },
  {
   "cell_type": "code",
   "execution_count": null,
   "id": "ebfaab4a-369c-4552-964c-c449555fc441",
   "metadata": {},
   "outputs": [],
   "source": [
    "if var=='NEE':\n",
    "    #find area of pixel in m2 - first convert to equal area grid\n",
    "    grid = ds.odc.geobox.to_crs('EPSG:3577')\n",
    "    area_per_pixel = grid.resolution.x**2\n",
    "\n",
    "    #find annual sums\n",
    "    df_annual_sum = ts[[var, 'plot_number']].groupby('plot_number').resample('Y').sum().drop('plot_number',axis=1)\n",
    "\n",
    "    #Convert to total annual flux in Megagrams of Carbon\n",
    "    df_annual_sum = df_annual_sum * area_per_pixel * 1e-6\n",
    "\n",
    "    #plot\n",
    "    fig, ax =  plt.subplots(1,1,figsize=(20,5), sharex=True)\n",
    "    sb.boxplot(x='plot_number',\n",
    "               y=var,\n",
    "               data=df_annual_sum.reset_index(),\n",
    "               ax=ax,palette='Spectral')\n",
    "    ax.yaxis.grid(True)\n",
    "    ax.xaxis.grid(True) \n",
    "    ax.set_ylabel('')\n",
    "    ax.set_xlabel('')\n",
    "    ax.axhline(0, c='grey', linestyle='--')\n",
    "    fig.supylabel(var+' (MgC year⁻¹)', fontsize=16);\n",
    "    plt.title(product+' Annual '+var+' Total Flux at CSIRO Sites')\n",
    "    plt.tight_layout()\n",
    "    fig.savefig(output_loc+product+'_annual_sum_boxplot_'+var+'.png',\n",
    "                bbox_inches='tight', dpi=300)"
   ]
  },
  {
   "cell_type": "markdown",
   "id": "0e7032e5-1f65-42ca-a636-b3fcb6b2dcf5",
   "metadata": {},
   "source": [
    "## Tropical Eddy Covariance Flux Towers\n",
    "\n",
    "Extract from TERN THREDDS and summarise\n",
    "\n",
    "FletchersView is only a year old so its commented out"
   ]
  },
  {
   "cell_type": "markdown",
   "id": "41b36cd5-d17c-4ad6-9e4c-4dc9529d804c",
   "metadata": {},
   "source": [
    "### Open EC data"
   ]
  },
  {
   "cell_type": "code",
   "execution_count": null,
   "id": "eba7625e-d575-42ae-8031-9890cd5758f5",
   "metadata": {},
   "outputs": [],
   "source": [
    "robson_creek_loc = 'https://dap.tern.org.au/thredds/dodsC/ecosystem_process/ozflux/RobsonCreek/2022_v2/L6/default/RobsonCreek_L6_20130801_20220816_Monthly.nc'\n",
    "cape_tribulation_loc = 'https://dap.tern.org.au/thredds/dodsC/ecosystem_process/ozflux/CapeTribulation/2022_v2/L6/default/CapeTribulation_L6_20100101_20181102_Monthly.nc'\n",
    "cowbay_loc = 'https://dap.tern.org.au/thredds/dodsC/ecosystem_process/ozflux/CowBay/2022_v2/L6/default/CowBay_L6_20090101_20220816_Monthly.nc'\n",
    "# fletcher = 'https://dap.tern.org.au/thredds/dodsC/ecosystem_process/ozflux/Fletcherview/2022_v2/L6/default/FletcherviewTropicalRangeland_L6_20220122_20220712_Monthly.nc'\n",
    "\n",
    "#open sites\n",
    "robson_creek = xr.open_dataset(robson_creek_loc)[var+'_SOLO']\n",
    "cape_tribulation = xr.open_dataset(cape_tribulation_loc)[var+'_SOLO']\n",
    "cowbay = xr.open_dataset(cowbay_loc)[var+'_SOLO']\n"
   ]
  },
  {
   "cell_type": "markdown",
   "id": "a59da8c5-8a66-4572-bbd4-715bcf5395cc",
   "metadata": {},
   "source": [
    "### Process EC sites into annual means\n",
    "\n",
    "Be sure to only calculate annual means in years with all data"
   ]
  },
  {
   "cell_type": "code",
   "execution_count": null,
   "id": "a237b67c-cb21-4b30-8449-9304a796ea72",
   "metadata": {},
   "outputs": [],
   "source": [
    "arrs = []\n",
    "for df, name in zip([robson_creek, cape_tribulation, cowbay], ['RobsCreek', 'CapeTrib', 'Cowbay']):\n",
    "    #find years with 12 months of data\n",
    "    years_with_all_months = (df.groupby('time.year').count()==12).values\n",
    "    df = df.resample(time='Y').mean()\n",
    "    df = df.where(years_with_all_months)\n",
    "    df = df.to_dataframe()\n",
    "    df['plot_name'] = name\n",
    "    df = df.dropna()\n",
    "    arrs.append(df)\n",
    "\n",
    "df = pd.concat(arrs)"
   ]
  },
  {
   "cell_type": "markdown",
   "id": "5d88fefa-41b3-4a1a-917f-da9414f50792",
   "metadata": {},
   "source": [
    "### Plot annual mean fluxes at EC towers "
   ]
  },
  {
   "cell_type": "code",
   "execution_count": null,
   "id": "7c77ae40-d849-4321-9574-f62b9b64907c",
   "metadata": {},
   "outputs": [],
   "source": [
    "sb.set(font_scale=1)\n",
    "\n",
    "fig, ax =  plt.subplots(1,1,figsize=(5,4), sharex=True)\n",
    "sb.boxplot(x='plot_name',\n",
    "           y=var+'_SOLO',\n",
    "           data=df,\n",
    "           ax=ax,\n",
    "           palette='Spectral')\n",
    "ax.yaxis.grid(True)\n",
    "ax.xaxis.grid(True)\n",
    "ax.set_ylabel('')\n",
    "ax.set_xlabel('')\n",
    "if var == 'NEE':\n",
    "    ax.axhline(0, c='grey', linestyle='--')\n",
    "fig.supylabel(var+' (gC m\\N{SUPERSCRIPT TWO} mon⁻¹)', fontsize=16);\n",
    "plt.title('Eddy Covariance Annual Mean '+var+' Fluxes')\n",
    "plt.tight_layout()\n",
    "fig.savefig(output_loc+'EC_annual_mean_boxplot_'+var+'.png',\n",
    "            bbox_inches='tight', dpi=300)"
   ]
  },
  {
   "cell_type": "markdown",
   "id": "753a37ff-8035-4f15-ad75-45113118da50",
   "metadata": {},
   "source": [
    "## Calculate annual means & trends over the entire tropical forest areas in northern Qld \n",
    "\n",
    "How to do this?\n",
    "* First delineate the tropical forests areas in that region:\n",
    "    1. Grab 'tropics' biome\n",
    "    2. Limit to Northern Qld (~Townsville)\n",
    "    3. Threshold kNDVI to find thick, green forests on coastal fringe?\n",
    "    4. Visually validate with interactive plot\n",
    "* Calculate zonal annual mean fluxes\n",
    "* Calculate trends in NEE\n",
    "* Calculate Trends in NDVI (use Sami's product) "
   ]
  },
  {
   "cell_type": "code",
   "execution_count": null,
   "id": "689665cb-4a72-401b-9e01-84d8e60b5e36",
   "metadata": {},
   "outputs": [],
   "source": [
    "import contextily as cx\n",
    "\n",
    "import sys\n",
    "sys.path.append('/g/data/os22/chad_tmp/dea-notebooks/Tools/')\n",
    "from dea_tools.spatial import xr_rasterize\n",
    "\n",
    "sys.path.append('/g/data/os22/chad_tmp/AusEFlux/src/')\n",
    "from _collect_prediction_data import round_coords\n",
    "from dask_utils import start_local_dask\n"
   ]
  },
  {
   "cell_type": "code",
   "execution_count": null,
   "id": "7fadd3f6-7805-454f-b709-62cc755a92ee",
   "metadata": {},
   "outputs": [],
   "source": [
    "client = start_local_dask(mem_safety_margin='2Gb')\n",
    "client"
   ]
  },
  {
   "cell_type": "code",
   "execution_count": null,
   "id": "b3161285-d345-4116-ad99-8a17cade6894",
   "metadata": {},
   "outputs": [],
   "source": [
    "var='NEE'\n",
    "suffix = 'v1.1' #version of AusEFlux"
   ]
  },
  {
   "cell_type": "code",
   "execution_count": null,
   "id": "16d8b057-35f0-48a5-9a52-adf2e8cb950f",
   "metadata": {},
   "outputs": [],
   "source": [
    "# ndvi = xr.open_dataset('/g/data/os22/chad_tmp/climate-carbon-interactions/data/NDVI_harmonization/MCD43_AVHRR_NDVI_hybrid_EasternOzWoody.nc')\n",
    "# ndvi = ndvi['ndvi_mcd_pred'].rename({'x':'longitude', 'y':'latitude'})\n",
    "# # ndvi = round_coords(ndvi)\n",
    "# ndvi = assign_crs(ndvi, crs='4326')\n",
    "\n",
    "# ndvi = xr.open_dataarray('/g/data/os22/chad_tmp/climate-carbon-interactions/data/5km/NDVI_5km_monthly_1982_2022.nc')\n",
    "ndvi = xr.open_dataarray('/g/data/os22/chad_tmp/NEE_modelling/data/1km/kNDVI_1km_monthly_2002_2022.nc',\n",
    "                         chunks=dict(latitude=500, longitude=500)).sel(time=slice('2003', '2021'))\n",
    "\n",
    "#locations of files\n",
    "auseflux_flux_loc='/g/data/os22/chad_tmp/NEE_modelling/results/predictions/AusEFlux_'+var+'_2003_2022_1km_quantiles_'+suffix+'.nc'\n",
    "ds = assign_crs(xr.open_dataset(auseflux_flux_loc, chunks=dict(latitude=500, longitude=500)), crs='epsg:4326')[var+'_median']\n",
    "ds = ds.sel(time=slice('2003', '2021'))\n",
    "\n",
    "#limit regions to tropics ~north of Twownsville\n",
    "ndvi = ndvi.sel(latitude=slice(0, -19.3))\n",
    "ndvi = ndvi.sel(longitude=slice(142,147.5))\n",
    "ds = ds.sel(latitude=slice(0, -19.3))\n",
    "ds = ds.sel(longitude=slice(142,147.5))\n",
    "\n",
    "#calculate minimum NDVI through the 20 years\n",
    "ndvi_min = ndvi.min('time').compute()\n",
    "\n",
    "#threshold minimum to get \n",
    "tf_min = ndvi_min.where(ndvi_min>0.375)\n",
    "tf_mask = xr.where(tf_min>0, 1, 0)"
   ]
  },
  {
   "cell_type": "markdown",
   "id": "a2f63e50-e739-4b64-ab0b-38e2a1f1cd25",
   "metadata": {},
   "source": [
    "## Linear trend (2002-2022)"
   ]
  },
  {
   "cell_type": "code",
   "execution_count": null,
   "id": "d798dfbd-7629-4c3d-96e5-4fe76f94ae92",
   "metadata": {},
   "outputs": [],
   "source": [
    "import dask.array as da\n",
    "from dask.delayed import delayed\n",
    "from scipy import stats\n",
    "\n",
    "def _calc_slope(y):\n",
    "    \"\"\"return linear regression statistical variables\"\"\"\n",
    "    mask = np.isfinite(y)\n",
    "    x = np.arange(len(y))\n",
    "    return stats.linregress(x[mask], y[mask])\n",
    "\n",
    "# regression function defition\n",
    "def regression(y):\n",
    "    \"\"\"apply linear regression function along time axis\"\"\"\n",
    "    axis_num = y.get_axis_num('time')\n",
    "    return da.apply_along_axis(_calc_slope, axis_num, y)\n",
    "\n",
    "def linregress(ds):\n",
    "\n",
    "    # fill pixels that are all-NaNs\n",
    "    allnans = ds.isnull().all('time')\n",
    "    ds = ds.where(~allnans, other=0)\n",
    "\n",
    "    # regression analysis\n",
    "    delayed_objs = delayed(regression)(ds).persist()\n",
    "\n",
    "    # transforms dask.delayed to dask.array\n",
    "    results = da.from_delayed(delayed_objs, shape=(5, ds.shape[1:][0], ds.shape[1:][1]), dtype=np.float32)\n",
    "    results = results.compute()\n",
    "    results = results.compute() #need this twice haven't figured out why\n",
    "\n",
    "    # statistical variables definition\n",
    "    variables = ['slope', 'intercept', 'r_value', 'p_value', 'std_err']\n",
    "\n",
    "    # coordination definition\n",
    "    coords = {'latitude': ds.latitude, 'longitude': ds.longitude}\n",
    "\n",
    "    # output xarray.Dataset definition\n",
    "    ds_out = xr.Dataset(\n",
    "        data_vars=dict(slope=([\"latitude\", \"longitude\"], results[0]),\n",
    "                       intercept=([\"latitude\", \"longitude\"], results[1]),\n",
    "                       r_value=([\"latitude\", \"longitude\"], results[2]),\n",
    "                       p_value=([\"latitude\", \"longitude\"], results[3]),\n",
    "                       std_err=([\"latitude\", \"longitude\"], results[4]),\n",
    "                      ),\n",
    "        coords = coords)\n",
    "\n",
    "    #remask all-NaN pixel\n",
    "    return ds_out.where(~allnans)"
   ]
  },
  {
   "cell_type": "code",
   "execution_count": null,
   "id": "ae541a7c-cdd1-4e8e-8b3a-0fa1d51f6c0f",
   "metadata": {},
   "outputs": [],
   "source": [
    "ndvi_trend = linregress(ndvi.resample(time='1Y').mean())\n",
    "ndvi_trend = ndvi_trend.compute()\n",
    "\n",
    "ds_trend = linregress(ds.resample(time='1Y').mean())\n",
    "ds_trend = ds_trend.compute()"
   ]
  },
  {
   "cell_type": "code",
   "execution_count": null,
   "id": "11734ee5-98b4-4d91-ba8b-4574d493d3f7",
   "metadata": {},
   "outputs": [],
   "source": [
    "# ts = ds.where(tf_mask).mean(['latitude', 'longitude']).compute()\n",
    "ts_1 = ndvi.where(tf_mask).mean(['latitude', 'longitude']).compute()"
   ]
  },
  {
   "cell_type": "code",
   "execution_count": null,
   "id": "5c4968d1-1867-41a8-af0e-8aca2609ddb2",
   "metadata": {},
   "outputs": [],
   "source": [
    "ndvi_trend_tf = ndvi_trend.where(tf_mask)\n",
    "ds_trend_tf = ds_trend.where(tf_mask)"
   ]
  },
  {
   "cell_type": "code",
   "execution_count": null,
   "id": "fdeae0c6-70ec-4c87-8cb2-66f11e364c37",
   "metadata": {},
   "outputs": [],
   "source": [
    "fig,ax=plt.subplots(1,2, figsize=(12,12))\n",
    "im = ndvi_trend_tf.sel(longitude=slice(142,147.5)).slope.plot(\n",
    "                                                            ax=ax[0],\n",
    "                                                            cmap='BrBG',\n",
    "                                                            vmin=-0.005, vmax=0.005,\n",
    "                                                            add_colorbar=False,\n",
    "                                                            add_labels=False\n",
    "                                                           )\n",
    "plt.colorbar(im, shrink=0.5, label=u'ΔkNDVI / yr')\n",
    "cx.add_basemap(ax[0], crs='epsg:4326',\n",
    "               # source=cx.providers.OpenStreetMap.Mapnik,\n",
    "               # source=cx.providers.Stamen.Terrain,\n",
    "               # source=cx.providers.Stamen.TonerLite,\n",
    "               source=cx.providers.Stamen.TerrainBackground,\n",
    "               # source=cx.providers.CartoDB.Voyager,\n",
    "               # source=cx.providers.CartoDB.Positron,\n",
    "               # source=cx.providers.OpenTopoMap,\n",
    "               attribution_size=1\n",
    "              )\n",
    "ax[0].set_title('kNDVI Trend 2003-2021')\n",
    "\n",
    "im1 = ds_trend_tf.slope.plot(\n",
    "                            ax=ax[1],\n",
    "                            cmap='BrBG_r',\n",
    "                            vmin=-0.5, vmax=0.5,\n",
    "                            add_colorbar=False,\n",
    "                            add_labels=False\n",
    "                           )\n",
    "plt.colorbar(im1, shrink=0.5, label=u'ΔNEE gC m\\N{SUPERSCRIPT TWO} mon⁻¹ / yr')\n",
    "cx.add_basemap(ax[1], crs='epsg:4326',\n",
    "               source=cx.providers.Stamen.Terrain,\n",
    "               attribution_size=1\n",
    "              )\n",
    "ax[1].set_title('AusEFlux NEE Trend 2003-2021')\n",
    "plt.tight_layout()\n",
    "fig.savefig(output_loc+'trends_tropical_forests.png',\n",
    "            bbox_inches='tight', dpi=300);"
   ]
  },
  {
   "cell_type": "code",
   "execution_count": null,
   "id": "b897e91c-a588-4a2a-95eb-4597c6f64f84",
   "metadata": {},
   "outputs": [],
   "source": []
  },
  {
   "cell_type": "code",
   "execution_count": null,
   "id": "b2a57000-5f62-4f45-9e14-bf6746c9b823",
   "metadata": {},
   "outputs": [],
   "source": []
  },
  {
   "cell_type": "code",
   "execution_count": null,
   "id": "e7e89c1c-14b6-4182-ba5b-ca07ff2eda66",
   "metadata": {},
   "outputs": [],
   "source": []
  },
  {
   "cell_type": "code",
   "execution_count": null,
   "id": "c13ef722-9b08-4e34-ac34-d334f6c7fce5",
   "metadata": {},
   "outputs": [],
   "source": []
  },
  {
   "cell_type": "code",
   "execution_count": null,
   "id": "69fbd037-651e-45d7-954d-cdd30edf5a71",
   "metadata": {},
   "outputs": [],
   "source": []
  },
  {
   "cell_type": "code",
   "execution_count": null,
   "id": "1c00e8b1-c416-4cef-8a64-539825488279",
   "metadata": {},
   "outputs": [],
   "source": []
  },
  {
   "cell_type": "code",
   "execution_count": null,
   "id": "11f1eda2-53eb-4a14-ab7a-c51386ad35c7",
   "metadata": {},
   "outputs": [],
   "source": [
    "# # # Create folium Map (ipyleaflet is also supported)\n",
    "# m = folium.Map(control_scale = True)\n",
    "\n",
    "# # Plot each sample image with different colormap\n",
    "# tf_min.odc.add_to(m)\n",
    "# # tf_std.odc.add_to(m)\n",
    "\n",
    "\n",
    "# # Zoom map to Australia\n",
    "# m.fit_bounds(tf_min.odc.map_bounds())\n",
    "\n",
    "# tile = folium.TileLayer(\n",
    "#         tiles = 'https://server.arcgisonline.com/ArcGIS/rest/services/World_Imagery/MapServer/tile/{z}/{y}/{x}',\n",
    "#         attr = 'Esri',\n",
    "#         name = 'Esri Satellite',\n",
    "#         overlay = True,\n",
    "#         control = True\n",
    "#        ).add_to(m)\n",
    "\n",
    "# folium.LayerControl().add_to(m)\n",
    "# display(m)"
   ]
  },
  {
   "cell_type": "code",
   "execution_count": null,
   "id": "b85b84fc-ace9-4da4-9db1-48869d7b7f87",
   "metadata": {},
   "outputs": [],
   "source": []
  }
 ],
 "metadata": {
  "kernelspec": {
   "display_name": "Python 3 (ipykernel)",
   "language": "python",
   "name": "python3"
  },
  "language_info": {
   "codemirror_mode": {
    "name": "ipython",
    "version": 3
   },
   "file_extension": ".py",
   "mimetype": "text/x-python",
   "name": "python",
   "nbconvert_exporter": "python",
   "pygments_lexer": "ipython3",
   "version": "3.9.2"
  }
 },
 "nbformat": 4,
 "nbformat_minor": 5
}
