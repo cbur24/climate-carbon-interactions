{
 "cells": [
  {
   "cell_type": "markdown",
   "id": "8d6185d6-5015-4c74-a294-e3c3cea28081",
   "metadata": {},
   "source": [
    "# Trend Analysis of Carbon and Water Fluxes in AusEFlux\n",
    "\n",
    "Trend analysis - include trends on lower and upper percentiles\n"
   ]
  },
  {
   "cell_type": "code",
   "execution_count": null,
   "id": "be0c7445-4b35-4c1a-b586-353f4a293c32",
   "metadata": {
    "tags": []
   },
   "outputs": [],
   "source": [
    "import sys\n",
    "import folium\n",
    "import warnings\n",
    "import xarray as xr\n",
    "import pandas as pd\n",
    "import seaborn as sb\n",
    "import geopandas as gpd\n",
    "import xarray as xr\n",
    "import numpy as np\n",
    "import contextily as ctx\n",
    "from xarrayMannKendall import Mann_Kendall_test\n",
    "\n",
    "import matplotlib.pyplot as plt\n",
    "\n",
    "import odc.geo.xr\n",
    "from odc.geo.xr import assign_crs\n",
    "\n",
    "sys.path.append('/g/data/os22/chad_tmp/NEE_modelling/')\n",
    "from _collect_prediction_data import round_coords\n",
    "\n",
    "sys.path.append('/g/data/os22/chad_tmp/climate-carbon-interactions/src')\n",
    "from _trends import linregress\n",
    "\n",
    "sys.path.append('/g/data/os22/chad_tmp/dea-notebooks/Tools/')\n",
    "from dea_tools.spatial import xr_rasterize"
   ]
  },
  {
   "cell_type": "code",
   "execution_count": null,
   "id": "edacd1b2-407c-4763-a74f-d088e2f27f9d",
   "metadata": {
    "tags": []
   },
   "outputs": [],
   "source": [
    "# sys.path.append('/g/data/os22/chad_tmp/AusEFlux/src/')\n",
    "# from dask_utils import start_local_dask\n",
    "\n",
    "# client = start_local_dask(mem_safety_margin='2Gb')\n",
    "# client"
   ]
  },
  {
   "cell_type": "markdown",
   "id": "9f402f2d-ab13-41f3-8442-43722664c9d5",
   "metadata": {},
   "source": [
    "## Analysis Parameters\n",
    "\n",
    "Start with 5km resolution datasets to speed up exploration"
   ]
  },
  {
   "cell_type": "code",
   "execution_count": null,
   "id": "6a9c27f5-4dbd-40e2-904d-961b23786d23",
   "metadata": {
    "tags": []
   },
   "outputs": [],
   "source": [
    "er_path = '/g/data/os22/chad_tmp/climate-carbon-interactions/results/predictions/ER_1982_2022_5km_LGBM_20230911.nc'\n",
    "gpp_path = '/g/data/os22/chad_tmp/climate-carbon-interactions/results/predictions/GPP_1982_2022_5km_LGBM_20230911.nc'\n",
    "nee_path = '/g/data/os22/chad_tmp/climate-carbon-interactions/results/predictions/NEE_1982_2022_5km_LGBM_20230911.nc'\n",
    "et_path = '/g/data/os22/chad_tmp/climate-carbon-interactions/results/predictions/ET_1982_2022_5km_LGBM_20230911.nc'\n",
    "ndvi_path = '/g/data/os22/chad_tmp/climate-carbon-interactions/data/5km/NDVI_5km_monthly_1982_2022.nc'\n",
    "\n",
    "chunks=None#dict(latitude=250, longitude=250, time=1)\n",
    "\n",
    "t_range='1982', '2022'\n",
    "\n",
    "#SE AUS\n",
    "# lat_bounds = slice(355, 590)\n",
    "# lon_bounds = slice(575,840)\n",
    "\n",
    "#All of Aus\n",
    "lat_bounds = slice(0, 680)\n",
    "lon_bounds = slice(0,840)"
   ]
  },
  {
   "cell_type": "markdown",
   "id": "a36d45f1-6dd9-44b4-bb31-825db4303234",
   "metadata": {},
   "source": [
    "## Open data\n",
    "\n",
    "And clip to lat/lon bounds"
   ]
  },
  {
   "cell_type": "code",
   "execution_count": null,
   "id": "f1f5c0a0-7202-4502-a03f-c0ff48ee81df",
   "metadata": {
    "tags": []
   },
   "outputs": [],
   "source": [
    "er = assign_crs(xr.open_dataset(er_path, chunks=chunks)['ER'].isel(y=lat_bounds, x=lon_bounds), crs='EPSG:4326')\n",
    "gpp = assign_crs(xr.open_dataset(gpp_path, chunks=chunks)['GPP'].isel(y=lat_bounds, x=lon_bounds),  crs='EPSG:4326')\n",
    "nee = assign_crs(xr.open_dataset(nee_path, chunks=chunks)['NEE'].isel(y=lat_bounds, x=lon_bounds),  crs='EPSG:4326')\n",
    "et = assign_crs(xr.open_dataset(et_path, chunks=chunks)['ET'].isel(y=lat_bounds, x=lon_bounds),  crs='EPSG:4326')\n",
    "\n",
    "# er =  round_coords(er)\n",
    "# gpp =  round_coords(gpp)\n",
    "# nee =  round_coords(nee)\n",
    "# et =  round_coords(et)"
   ]
  },
  {
   "cell_type": "code",
   "execution_count": null,
   "id": "3ea1bf71-29b3-4ea7-a9b9-0989f9bfb1f1",
   "metadata": {
    "tags": []
   },
   "outputs": [],
   "source": [
    "ndvi = assign_crs(xr.open_dataset(ndvi_path, chunks=chunks)['NDVI'], crs='EPSG:4326')\n",
    "ndvi = ndvi.odc.reproject(er.odc.geobox, resampling='nearest')\n",
    "ndvi = ndvi.isel(latitude=lat_bounds, longitude=lon_bounds)\n",
    "ndvi =  round_coords(ndvi)\n",
    "ndvi = ndvi.rename({'latitude':'y', 'longitude':'x'})"
   ]
  },
  {
   "cell_type": "code",
   "execution_count": null,
   "id": "a1dc344b-fa72-4cfd-9f8d-a36c85f29389",
   "metadata": {},
   "outputs": [],
   "source": []
  },
  {
   "cell_type": "markdown",
   "id": "62489432-ab0c-426b-9907-410dd5902056",
   "metadata": {},
   "source": [
    "## Plot timeseries"
   ]
  },
  {
   "cell_type": "code",
   "execution_count": null,
   "id": "d22b195e-c7b2-4da4-98bd-03501483c221",
   "metadata": {
    "tags": []
   },
   "outputs": [],
   "source": [
    "# fig,ax = plt.subplots(1,1, figsize=(11,4))\n",
    "# gpp.mean(['x','y']).compute().plot(ax=ax, label='GPP')\n",
    "# er.mean(['x','y']).compute().plot(ax=ax, label='ER')\n",
    "# # nee.mean(['latitude','longitude']).plot(ax=ax, label='NEE')\n",
    "# et.mean(['x','y']).compute().plot(ax=ax, label='ET')\n",
    "\n",
    "# ax.legend(loc='best', fontsize=14)\n",
    "# ax.set_ylabel('', fontsize=14)\n",
    "# ax.set_title('SE Aus carbon and water fluxes');"
   ]
  },
  {
   "cell_type": "markdown",
   "id": "ee8e3f99-86d4-4a8c-bcce-aac3875c7adb",
   "metadata": {},
   "source": [
    "## Anomalies"
   ]
  },
  {
   "cell_type": "code",
   "execution_count": null,
   "id": "ace03173-94b8-4353-85e4-67b06eaafb6b",
   "metadata": {},
   "outputs": [],
   "source": [
    "clim_range = '1982', '2012'"
   ]
  },
  {
   "cell_type": "code",
   "execution_count": null,
   "id": "2feefee4-fc55-4bef-8e77-8a1fea9069cb",
   "metadata": {
    "tags": []
   },
   "outputs": [],
   "source": [
    "er_clim_mean = er.sel(time=slice(clim_range[0], clim_range[1])).groupby('time.month').mean().compute()\n",
    "gpp_clim_mean = gpp.sel(time=slice(clim_range[0], clim_range[1])).groupby('time.month').mean().compute()\n",
    "nee_clim_mean = nee.sel(time=slice(clim_range[0], clim_range[1])).groupby('time.month').mean().compute()\n",
    "et_clim_mean = et.sel(time=slice(clim_range[0], clim_range[1])).groupby('time.month').mean().compute()"
   ]
  },
  {
   "cell_type": "code",
   "execution_count": null,
   "id": "cb9a3dda-e8d6-40ee-88b7-c89bdcb7c108",
   "metadata": {
    "tags": []
   },
   "outputs": [],
   "source": [
    "er_anom = (er.groupby('time.month') - er_clim_mean).compute()\n",
    "gpp_anom = (gpp.groupby('time.month') - gpp_clim_mean).compute()\n",
    "nee_anom = (nee.groupby('time.month') - nee_clim_mean).compute()\n",
    "et_anom = (et.groupby('time.month') - et_clim_mean).compute()"
   ]
  },
  {
   "cell_type": "code",
   "execution_count": null,
   "id": "dfedd7f8-272c-4d25-92fa-f932fc07458c",
   "metadata": {
    "tags": []
   },
   "outputs": [],
   "source": [
    "fig,ax = plt.subplots(1,1, figsize=(11,4))\n",
    "gpp_anom.mean(['x','y']).plot(ax=ax, label='GPP')\n",
    "er_anom.mean(['x','y']).plot(ax=ax, label='ER')\n",
    "et_anom.mean(['x','y']).plot(ax=ax, label='ET')\n",
    "nee_anom.mean(['x','y']).plot(ax=ax, label='NEE')\n",
    "\n",
    "ax.legend(loc='best', fontsize=12)\n",
    "ax.set_ylabel('', fontsize=12)\n",
    "ax.axhline(0, c='grey')\n",
    "ax.set_title('Carbon and water flux anomalies');"
   ]
  },
  {
   "cell_type": "markdown",
   "id": "66a924f2-d261-41f3-91ab-16b2daa0ba3e",
   "metadata": {},
   "source": [
    "## Water Use Efficiency"
   ]
  },
  {
   "cell_type": "code",
   "execution_count": null,
   "id": "eb8c818b-9597-4627-8a0c-66677365311f",
   "metadata": {
    "tags": []
   },
   "outputs": [],
   "source": [
    "wue = gpp/et"
   ]
  },
  {
   "cell_type": "code",
   "execution_count": null,
   "id": "2d650448-eadc-4a5e-8fcf-aa7ed73ed9e4",
   "metadata": {
    "tags": []
   },
   "outputs": [],
   "source": [
    "fig,ax = plt.subplots(2,1, figsize=(11,5), sharex=True)\n",
    "gpp.resample(time='1Y').mean().mean(['x','y']).plot(ax=ax[0], label='GPP')\n",
    "et.resample(time='1Y').mean().mean(['x','y']).plot(ax=ax[0], label='ET')\n",
    "# er.sel(time=slice('2003', '2021')).resample(time='1Y').mean().mean(['latitude','longitude']).plot(ax=ax[0], label='ER')\n",
    "# (gpp-et).sel(time=slice('2003', '2021')).resample(time='1Y').mean().mean(['latitude','longitude']).plot(ax=ax[0], label='GPP-ET')\n",
    "\n",
    "wue.resample(time='1Y').mean().mean(['x','y']).plot(ax=ax[1], label='WUE')\n",
    "\n",
    "ax[0].legend(loc='best', fontsize=12)\n",
    "ax[1].legend(loc='best', fontsize=12)\n",
    "ax[1].set_ylabel('WUE gC/kg.H2O/month', fontsize=12)\n",
    "ax[0].set_ylabel('Carbon Fluxes gC/m2/month', fontsize=12)\n",
    "ax[1].set_xlabel('')\n",
    "ax[0].set_xlabel('')\n",
    "ax[0].set_title('')\n",
    "ax[1].set_title('')\n",
    "plt.tight_layout();"
   ]
  },
  {
   "cell_type": "markdown",
   "id": "e182460a-a1a2-4699-841f-40344ca0cb36",
   "metadata": {},
   "source": [
    "## Linear Trends"
   ]
  },
  {
   "cell_type": "code",
   "execution_count": null,
   "id": "4ae11993-fb07-4729-be57-ba6cdadf18b1",
   "metadata": {
    "tags": []
   },
   "outputs": [],
   "source": [
    "\n",
    "Mann_Kendall_test(doy['POS'].rename({'year':'time'}),\n",
    "                               alpha=0.05,\n",
    "                               method='theilslopes'\n",
    "                              ).compute()"
   ]
  },
  {
   "cell_type": "markdown",
   "id": "debea477-be8c-47b7-a56b-2038bb0d9dad",
   "metadata": {},
   "source": [
    "## Calculate trend in the annual series"
   ]
  },
  {
   "cell_type": "markdown",
   "id": "c1499bbc-ce82-4ec2-9e07-d8e619cf3414",
   "metadata": {},
   "source": [
    "### Annual means"
   ]
  },
  {
   "cell_type": "code",
   "execution_count": null,
   "id": "01a0b0b8-6fc0-40fa-a37a-ae626f59bccc",
   "metadata": {
    "tags": []
   },
   "outputs": [],
   "source": [
    "warnings.filterwarnings(\"ignore\")\n",
    "\n",
    "wue_trend = linregress(wue.resample(time='1Y').mean())\n",
    "gpp_trend = linregress(gpp.resample(time='1Y').mean())\n",
    "et_trend = linregress(et.resample(time='1Y').mean())\n",
    "er_trend = linregress(er.resample(time='1Y').mean())\n",
    "nee_trend = linregress(nee.resample(time='1Y').mean())\n",
    "ndvi_trend = linregress(ndvi.resample(time='1Y').mean())"
   ]
  },
  {
   "cell_type": "markdown",
   "id": "a0a0df36-083d-440f-8407-d2edb5f4697e",
   "metadata": {},
   "source": [
    "### Annual percentiles"
   ]
  },
  {
   "cell_type": "code",
   "execution_count": null,
   "id": "83b5a8a0-124f-4cd7-8e39-9269fba51bb2",
   "metadata": {
    "tags": []
   },
   "outputs": [],
   "source": [
    "%%time\n",
    "# wue_quantiles = wue.sel(time=slice(t_range[0], t_range[1])).resample(time='1Y').quantile([0.1,0.9], method='nearest')\n",
    "gpp_quantiles = gpp.sel(time=slice(t_range[0], t_range[1])).resample(time='1Y').quantile([0.1,0.9], method='nearest')\n",
    "et_quantiles = et.sel(time=slice(t_range[0], t_range[1])).resample(time='1Y').quantile([0.1,0.9], method='nearest')\n",
    "er_quantiles = er.sel(time=slice(t_range[0], t_range[1])).resample(time='1Y').quantile([0.1,0.9], method='nearest')\n",
    "nee_quantiles = nee.sel(time=slice(t_range[0], t_range[1])).resample(time='1Y').quantile([0.1,0.9], method='nearest')\n",
    "ndvi_quantiles = ndvi.sel(time=slice(t_range[0], t_range[1])).resample(time='1Y').quantile([0.1,0.9], method='nearest')"
   ]
  },
  {
   "cell_type": "code",
   "execution_count": null,
   "id": "65aedb7e-71fe-4bc2-bb98-25afee9ea432",
   "metadata": {
    "tags": []
   },
   "outputs": [],
   "source": [
    "warnings.filterwarnings(\"ignore\")\n",
    "gpp_trend_90 = linregress(gpp_quantiles.sel(quantile=0.9))\n",
    "gpp_trend_10 = linregress(gpp_quantiles.sel(quantile=0.1))\n",
    "\n",
    "er_trend_90 = linregress(er_quantiles.sel(quantile=0.9))\n",
    "er_trend_10 = linregress(er_quantiles.sel(quantile=0.1))\n",
    "\n",
    "nee_trend_90 = linregress(nee_quantiles.sel(quantile=0.9))\n",
    "nee_trend_10 = linregress(nee_quantiles.sel(quantile=0.1))\n",
    "\n",
    "et_trend_90 = linregress(et_quantiles.sel(quantile=0.9))\n",
    "et_trend_10 = linregress(et_quantiles.sel(quantile=0.1))\n",
    "\n",
    "ndvi_trend_90 = linregress(ndvi_quantiles.sel(quantile=0.9))\n",
    "ndvi_trend_10 = linregress(ndvi_quantiles.sel(quantile=0.1))"
   ]
  },
  {
   "cell_type": "code",
   "execution_count": null,
   "id": "c93b410f-a26a-43a0-802b-f902548825e2",
   "metadata": {
    "tags": []
   },
   "outputs": [],
   "source": [
    "fig,ax = plt.subplots(1,2, figsize=(13,5), sharex=True, sharey=True)\n",
    "ndvi_trend_90.slope.plot.imshow(vmax=0.003,vmin=-0.003, cmap='RdBu', ax=ax[0], add_labels=False)\n",
    "ndvi_trend_10.slope.plot.imshow(vmax=0.003,vmin=-0.003, cmap='RdBu', ax=ax[1], add_labels=False)\n",
    "ax[0].set_title('NDVI quantile=0.9')\n",
    "ax[1].set_title('NDVI quantile=0.1')\n",
    "plt.tight_layout();"
   ]
  },
  {
   "cell_type": "markdown",
   "id": "ac05cf39-6dfc-44d2-84c7-20ebdea9bdc9",
   "metadata": {},
   "source": [
    "### Plot"
   ]
  },
  {
   "cell_type": "code",
   "execution_count": null,
   "id": "f3d1ae44-ed99-435f-9434-d30f5922ecc5",
   "metadata": {
    "tags": []
   },
   "outputs": [],
   "source": [
    "# et_trend.where(er_trend.p_value < 0.1).slope.plot.imshow(cmap='RdBu', robust=True, size=10)"
   ]
  },
  {
   "cell_type": "code",
   "execution_count": null,
   "id": "762b48d0-6998-4086-a1d6-88fe51074530",
   "metadata": {
    "tags": []
   },
   "outputs": [],
   "source": [
    "fig,ax = plt.subplots(2,2, figsize=(14,10), sharex=True, sharey=True)\n",
    "\n",
    "im = er_trend.slope.plot(cmap='RdBu', robust=True, ax=ax[0,0], add_colorbar=False, add_labels=False) #vmax=0.75, vmin=-0.75,\n",
    "cbar = plt.colorbar(im, ax=ax[0,0], shrink=0.75)\n",
    "ax[0,0].set_title('Linear trend in ER')\n",
    "ctx.add_basemap(ax[0,0], source=ctx.providers.Esri.WorldImagery, crs='EPSG:4326', attribution='Esri World Imagery', attribution_size=1)\n",
    "\n",
    "im = gpp_trend.slope.plot(cmap='RdBu', robust=True, ax=ax[0,1], add_colorbar=False, add_labels=False)\n",
    "cbar = plt.colorbar(im, ax=ax[0,1], shrink=0.75)\n",
    "ax[0,1].set_title('Linear trend in GPP')\n",
    "ctx.add_basemap(ax[0,1], source=ctx.providers.Esri.WorldImagery, crs='EPSG:4326', attribution='Esri World Imagery', attribution_size=1)\n",
    "\n",
    "im = et_trend.slope.plot(cmap='RdBu', robust=True, ax=ax[1,0], add_colorbar=False, add_labels=False)\n",
    "cbar = plt.colorbar(im, ax=ax[1,0], shrink=0.75)\n",
    "ax[1,0].set_title('Linear trend in ET')\n",
    "ctx.add_basemap(ax[1,0], source=ctx.providers.Esri.WorldImagery, crs='EPSG:4326', attribution='Esri World Imagery', attribution_size=1)\n",
    "\n",
    "im = nee_trend.slope.plot(cmap='RdBu_r', robust=True, ax=ax[1,1], add_colorbar=False, add_labels=False)\n",
    "cbar = plt.colorbar(im, ax=ax[1,1], shrink=0.75)\n",
    "ax[1,1].set_title('Linear trend in NEE')\n",
    "ctx.add_basemap(ax[1,1], source=ctx.providers.Esri.WorldImagery, crs='EPSG:4326', attribution='Esri World Imagery', attribution_size=1)\n",
    "plt.tight_layout();\n",
    "plt.savefig('/g/data/os22/chad_tmp/climate-carbon-interactions/results/figs/linear_trends.png', bbox_inches='tight', dpi=300)"
   ]
  },
  {
   "cell_type": "code",
   "execution_count": null,
   "id": "2265111f-be65-468e-b453-cccdab1d0282",
   "metadata": {},
   "outputs": [],
   "source": [
    "ndvi_trend.slope.plot(cmap='RdBu', robust=True, size=6)\n",
    "plt.title('Linear Trend in NDVI');"
   ]
  },
  {
   "cell_type": "markdown",
   "id": "c49259b7-2bee-4c5c-8f74-2fe66f29cfaa",
   "metadata": {},
   "source": [
    "## Plot extent on interactive map"
   ]
  },
  {
   "cell_type": "code",
   "execution_count": null,
   "id": "ef34a326-124e-4235-b0f9-ec56f4590d7b",
   "metadata": {
    "tags": []
   },
   "outputs": [],
   "source": [
    "m = folium.Map(control_scale = True)\n",
    "\n",
    "# gpp_trend.where(gpp_trend.p_value<0.1).slope.odc.add_to(m, robust=True, cmap='RdBu')\n",
    "nee_trend.slope.odc.add_to(m, robust=True, cmap='RdBu_r')\n",
    "\n",
    "# Zoom map to Australia\n",
    "m.fit_bounds(gpp_trend.odc.map_bounds())\n",
    "\n",
    "tile = folium.TileLayer(\n",
    "        tiles = 'https://server.arcgisonline.com/ArcGIS/rest/services/World_Imagery/MapServer/tile/{z}/{y}/{x}',\n",
    "        attr = 'Esri',\n",
    "        name = 'Esri Satellite',\n",
    "        overlay = True,\n",
    "        control = True\n",
    "       ).add_to(m)\n",
    "\n",
    "folium.LayerControl().add_to(m)\n",
    "display(m)"
   ]
  },
  {
   "cell_type": "markdown",
   "id": "d7c7f0ff-e3d2-4f81-bc62-9b4faa36ea43",
   "metadata": {},
   "source": [
    "## Per bioclimatic region"
   ]
  },
  {
   "cell_type": "code",
   "execution_count": null,
   "id": "ac9e0931-b885-4d69-8436-c683e6e96be8",
   "metadata": {},
   "outputs": [],
   "source": [
    "bio = assign_crs(xr.open_dataarray('/g/data/os22/chad_tmp/NEE_modelling/data/bioclimatic_regions.nc'), crs='EPSG:4326')\n",
    "gdf = gpd.read_file('/g/data/os22/chad_tmp/NEE_modelling/data/bioclimatic_regions.geojson')"
   ]
  },
  {
   "cell_type": "code",
   "execution_count": null,
   "id": "e20fb0c0-c742-4406-8e0a-aa6ffe751800",
   "metadata": {
    "tags": []
   },
   "outputs": [],
   "source": [
    "trends_var = [et_trend, er_trend, nee_trend, gpp_trend, wue_trend]\n",
    "names = ['ET', 'ER', 'NEE', 'GPP', 'WUE', 'NDVI']\n",
    "\n",
    "outer = []\n",
    "for index, row in gdf.iterrows():\n",
    "    mask = xr_rasterize(gdf.iloc[[index]], gpp.isel(time=1))\n",
    "    mask = round_coords(mask)\n",
    "\n",
    "    inner = []\n",
    "    for v,n in zip(trends_var, names):\n",
    "        var_region = v.where(mask).compute()\n",
    "        df_var_region = var_region.slope.drop('spatial_ref').to_dataframe().reset_index(drop=True).rename({'slope':n+'_'+row['region_name']},axis=1)\n",
    "        inner.append(df_var_region)\n",
    "    outer.append(inner)\n"
   ]
  },
  {
   "cell_type": "markdown",
   "id": "716186bd-189b-4985-aa36-2da88c3342b3",
   "metadata": {
    "tags": []
   },
   "source": [
    "### Plot trend distribution per region\n",
    "\n"
   ]
  },
  {
   "cell_type": "code",
   "execution_count": null,
   "id": "a0b46541-e8c1-4ca2-b703-cc2c4bde2755",
   "metadata": {
    "tags": []
   },
   "outputs": [],
   "source": [
    "fig,ax = plt.subplots(2,3, figsize=(15,8), sharex=True, sharey=True)\n",
    "for a,i,n in zip(ax.reshape(-1), range(0,6), list(gdf.region_name.values)): \n",
    "    dff = pd.concat(outer[i])\n",
    "    dff = dff.drop('WUE_'+n, axis=1)\n",
    "    sb.kdeplot(dff, fill=True, ax=a)\n",
    "    a.axvline(0, c='grey', linestyle='--')\n",
    "    a.set_xlim(-1.0, 1.0)\n",
    "    a.set_ylabel('')\n",
    "fig.supylabel('Density', fontsize=15)\n",
    "fig.supxlabel('Trend (1982-2022) year⁻¹', fontsize=15)\n",
    "plt.tight_layout()\n",
    "fig.savefig(\"/g/data/os22/chad_tmp/climate-carbon-interactions/results/figs/trend_dist_bioregion.png\", bbox_inches='tight', dpi=300)"
   ]
  },
  {
   "cell_type": "markdown",
   "id": "48eaaa32-4e01-44ad-a9dc-bcf7c7452f22",
   "metadata": {},
   "source": [
    "## Disaggregate further by vegetation types using National Veg Info System\n",
    "\n",
    "https://www.environment.gov.au/fed/catalog/search/resource/downloadData.page?uuid=ab942d6d-9efd-4cf2-bec7-4c1521b83803\n",
    "\n"
   ]
  },
  {
   "cell_type": "code",
   "execution_count": null,
   "id": "8d49d3fa-314a-45bb-9c13-3b04cc5dec38",
   "metadata": {
    "tags": []
   },
   "outputs": [],
   "source": [
    "import rioxarray as rxr\n",
    "ds = rxr.open_rasterio('/g/data/os22/chad_tmp/climate-carbon-interactions/data/aus6_0e_mvg.tif').squeeze().drop('band')"
   ]
  },
  {
   "cell_type": "code",
   "execution_count": null,
   "id": "b9ed8bdd-a58c-4a4b-9f4a-376666807d9a",
   "metadata": {
    "tags": []
   },
   "outputs": [],
   "source": [
    "woody_vals = [1,2,3,5,6,7,8,9,11,12,13,14]\n",
    "grass_vals = [119,20,21]\n",
    "shrubs_vals = [15,16,17,18,22,32]\n",
    "crops_vals = [25]"
   ]
  },
  {
   "cell_type": "code",
   "execution_count": null,
   "id": "286090e9-bef3-4e1d-816e-0bb1bf4097ae",
   "metadata": {
    "tags": []
   },
   "outputs": [],
   "source": [
    "woody = ds.isin(woody_vals)\n",
    "grass = ds.isin(grass_vals)\n",
    "shrubs = ds.isin(shrubs_vals)\n",
    "crops = ds.isin(crops_vals)"
   ]
  },
  {
   "cell_type": "code",
   "execution_count": null,
   "id": "288dd543-5c38-4eee-b6ca-8b74f22f7319",
   "metadata": {
    "tags": []
   },
   "outputs": [],
   "source": [
    "woody = woody.odc.reproject(how=er.odc.geobox, resampling='mode').rename('Woodlands')\n",
    "grass = grass.odc.reproject(how=er.odc.geobox, resampling='mode').rename('Grasses')\n",
    "shrubs = shrubs.odc.reproject(how=er.odc.geobox, resampling='mode').rename('Shrubs')\n",
    "crops = crops.odc.reproject(how=er.odc.geobox, resampling='mode').rename('Crops')\n",
    "\n",
    "woody =  round_coords(woody)\n",
    "grass =  round_coords(grass)\n",
    "shrubs =  round_coords(shrubs)\n",
    "crops =  round_coords(crops)"
   ]
  },
  {
   "cell_type": "code",
   "execution_count": null,
   "id": "2baedb86-f966-4213-bc14-73561bfce4cd",
   "metadata": {
    "tags": []
   },
   "outputs": [],
   "source": [
    "fig,ax = plt.subplots(1,4, figsize=(17,4), sharex=True, sharey=True)\n",
    "woody.plot.imshow(ax=ax[0], add_colorbar=False, add_labels=False)\n",
    "grass.plot.imshow(ax=ax[1], add_colorbar=False, add_labels=False)\n",
    "shrubs.plot.imshow(ax=ax[2], add_colorbar=False,add_labels=False)\n",
    "crops.plot.imshow(ax=ax[3], add_colorbar=False, add_labels=False)\n",
    "ax[0].set_title('Woody Cover')\n",
    "ax[1].set_title('Grasses')\n",
    "ax[2].set_title('Shrubs')\n",
    "ax[3].set_title('Crops et al.')\n",
    "plt.tight_layout();"
   ]
  },
  {
   "cell_type": "markdown",
   "id": "f6e20377-050e-4283-b839-3e80427cf232",
   "metadata": {},
   "source": [
    "### Break veg types into bioclimatic regions"
   ]
  },
  {
   "cell_type": "code",
   "execution_count": null,
   "id": "da798ec2-a719-4615-9d67-d432a2746662",
   "metadata": {
    "tags": []
   },
   "outputs": [],
   "source": [
    "bioclim_masks = []\n",
    "for index, row in gdf.iterrows():    \n",
    "    mask = xr_rasterize(gdf.iloc[[index]], gpp.isel(time=1))\n",
    "    mask = mask.rename(row['region_name'])\n",
    "    bioclim_masks.append(round_coords(mask))"
   ]
  },
  {
   "cell_type": "code",
   "execution_count": null,
   "id": "32420f17-5472-4407-bd24-34eafe8cfc5d",
   "metadata": {
    "tags": []
   },
   "outputs": [],
   "source": [
    "woody_temperate = woody.where((bioclim_masks[3] | bioclim_masks[2])).astype(np.int8).rename('Woody_temperate')\n",
    "woody_tropics = woody.where(bioclim_masks[0]).astype(np.int8).rename('Woody_tropics')\n",
    "woody_med = woody.where(bioclim_masks[4]).astype(np.int8).rename('Woody_mediterranean')\n",
    "woody_semiarid = woody.where((bioclim_masks[1] | bioclim_masks[5])).astype(np.int8).rename('Woody_(semi)arid')\n",
    "\n",
    "crops_med = crops.where(bioclim_masks[4]).astype(np.int8).rename('Crop_mediterranean')\n",
    "crops_temp = crops.where((bioclim_masks[3] | bioclim_masks[2])).astype(np.int8).rename('Crop_temperate')\n",
    "\n",
    "grasses_semiarid = grass.where((bioclim_masks[1] | bioclim_masks[5])).astype(np.int8).rename('Grasses_(semi)arid')\n",
    "\n",
    "shrubs_semiarid = shrubs.where((bioclim_masks[1] | bioclim_masks[5])).astype(np.int8).rename('Shrubs_(semi)arid')"
   ]
  },
  {
   "cell_type": "code",
   "execution_count": null,
   "id": "fd86df3b-b09e-4c55-ab1c-e67bb17b1132",
   "metadata": {
    "tags": []
   },
   "outputs": [],
   "source": [
    "masks = [woody_temperate,woody_tropics,woody_med,woody_semiarid,crops_med,crops_temp, grasses_semiarid, shrubs_semiarid]"
   ]
  },
  {
   "cell_type": "code",
   "execution_count": null,
   "id": "20911696-0634-475a-901a-9467d9d17abb",
   "metadata": {
    "tags": []
   },
   "outputs": [],
   "source": [
    "fig,ax = plt.subplots(2,4, figsize=(14,6), sharex=True, sharey=True)\n",
    "for a,m,n in zip(ax.reshape(-1), masks, [mask.name for mask in masks]): \n",
    "    m.where(m==1).plot(ax=a, add_colorbar=False, add_labels=False, cmap='Wistia')\n",
    "    ctx.add_basemap(a, source=ctx.providers.Esri.WorldImagery, crs='EPSG:4326', attribution='', attribution_size=1)\n",
    "    a.set_title(n)\n",
    "plt.tight_layout();"
   ]
  },
  {
   "cell_type": "markdown",
   "id": "aaae6a12-6802-4447-bc33-9bb1268c15d6",
   "metadata": {},
   "source": [
    "### Extract trends for cover types"
   ]
  },
  {
   "cell_type": "code",
   "execution_count": null,
   "id": "a118c0f0-f8a8-424b-ba92-45f7576e4cf1",
   "metadata": {
    "tags": []
   },
   "outputs": [],
   "source": [
    "trends_var = [et_trend, er_trend, nee_trend, gpp_trend, wue_trend, ndvi_trend]\n",
    "names = ['ET', 'ER', 'NEE', 'GPP', 'WUE', 'NDVI']\n",
    "# masks = [woody, shrubs_grass, crops]\n",
    "masks = [woody_temperate,woody_tropics,woody_med,woody_semiarid,crops_med,crops_temp, grasses_semiarid, shrubs_semiarid]\n",
    "\n",
    "outer = []\n",
    "for mask in masks:    \n",
    "    inner = []\n",
    "    for v,n in zip(trends_var, names):\n",
    "        var_region = v.where(mask).compute()\n",
    "        df_var_region = var_region.slope.drop('spatial_ref').to_dataframe().reset_index(drop=True).rename({'slope':n+'_'+mask.name},axis=1)\n",
    "        inner.append(df_var_region)\n",
    "    outer.append(inner)\n"
   ]
  },
  {
   "cell_type": "markdown",
   "id": "ae40235f-77f7-4b23-b0b5-3bece9d4b578",
   "metadata": {
    "tags": []
   },
   "source": [
    "### Plot"
   ]
  },
  {
   "cell_type": "code",
   "execution_count": null,
   "id": "237b2b5d-d74a-41c7-b3ec-2692762b9960",
   "metadata": {
    "tags": []
   },
   "outputs": [],
   "source": [
    "fig,ax = plt.subplots(2,4, figsize=(17,8), sharex=True, sharey=True)\n",
    "for a,i,n in zip(ax.reshape(-1), range(0,8), [mask.name for mask in masks]): \n",
    "    dff = pd.concat(outer[i])\n",
    "    sb.kdeplot(dff.drop(['WUE_'+n,'NDVI_'+n], axis=1), fill=True, ax=a)\n",
    "    a.axvline(0, c='grey', linestyle='--')\n",
    "    a.set_xlim(-1.0, 1.0)\n",
    "    a.set_ylabel('')\n",
    "fig.supylabel('Density', fontsize=15)\n",
    "fig.supxlabel('Trend (1982-2022) year⁻¹', fontsize=15)\n",
    "plt.tight_layout()\n",
    "fig.savefig(\"/g/data/os22/chad_tmp/climate-carbon-interactions/results/figs/trend_dist_bioregion_Veg.png\", bbox_inches='tight', dpi=300)"
   ]
  },
  {
   "cell_type": "markdown",
   "id": "271e6b42-c89b-4467-ba77-0fa5c5ad986e",
   "metadata": {},
   "source": [
    "### Plot WUE & NDVI"
   ]
  },
  {
   "cell_type": "code",
   "execution_count": null,
   "id": "099cf291-c892-4d49-b272-c9663540385d",
   "metadata": {
    "tags": []
   },
   "outputs": [],
   "source": [
    "fig,ax = plt.subplots(2,4, figsize=(17,8), sharex=True, sharey=True)\n",
    "for a,i,n in zip(ax.reshape(-1), range(0,8), [mask.name for mask in masks]): \n",
    "    dff = pd.concat(outer[i])\n",
    "    sb.kdeplot(dff['WUE_'+n], fill=True, ax=a)\n",
    "    a.axvline(0, c='grey', linestyle='--')\n",
    "    a.set_xlim(-0.03, 0.03)\n",
    "    a.set_ylabel('')\n",
    "    a.set_xlabel('')\n",
    "    a.set_title(n)\n",
    "fig.supylabel('Density', fontsize=15)\n",
    "fig.supxlabel('Trend (1982-2022) year⁻¹', fontsize=15)\n",
    "plt.tight_layout()\n",
    "fig.savefig(\"/g/data/os22/chad_tmp/climate-carbon-interactions/results/figs/trend_wue_dist_bioregion_veg.png\", bbox_inches='tight', dpi=300)"
   ]
  },
  {
   "cell_type": "code",
   "execution_count": null,
   "id": "9739e5e9-4738-4468-ab16-c17cf8e52318",
   "metadata": {
    "tags": []
   },
   "outputs": [],
   "source": [
    "fig,ax = plt.subplots(2,4, figsize=(17,8), sharex=True, sharey=True)\n",
    "for a,i,n in zip(ax.reshape(-1), range(0,8), [mask.name for mask in masks]): \n",
    "    dff = pd.concat(outer[i])\n",
    "    sb.kdeplot(dff['NDVI_'+n], fill=True, ax=a)\n",
    "    a.axvline(0, c='grey', linestyle='--')\n",
    "    a.set_xlim(-0.005, 0.005)\n",
    "    a.set_ylabel('')\n",
    "    a.set_xlabel('')\n",
    "    a.set_title(n)\n",
    "fig.supylabel('Density', fontsize=15)\n",
    "fig.supxlabel('Trend (1982-2022) year⁻¹', fontsize=15)\n",
    "plt.tight_layout()\n",
    "fig.savefig(\"/g/data/os22/chad_tmp/climate-carbon-interactions/results/figs/trend_ndvi_dist_bioregion_veg.png\", bbox_inches='tight', dpi=300)"
   ]
  },
  {
   "cell_type": "markdown",
   "id": "3a00acb1-b430-47c3-96ce-d4d5d88f8ae8",
   "metadata": {},
   "source": [
    "## Disaggregate by C3/C4 grass (Donohue product)"
   ]
  },
  {
   "cell_type": "code",
   "execution_count": null,
   "id": "2930ea34-0e0b-4e26-9bb2-1a95256c9a61",
   "metadata": {
    "tags": []
   },
   "outputs": [],
   "source": [
    "# C3 grass has been mislabelled as C4\n",
    "c3_grass = xr.open_dataarray('/g/data/os22/chad_tmp/NEE_modelling/data/1km/C4_grass_1km_monthly_2002_2022.nc').isel(time=1).rename('C3_grass').drop('time')\n",
    "grass = xr.open_dataarray('/g/data/os22/chad_tmp/NEE_modelling/data/1km/grass_1km_monthly_2002_2022.nc').isel(time=1).drop('time')\n",
    "c4_grass = (grass - c3_grass).rename('C4_grass')"
   ]
  },
  {
   "cell_type": "markdown",
   "id": "6873869c-ec6a-4d5b-8237-7e5d93f3a5a2",
   "metadata": {},
   "source": [
    "### Threshold"
   ]
  },
  {
   "cell_type": "code",
   "execution_count": null,
   "id": "4d482729-65be-4a7b-832b-d884778a9c28",
   "metadata": {
    "tags": []
   },
   "outputs": [],
   "source": [
    "grass_mask = xr.where(grass>0.5 ,1 ,0).astype(np.int8).rename('grass_mask')"
   ]
  },
  {
   "cell_type": "code",
   "execution_count": null,
   "id": "48ddf0f5-6f75-4081-a40c-d781a76683a6",
   "metadata": {
    "tags": []
   },
   "outputs": [],
   "source": [
    "dominant_c3 = (xr.where(c3_grass>c4_grass, 1, 0)).where(grass_mask).astype(np.int8).rename('C3_grass')\n",
    "dominant_c4 = (xr.where(c4_grass>c3_grass, 1, 0)).where(grass_mask).astype(np.int8).rename('C4_grass')"
   ]
  },
  {
   "cell_type": "code",
   "execution_count": null,
   "id": "11d455f7-22ae-4e06-8974-80ab6c49135b",
   "metadata": {
    "tags": []
   },
   "outputs": [],
   "source": [
    "masks = [grass_mask, dominant_c3, dominant_c4]\n",
    "\n",
    "fig,ax = plt.subplots(1,3, figsize=(15,4), sharex=True, sharey=True)\n",
    "for a,m,n in zip(ax.reshape(-1), masks, [mask.name for mask in masks]): \n",
    "    m.where(m==1).plot(ax=a, add_colorbar=False, add_labels=False, cmap='Wistia')\n",
    "    ctx.add_basemap(a, source=ctx.providers.Esri.WorldImagery, crs='EPSG:4326', attribution='', attribution_size=1)\n",
    "    a.set_title(n)\n",
    "plt.tight_layout();"
   ]
  },
  {
   "cell_type": "markdown",
   "id": "4923fb9a-7bc4-43c1-bc2c-51ed53d9a054",
   "metadata": {},
   "source": [
    "### Extract trends for grasses"
   ]
  },
  {
   "cell_type": "code",
   "execution_count": null,
   "id": "1d92a581-e16e-499a-9098-7b4d703e7401",
   "metadata": {
    "tags": []
   },
   "outputs": [],
   "source": [
    "trends_var = [et_trend, er_trend, nee_trend, gpp_trend, wue_trend]\n",
    "names = ['ET', 'ER', 'NEE', 'GPP', 'WUE']\n",
    "masks = [grass_mask, dominant_c3, dominant_c4]\n",
    "\n",
    "outer = []\n",
    "for mask in masks:    \n",
    "\n",
    "    inner = []\n",
    "    for v,n in zip(trends_var, names):\n",
    "        var_region = v.where(mask).compute()\n",
    "        df_var_region = var_region.slope.drop('spatial_ref').to_dataframe().reset_index(drop=True).rename({'slope':n+'_'+mask.name},axis=1)\n",
    "        inner.append(df_var_region)\n",
    "    outer.append(inner)\n"
   ]
  },
  {
   "cell_type": "markdown",
   "id": "63b15557-5588-4872-8aa7-33c26036be55",
   "metadata": {},
   "source": [
    "### plot"
   ]
  },
  {
   "cell_type": "code",
   "execution_count": null,
   "id": "2b3ea14c-95dd-4d12-b8bd-2743e4b5d360",
   "metadata": {
    "tags": []
   },
   "outputs": [],
   "source": [
    "fig,ax = plt.subplots(1,3, figsize=(15,4), sharex=True, sharey=True)\n",
    "for a,i,n in zip(ax.reshape(-1), range(0,3), [mask.name for mask in masks]): \n",
    "    dff = pd.concat(outer[i])\n",
    "    sb.kdeplot(dff.drop('WUE_'+n, axis=1), fill=True, ax=a)\n",
    "    a.axvline(0, c='grey', linestyle='--')\n",
    "    a.set_xlim(-1.0, 1.0)\n",
    "    a.set_ylabel('')\n",
    "fig.supylabel('Density', fontsize=15)\n",
    "fig.supxlabel('Trend (2003-2021) year⁻¹', fontsize=15)\n",
    "plt.tight_layout()\n",
    "fig.savefig(\"/g/data/os22/chad_tmp/climate-carbon-interactions/results/figs/trend_dist_grasses.png\", bbox_inches='tight')"
   ]
  },
  {
   "cell_type": "code",
   "execution_count": null,
   "id": "66c7f2a7-1031-4ecf-a0ce-5be8e1b4f1fb",
   "metadata": {},
   "outputs": [],
   "source": []
  }
 ],
 "metadata": {
  "kernelspec": {
   "display_name": "Python 3 (ipykernel)",
   "language": "python",
   "name": "python3"
  },
  "language_info": {
   "codemirror_mode": {
    "name": "ipython",
    "version": 3
   },
   "file_extension": ".py",
   "mimetype": "text/x-python",
   "name": "python",
   "nbconvert_exporter": "python",
   "pygments_lexer": "ipython3",
   "version": "3.9.2"
  }
 },
 "nbformat": 4,
 "nbformat_minor": 5
}
