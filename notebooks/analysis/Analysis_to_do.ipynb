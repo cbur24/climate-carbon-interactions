{
 "cells": [
  {
   "cell_type": "markdown",
   "id": "eb4b62d3-a879-432e-8f73-69625b57fd26",
   "metadata": {},
   "source": [
    "# Analyses to explore"
   ]
  },
  {
   "cell_type": "markdown",
   "id": "c89eac5b-0739-48e7-8ae0-07e559b86cb3",
   "metadata": {},
   "source": [
    "The goal of this chapter of the thesis is two fold: 1) to extend AusEFlux back in time to the 1980's, and 2) to examine the interactions between a changing climate and Austalia's terrestrial carbon and water fluxes.\n",
    "\n",
    "To examine 2), explore the following:\n",
    "\n",
    "1. Long-term trends in NEE, GPP, ER, ET\n",
    "    - Trends can be diagregated by: bioclimatic regions, vegetation type, quantiles (0.1, 0.9), seasons.\n",
    "    - Calculate trends using robust regression i.e., https://github.com/mmhs013/pyMannKendall\n",
    "\n",
    "    \n",
    "2. Seasonality:  \n",
    "    - Aus-wide phenology curve for 1982-2000; 2001-2022, has there been a shift?\n",
    "    - Does that shift match the shift in NDVI?\n",
    "    - Create annual (5-year avg maybe?) seasonality isolines. Lines of POS, EOS, LOS\n",
    "      \n",
    "\n",
    "3. Examine correlations between ENSO, IOD, SAM, MJO and carbon & water fluxes.\n",
    "    - Perhaps also consider shifting teleconnections using EOF\n",
    "      \n",
    "\n",
    "4. Any changing climate sensitivity of the carbon cycle? GPP/NDVI NEE/rainfall? ?\r\n"
   ]
  },
  {
   "cell_type": "code",
   "execution_count": null,
   "id": "004eb287-f6f5-43d1-9201-3f891cc6e125",
   "metadata": {},
   "outputs": [],
   "source": []
  }
 ],
 "metadata": {
  "kernelspec": {
   "display_name": "Python 3 (ipykernel)",
   "language": "python",
   "name": "python3"
  },
  "language_info": {
   "codemirror_mode": {
    "name": "ipython",
    "version": 3
   },
   "file_extension": ".py",
   "mimetype": "text/x-python",
   "name": "python",
   "nbconvert_exporter": "python",
   "pygments_lexer": "ipython3",
   "version": "3.9.2"
  }
 },
 "nbformat": 4,
 "nbformat_minor": 5
}
