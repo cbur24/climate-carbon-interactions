{
 "cells": [
  {
   "cell_type": "markdown",
   "metadata": {
    "tags": []
   },
   "source": [
    "# Load and save Landsat data using ODC\n",
    "\n",
    "\n",
    "I needed to use the `dea/20220225` module to load the HDF5 files\n",
    "\n",
    "`dea/20230710`\n",
    "\n",
    "Need to install odc-geo for dea_tools to work\n",
    "\n",
    "`pip install -v --no-binary :all: --upgrade-strategy only-if-needed --prefix /g/data/os22/chad_tmp/climate-carbon-interactions/envs/EXTRA_PYTHON_LIBS odc-geo`"
   ]
  },
  {
   "cell_type": "markdown",
   "metadata": {},
   "source": [
    "### Load packages\n",
    "Load key Python packages and any supporting functions for the analysis."
   ]
  },
  {
   "cell_type": "code",
   "execution_count": 1,
   "metadata": {
    "tags": []
   },
   "outputs": [],
   "source": [
    "import datacube\n",
    "import matplotlib.pyplot as plt\n",
    "import numpy as np\n",
    "import pandas as pd\n",
    "import xarray as xr\n",
    "import folium\n",
    "\n",
    "import sys\n",
    "sys.path.insert(1, '/g/data/os22/chad_tmp/dea-notebooks/Tools/')\n",
    "from dea_tools.dask import create_local_dask_cluster\n",
    "from dea_tools.bandindices import calculate_indices\n",
    "from dea_tools.datahandling import load_ard\n",
    "\n",
    "#special import for DEA/20230710 module as its missing\n",
    "sys.path.insert(1, '/g/data/os22/chad_tmp/climate-carbon-interactions/envs/EXTRA_PYTHON_LIBS/lib/python3.8/site-packages')\n",
    "from odc.geo.xr import assign_crs"
   ]
  },
  {
   "cell_type": "code",
   "execution_count": null,
   "metadata": {
    "tags": []
   },
   "outputs": [],
   "source": [
    "client = create_local_dask_cluster(return_client=True)"
   ]
  },
  {
   "cell_type": "markdown",
   "metadata": {
    "tags": []
   },
   "source": [
    "### Analysis parameters\n",
    "\n",
    "* `path`: The path to the input vector file from which we will extract training data. A default geojson is provided.\n",
    "* `field`: This is the name of column in your shapefile attribute table that contains the class labels. **The class labels must be integers**\n",
    "* `time`: The date range to analyse (e.g. `('2013', '2016') `)\n",
    "* `measurement`: Bands for the imagery to use.\n",
    "* `resampling`: Resampling method to use \n",
    "* `resolution`: \n",
    "* `output_crs`: "
   ]
  },
  {
   "cell_type": "code",
   "execution_count": null,
   "metadata": {
    "tags": []
   },
   "outputs": [],
   "source": [
    "# product='ga_ls_fc_3'\n",
    "\n",
    "# time = ('1987', '2022')\n",
    "# measurements =  ['pv', 'npv', 'bs']\n",
    "# resampling = {'*':'average'}\n",
    "# resolution = (-1000,1000)\n",
    "# output_crs='epsg:3577'\n",
    "# dask_chunks=dict(x=2000, y=2000)\n",
    "\n",
    "measurements =  ['nbart_nir', 'nbart_red', 'nbart_green']\n",
    "resampling = {'nbart_nir':'average',\n",
    "              'nbart_red':'average',\n",
    "              'nbart_green':'average',\n",
    "              '*':'mode'}\n",
    "resolution = (-1000,1000)\n",
    "output_crs='epsg:3577'\n",
    "dask_chunks=dict(x=4000, y=4000, time=1)\n",
    "# filters=[(\"opening\", 2), (\"dilation\", 2)]\n",
    "\n",
    "# central_lat = -33.5597\n",
    "# central_lon = 150.231667\n",
    "# # Set the buffer to load around the central coordinates\n",
    "# buffer = 0.07"
   ]
  },
  {
   "cell_type": "markdown",
   "metadata": {},
   "source": [
    "## Load data"
   ]
  },
  {
   "cell_type": "code",
   "execution_count": null,
   "metadata": {
    "tags": []
   },
   "outputs": [],
   "source": [
    "dc = datacube.Datacube(app='test')"
   ]
  },
  {
   "cell_type": "code",
   "execution_count": null,
   "metadata": {
    "tags": []
   },
   "outputs": [],
   "source": [
    "years = [str(i) for i in range(1988,2023)]\n",
    "for y in years:\n",
    "    print(y)\n",
    "    query = {\n",
    "        'time':y,\n",
    "        'measurements': measurements,\n",
    "        'resolution': resolution,\n",
    "        'output_crs': output_crs,\n",
    "        'resampling':resampling,\n",
    "        'dask_chunks':dask_chunks,\n",
    "        'group_by':'solar_day'\n",
    "    }\n",
    "    \n",
    "    ds = load_ard(dc=dc,\n",
    "              products=[\n",
    "                    'ga_ls5t_ard_3'\n",
    "              ],\n",
    "              # mask_contiguity=True,\n",
    "              mask_pixel_quality=True,\n",
    "              # mask_filters=filters,\n",
    "              **query\n",
    "             )\n",
    "\n",
    "    ds = calculate_indices(ds, ['NDVI', 'NDWI'], collection='ga_ls_3', drop=True)\n",
    "    \n",
    "    # ds = ds.resample(time='QS-DEC').mean()\n",
    "    ds = ds.resample(time='MS', loffset=pd.Timedelta(14, 'd')).mean()\n",
    "    \n",
    "    break\n",
    "    \n",
    "#     del ds.attrs['grid_mapping']\n",
    "#     del ds.time.attrs['units']\n",
    "#     for var in ds.data_vars:\n",
    "#         del ds[var].attrs['grid_mapping']\n",
    "    \n",
    "#     ds.to_netcdf('data/FC_median_'+y+'.nc')\n",
    "    "
   ]
  },
  {
   "cell_type": "code",
   "execution_count": null,
   "metadata": {},
   "outputs": [],
   "source": [
    "%%time\n",
    "ds = ds.compute()"
   ]
  },
  {
   "cell_type": "code",
   "execution_count": null,
   "metadata": {},
   "outputs": [],
   "source": []
  },
  {
   "cell_type": "code",
   "execution_count": null,
   "metadata": {},
   "outputs": [],
   "source": []
  },
  {
   "cell_type": "code",
   "execution_count": null,
   "metadata": {},
   "outputs": [],
   "source": []
  },
  {
   "cell_type": "code",
   "execution_count": null,
   "metadata": {},
   "outputs": [],
   "source": []
  },
  {
   "cell_type": "code",
   "execution_count": null,
   "metadata": {
    "tags": []
   },
   "outputs": [],
   "source": [
    "ds_time = np.array(ds.time, dtype='datetime64[h]')\n",
    "wo_time = np.array(wo.time, dtype='datetime64[h]')\n",
    "\n",
    "ds['time'] = ds_time\n",
    "wo['time'] = wo_time\n",
    "\n",
    "ds = ds.sel(time=wo.time, method='nearest')\n",
    "wo = wo.sel(time=ds.time, method='nearest')"
   ]
  },
  {
   "cell_type": "code",
   "execution_count": null,
   "metadata": {
    "tags": []
   },
   "outputs": [],
   "source": [
    "ds.time.isel(time=116).values"
   ]
  },
  {
   "cell_type": "code",
   "execution_count": null,
   "metadata": {
    "tags": []
   },
   "outputs": [],
   "source": [
    "ds.resample(time='1W').mean()"
   ]
  },
  {
   "cell_type": "code",
   "execution_count": null,
   "metadata": {
    "tags": []
   },
   "outputs": [],
   "source": [
    "np.sum(wo.resample(time='1W').mean().time == ds.resample(time='1W').mean().time)"
   ]
  },
  {
   "cell_type": "code",
   "execution_count": null,
   "metadata": {
    "tags": []
   },
   "outputs": [],
   "source": [
    "ds.time.values == wo.time.values"
   ]
  },
  {
   "cell_type": "code",
   "execution_count": null,
   "metadata": {
    "tags": []
   },
   "outputs": [],
   "source": [
    "np.array(ds.time.values[0], dtype='datetime64[D]')"
   ]
  },
  {
   "cell_type": "code",
   "execution_count": null,
   "metadata": {
    "tags": []
   },
   "outputs": [],
   "source": []
  },
  {
   "cell_type": "code",
   "execution_count": null,
   "metadata": {
    "tags": []
   },
   "outputs": [],
   "source": []
  },
  {
   "cell_type": "code",
   "execution_count": null,
   "metadata": {
    "tags": []
   },
   "outputs": [],
   "source": [
    "np.sum(ds_time == wo_time)"
   ]
  },
  {
   "cell_type": "code",
   "execution_count": null,
   "metadata": {
    "tags": []
   },
   "outputs": [],
   "source": []
  },
  {
   "cell_type": "code",
   "execution_count": null,
   "metadata": {
    "tags": []
   },
   "outputs": [],
   "source": [
    "ds.time.isel(time=-2)# ==wo.time.isel(time=19)"
   ]
  },
  {
   "cell_type": "code",
   "execution_count": null,
   "metadata": {
    "tags": []
   },
   "outputs": [],
   "source": [
    "wo.time.isel(time=-2)# == ds.time.values"
   ]
  },
  {
   "cell_type": "code",
   "execution_count": null,
   "metadata": {
    "tags": []
   },
   "outputs": [],
   "source": [
    "ds.time"
   ]
  },
  {
   "cell_type": "code",
   "execution_count": null,
   "metadata": {
    "tags": []
   },
   "outputs": [],
   "source": [
    "ds.time.values[0]"
   ]
  },
  {
   "cell_type": "code",
   "execution_count": null,
   "metadata": {},
   "outputs": [],
   "source": [
    "np.array(ds.time.values[0], dtype='datetime64[h]')"
   ]
  },
  {
   "cell_type": "code",
   "execution_count": null,
   "metadata": {
    "tags": []
   },
   "outputs": [],
   "source": [
    "%%time\n",
    "ds = ds.compute()"
   ]
  },
  {
   "cell_type": "code",
   "execution_count": null,
   "metadata": {
    "tags": []
   },
   "outputs": [],
   "source": [
    "ds.pv.isel(time=0).plot.imshow(size=6)"
   ]
  },
  {
   "cell_type": "code",
   "execution_count": null,
   "metadata": {},
   "outputs": [],
   "source": []
  },
  {
   "cell_type": "code",
   "execution_count": null,
   "metadata": {},
   "outputs": [],
   "source": [
    "m = folium.Map(control_scale = True)\n",
    "ds.pv.isel(time=0).odc.add_to(m, robust=True)\n",
    "\n",
    "# Zoom map\n",
    "m.fit_bounds(ds.pv.odc.map_bounds())\n",
    "\n",
    "tile = folium.TileLayer(\n",
    "        tiles = 'https://server.arcgisonline.com/ArcGIS/rest/services/World_Imagery/MapServer/tile/{z}/{y}/{x}',\n",
    "        attr = 'Esri',\n",
    "        name = 'Esri Satellite',\n",
    "        overlay = True,\n",
    "        control = True\n",
    "       ).add_to(m)\n",
    "\n",
    "folium.LayerControl().add_to(m)\n",
    "display(m)"
   ]
  },
  {
   "cell_type": "markdown",
   "metadata": {},
   "source": [
    "## Stitch together output"
   ]
  },
  {
   "cell_type": "code",
   "execution_count": null,
   "metadata": {
    "tags": []
   },
   "outputs": [],
   "source": [
    "import os"
   ]
  },
  {
   "cell_type": "code",
   "execution_count": null,
   "metadata": {
    "tags": []
   },
   "outputs": [],
   "source": [
    "base = 'data/'\n",
    "files = [base+i for i in os.listdir(base) if i.endswith('.nc')]\n",
    "files.sort()\n",
    "print(len(files))"
   ]
  },
  {
   "cell_type": "code",
   "execution_count": null,
   "metadata": {
    "tags": []
   },
   "outputs": [],
   "source": [
    "ds = xr.open_mfdataset(files) #chunks=dict(latitude=1000, longitude=1000)\n",
    "# ds = assign_crs(ds, crs='epsg:4326')"
   ]
  },
  {
   "cell_type": "code",
   "execution_count": null,
   "metadata": {
    "tags": []
   },
   "outputs": [],
   "source": [
    "ds.to_netcdf('Fractional_cover_LS_annual_1987_2002.nc')"
   ]
  }
 ],
 "metadata": {
  "kernelspec": {
   "display_name": "Python 3 (ipykernel)",
   "language": "python",
   "name": "python3"
  },
  "language_info": {
   "codemirror_mode": {
    "name": "ipython",
    "version": 3
   },
   "file_extension": ".py",
   "mimetype": "text/x-python",
   "name": "python",
   "nbconvert_exporter": "python",
   "pygments_lexer": "ipython3",
   "version": "3.8.10"
  },
  "widgets": {
   "application/vnd.jupyter.widget-state+json": {
    "state": {},
    "version_major": 2,
    "version_minor": 0
   }
  }
 },
 "nbformat": 4,
 "nbformat_minor": 4
}
