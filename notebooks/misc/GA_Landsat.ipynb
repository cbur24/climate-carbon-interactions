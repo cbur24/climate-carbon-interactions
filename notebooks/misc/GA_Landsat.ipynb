{
 "cells": [
  {
   "cell_type": "markdown",
   "metadata": {
    "tags": []
   },
   "source": [
    "# Load and save Landsat NDVI over Aus\n"
   ]
  },
  {
   "cell_type": "markdown",
   "metadata": {},
   "source": [
    "### Load packages"
   ]
  },
  {
   "cell_type": "code",
   "execution_count": null,
   "metadata": {
    "tags": []
   },
   "outputs": [],
   "source": [
    "import datacube\n",
    "import datacube.utils.rio\n",
    "import matplotlib.pyplot as plt\n",
    "import numpy as np\n",
    "import pandas as pd\n",
    "import xarray as xr\n",
    "import warnings\n",
    "import folium\n",
    "\n",
    "# from odc.geo.xr import assign_crs\n",
    "import sys\n",
    "# sys.path.append('/g/data/os22/chad_tmp/dea-notebooks/Tools/')\n",
    "# from dea_tools.classification import HiddenPrints\n",
    "\n",
    "\n",
    "sys.path.append('/g/data/os22/chad_tmp/dea-notebooks/Tools/')\n",
    "from dea_tools.dask import create_local_dask_cluster\n",
    "from dea_tools.bandindices import calculate_indices\n",
    "from dea_tools.datahandling import load_ard"
   ]
  },
  {
   "cell_type": "code",
   "execution_count": null,
   "metadata": {
    "tags": []
   },
   "outputs": [],
   "source": [
    "client = create_local_dask_cluster(return_client=True)"
   ]
  },
  {
   "cell_type": "markdown",
   "metadata": {
    "tags": []
   },
   "source": [
    "## Analysis parameters\n"
   ]
  },
  {
   "cell_type": "code",
   "execution_count": null,
   "metadata": {
    "tags": []
   },
   "outputs": [],
   "source": [
    "measurements =  ['nbart_nir', 'nbart_red']\n",
    "resampling = {'nbart_nir':'average', 'nbart_red':'average', '*':'mode'}\n",
    "resolution = (-0.05, 0.05)\n",
    "output_crs='epsg:4326'\n",
    "dask_chunks=dict(latitude=1000, longitude=1000, time=1)\n",
    "filters=[(\"opening\", 2), (\"dilation\", 2)]"
   ]
  },
  {
   "cell_type": "markdown",
   "metadata": {},
   "source": [
    "## Load data"
   ]
  },
  {
   "cell_type": "code",
   "execution_count": null,
   "metadata": {
    "tags": []
   },
   "outputs": [],
   "source": [
    "dc = datacube.Datacube(app='Landsat')"
   ]
  },
  {
   "cell_type": "code",
   "execution_count": null,
   "metadata": {
    "tags": []
   },
   "outputs": [],
   "source": [
    "#loop through years to keep memory down\n",
    "years = [str(i) for i in range(2013,2014)]\n",
    "\n",
    "for y in years:\n",
    "    print(y)\n",
    "\n",
    "    #set-up query\n",
    "    query = {\n",
    "        'time':y,\n",
    "        'measurements': measurements,\n",
    "        'resolution': resolution,\n",
    "        'output_crs': output_crs,\n",
    "        'resampling':resampling,\n",
    "        'dask_chunks':dask_chunks,\n",
    "        'group_by':'solar_day'\n",
    "    }\n",
    "    \n",
    "    # with HiddenPrints():\n",
    "    ds = load_ard(dc=dc,\n",
    "              products=[\n",
    "                    'ga_ls5t_ard_3',\n",
    "                    'ga_ls7e_ard_3'\n",
    "              ],\n",
    "              mask_pixel_quality=True,\n",
    "              mask_filters=filters,\n",
    "              **query\n",
    "             )\n",
    "\n",
    "    #calculate NDVI and resample to monthly\n",
    "    ds = calculate_indices(ds, ['NDVI'], collection='ga_ls_3', drop=True)\n",
    "    ds = ds.resample(time='MS', loffset=pd.Timedelta(14, 'd')).median()\n",
    "    ds = ds.compute()\n",
    "    #export\n",
    "    del ds.attrs['grid_mapping']\n",
    "    # for var in ds.data_vars:\n",
    "    #     del ds[var].attrs['grid_mapping']\n",
    "    ds.to_netcdf('/g/data/os22/chad_tmp/climate-carbon-interactions/data/Landsat/Landsat_'+y+'.nc')\n",
    "    "
   ]
  },
  {
   "cell_type": "code",
   "execution_count": null,
   "metadata": {},
   "outputs": [],
   "source": [
    "# del ds.attrs['grid_mapping']\n",
    "# del ds.time.attrs['units']\n",
    "# for var in ds.data_vars:\n",
    "    # del ds[var].attrs['grid_mapping']\n",
    "\n",
    "# ds.to_netcdf('/g/data/os22/chad_tmp/climate-carbon-interactions/data/Landsat/Landsat_'+y+'.nc')"
   ]
  },
  {
   "cell_type": "code",
   "execution_count": null,
   "metadata": {},
   "outputs": [],
   "source": []
  },
  {
   "cell_type": "code",
   "execution_count": null,
   "metadata": {
    "tags": []
   },
   "outputs": [],
   "source": [
    "# ds.NDVI.isel(time=0).plot.imshow(size=15, vmin=0)"
   ]
  },
  {
   "cell_type": "code",
   "execution_count": null,
   "metadata": {},
   "outputs": [],
   "source": [
    "# m = folium.Map(control_scale = True)\n",
    "# ds.NDVI.isel(time=-1).odc.add_to(m, robust=True)\n",
    "\n",
    "# # Zoom map\n",
    "# m.fit_bounds(ds.NDVI.odc.map_bounds())\n",
    "\n",
    "# tile = folium.TileLayer(\n",
    "#         tiles = 'https://server.arcgisonline.com/ArcGIS/rest/services/World_Imagery/MapServer/tile/{z}/{y}/{x}',\n",
    "#         attr = 'Esri',\n",
    "#         name = 'Esri Satellite',\n",
    "#         overlay = True,\n",
    "#         control = True\n",
    "#        ).add_to(m)\n",
    "\n",
    "# folium.LayerControl().add_to(m)\n",
    "# display(m)"
   ]
  },
  {
   "cell_type": "markdown",
   "metadata": {},
   "source": [
    "## Stitch together output"
   ]
  },
  {
   "cell_type": "code",
   "execution_count": null,
   "metadata": {
    "tags": []
   },
   "outputs": [],
   "source": [
    "import os\n",
    "import xarray as xr\n",
    "import numpy as np\n",
    "from odc.geo.xr import assign_crs\n",
    "import sys\n",
    "sys.path.append('/g/data/os22/chad_tmp/AusEFlux/src/')\n",
    "from _collect_prediction_data import round_coords"
   ]
  },
  {
   "cell_type": "code",
   "execution_count": null,
   "metadata": {
    "tags": []
   },
   "outputs": [],
   "source": [
    "base = '/g/data/os22/chad_tmp/climate-carbon-interactions/data/Landsat/'\n",
    "files = [base+i for i in os.listdir(base) if i.endswith('.nc')]\n",
    "files.sort()\n",
    "print(len(files))"
   ]
  },
  {
   "cell_type": "code",
   "execution_count": null,
   "metadata": {
    "tags": []
   },
   "outputs": [],
   "source": [
    "arr = []\n",
    "for f in files:\n",
    "    ds = xr.open_dataset(f)\n",
    "    ds = round_coords(ds)\n",
    "    ds = assign_crs(ds, crs='epsg:4326')\n",
    "    ds.attrs['nodata'] = np.nan\n",
    "    arr.append(ds)\n",
    "ds = xr.concat(arr, dim='time')\n",
    "ds.attrs['nodata'] = np.nan"
   ]
  },
  {
   "cell_type": "code",
   "execution_count": null,
   "metadata": {},
   "outputs": [],
   "source": [
    "gbox = xr.open_dataset('/g/data/os22/chad_tmp/climate-carbon-interactions/data/5km/WCF_5km_monthly_1982_2022.nc')['WCF'].odc.geobox\n",
    "ds = ds.odc.reproject(gbox, resampling='bilinear')"
   ]
  },
  {
   "cell_type": "code",
   "execution_count": null,
   "metadata": {},
   "outputs": [],
   "source": [
    "ds = round_coords(ds)"
   ]
  },
  {
   "cell_type": "code",
   "execution_count": null,
   "metadata": {},
   "outputs": [],
   "source": [
    "# ds.NDVI.sel(time='2012').plot.imshow(col='time', col_wrap=4, vmin=0)"
   ]
  },
  {
   "cell_type": "code",
   "execution_count": null,
   "metadata": {},
   "outputs": [],
   "source": [
    "# ds.NDVI.mean(['latitude', 'longitude']).plot(figsize=(11,4))"
   ]
  },
  {
   "cell_type": "code",
   "execution_count": null,
   "metadata": {
    "tags": []
   },
   "outputs": [],
   "source": [
    "ds.to_netcdf('/g/data/os22/chad_tmp/climate-carbon-interactions/data/Landsat/Landsat_NDVI_5km_monthly_1988_2013.nc')"
   ]
  },
  {
   "cell_type": "code",
   "execution_count": null,
   "metadata": {},
   "outputs": [],
   "source": []
  }
 ],
 "metadata": {
  "kernelspec": {
   "display_name": "Python 3 (ipykernel)",
   "language": "python",
   "name": "python3"
  },
  "language_info": {
   "codemirror_mode": {
    "name": "ipython",
    "version": 3
   },
   "file_extension": ".py",
   "mimetype": "text/x-python",
   "name": "python",
   "nbconvert_exporter": "python",
   "pygments_lexer": "ipython3",
   "version": "3.9.2"
  },
  "widgets": {
   "application/vnd.jupyter.widget-state+json": {
    "state": {},
    "version_major": 2,
    "version_minor": 0
   }
  }
 },
 "nbformat": 4,
 "nbformat_minor": 4
}
