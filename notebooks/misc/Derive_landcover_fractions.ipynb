{
 "cells": [
  {
   "cell_type": "markdown",
   "id": "fc3b47f3-76d3-453f-8d98-d18f262c9bce",
   "metadata": {},
   "source": [
    "# Landcover fractions (Trees, Grass, Bare)\n",
    "\n",
    "Following [Donohue 2009](https://onlinelibrary.wiley.com/doi/full/10.1111/j.1365-2486.2008.01746.x)"
   ]
  },
  {
   "cell_type": "code",
   "execution_count": null,
   "id": "fb3bd8fc-db42-41f3-b75e-a8616375a27d",
   "metadata": {},
   "outputs": [],
   "source": [
    "import xarray as xr\n",
    "import numpy as np\n",
    "import matplotlib.pyplot as plt\n",
    "import warnings"
   ]
  },
  {
   "cell_type": "markdown",
   "id": "caeb0599-daf5-4205-af36-2e477f4ef035",
   "metadata": {},
   "source": [
    "## Analysis Parameters"
   ]
  },
  {
   "cell_type": "code",
   "execution_count": null,
   "id": "d00bc5bd-c9f3-413f-a6c5-6323e357d43b",
   "metadata": {},
   "outputs": [],
   "source": [
    "# enter NDVI value of bare soil\n",
    "ndvi_min = 0.141\n",
    "\n",
    "# likely maximum NDVI\n",
    "ndvi_max = 0.91\n",
    "\n",
    "#ndvi data is here\n",
    "ndvi_path = '/g/data/os22/chad_tmp/climate-carbon-interactions/data/5km/NDVI_5km_monthly_1982_2022.nc'"
   ]
  },
  {
   "cell_type": "markdown",
   "id": "412f683f-2779-453e-aa19-082e0f26e0a6",
   "metadata": {},
   "source": [
    "## Open data"
   ]
  },
  {
   "cell_type": "code",
   "execution_count": null,
   "id": "5f44ae50-7c94-4034-a3d1-f4a47feb0c24",
   "metadata": {},
   "outputs": [],
   "source": [
    "ds = xr.open_dataarray(ndvi_path)"
   ]
  },
  {
   "cell_type": "markdown",
   "id": "c30172c0-dcb8-4046-9adf-1d7713e98ec1",
   "metadata": {},
   "source": [
    "## Calculate landcover fractions"
   ]
  },
  {
   "cell_type": "code",
   "execution_count": null,
   "id": "80b78d98-a3c4-48c3-b0fe-247b05cf4ea0",
   "metadata": {},
   "outputs": [],
   "source": [
    "#calculate f-total\n",
    "ft = (ds - ndvi_min) / (ndvi_max - ndvi_min)\n",
    "ft = xr.where(ft<0, 0, ft)\n",
    "ft = xr.where(ft>1, 1, ft)\n",
    "\n",
    "#calculate initial persistent fraction (equation 1 & 2 in Donohue 2009)\n",
    "persist = ft.rolling(time=7, min_periods=1).min()\n",
    "persist = persist.rolling(time=9, min_periods=1).mean()\n",
    "\n",
    "#calculate initial recurrent fraction (equation 3 in Donohue 2009)\n",
    "recurrent = ft - persist\n",
    "\n",
    "###------- equations 4 & 5 in Donohue 2009----------------\n",
    "persist = xr.where(recurrent<0, persist - np.abs(recurrent), persist) #eq4\n",
    "recurrent = ft - persist # eq 5\n",
    "## ---------------------------------------------------------\n",
    "\n",
    "#ensure values are between 0 and 1\n",
    "persist = xr.where(persist<0, 0, persist)\n",
    "recurrent = xr.where(recurrent<0, 0, recurrent)\n",
    "\n",
    "#assign variable names\n",
    "recurrent.name='grass'\n",
    "persist.name='trees'"
   ]
  },
  {
   "cell_type": "markdown",
   "id": "9b6e28c8-50d8-44b0-89db-5529af904f0c",
   "metadata": {},
   "source": [
    "## Plots\n",
    "\n",
    "Check how the fractions look for any given year"
   ]
  },
  {
   "cell_type": "code",
   "execution_count": null,
   "id": "98a9168b-bd0f-4dea-bea6-0042a34f330f",
   "metadata": {},
   "outputs": [],
   "source": [
    "year='2020'"
   ]
  },
  {
   "cell_type": "code",
   "execution_count": null,
   "id": "2cc66b2b-d99d-4059-8cfe-743dc293d5b8",
   "metadata": {},
   "outputs": [],
   "source": [
    "p = persist.sel(time=year).max('time')\n",
    "r = recurrent.sel(time=year).max('time')\n",
    "b = 1-(p+r)"
   ]
  },
  {
   "cell_type": "code",
   "execution_count": null,
   "id": "0a56d7f9-02a5-483b-8751-af15747cb5d7",
   "metadata": {},
   "outputs": [],
   "source": [
    "fig,ax=plt.subplots(1,3, figsize=(15,5), sharey=True)\n",
    "p.plot.imshow( ax=ax[0], cmap='gist_earth_r') #vmax=1, vmin=0,\n",
    "r.plot.imshow(ax=ax[1], cmap='gist_earth_r')\n",
    "b.rename('bare').plot.imshow(ax=ax[2], vmin=0, cmap='gist_earth_r')\n",
    "\n",
    "ax[0].set_title('Persistent fraction '+year)\n",
    "ax[1].set_title('Recurrent fraction ' +year)\n",
    "ax[2].set_title('Bare fraction ' +year)\n",
    "plt.tight_layout()"
   ]
  },
  {
   "cell_type": "markdown",
   "id": "dc6a7eec-9205-4c97-a4be-e67c28e2788c",
   "metadata": {},
   "source": [
    "### Plot Aus-wide time-series"
   ]
  },
  {
   "cell_type": "code",
   "execution_count": null,
   "id": "46cf2ecf-e60a-4313-81de-366fc80683b1",
   "metadata": {},
   "outputs": [],
   "source": [
    "fig,ax=plt.subplots(1,1, figsize=(12,4))\n",
    "persist.mean(['latitude', 'longitude']).plot(ax=ax, label='Persistent')\n",
    "recurrent.mean(['latitude', 'longitude']).plot(ax=ax, label='Recurrent')\n",
    "ax.legend()\n",
    "plt.ylabel('Land cover fractions')\n",
    "plt.title('Mean fractions across Australia')\n",
    "\n",
    "# bare.mean(['latitude', 'longitude']).plot(ax=ax, label='bare')"
   ]
  },
  {
   "cell_type": "markdown",
   "id": "7655442f-ba09-4ccb-ba65-f6505c47251e",
   "metadata": {},
   "source": [
    "## Aggregate to annual layers\n",
    "\n",
    "Use the maximum fraction of trees and grass to create annual layers.\n",
    "\n",
    "Bare soil is the residual"
   ]
  },
  {
   "cell_type": "code",
   "execution_count": null,
   "id": "268fc2db-7e8b-4cbe-8dad-c5dc72db2556",
   "metadata": {},
   "outputs": [],
   "source": [
    "persist_annual = persist.resample(time='1Y').max()\n",
    "recurrent_annual = recurrent.resample(time='1Y').max()\n",
    "bare_annual = 1-(persist_annual+recurrent_annual)\n",
    "bare_annual.name='bare'"
   ]
  },
  {
   "cell_type": "markdown",
   "id": "bd662055-f1df-419a-9d5c-2194e121da91",
   "metadata": {},
   "source": [
    "### Export annual files "
   ]
  },
  {
   "cell_type": "code",
   "execution_count": null,
   "id": "64c6df9a-b8d2-4cb2-b6ff-a32098b5f081",
   "metadata": {},
   "outputs": [],
   "source": [
    "# persist_annual.to_netcdf('/g/data/os22/chad_tmp/climate-carbon-interactions/data/5km/trees_5km_annual_1982_2022.nc')\n",
    "# recurrent_annual.to_netcdf('/g/data/os22/chad_tmp/climate-carbon-interactions/data/5km/grass_5km_annual_1982_2022.nc')\n",
    "# bare_annual.to_netcdf('/g/data/os22/chad_tmp/climate-carbon-interactions/data/5km/bare_5km_annual_1982_2022.nc')"
   ]
  },
  {
   "cell_type": "markdown",
   "id": "c1f64ccb-a790-4d0c-9f94-adcc7a76001d",
   "metadata": {},
   "source": [
    "## Create monthly timeseries for the flux modelling"
   ]
  },
  {
   "cell_type": "code",
   "execution_count": null,
   "id": "61c5a331-08d8-4401-8512-f75941f2f6ec",
   "metadata": {},
   "outputs": [],
   "source": [
    "import pandas as pd\n",
    "from odc.geo.xr import assign_crs"
   ]
  },
  {
   "cell_type": "code",
   "execution_count": null,
   "id": "d9fe6e5d-e344-4be1-8d4b-a9241a2de1a1",
   "metadata": {},
   "outputs": [],
   "source": [
    "dss_trees=[]\n",
    "dss_grass=[]\n",
    "dss_bare=[]\n",
    "for y in bare_annual.time.dt.year.values:\n",
    "    # print(y)\n",
    "    y = str(y)\n",
    "    time = pd.date_range(y+\"-01\", y+\"-12\", freq='MS') \n",
    "    time = [t+pd.Timedelta(14, 'd') for t in time]\n",
    "\n",
    "    #trees\n",
    "    ds_persist = persist_annual.sel(time=y).squeeze().drop('time')\n",
    "    ds_persist = ds_persist.expand_dims(time=time)\n",
    "    dss_trees.append(ds_persist)\n",
    "\n",
    "    #grass\n",
    "    ds_recurrent = recurrent_annual.sel(time=y).squeeze().drop('time')\n",
    "    ds_recurrent = ds_recurrent.expand_dims(time=time)\n",
    "    dss_grass.append(ds_recurrent)\n",
    "\n",
    "    ds_bare = bare_annual.sel(time=y).squeeze().drop('time')\n",
    "    ds_bare = ds_bare.expand_dims(time=time)\n",
    "    dss_bare.append(ds_bare)\n",
    "\n",
    "# join all the datasets back together\n",
    "trees = xr.concat(dss_trees, dim='time').sortby('time')\n",
    "grass = xr.concat(dss_grass, dim='time').sortby('time')\n",
    "bare = xr.concat(dss_bare, dim='time').sortby('time')\n",
    "\n",
    "# add right metadata\n",
    "trees.attrs['nodata'] = np.nan\n",
    "grass.attrs['nodata'] = np.nan\n",
    "bare.attrs['nodata'] = np.nan\n",
    "\n",
    "trees = assign_crs(trees, crs='EPSG:4326')\n",
    "grass = assign_crs(grass, crs='EPSG:4326')\n",
    "bare = assign_crs(bare, crs='EPSG:4326')\n"
   ]
  },
  {
   "cell_type": "markdown",
   "id": "285e51aa-bd13-4c1d-8598-b511d1044aa2",
   "metadata": {},
   "source": [
    "### Export data"
   ]
  },
  {
   "cell_type": "code",
   "execution_count": null,
   "id": "2feefd6a-7bfa-4a4a-8463-197f838e4a8c",
   "metadata": {},
   "outputs": [],
   "source": [
    "# trees.to_netcdf('/g/data/os22/chad_tmp/climate-carbon-interactions/data/5km/trees_5km_monthly_1982_2022.nc')\n",
    "# grass.to_netcdf('/g/data/os22/chad_tmp/climate-carbon-interactions/data/5km/grass_5km_monthly_1982_2022.nc')\n",
    "# bare.to_netcdf('/g/data/os22/chad_tmp/climate-carbon-interactions/data/5km/bare_5km_monthly_1982_2022.nc')"
   ]
  },
  {
   "cell_type": "markdown",
   "id": "e9240a54-7839-4ccb-9544-352bca47f2ee",
   "metadata": {},
   "source": [
    "# Calculating C4 grass cover percentage\n",
    "\n",
    "Method from here: https://researchdata.edu.au/australian-c4-grass-cover-percentage/2305833\n",
    "\n",
    "These data describe the percent of the total grass foliage cover that is comprised of the cover from C4 grasses. It is a long-term average (2001-2021) derived from MODIS imagery. Percent values range between 10 to 95%. Data have a spatial resolution of 0.0025 decimal degrees (~250 m). No quantitative validation has been performed but only a qualitative comparison to site and mapped information. Note that this is not the foliage cover of C4 grasses, nor the relative abundance of C4 plants, but the percent of total grass foliage cover that comes from C4 plants. So, for example, if total grass foliage cover is 60% and the C4 percentage is 80%, then the C4 foliage cover would be 48% (i.e., 60% x 0.8) and the C3 grass foliage cover would be 12%.."
   ]
  },
  {
   "cell_type": "code",
   "execution_count": null,
   "id": "ed369b24-d61b-4c0d-8d70-ba04651e5830",
   "metadata": {},
   "outputs": [],
   "source": [
    "import rioxarray as rxr\n",
    "\n",
    "import sys\n",
    "sys.path.insert(1, '/g/data/os22/chad_tmp/dea-notebooks/Tools/')\n",
    "from dea_tools.temporal import xr_phenology\n",
    "\n",
    "sys.path.append('/g/data/os22/chad_tmp/climate-carbon-interactions/src/')\n",
    "from _collect_prediction_data import round_coords"
   ]
  },
  {
   "cell_type": "markdown",
   "id": "7b7ffafa-05f1-471b-9cc1-7e74b43e05c2",
   "metadata": {},
   "source": [
    "### Smooth the recurrent timeseries\n",
    "\n",
    "This will help with phenology metrics"
   ]
  },
  {
   "cell_type": "code",
   "execution_count": null,
   "id": "474b6e4f-8e92-4fde-8835-b411efd42709",
   "metadata": {},
   "outputs": [],
   "source": [
    "window=4\n",
    "\n",
    "recurrent_smooth = recurrent.resample(time=\"2W\").interpolate(\"linear\")\n",
    "recurrent_smooth=recurrent_smooth.rolling(time=window, min_periods=1).mean()\n",
    "# recurrent_clim = recurrent.sel(time=slice('2001', '2020')).groupby('time.month').mean()"
   ]
  },
  {
   "cell_type": "markdown",
   "id": "6579ebf9-7160-4937-a324-d7a5b047a6a9",
   "metadata": {},
   "source": [
    "## Calculate annual phenology statistics"
   ]
  },
  {
   "cell_type": "code",
   "execution_count": null,
   "id": "f81f6b25-27fe-46b9-a71d-591bd46ca1b7",
   "metadata": {},
   "outputs": [],
   "source": [
    "warnings.simplefilter('ignore')\n",
    "doy = recurrent_smooth.groupby('time.year').map(xr_phenology)"
   ]
  },
  {
   "cell_type": "code",
   "execution_count": null,
   "id": "683be722-5455-47aa-a2e4-15e28c2ad684",
   "metadata": {},
   "outputs": [],
   "source": [
    "doy"
   ]
  },
  {
   "cell_type": "code",
   "execution_count": null,
   "id": "edeb9f32-9baf-4b65-ba32-77f13cec71c1",
   "metadata": {},
   "outputs": [],
   "source": [
    "import sys\n",
    "sys.path.insert(1, '/g/data/os22/chad_tmp/dea-notebooks/Tools')\n",
    "from dea_tools.spatial import subpixel_contours\n",
    "import contextily as ctx"
   ]
  },
  {
   "cell_type": "code",
   "execution_count": null,
   "id": "a510afe0-6223-4ad4-bf16-49ac4635a78b",
   "metadata": {},
   "outputs": [],
   "source": [
    "\n",
    "\n",
    "# List of elevations to extract\n",
    "z_values = [150]\n",
    "\n",
    "# Extract contours\n",
    "contours_gdf_early = subpixel_contours(da=doy['POS'].sel(year=slice(1982, 2000)).mean('year'), crs='epsg:4326', min_vertices=1000,\n",
    "                                 z_values=z_values)\n",
    "\n",
    "contours_gdf_late = subpixel_contours(da=doy['POS'].sel(year=slice(2001, 2022)).mean('year'), crs='epsg:4326', min_vertices=1000,\n",
    "                                 z_values=z_values)\n",
    "\n",
    "fig,ax = plt.subplots(1,1, figsize=(10,10), sharex=True, sharey=True)\n",
    "im = contours_gdf_early.plot(ax=ax, linewidth=1.0, cmap='magma', column ='z_value', legend=True, legend_kwds={'shrink': 0.5})\n",
    "ctx.add_basemap(ax, source=ctx.providers.Esri.WorldImagery, crs='EPSG:4326', attribution='Esri World Imagery', attribution_size=1)\n",
    "\n",
    "im = contours_gdf_late.plot(ax=ax, linewidth=1.0, cmap='viridis', column ='z_value', legend=True, legend_kwds={'shrink': 0.5})\n",
    "# ctx.add_basemap(ax[1], source=ctx.providers.Esri.WorldImagery, crs='EPSG:4326', attribution='Esri World Imagery', attribution_size=1)"
   ]
  },
  {
   "cell_type": "code",
   "execution_count": null,
   "id": "13e7cb95-a529-4ee8-b226-adf6f82c719b",
   "metadata": {},
   "outputs": [],
   "source": []
  },
  {
   "cell_type": "markdown",
   "id": "894b9805-4b18-43a2-b0be-d56f54098c29",
   "metadata": {},
   "source": [
    "### Plot trend in average DOY of peak grass fraction"
   ]
  },
  {
   "cell_type": "code",
   "execution_count": null,
   "id": "d7e72a2b-e3ec-4064-9db9-53fbe08f88a7",
   "metadata": {},
   "outputs": [],
   "source": [
    "doy.POS.mean(['latitude', 'longitude']).plot(figsize=(11,4))\n",
    "plt.title('Average Day-of-Year for annual peak recurrent vegetation fraction')"
   ]
  },
  {
   "cell_type": "markdown",
   "id": "87866ff3-2d71-4521-b62f-9e7a44f703ae",
   "metadata": {},
   "source": [
    "## Calculate C4 abundance\n",
    "\n",
    "The C4 percent data have been derived from MOD09Q1 (collection 6) NDVI data. 16-day NDVI data were converted to percent foliage cover using the method of Donohue et al. (2014) and then split into separate tree and grass (persistent and recurrent) components following Donohue et al. (2009). The long-term average grass cover for each 16-day period was calculated (2001 to 2020) and were then used to identify the average day-of-year (DOY) of maximum cover. This average timing was used to estimate the percent of C4 cover based on the understanding that C3 grasses have peak growth (cover) in late autumn/early summer, and C4 in late summer. Using Tasmanian native grasslands (10% C4) and Queensland’s Mitchel grasslands (95% C4) as end points (Hattersley, 1983), the timing of minimum and maximum C4 cover was determined as DOY 17 and 307, respectively. The percent of C4 was then scaled linearly between these two end points.\n",
    "\n",
    "Using Tasmanian native grasslands (10% C4) and Queensland’s Mitchel grasslands (95% C4) as end points (Hattersley, 1983), the timing of minimum and maximum C4 cover was determined as DOY 17 and 307, respectively. The percent of C4 was then scaled linearly between these two end points."
   ]
  },
  {
   "cell_type": "code",
   "execution_count": null,
   "id": "b8a37590-2064-437c-893b-a8a5c50cd24b",
   "metadata": {},
   "outputs": [],
   "source": [
    "doy_max = 17\n",
    "doy_min = 307\n",
    "\n",
    "doy_max_alpine = 65"
   ]
  },
  {
   "cell_type": "code",
   "execution_count": null,
   "id": "302b26ab-afa4-4dd7-867e-5cdf36e6d2e5",
   "metadata": {},
   "outputs": [],
   "source": [
    "# Linearly scale values between the min DOY\n",
    "c4_frac = (doy['POS'] - doy_min) / (doy_max - doy_min)\n",
    "\n",
    "# set min as 10% and max as 95%\n",
    "c4_frac = xr.where(c4_frac<0.10, 0.10, c4_frac)\n",
    "c4_frac = xr.where(c4_frac>0.95, 0.95, c4_frac)"
   ]
  },
  {
   "cell_type": "markdown",
   "id": "4c0d2e1f-eb3c-4832-b646-a0ed59cf1c16",
   "metadata": {},
   "source": [
    "### More filtering\n",
    "\n",
    "Locations with peak growth over the austral summer between these two dates were assigned to either minimum or maximum C4 percent depending on whether the average January air temperature was below or above 22C, respectively, according to Collatz et al. (1998). The summer cropping regions of NSW and Queensland are the main areas where locations fell between these two dates and represent the regions of lowest accuracy."
   ]
  },
  {
   "cell_type": "markdown",
   "id": "56c9b761-1793-42ff-b25a-d84a3897658d",
   "metadata": {},
   "source": [
    "#### Masking where peak growth in in summer"
   ]
  },
  {
   "cell_type": "code",
   "execution_count": null,
   "id": "edd572a0-1433-46e6-8f42-0cc297e3b96f",
   "metadata": {},
   "outputs": [],
   "source": [
    "# Use air temp dataset, create a mask where average air temperature of january is above/below 22C\n",
    "temp = xr.open_dataset('/g/data/os22/chad_tmp/climate-carbon-interactions/data/5km/tavg_5km_monthly_1982_2022.nc')['tavg']\n",
    "temp = temp.groupby('time.month').mean().sel(month=1).rename('jan_avg_temp')\n",
    "temp_mask = xr.where(temp>22, 1, 0) #1=above 22C, 0=below 22C\n",
    "\n",
    "# find regions where the annual peak falls between 307 and 17 (summer)\n",
    "summer_peak = xr.where((doy['POS'] < doy_max) | (doy['POS'] > doy_min),  1, 0)\n",
    "\n",
    "# create annual masks where peak is in summer, but average Jan air temp is above and below 22C\n",
    "summer_peak_warm_mask = xr.where((summer_peak==1) & (temp_mask==1), 1, 0)\n",
    "summer_peak_cool_mask = xr.where((summer_peak==1) & (temp_mask==0), 1, 0)\n",
    "\n",
    "# wherever these mask are True, set c4_frac values to either max or min c4_frac\n",
    "c4_frac = xr.where(summer_peak_warm_mask==1, 0.95, c4_frac) #where its warm, set to max\n",
    "c4_frac = xr.where(summer_peak_cool_mask==1, 0.10, c4_frac)"
   ]
  },
  {
   "cell_type": "markdown",
   "id": "75285d44-7aa8-43f4-8e47-1f671fdaff89",
   "metadata": {},
   "source": [
    "#### Masking alpine regions\n",
    "\n",
    "NOT SURE ABOUT THIS APPROACH...so commented out for now\n",
    "\n",
    "An additional condition was introduced to force alpine grasslands to have minimal C4 percent values. This was done by changing the date of peak C4 cover from DOY 17 to DOY 65 wherever January air temperatures were below 19C."
   ]
  },
  {
   "cell_type": "code",
   "execution_count": null,
   "id": "18b37afe-1bfe-4a81-8d3f-ba02b08e5d8f",
   "metadata": {},
   "outputs": [],
   "source": [
    "# cold_mask = xr.where(temp<18, 1, 0)\n",
    "\n",
    "# # Linearly scale values between the min DOY\n",
    "# c4_frac_alpine = (doy['POS'] - doy_min) / (doy_max_alpine - doy_min)\n",
    "\n",
    "# # set min as 10% and max as 95%\n",
    "# c4_frac_alpine = xr.where(c4_frac_alpine<0.10, 0.10, c4_frac_alpine)\n",
    "# c4_frac_alpine = xr.where(c4_frac_alpine>0.95, 0.95, c4_frac_alpine)\n",
    "\n",
    "# # mask for the cold areas (alpine+tassie)\n",
    "# c4_frac_alpine = c4_frac_alpine.where(cold_mask)\n",
    "\n",
    "# #replace with alpine values \n",
    "# c4_frac = xr.where((~np.isnan(c4_frac_alpine)), c4_frac_alpine, c4_frac)\n",
    "\n",
    "ocean_mask = (~np.isnan(temp))\n",
    "c4_frac = c4_frac.where(ocean_mask)\n",
    "c4_frac = assign_crs(c4_frac, crs='epsg:4326')"
   ]
  },
  {
   "cell_type": "markdown",
   "id": "bb56fc19-45f1-40e9-bf95-e3b4f09a6362",
   "metadata": {},
   "source": [
    "## Plots\n",
    "\n",
    "### Compare with Donohue (2021)\n",
    "\n",
    "In these plost, Donohue's product is based on the long-term average grass cover for each 16-day period, calculated 2001 to 2020, and were  used to identify the average day-of-year (DOY) of maximum cover. This study's C4 fractions are calculated annually, and then averaged over the same period - so its not quite like-for-like"
   ]
  },
  {
   "cell_type": "code",
   "execution_count": null,
   "id": "1709e09d-3e16-4b9a-9aea-afcd40dfaf91",
   "metadata": {},
   "outputs": [],
   "source": [
    "c4_dono = rxr.open_rasterio('/g/data/os22/chad_tmp/NEE_modelling/data/grass/peak_frec_C4_percent.tif').squeeze().drop('band')\n",
    "c4_dono = assign_crs(c4_dono, crs='epsg:4326')\n",
    "c4_dono = c4_dono.odc.reproject(c4_frac.odc.geobox, resampling='average')\n",
    "c4_dono = c4_dono/100 #convert to fraction\n",
    "c4_dono = round_coords(c4_dono)\n",
    "c4_dono = c4_dono.where(ocean_mask)"
   ]
  },
  {
   "cell_type": "code",
   "execution_count": null,
   "id": "14d71c80-865f-4c7e-8709-7080a2d1c539",
   "metadata": {},
   "outputs": [],
   "source": [
    "fig,ax=plt.subplots(1,2, figsize=(12,5), sharey=True)\n",
    "c4_dono.plot.imshow(vmin=0.1, vmax=0.95, ax=ax[0])\n",
    "c4_frac.sel(year=slice('2001', '2020')).mean('year').plot.imshow(vmin=0.1, vmax=0.95, ax=ax[1])\n",
    "ax[0].set_title('C4 Fraction, Donohue 2021')\n",
    "ax[1].set_title('C4 Fraction, This Study')\n",
    "plt.tight_layout()"
   ]
  },
  {
   "cell_type": "markdown",
   "id": "6f7874d3-839b-4baa-9a8d-f7982064f0db",
   "metadata": {},
   "source": [
    "### Time-series average over Aus\n",
    "\n",
    "Annual area dominated by C4 grass"
   ]
  },
  {
   "cell_type": "code",
   "execution_count": null,
   "id": "1ac0d97e-3c3f-46fe-aa94-bc5701ce96e9",
   "metadata": {},
   "outputs": [],
   "source": [
    "grid = c4_frac.odc.geobox.to_crs('EPSG:3577')\n",
    "c4_frac_albers = c4_frac.odc.reproject(how=grid, resampling='bilinear')"
   ]
  },
  {
   "cell_type": "code",
   "execution_count": null,
   "id": "6125fbf9-4028-4628-b3f3-adf74cff5ab1",
   "metadata": {},
   "outputs": [],
   "source": [
    "area_per_pixel = c4_frac_albers.geobox.resolution[1]**2\n",
    "\n",
    "annual_area_c4 = (c4_frac_albers.where(c4_frac_albers>0.5).sum(['x', 'y']))*area_per_pixel*1e-6"
   ]
  },
  {
   "cell_type": "code",
   "execution_count": null,
   "id": "2233c484-bd96-4677-94a3-2ae457e021d1",
   "metadata": {},
   "outputs": [],
   "source": [
    "annual_area_c4.plot(figsize=(11,4))\n",
    "plt.title('Area of Australia where C4 fraction is dominant')\n",
    "plt.ylabel('Area (km2)')"
   ]
  },
  {
   "cell_type": "markdown",
   "id": "b6b2ad7a-3930-4922-97fb-eb6e863bc4ff",
   "metadata": {},
   "source": [
    "## C3/C4 Percent\n",
    "\n",
    "We need to multiply the C3/C4 datasets by the fraction grass. \n",
    "\n",
    "```\n",
    "Fraction_C4 = C4_data_you_have * Fraction_Grass\n",
    "\n",
    "Fraction_C3 = (1. - C4_data_you_have) * Fraction_Grass\n",
    "\n",
    "The C4_data_you_have has values 10-95.  Simply divide by 100 to get into proportion.\n",
    "```\n"
   ]
  },
  {
   "cell_type": "markdown",
   "id": "ff61a80e-61f0-4237-b893-d8776f922c68",
   "metadata": {},
   "source": [
    "### Fraction C3/C4"
   ]
  },
  {
   "cell_type": "code",
   "execution_count": null,
   "id": "ccd74756-1314-4877-97ec-a07e07e1b914",
   "metadata": {},
   "outputs": [],
   "source": [
    "# c3_grass = ds*grass\n",
    "# c4_grass = (1 - ds) * grass\n",
    "# c4_grass = c4_grass.rename('C4_grass')\n",
    "# c4_grass.attrs['nodata']=np.nan"
   ]
  }
 ],
 "metadata": {
  "kernelspec": {
   "display_name": "Python 3 (ipykernel)",
   "language": "python",
   "name": "python3"
  },
  "language_info": {
   "codemirror_mode": {
    "name": "ipython",
    "version": 3
   },
   "file_extension": ".py",
   "mimetype": "text/x-python",
   "name": "python",
   "nbconvert_exporter": "python",
   "pygments_lexer": "ipython3",
   "version": "3.9.2"
  }
 },
 "nbformat": 4,
 "nbformat_minor": 5
}
