{
 "cells": [
  {
   "cell_type": "markdown",
   "id": "4963892a-4d28-4a67-8f72-889f15f99e9a",
   "metadata": {},
   "source": [
    "## ANUCLIM 1982-2022"
   ]
  },
  {
   "cell_type": "code",
   "execution_count": null,
   "id": "f6d52557-1499-4b6a-ac35-07a42014156a",
   "metadata": {},
   "outputs": [],
   "source": [
    "import xarray as xr\n",
    "import rioxarray\n",
    "from datetime import datetime\n",
    "import pandas as pd\n",
    "import numpy as np\n",
    "import os\n",
    "from odc.geo.xr import assign_crs\n",
    "\n",
    "import sys\n",
    "sys.path.append('/g/data/os22/chad_tmp/AusEFlux/src/')\n",
    "from _collect_prediction_data import round_coords"
   ]
  },
  {
   "cell_type": "code",
   "execution_count": null,
   "id": "1cffe99a-a5af-4e9c-8bd5-397f3989ea8b",
   "metadata": {},
   "outputs": [],
   "source": [
    "from datacube.utils.dask import start_local_dask\n",
    "client = start_local_dask(mem_safety_margin='2Gb')\n",
    "client"
   ]
  },
  {
   "cell_type": "code",
   "execution_count": null,
   "id": "1db79750-69f1-4ba8-b43a-fa05f10ff814",
   "metadata": {},
   "outputs": [],
   "source": [
    "gbox = xr.open_dataset('/g/data/os22/chad_tmp/climate-carbon-interactions/data/WCF_5km_monthly_2000_2022.nc').odc.geobox"
   ]
  },
  {
   "cell_type": "code",
   "execution_count": null,
   "id": "6d2b2945-4375-4c1a-a22d-0cf723075541",
   "metadata": {},
   "outputs": [],
   "source": [
    "base='/g/data/gh70/ANUClimate/v2-0/stable/month/'\n",
    "var =  'tavg' #'rain' # 'vpd' 'srad'\n",
    "\n",
    "years = [str(i) for i in range(1982,2023)]\n",
    "\n",
    "i=0\n",
    "pp = []\n",
    "for y in years:\n",
    "    print(\" {:02}/{:02}\\r\".format(i + 1, len(years)), end=\"\")\n",
    "    ds = xr.open_mfdataset([base+var+'/'+y+'/'+i for i in os.listdir(base+var+'/'+y+'/')],\n",
    "                              chunks=dict(lat=1000, lon=1000))\n",
    "    \n",
    "    ds = assign_crs(ds, crs='epsg:4283') #GDA94\n",
    "    ds = ds.drop('crs')[var]\n",
    "    ds.attrs['nodata'] = np.nan\n",
    "    ds = ds.odc.reproject(gbox, resampling='average')\n",
    "    ds = round_coords(ds)\n",
    "    pp.append(ds)\n",
    "    i+=1\n",
    "\n",
    "ds = xr.concat(pp, dim='time').sortby('time')\n",
    "ds = ds.compute()\n",
    "ds = ds.rename(var)\n",
    "ds.to_netcdf('/g/data/os22/chad_tmp/climate-carbon-interactions/data/'+var+'_1km_monthly_1982_2022.nc')"
   ]
  },
  {
   "cell_type": "code",
   "execution_count": null,
   "id": "401d4457-9a8a-4f69-bcec-dd00b8bb8ff9",
   "metadata": {},
   "outputs": [],
   "source": []
  },
  {
   "cell_type": "code",
   "execution_count": null,
   "id": "eb1286ff-2fac-4c11-9fcd-36a1ecb0ca97",
   "metadata": {},
   "outputs": [],
   "source": []
  },
  {
   "cell_type": "code",
   "execution_count": null,
   "id": "6d24af3e-4ac8-4677-b608-eb542ec7fba7",
   "metadata": {},
   "outputs": [],
   "source": []
  },
  {
   "cell_type": "code",
   "execution_count": null,
   "id": "9fbd4721-0990-4662-9204-22600a8002c3",
   "metadata": {},
   "outputs": [],
   "source": []
  },
  {
   "cell_type": "code",
   "execution_count": null,
   "id": "bd692ddb-ca7b-46c0-9bf9-a084b4d7ae53",
   "metadata": {},
   "outputs": [],
   "source": []
  },
  {
   "cell_type": "code",
   "execution_count": null,
   "id": "632c3173-ff2e-434c-836d-3e6b081120ce",
   "metadata": {},
   "outputs": [],
   "source": []
  },
  {
   "cell_type": "code",
   "execution_count": null,
   "id": "d10b60c9-9e29-4c66-8110-dbbf350a81a3",
   "metadata": {
    "tags": []
   },
   "outputs": [],
   "source": [
    "import sys\n",
    "import os\n",
    "import numpy as np\n",
    "import warnings\n",
    "import xarray as xr\n",
    "import odc.geo.xr\n",
    "import pandas as pd\n",
    "from odc.geo.xr import assign_crs\n",
    "import requests\n",
    "from bs4 import BeautifulSoup"
   ]
  },
  {
   "cell_type": "code",
   "execution_count": null,
   "id": "d9b44ac8-b666-4846-b7df-37b81e37f58e",
   "metadata": {
    "tags": []
   },
   "outputs": [],
   "source": [
    "sys.path.append('/g/data/os22/chad_tmp/AusEFlux/src/')\n",
    "from dask_utils import start_local_dask\n",
    "\n",
    "client = start_local_dask(mem_safety_margin='2Gb')\n",
    "client"
   ]
  },
  {
   "cell_type": "code",
   "execution_count": null,
   "id": "4e8d96bd-1b66-41a9-a713-2501b820b8d0",
   "metadata": {
    "tags": []
   },
   "outputs": [],
   "source": [
    "base='/g/data/os22/chad_tmp/climate-carbon-interactions/data/AVHRR/'"
   ]
  },
  {
   "cell_type": "code",
   "execution_count": null,
   "id": "2693a4f1-8fa0-42e0-be90-90ba5715b0e9",
   "metadata": {
    "tags": []
   },
   "outputs": [],
   "source": [
    "files = [base+i for i in os.listdir(base) if i.endswith('.nc')]\n",
    "files.sort()"
   ]
  },
  {
   "cell_type": "code",
   "execution_count": null,
   "id": "e36b3c57-c70e-47ea-8d1a-14e91a5929d9",
   "metadata": {
    "tags": []
   },
   "outputs": [],
   "source": [
    "ds = xr.open_mfdataset(files) #chunks=dict(latitude=1000, longitude=1000)\n",
    "ds = assign_crs(ds, crs='epsg:3577')"
   ]
  },
  {
   "cell_type": "code",
   "execution_count": null,
   "id": "ee6288c1-4c3d-4e01-b515-e632274a7a68",
   "metadata": {
    "tags": []
   },
   "outputs": [],
   "source": [
    "ds = ds.compute()"
   ]
  },
  {
   "cell_type": "code",
   "execution_count": null,
   "id": "03c53fae-ba18-4aa1-8841-5c8abae7c971",
   "metadata": {
    "tags": []
   },
   "outputs": [],
   "source": [
    "# ds.TIMEOFDAY_mean.mean(['x', 'y']).plot(figsize=(11,5))"
   ]
  },
  {
   "cell_type": "code",
   "execution_count": null,
   "id": "53324b5f-d56b-4d56-bd25-462fa6f8ebe2",
   "metadata": {
    "tags": []
   },
   "outputs": [],
   "source": [
    "ds1 = xr.open_dataset('/g/data/os22/chad_tmp/climate-carbon-interactions/data/AVHRR_NDVI_1982_2013.nc')\n",
    "ds1 = assign_crs(ds1, crs='epsg:3577')"
   ]
  },
  {
   "cell_type": "code",
   "execution_count": null,
   "id": "385c594a-ceab-44c8-80a6-f3c66594cd6a",
   "metadata": {
    "tags": []
   },
   "outputs": [],
   "source": [
    "ds1"
   ]
  },
  {
   "cell_type": "code",
   "execution_count": null,
   "id": "1d05c4b7-394c-4e90-b3df-66e48d0eacb9",
   "metadata": {
    "tags": []
   },
   "outputs": [],
   "source": [
    "dss"
   ]
  },
  {
   "cell_type": "code",
   "execution_count": null,
   "id": "64f291fc-56b1-494c-829f-1ccf68cc6136",
   "metadata": {
    "tags": []
   },
   "outputs": [],
   "source": [
    "dss = xr.merge([ds,ds1])"
   ]
  },
  {
   "cell_type": "code",
   "execution_count": null,
   "id": "d303dace-d939-4c7f-a15f-59869e454292",
   "metadata": {},
   "outputs": [],
   "source": [
    "del dss.TIMEOFDAY_mean.attrs['grid_mapping']\n",
    "del dss.SZEN_mean.attrs['grid_mapping']"
   ]
  },
  {
   "cell_type": "code",
   "execution_count": null,
   "id": "b7d62418-1bae-4bf0-9318-2093e827866a",
   "metadata": {
    "tags": []
   },
   "outputs": [],
   "source": [
    "import xarray as xr\n",
    "import matplotlib.pyplot as plt\n",
    "import numpy as np\n",
    "import seaborn as sb\n",
    "from scipy import stats\n",
    "from scipy.stats import gaussian_kde\n",
    "from sklearn.metrics import mean_absolute_error, r2_score"
   ]
  },
  {
   "cell_type": "code",
   "execution_count": null,
   "id": "18b608e8-7a1c-4ab7-8450-d63b442e77c0",
   "metadata": {},
   "outputs": [],
   "source": [
    "merge = xr.open_dataset('//g/data/os22/chad_tmp/climate-carbon-interactions/data/d_export.nc')"
   ]
  },
  {
   "cell_type": "code",
   "execution_count": null,
   "id": "23afe16b-e99a-4dad-8399-721ea6fe52cf",
   "metadata": {},
   "outputs": [],
   "source": [
    "# fig,ax = plt.subplots(1,1, figsize=(13,6))\n",
    "# merge.ndvi_cdr.mean(['x','y']).plot(ax=ax, label='AVHRR Original')\n",
    "# merge.ndvi_mcd.mean(['x','y']).plot(ax=ax, label='MODIS Original')\n",
    "# merge.ndvi_mcd_pred.mean(['x','y']).plot(ax=ax, label='AVRR_Adjust')\n",
    "# ax.legend()"
   ]
  },
  {
   "cell_type": "code",
   "execution_count": null,
   "id": "d6e27204-6a86-452e-94b0-c258b1bb4079",
   "metadata": {},
   "outputs": [],
   "source": [
    "# plt.scatter(merge.ndvi_mcd.values, merge.ndvi_cdr.values)\n",
    "# merge.ndvi_cdr.mean(['x','y']).plot.scatter(label='AVHRR Original')"
   ]
  },
  {
   "cell_type": "code",
   "execution_count": null,
   "id": "bd613235-b161-4c1f-9f83-c16c51fbb512",
   "metadata": {},
   "outputs": [],
   "source": [
    "df = merge.ndvi_mcd.mean(['x', 'y']).rename('MODIS').to_dataframe()"
   ]
  },
  {
   "cell_type": "code",
   "execution_count": null,
   "id": "879cc280-14d1-4af1-8940-8c6f2f497653",
   "metadata": {},
   "outputs": [],
   "source": [
    "df['AVHRR-original'] = merge.ndvi_cdr.mean(['x', 'y']).rename('AVHRR-Original').to_dataframe()\n",
    "df['AVHRR-adjusted'] = merge.ndvi_mcd_pred.mean(['x', 'y']).rename('AVHRR-Adjusted').to_dataframe()\n"
   ]
  },
  {
   "cell_type": "code",
   "execution_count": null,
   "id": "81d74272-89c8-4bbf-88fe-773d31d9f888",
   "metadata": {},
   "outputs": [],
   "source": [
    "df = df.dropna()"
   ]
  },
  {
   "cell_type": "code",
   "execution_count": null,
   "id": "40878d4d-d056-46de-8262-c3a28fef5d4b",
   "metadata": {},
   "outputs": [],
   "source": [
    "df.plot()"
   ]
  },
  {
   "cell_type": "code",
   "execution_count": null,
   "id": "c52c7e6c-719d-4786-be27-6b6ebf5af8c3",
   "metadata": {},
   "outputs": [],
   "source": [
    "products=['AVHRR-original', 'AVHRR-adjusted']"
   ]
  },
  {
   "cell_type": "code",
   "execution_count": null,
   "id": "bbbe16be-08d5-478c-838d-106b5271cba6",
   "metadata": {},
   "outputs": [],
   "source": [
    "fig,ax = plt.subplots(1,2, figsize=(10,5), sharey=True)\n",
    "font=15\n",
    "\n",
    "for prod, ax in zip(products, ax.ravel()):\n",
    "    obs,pred = df['MODIS'].values, df[prod].values\n",
    "    slope, intercept, r_value, p_value, std_err = stats.linregress(obs,pred)\n",
    "    r2 = r_value**2\n",
    "    ac = mean_absolute_error(obs, pred)\n",
    "    \n",
    "    xy = np.vstack([obs,pred])\n",
    "    z = gaussian_kde(xy)(xy)\n",
    "    \n",
    "    sb.scatterplot(data=df, x='MODIS',y=prod, c=z, s=50, lw=1, alpha=0.5, ax=ax)\n",
    "    sb.regplot(data=df, x='MODIS',y=prod, scatter=False, color='blue', ax=ax)\n",
    "    sb.regplot(data=df, x='MODIS',y='MODIS', color='black', scatter=False, line_kws={'linestyle':'dashed'}, ax=ax)\n",
    "    ax.set_title(prod, fontsize=font)\n",
    "    ax.set_xlabel('MODIS NDVI', fontsize=font)\n",
    "    ax.set_ylabel('')\n",
    "    ax.text(.05, .90, 'r\\N{SUPERSCRIPT TWO}={:.2f}'.format(np.mean(r2)),\n",
    "            transform=ax.transAxes, fontsize=font)\n",
    "    ax.text(.05, .825, 'MAE={:.2g}'.format(np.mean(ac)),\n",
    "            transform=ax.transAxes, fontsize=font)\n",
    "    ax.tick_params(axis='x', labelsize=font)\n",
    "    ax.tick_params(axis='y', labelsize=font)\n",
    "\n",
    "fig.supylabel('AVHRR NDVI', fontsize=font)\n",
    "plt.tight_layout();"
   ]
  },
  {
   "cell_type": "code",
   "execution_count": null,
   "id": "349df61e-53fb-467d-90cf-3af7722c461f",
   "metadata": {},
   "outputs": [],
   "source": []
  },
  {
   "cell_type": "code",
   "execution_count": null,
   "id": "07dbef1f-f3f1-49dc-9a41-9b0d31c8570c",
   "metadata": {
    "tags": []
   },
   "outputs": [],
   "source": [
    "av = xr.open_dataset('/g/data/os22/chad_tmp/climate-carbon-interactions/data/AVHRR_5km_monthly_1982_2013.nc')\n",
    "av.isel(x=slice(650,750), y=slice(500,600)).to_netcdf('/g/data/os22/chad_tmp/climate-carbon-interactions/data/AVHRR_5km_monthly_1982_2013_subset.nc')"
   ]
  },
  {
   "cell_type": "code",
   "execution_count": null,
   "id": "a001b143-41e3-4e2b-8c87-3d00a7dce2d6",
   "metadata": {},
   "outputs": [],
   "source": [
    "xx = xr.open_dataset('/g/data/os22/chad_tmp/climate-carbon-interactions/data/MODIS_NDVI_median_5km_monthly_2001_2022.nc')\n"
   ]
  },
  {
   "cell_type": "code",
   "execution_count": null,
   "id": "a1e67284-87f3-4401-a44b-9a9d33c02cf0",
   "metadata": {},
   "outputs": [],
   "source": [
    "xx.isel(x=slice(650,750), y=slice(500,600)).to_netcdf('/g/data/os22/chad_tmp/climate-carbon-interactions/data/MODIS_NDVI_median_5km_monthly_2001_2022_subset.nc')"
   ]
  },
  {
   "cell_type": "code",
   "execution_count": null,
   "id": "0d47eec4-89db-44dc-ac51-48142a17082c",
   "metadata": {},
   "outputs": [],
   "source": []
  },
  {
   "cell_type": "code",
   "execution_count": null,
   "id": "8e687956-47ab-483e-9117-9ede2dd167cd",
   "metadata": {},
   "outputs": [],
   "source": []
  },
  {
   "cell_type": "code",
   "execution_count": null,
   "id": "9982fd49-cc93-4015-b70a-ac6d75d0850d",
   "metadata": {
    "tags": []
   },
   "outputs": [],
   "source": [
    "ds = ds.drop('NDVI_std')"
   ]
  },
  {
   "cell_type": "code",
   "execution_count": null,
   "id": "df738999-36e0-4bd2-b730-6056c903b371",
   "metadata": {
    "tags": []
   },
   "outputs": [],
   "source": [
    "ds = ds.NDVI.persist()"
   ]
  },
  {
   "cell_type": "code",
   "execution_count": null,
   "id": "d304b75e-ca42-4b58-8db5-eba167f21e1f",
   "metadata": {
    "tags": []
   },
   "outputs": [],
   "source": [
    "ds_mean = ds.resample(time='MS', loffset=pd.Timedelta(14, 'd')).mean().compute()\n",
    "ds_std = ds.resample(time='MS', loffset=pd.Timedelta(14, 'd')).std().compute()\n",
    "count = (~np.isnan(ds))\n",
    "count =  count.resample(time='MS', loffset=pd.Timedelta(14, 'd')).sum().compute()"
   ]
  },
  {
   "cell_type": "code",
   "execution_count": null,
   "id": "4ad856f1-ef77-4c7b-9b5c-d9daaf3f2716",
   "metadata": {
    "tags": []
   },
   "outputs": [],
   "source": [
    "ds_mean = ds_mean.rename('NDVI_mean').to_dataset()\n",
    "ds_mean.attrs['nodata'] = np.nan\n",
    "ds_std = ds_std.rename('NDVI_std').to_dataset()\n",
    "ds_std.attrs['nodata'] = np.nan\n",
    "count = count.rename('n_obs').to_dataset()\n",
    "count.attrs['nodata'] = 0"
   ]
  },
  {
   "cell_type": "code",
   "execution_count": null,
   "id": "d39b0741-e352-4bf5-8949-6f2325b6b11b",
   "metadata": {
    "tags": []
   },
   "outputs": [],
   "source": [
    "ds_out = xr.merge([ds_mean, ds_std, count])\n",
    "ds_out.attrs['nodata'] = np.nan\n",
    "ds_out = assign_crs(ds_out, crs='epsg:3577')"
   ]
  },
  {
   "cell_type": "code",
   "execution_count": null,
   "id": "38555f98-e3d9-458c-ad92-37e802748f93",
   "metadata": {
    "tags": []
   },
   "outputs": [],
   "source": [
    "ds = assign_crs(ds, crs='epsg:3577')"
   ]
  },
  {
   "cell_type": "code",
   "execution_count": null,
   "id": "7fc8b55e-6d1b-4681-bb90-06750ea7cc19",
   "metadata": {
    "tags": []
   },
   "outputs": [],
   "source": [
    "ds = ds.compute()"
   ]
  },
  {
   "cell_type": "code",
   "execution_count": null,
   "id": "604fa321-3435-459b-895e-288e44ffe325",
   "metadata": {
    "tags": []
   },
   "outputs": [],
   "source": [
    "# ds1.y.values == ds1.y.values"
   ]
  },
  {
   "cell_type": "code",
   "execution_count": null,
   "id": "6fc47531-bba4-406a-b4b9-f6e61c850bd7",
   "metadata": {
    "tags": []
   },
   "outputs": [],
   "source": [
    "ds1 = xr.open_dataset('/g/data/os22/chad_tmp/climate-carbon-interactions/data/AVHRR_NDVI_1982_2002.nc')"
   ]
  },
  {
   "cell_type": "code",
   "execution_count": null,
   "id": "c4de1bbb-4bc7-42d1-a80d-72dfe8d444f7",
   "metadata": {
    "tags": []
   },
   "outputs": [],
   "source": [
    "ds1 = assign_crs(ds1, crs='epsg:3577')"
   ]
  },
  {
   "cell_type": "code",
   "execution_count": null,
   "id": "8e9916b6-f4da-4f28-8300-e2c38e713ef7",
   "metadata": {
    "tags": []
   },
   "outputs": [],
   "source": [
    "dss = xr.concat([ds1, ds], dim='time')"
   ]
  },
  {
   "cell_type": "code",
   "execution_count": null,
   "id": "aa0359e8-7e3e-4761-882f-2dca10c57c7c",
   "metadata": {
    "tags": []
   },
   "outputs": [],
   "source": [
    "dss['n_obs'] = dss['n_obs'].astype(np.int16)"
   ]
  },
  {
   "cell_type": "code",
   "execution_count": null,
   "id": "9b471f23-e353-4c6c-abb7-ec3ba554993c",
   "metadata": {
    "tags": []
   },
   "outputs": [],
   "source": [
    "dss"
   ]
  },
  {
   "cell_type": "code",
   "execution_count": null,
   "id": "63b7a87a-ab10-4e58-9b63-6461bb789751",
   "metadata": {
    "tags": []
   },
   "outputs": [],
   "source": [
    "del dss.NDVI_mean.attrs['grid_mapping']\n",
    "del dss.NDVI_std.attrs['grid_mapping']\n",
    "del dss.n_obs.attrs['grid_mapping']"
   ]
  },
  {
   "cell_type": "code",
   "execution_count": null,
   "id": "d4b056d1-2eec-4431-a2df-fdace9aefa46",
   "metadata": {},
   "outputs": [],
   "source": [
    "dss.to_netcdf('/g/data/os22/chad_tmp/climate-carbon-interactions/data/AVHRR_NDVI_1982_2013.nc')"
   ]
  },
  {
   "cell_type": "code",
   "execution_count": null,
   "id": "a4851ffd-5433-4c90-b72f-08e9dd9099de",
   "metadata": {
    "tags": []
   },
   "outputs": [],
   "source": [
    "dss.sel(time='2011').NDVI_mean.plot.imshow(col='time', col_wrap=4, vmin=0)"
   ]
  },
  {
   "cell_type": "code",
   "execution_count": null,
   "id": "1636e70f-f40c-43f8-b3e2-700e70d0608c",
   "metadata": {
    "tags": []
   },
   "outputs": [],
   "source": [
    "dss.sel(time='1988').NDVI_mean.mean(['x','y']).plot()"
   ]
  },
  {
   "cell_type": "code",
   "execution_count": null,
   "id": "9649882d-ae40-4688-864d-413263109751",
   "metadata": {},
   "outputs": [],
   "source": [
    "dss.NDVI_mean.mean(['x','y']).plot()"
   ]
  },
  {
   "cell_type": "code",
   "execution_count": null,
   "id": "7d42cad4-2905-4ef5-b644-b07fcae5316e",
   "metadata": {
    "tags": []
   },
   "outputs": [],
   "source": [
    "# years = [str(i) for i in range(1983,2015)]"
   ]
  },
  {
   "cell_type": "code",
   "execution_count": null,
   "id": "07de35a8-1c57-474a-97b1-b1ef02a9d15f",
   "metadata": {
    "tags": []
   },
   "outputs": [],
   "source": [
    "# %%time\n",
    "# for y in years:\n",
    "#     print(y)\n",
    "    \n",
    "#     url = 'https://www.ncei.noaa.gov/thredds/catalog/cdr/ndvi/'+y+'/catalog.html'\n",
    "\n",
    "#     #get all relevant links for that year\n",
    "#     soup = BeautifulSoup(requests.get(url).content, \"html.parser\")\n",
    "#     files_to_dl = []\n",
    "#     for link in soup.select('a[href*=\".nc\"]'):\n",
    "#         files_to_dl.append(link[\"href\"])\n",
    "    \n",
    "#     #create url to open\n",
    "#     files = ['https://www.ncei.noaa.gov/thredds/dodsC/'+i[21:] for i in files_to_dl if i.endswith('.nc')]\n",
    "    \n",
    "#     #open files for that year and tidy up\n",
    "#     warnings.filterwarnings(\"ignore\")\n",
    "#     ds = xr.open_mfdataset(files) #chunks=dict(latitude=1000, longitude=1000)\n",
    "\n",
    "#     ds = assign_crs(ds, ds.crs.attrs['epsg_code'])\n",
    "#     ds = ds.drop(['crs', 'lat_bnds', 'lon_bnds'])\n",
    "#     ds = ds.sel(longitude=slice(110,155), latitude=slice(-9,-45)) #aus extent\n",
    "\n",
    "#     ds = ds.compute()\n",
    "#     ds.to_netcdf('/g/data/os22/chad_tmp/climate-carbon-interactions/data/AVHRR/AVHRR_cdr_v5_NDVI_daily_'+y+'.nc')\n",
    "#     break"
   ]
  },
  {
   "cell_type": "code",
   "execution_count": null,
   "id": "ca314316-faec-4b17-891d-14cd0138228f",
   "metadata": {},
   "outputs": [],
   "source": []
  },
  {
   "cell_type": "code",
   "execution_count": null,
   "id": "8eb75879-e015-4973-b3ca-d35ef5725b99",
   "metadata": {},
   "outputs": [],
   "source": []
  },
  {
   "cell_type": "code",
   "execution_count": null,
   "id": "00c951a3-ef6f-4d86-a159-aafdcf112af4",
   "metadata": {},
   "outputs": [],
   "source": []
  },
  {
   "cell_type": "code",
   "execution_count": null,
   "id": "1a338e06-801c-4b89-ae37-5105fc5fd0da",
   "metadata": {},
   "outputs": [],
   "source": [
    "ds = xr.open_dataarray('/g/data/os22/chad_tmp/NEE_modelling/data/1km/kNDVI_1km_monthly_2002_2021.nc',\n",
    "                      chunks=dict(latitude=750, longitude=750, time=-1))"
   ]
  },
  {
   "cell_type": "code",
   "execution_count": null,
   "id": "a06c232d-c105-4359-9934-47c2e51b411c",
   "metadata": {},
   "outputs": [],
   "source": [
    "ds = ds.interpolate_na(method='linear', dim='time', limit=2).compute()#.isel(time=110).plot.imshow(size=10)"
   ]
  },
  {
   "cell_type": "code",
   "execution_count": null,
   "id": "7c6b11c6-27eb-4221-9388-4093bc6d5ccb",
   "metadata": {},
   "outputs": [],
   "source": [
    "ds.to_netcdf('/g/data/os22/chad_tmp/NEE_modelling/data/1km/kNDVI_1km_monthly_2002_2021.nc')"
   ]
  }
 ],
 "metadata": {
  "kernelspec": {
   "display_name": "Python 3 (ipykernel)",
   "language": "python",
   "name": "python3"
  },
  "language_info": {
   "codemirror_mode": {
    "name": "ipython",
    "version": 3
   },
   "file_extension": ".py",
   "mimetype": "text/x-python",
   "name": "python",
   "nbconvert_exporter": "python",
   "pygments_lexer": "ipython3",
   "version": "3.9.2"
  }
 },
 "nbformat": 4,
 "nbformat_minor": 5
}
