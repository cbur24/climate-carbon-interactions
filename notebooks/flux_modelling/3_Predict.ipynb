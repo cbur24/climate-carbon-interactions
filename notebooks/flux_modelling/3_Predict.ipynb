{
 "cells": [
  {
   "cell_type": "markdown",
   "metadata": {},
   "source": [
    "# Predicting fluxes on grid\n"
   ]
  },
  {
   "cell_type": "code",
   "execution_count": null,
   "metadata": {},
   "outputs": [],
   "source": [
    "import sys\n",
    "import xarray as xr\n",
    "import numpy as np\n",
    "import pandas as pd\n",
    "from joblib import load\n",
    "from matplotlib import pyplot as plt\n",
    "from odc.geo.geobox import zoom_out\n",
    "from datacube.utils.dask import start_local_dask\n",
    "\n",
    "sys.path.append('/g/data/os22/chad_tmp/climate-carbon-interactions/src/')\n",
    "from _collect_prediction_data import collect_prediction_data, round_coords\n",
    "\n",
    "sys.path.append('/g/data/os22/chad_tmp/dea-notebooks/Tools/')\n",
    "from dea_tools.classification import predict_xr, HiddenPrints"
   ]
  },
  {
   "cell_type": "code",
   "execution_count": null,
   "metadata": {},
   "outputs": [],
   "source": [
    "client = start_local_dask(mem_safety_margin='2Gb')\n",
    "client"
   ]
  },
  {
   "cell_type": "markdown",
   "metadata": {},
   "source": [
    "## Analysis Parameters"
   ]
  },
  {
   "cell_type": "code",
   "execution_count": null,
   "metadata": {},
   "outputs": [],
   "source": [
    "var = 'NEE'\n",
    "suffix='20230910'\n",
    "\n",
    "t1, t2='2003','2022'\n",
    "rescale=False"
   ]
  },
  {
   "cell_type": "markdown",
   "metadata": {},
   "source": [
    "### Set up paths"
   ]
  },
  {
   "cell_type": "code",
   "execution_count": null,
   "metadata": {},
   "outputs": [],
   "source": [
    "results_name=var+'_'+t1+'_'+t2+'_5km_LGBM_'+suffix+'.nc'\n",
    "model_path = '/g/data/os22/chad_tmp/climate-carbon-interactions/results/models/fluxes/'+var+'_LGBM_model_'+suffix+'.joblib'\n",
    "features_list = '/g/data/os22/chad_tmp/climate-carbon-interactions/results/variables_'+suffix+'.txt'"
   ]
  },
  {
   "cell_type": "markdown",
   "metadata": {},
   "source": [
    "## Open model"
   ]
  },
  {
   "cell_type": "code",
   "execution_count": null,
   "metadata": {},
   "outputs": [],
   "source": [
    "model = load(model_path).set_params(n_jobs=1)"
   ]
  },
  {
   "cell_type": "markdown",
   "metadata": {},
   "source": [
    "## Open predictor data"
   ]
  },
  {
   "cell_type": "code",
   "execution_count": null,
   "metadata": {},
   "outputs": [],
   "source": [
    "## open data\n",
    "data = collect_prediction_data(time_start=t1,\n",
    "                             time_end=t2,\n",
    "                             verbose=False,\n",
    "                             export=False,\n",
    "                             chunks=dict(latitude=1000, longitude=1000, time=1)\n",
    "                             )"
   ]
  },
  {
   "cell_type": "markdown",
   "metadata": {},
   "source": [
    "## Create a no-data mask\n",
    "\n",
    "If we haven't already"
   ]
  },
  {
   "cell_type": "code",
   "execution_count": null,
   "metadata": {},
   "outputs": [],
   "source": [
    "# mask = data[['NDVI', 'WCF', 'tavg']].to_array().isnull().any('variable')\n",
    "# mask.compute().to_netcdf('/g/data/os22/chad_tmp/climate-carbon-interactions/data/mask_5km_monthly_1982_2022.nc')\n",
    "mask = xr.open_dataarray('/g/data/os22/chad_tmp/climate-carbon-interactions/data/mask_5km_monthly_1982_2022.nc')\n",
    "mask = mask.sel(time=slice(t1, t2))"
   ]
  },
  {
   "cell_type": "code",
   "execution_count": null,
   "metadata": {},
   "outputs": [],
   "source": [
    "# #create an urban mask once, then next time load it.\n",
    "# mask1 = xr.open_dataarray('/g/data/os22/chad_tmp/NEE_modelling/data/urban_mask_1km.nc')\n",
    "# mask1 = mask1.odc.reproject(mask.odc.geobox, resampling='mode')\n",
    "# mask1=round_coords(mask1)\n",
    "# mask1.name='urban_mask'\n",
    "# mask1.compute().to_netcdf('/g/data/os22/chad_tmp/climate-carbon-interactions/data/urban_mask_5km_.nc')"
   ]
  },
  {
   "cell_type": "markdown",
   "metadata": {},
   "source": [
    "### Index by variables and check variable order"
   ]
  },
  {
   "cell_type": "code",
   "execution_count": null,
   "metadata": {},
   "outputs": [],
   "source": [
    "train_vars = list(pd.read_csv(features_list))[0:-1]\n",
    "train_vars=[i[:-3] for i in train_vars]\n",
    "\n",
    "data = data[train_vars]\n",
    "\n",
    "if train_vars == list(data.data_vars):\n",
    "    print('Variables match, n:', len(data.data_vars))\n",
    "else:\n",
    "    raise ValueError(\"Variables don't match\")"
   ]
  },
  {
   "cell_type": "markdown",
   "metadata": {},
   "source": [
    "### Predict each time-step seperately\n",
    "\n",
    "- TO DO: fix timesteps that come back from `predict_xr`"
   ]
  },
  {
   "cell_type": "code",
   "execution_count": null,
   "metadata": {},
   "outputs": [],
   "source": [
    "%%time\n",
    "import warnings\n",
    "warnings.filterwarnings(\"ignore\")\n",
    "\n",
    "results = []\n",
    "i=0\n",
    "\n",
    "for i in range(0, len(data.time)): \n",
    "    print(\" {:03}/{:03}\\r\".format(i + 1, len(range(0, len(data.time)))), end=\"\")\n",
    "    with HiddenPrints():\n",
    "        predicted = predict_xr(model,\n",
    "                            data.isel(time=i),\n",
    "                            proba=False,\n",
    "                            clean=True,\n",
    "                              ).compute()\n",
    "    \n",
    "    predicted = predicted.Predictions.where(~mask.isel(time=i))\n",
    "    predicted['time'] = data.isel(time=i).time.values\n",
    "    results.append(predicted.astype('float32'))\n",
    "    i+=1 "
   ]
  },
  {
   "cell_type": "code",
   "execution_count": null,
   "metadata": {},
   "outputs": [],
   "source": [
    "ds = xr.concat(results, dim='time').sortby('time').rename(var).astype('float32')"
   ]
  },
  {
   "cell_type": "code",
   "execution_count": null,
   "metadata": {},
   "outputs": [],
   "source": [
    "# ds.sel(time=slice('2003', '2022')).mean(['x','y']).plot(figsize=(13,5))"
   ]
  },
  {
   "cell_type": "markdown",
   "metadata": {},
   "source": [
    "## Mask urban areas using landcover dataset"
   ]
  },
  {
   "cell_type": "code",
   "execution_count": null,
   "metadata": {},
   "outputs": [],
   "source": [
    "mask1 = xr.open_dataset('/g/data/os22/chad_tmp/climate-carbon-interactions/data/urban_mask_5km.nc')['urban_mask']\n",
    "mask1 = mask1.rename({'latitude':'y', 'longitude':'x'})\n",
    "ds = ds.where(mask1!=1).astype('float32')"
   ]
  },
  {
   "cell_type": "markdown",
   "metadata": {},
   "source": [
    "### Save results"
   ]
  },
  {
   "cell_type": "code",
   "execution_count": null,
   "metadata": {},
   "outputs": [],
   "source": [
    "ds.to_netcdf('/g/data/os22/chad_tmp/climate-carbon-interactions/results/predictions/'+results_name)"
   ]
  },
  {
   "cell_type": "markdown",
   "metadata": {},
   "source": [
    "## Animate results"
   ]
  },
  {
   "cell_type": "code",
   "execution_count": null,
   "metadata": {},
   "outputs": [],
   "source": [
    "import xarray as xr\n",
    "from IPython.display import Image\n",
    "import matplotlib.pyplot as plt\n",
    "\n",
    "import sys\n",
    "sys.path.append('/g/data/os22/chad_tmp/dea-notebooks/Tools')\n",
    "from dea_tools.plotting import xr_animation\n"
   ]
  },
  {
   "cell_type": "code",
   "execution_count": null,
   "metadata": {},
   "outputs": [],
   "source": [
    "# ds = xr.open_dataarray('/g/data/os22/chad_tmp/NEE_modelling/results/predictions/GPP_2003_2021_5km_LGBM.nc')"
   ]
  },
  {
   "cell_type": "code",
   "execution_count": null,
   "metadata": {},
   "outputs": [],
   "source": [
    "path = '/g/data/os22/chad_tmp/climate-carbon-interactions/results/gifs/'+var+'_LGBM_5km_'+suffix+'.gif'\n",
    "\n",
    "if var=='NEE':\n",
    "    imshow={'vmin': -45, 'vmax': 45, 'cmap': 'Spectral_r'}\n",
    "    \n",
    "else:\n",
    "    imshow={'vmin': 0, 'vmax': 150, 'cmap': 'gist_earth_r'}\n",
    "\n",
    "xr_animation(ds.to_dataset().rolling(time=3, min_periods=1).mean(),\n",
    "            bands=[var],\n",
    "            show_date='%b %Y',\n",
    "            width_pixels=600,\n",
    "            output_path=path,\n",
    "            show_colorbar=True,\n",
    "            colorbar_kwargs={'colors': 'black'},\n",
    "            # show_gdf=poly_gdf,\n",
    "            interval=150, \n",
    "            show_text=var+' gC/m2/month',\n",
    "            # gdf_kwargs={'edgecolor': 'grey', 'linewidth':0.5}, \n",
    "            imshow_kwargs=imshow\n",
    "            )\n",
    "\n",
    "# Plot animation\n",
    "plt.close()\n",
    "Image(path, embed=True)"
   ]
  },
  {
   "cell_type": "code",
   "execution_count": null,
   "metadata": {},
   "outputs": [],
   "source": [
    "# wcf_1982 = data.WCF.sel(time='2020').compute()"
   ]
  },
  {
   "cell_type": "code",
   "execution_count": null,
   "metadata": {},
   "outputs": [],
   "source": [
    "# trees = xr.open_dataset('/g/data/os22/chad_tmp/NEE_modelling/data/1km/trees_1km_monthly_2002_2022.nc')['trees'].isel(time=-1)"
   ]
  },
  {
   "cell_type": "code",
   "execution_count": null,
   "metadata": {},
   "outputs": [],
   "source": [
    "# fig,ax=plt.subplots(1,2, figsize=(13,5))\n",
    "# (wcf_1982/100).isel(time=-1).plot.imshow(robust=True, ax=ax[0], vmax=0.5)\n",
    "# trees.plot.imshow(robust=True, ax=ax[1], vmax=0.5)\n",
    "# plt.tight_layout()\n",
    "# ax[0].set_title('WCF 2020')\n",
    "# ax[1].set_title('Donohue fraction trees 2020')"
   ]
  },
  {
   "cell_type": "code",
   "execution_count": null,
   "metadata": {},
   "outputs": [],
   "source": [
    "# ds.mean('time').plot.imshow(robust=True)"
   ]
  },
  {
   "cell_type": "code",
   "execution_count": null,
   "metadata": {},
   "outputs": [],
   "source": [
    "# clim_early = ds.sel(time=slice('1982', '2002')).groupby('time.month').mean()\n",
    "clim_late = ds.sel(time=slice('2003', '2022')).groupby('time.month').mean()\n",
    "\n",
    "fig,ax=plt.subplots(1,1)\n",
    "# clim_early.mean(['x', 'y']).plot(ax=ax, label='early')\n",
    "clim_late.mean(['x', 'y']).plot(ax=ax,  label='late')\n",
    "ax.legend()"
   ]
  },
  {
   "cell_type": "code",
   "execution_count": null,
   "metadata": {},
   "outputs": [],
   "source": []
  }
 ],
 "metadata": {
  "kernelspec": {
   "display_name": "Python 3 (ipykernel)",
   "language": "python",
   "name": "python3"
  },
  "language_info": {
   "codemirror_mode": {
    "name": "ipython",
    "version": 3
   },
   "file_extension": ".py",
   "mimetype": "text/x-python",
   "name": "python",
   "nbconvert_exporter": "python",
   "pygments_lexer": "ipython3",
   "version": "3.9.2"
  }
 },
 "nbformat": 4,
 "nbformat_minor": 4
}
