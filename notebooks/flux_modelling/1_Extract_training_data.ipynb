{
 "cells": [
  {
   "cell_type": "markdown",
   "metadata": {},
   "source": [
    "# Extract training data from the OzFlux eddy covariance sites\n",
    "\n",
    "Datasets are here https://dap.tern.org.au/thredds/catalog/ecosystem_process/ozflux/catalog.html\n",
    "\n"
   ]
  },
  {
   "cell_type": "markdown",
   "metadata": {},
   "source": [
    "## Load modules"
   ]
  },
  {
   "cell_type": "code",
   "execution_count": 1,
   "metadata": {},
   "outputs": [],
   "source": [
    "import sys\n",
    "sys.path.append('/g/data/os22/chad_tmp/climate-carbon-interactions/src/')\n",
    "from _collect_training_data import extract_ec_gridded_data"
   ]
  },
  {
   "cell_type": "markdown",
   "metadata": {},
   "source": [
    "## Collect training data from EC towers, and gridded data at pixel location of EC tower\n",
    "\n",
    "This data is used for training the models.\n"
   ]
  },
  {
   "cell_type": "code",
   "execution_count": 2,
   "metadata": {},
   "outputs": [
    {
     "name": "stdout",
     "output_type": "stream",
     "text": [
      "Extracting OzFlux site: 34/34\r"
     ]
    }
   ],
   "source": [
    "ds = extract_ec_gridded_data(version='2022_v2',\n",
    "                        level='L6',\n",
    "                        type='default',\n",
    "                        add_comparisons=False,\n",
    "                        save_ec_data='/g/data/os22/chad_tmp/climate-carbon-interactions/data/ozflux_ec_data/',\n",
    "                        return_coords=True,\n",
    "                        verbose=False,\n",
    "                        export_path='/g/data/os22/chad_tmp/climate-carbon-interactions/results/training_data/'\n",
    "                        )\n",
    "    "
   ]
  },
  {
   "cell_type": "code",
   "execution_count": null,
   "metadata": {},
   "outputs": [],
   "source": []
  },
  {
   "cell_type": "code",
   "execution_count": null,
   "metadata": {},
   "outputs": [],
   "source": []
  }
 ],
 "metadata": {
  "kernelspec": {
   "display_name": "Python 3 (ipykernel)",
   "language": "python",
   "name": "python3"
  },
  "language_info": {
   "codemirror_mode": {
    "name": "ipython",
    "version": 3
   },
   "file_extension": ".py",
   "mimetype": "text/x-python",
   "name": "python",
   "nbconvert_exporter": "python",
   "pygments_lexer": "ipython3",
   "version": "3.9.2"
  }
 },
 "nbformat": 4,
 "nbformat_minor": 4
}
