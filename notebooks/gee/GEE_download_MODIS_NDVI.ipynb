{
 "cells": [
  {
   "cell_type": "markdown",
   "metadata": {},
   "source": [
    "# Downloading MODIS NDVI\n"
   ]
  },
  {
   "cell_type": "markdown",
   "metadata": {},
   "source": [
    "## Load packages"
   ]
  },
  {
   "cell_type": "code",
   "execution_count": 1,
   "metadata": {},
   "outputs": [],
   "source": [
    "import os\n",
    "import ee\n",
    "import geemap\n",
    "import wxee\n",
    "import warnings\n",
    "import xarray as xr\n",
    "import pandas as pd\n",
    "import numpy as np\n",
    "from odc.geo.xr import assign_crs"
   ]
  },
  {
   "cell_type": "markdown",
   "metadata": {},
   "source": [
    "## Authenticate GEE    "
   ]
  },
  {
   "cell_type": "code",
   "execution_count": 2,
   "metadata": {},
   "outputs": [
    {
     "data": {
      "text/html": [
       "<p>To authorize access needed by Earth Engine, open the following\n",
       "        URL in a web browser and follow the instructions:</p>\n",
       "        <p><a href=https://code.earthengine.google.com/client-auth?scopes=https%3A//www.googleapis.com/auth/earthengine%20https%3A//www.googleapis.com/auth/devstorage.full_control&request_id=uKyDTIw267E8RmkRDTSHXKDuZxump1oLd7Xv1kNV1vs&tc=O_BqbIM2kU95mgigou7_CHa4O9KxYqfFMzxxIN6w0R4&cc=hYL_YY9kMArBSHmbqreYmzLHCnjmjetaF572qMYGcGs>https://code.earthengine.google.com/client-auth?scopes=https%3A//www.googleapis.com/auth/earthengine%20https%3A//www.googleapis.com/auth/devstorage.full_control&request_id=uKyDTIw267E8RmkRDTSHXKDuZxump1oLd7Xv1kNV1vs&tc=O_BqbIM2kU95mgigou7_CHa4O9KxYqfFMzxxIN6w0R4&cc=hYL_YY9kMArBSHmbqreYmzLHCnjmjetaF572qMYGcGs</a></p>\n",
       "        <p>The authorization workflow will generate a code, which you should paste in the box below.</p>\n",
       "        "
      ],
      "text/plain": [
       "<IPython.core.display.HTML object>"
      ]
     },
     "metadata": {},
     "output_type": "display_data"
    },
    {
     "name": "stdin",
     "output_type": "stream",
     "text": [
      "Enter verification code:  4/1AfJohXnL2ffYUyHLy59BBTkZNtnuXQhhpyf5jqQNIRdFsGekj8kBsqTrk7w\n"
     ]
    },
    {
     "name": "stdout",
     "output_type": "stream",
     "text": [
      "\n",
      "Successfully saved authorization token.\n"
     ]
    }
   ],
   "source": [
    "# Trigger the authentication flow.\n",
    "ee.Authenticate()\n",
    "\n",
    "# Initialize the library.\n",
    "ee.Initialize()"
   ]
  },
  {
   "cell_type": "markdown",
   "metadata": {},
   "source": [
    "## Analysis parameters\n"
   ]
  },
  {
   "cell_type": "code",
   "execution_count": 3,
   "metadata": {},
   "outputs": [],
   "source": [
    "product = 'MODIS/MCD43A4_006_NDVI'\n",
    "bands = ['NDVI']\n",
    "start_date = '3/1/2000'\n",
    "end_date = '12/31/2000'\n",
    "output_crs = \"EPSG:3577\"\n",
    "resolution = 5000\n",
    "\n",
    "# ~Aus region (slightly less to trick google into giving me 1km res)\n",
    "region = ee.Geometry.Polygon([[\n",
    "            [114,-43.0],\n",
    "            [154.0,-43.0],\n",
    "            [154.0,-10.0],\n",
    "            [113,-10.0],\n",
    "            [113,-43.0]]])\n"
   ]
  },
  {
   "cell_type": "code",
   "execution_count": 11,
   "metadata": {
    "tags": []
   },
   "outputs": [
    {
     "name": "stdout",
     "output_type": "stream",
     "text": [
      " 010/010\r"
     ]
    }
   ],
   "source": [
    "#use start and end dates to loop through months and load GEE data\n",
    "start = pd.date_range(start=start_date, end=end_date, freq='MS') \n",
    "end = pd.date_range(start=start_date, end=end_date, freq='M')\n",
    "\n",
    "i = 0\n",
    "for s, e in zip(start,end):\n",
    "    print(\" {:03}/{:03}\\r\".format(i+1, len(start)), end=\"\")\n",
    "\n",
    "    ss = s+pd.Timedelta(14, 'd')\n",
    "\n",
    "    s = s.strftime('%Y-%m-%d')\n",
    "    e = e.strftime('%Y-%m-%d')\n",
    "\n",
    "    ds = ee.ImageCollection(product) \\\n",
    "      .filterDate(s,e) \\\n",
    "      .map(lambda image: image.clip(region)) \\\n",
    "      .select(bands) \\\n",
    "      .reduce(ee.Reducer.median())  \n",
    " \n",
    "    export = ee.batch.Export.image.toDrive(ds,\n",
    "        description='MODIS_NDVI_median'+'_'+ss.strftime('%Y-%m-%d'),\n",
    "        folder='MODIS_NDVI_median',\n",
    "        region=region,\n",
    "        scale=resolution,\n",
    "        crs=output_crs,\n",
    "        maxPixels=1e13,\n",
    "        fileFormat='GeoTIFF',\n",
    "        formatOptions={\n",
    "            'cloudOptimized':True\n",
    "              }\n",
    "        )\n",
    "    export.start()\n",
    "\n",
    "    i+=1"
   ]
  },
  {
   "cell_type": "code",
   "execution_count": 12,
   "metadata": {},
   "outputs": [
    {
     "data": {
      "text/plain": [
       "{'state': 'RUNNING',\n",
       " 'description': 'MODIS_NDVI_median_2000-12-15',\n",
       " 'creation_timestamp_ms': 1696803882552,\n",
       " 'update_timestamp_ms': 1696803938667,\n",
       " 'start_timestamp_ms': 1696803938633,\n",
       " 'task_type': 'EXPORT_IMAGE',\n",
       " 'attempt': 1,\n",
       " 'id': 'VYEZXJKGQ436NWKZHFCBIWRF',\n",
       " 'name': 'projects/earthengine-legacy/operations/VYEZXJKGQ436NWKZHFCBIWRF'}"
      ]
     },
     "execution_count": 12,
     "metadata": {},
     "output_type": "execute_result"
    }
   ],
   "source": [
    "export.status()"
   ]
  },
  {
   "cell_type": "code",
   "execution_count": null,
   "metadata": {},
   "outputs": [],
   "source": [
    "# Using basemap in geemap\n",
    "Map = geemap.Map(center=[-35.2041, 149.2721], zoom=12)\n",
    "\n",
    "Map.addLayer(ds)\n",
    "Map"
   ]
  },
  {
   "cell_type": "markdown",
   "metadata": {},
   "source": [
    "## Stitch together geotiffs"
   ]
  },
  {
   "cell_type": "code",
   "execution_count": 13,
   "metadata": {},
   "outputs": [],
   "source": [
    "import os\n",
    "import xarray as xr\n",
    "import numpy as np\n",
    "import pandas as pd\n",
    "from odc.geo.xr import assign_crs"
   ]
  },
  {
   "cell_type": "code",
   "execution_count": 14,
   "metadata": {},
   "outputs": [],
   "source": [
    "base='/g/data/os22/chad_tmp/climate-carbon-interactions/data/MODIS_NDVI_median/'\n",
    "name= 'NDVI_median'\n",
    "dates_start = '2000-03-01'\n",
    "dates_end = '2000-12-31'\n"
   ]
  },
  {
   "cell_type": "code",
   "execution_count": 15,
   "metadata": {},
   "outputs": [
    {
     "name": "stdout",
     "output_type": "stream",
     "text": [
      "10\n",
      "10 None\n"
     ]
    }
   ],
   "source": [
    "files = [base+i for i in os.listdir(base) if i.endswith('.tif')]\n",
    "files.sort()\n",
    "\n",
    "time = (pd.date_range(dates_start, dates_end, freq='MS') + pd.DateOffset(days=14)).to_numpy()\n",
    "time = list(time)\n",
    "\n",
    "print(len(files), print(len(time)))"
   ]
  },
  {
   "cell_type": "code",
   "execution_count": 16,
   "metadata": {},
   "outputs": [
    {
     "name": "stdout",
     "output_type": "stream",
     "text": [
      " 10/10\r"
     ]
    }
   ],
   "source": [
    "i=0\n",
    "arrs=[]\n",
    "for f, t in zip(files, time):\n",
    "    print(\" {:02}/{:02}\\r\".format(i + 1, len(files)), end=\"\")\n",
    "    \n",
    "    ds = xr.open_dataarray(f).squeeze().drop('band').astype('float32')\n",
    "    ds = ds.expand_dims(time=[t])\n",
    "    ds = ds.rename(name)\n",
    "    del ds.attrs['long_name']\n",
    "    del ds.attrs['AREA_OR_POINT']\n",
    "\n",
    "    ds.attrs['nodata']=np.nan\n",
    "    ds = ds.drop('spatial_ref')\n",
    "    ds = assign_crs(ds, crs='epsg:3577')\n",
    "    arrs.append(ds)\n",
    "\n",
    "    i+=1 \n",
    "    "
   ]
  },
  {
   "cell_type": "code",
   "execution_count": 17,
   "metadata": {},
   "outputs": [],
   "source": [
    "ds = xr.concat(arrs, dim='time').sortby('time')"
   ]
  },
  {
   "cell_type": "code",
   "execution_count": 30,
   "metadata": {},
   "outputs": [],
   "source": [
    "mask = xr.open_dataarray('/g/data/os22/chad_tmp/climate-carbon-interactions/data/NDVI_harmonization/MODIS_NDVI_5km_monthly_2001_2022.nc').mean('time')\n",
    "mask = ~np.isnan(mask)"
   ]
  },
  {
   "cell_type": "code",
   "execution_count": 33,
   "metadata": {},
   "outputs": [],
   "source": [
    "ds = ds.where(mask)"
   ]
  },
  {
   "cell_type": "code",
   "execution_count": 37,
   "metadata": {},
   "outputs": [],
   "source": [
    "ds.to_netcdf('/g/data/os22/chad_tmp/climate-carbon-interactions/data/NDVI_harmonization/MODIS_'+name+'_5km_monthly_2000.nc')"
   ]
  },
  {
   "cell_type": "code",
   "execution_count": null,
   "metadata": {},
   "outputs": [],
   "source": [
    "# %%time\n",
    "# #use start and end dates to loop through months and load GEE data\n",
    "\n",
    "# start = pd.date_range(start=start_date, end=end_date, freq='MS') \n",
    "# end = pd.date_range(start=start_date, end=end_date, freq='M')\n",
    "\n",
    "# i = 0\n",
    "# for s, e in zip(start,end):\n",
    "#     print(\" {:03}/{:03}\\r\".format(i+1, len(start)), end=\"\")\n",
    "\n",
    "#     ss = s+pd.Timedelta(14, 'd')\n",
    "\n",
    "#     if os.path.isfile(output_path+'MODIS_NDVI_'+ss.strftime('%Y-%m')+'.nc'):\n",
    "#         i+=1\n",
    "#         pass\n",
    "\n",
    "#     else:\n",
    "#         s = s.strftime('%Y-%m-%d')\n",
    "#         e = e.strftime('%Y-%m-%d')\n",
    "\n",
    "#         ds = ee.ImageCollection(product) \\\n",
    "#           .filterDate(s,e) \\\n",
    "#           .map(lambda image: image.clip(region))\n",
    "\n",
    "#         ds = ds.select(bands)\n",
    "\n",
    "#         ts = wxee.TimeSeries(ds)\n",
    "#         ds = ts.wx.to_xarray(region=region, scale=resolution, crs=output_crs, progress=False, num_cores=4)\n",
    "\n",
    "#         warnings.filterwarnings(\"ignore\")\n",
    "#         ds = ds.astype(np.float32)\n",
    "\n",
    "#         ds_mean = ds.resample(time='MS', loffset=pd.Timedelta(14, 'd')).mean()\n",
    "\n",
    "#         ds_mean = ds_mean.rename({'NDVI':'NDVI_mean'})\n",
    "#         ds_mean.attrs['nodata'] = np.nan\n",
    "\n",
    "#         ds_out = assign_crs(ds_mean, crs='epsg:3577')\n",
    "\n",
    "#         ds_out.to_netcdf(output_path+'MODIS_NDVI_'+ss.strftime('%Y-%m')+'.nc')\n",
    "\n",
    "#         i+=1\n"
   ]
  },
  {
   "cell_type": "code",
   "execution_count": null,
   "metadata": {},
   "outputs": [],
   "source": []
  }
 ],
 "metadata": {
  "kernelspec": {
   "display_name": "Python 3 (ipykernel)",
   "language": "python",
   "name": "python3"
  },
  "language_info": {
   "codemirror_mode": {
    "name": "ipython",
    "version": 3
   },
   "file_extension": ".py",
   "mimetype": "text/x-python",
   "name": "python",
   "nbconvert_exporter": "python",
   "pygments_lexer": "ipython3",
   "version": "3.9.2"
  }
 },
 "nbformat": 4,
 "nbformat_minor": 4
}
