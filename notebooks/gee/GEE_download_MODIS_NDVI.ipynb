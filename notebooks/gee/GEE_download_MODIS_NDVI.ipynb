{
 "cells": [
  {
   "cell_type": "markdown",
   "metadata": {},
   "source": [
    "# Downloading MODIS NDVI\n",
    "\n",
    "This product: https://developers.google.com/earth-engine/datasets/catalog/MODIS_061_MCD43A4#description"
   ]
  },
  {
   "cell_type": "markdown",
   "metadata": {},
   "source": [
    "## Load packages"
   ]
  },
  {
   "cell_type": "code",
   "execution_count": null,
   "metadata": {},
   "outputs": [],
   "source": [
    "import os\n",
    "import ee\n",
    "import geemap\n",
    "import wxee\n",
    "import warnings\n",
    "import xarray as xr\n",
    "import pandas as pd\n",
    "import numpy as np\n",
    "import eemont\n",
    "from odc.geo.xr import assign_crs"
   ]
  },
  {
   "cell_type": "markdown",
   "metadata": {},
   "source": [
    "## Authenticate GEE    "
   ]
  },
  {
   "cell_type": "code",
   "execution_count": null,
   "metadata": {},
   "outputs": [],
   "source": [
    "# Trigger the authentication flow.\n",
    "# ee.Authenticate()\n",
    "\n",
    "# Initialize the library.\n",
    "ee.Initialize()"
   ]
  },
  {
   "cell_type": "markdown",
   "metadata": {},
   "source": [
    "## Analysis parameters\n"
   ]
  },
  {
   "cell_type": "code",
   "execution_count": null,
   "metadata": {},
   "outputs": [],
   "source": [
    "# product = 'MODIS/MCD43A4_006_NDVI'\n",
    "product = 'MODIS/061/MCD43A4'\n",
    "bands = ['NDVI']\n",
    "start_date = '3/1/2000'\n",
    "end_date = '12/31/2022'\n",
    "output_crs = \"EPSG:3577\"\n",
    "resolution = 5000\n",
    "\n",
    "# ~Aus region\n",
    "region = ee.Geometry.Polygon([[\n",
    "            [112,-43.0],\n",
    "            [155,-43.0],\n",
    "            [155,-9.0],\n",
    "            [112,-9.0],\n",
    "            [112,-43.0]]])\n"
   ]
  },
  {
   "cell_type": "code",
   "execution_count": null,
   "metadata": {},
   "outputs": [],
   "source": [
    "def filterqa(image):\n",
    "    mask1 = image.select(\"BRDF_Albedo_Band_Mandatory_Quality_Band1\").eq(0)\n",
    "    mask2 = image.select(\"BRDF_Albedo_Band_Mandatory_Quality_Band2\").eq(0)\n",
    "    return image.updateMask(mask1).updateMask(mask2) \n",
    "\n",
    "def calc_ndvi(image):\n",
    "    ndvi = image.normalizedDifference(['nir','red']).rename('NDVI')\n",
    "    return image.addBands(ndvi)"
   ]
  },
  {
   "cell_type": "code",
   "execution_count": null,
   "metadata": {
    "tags": []
   },
   "outputs": [],
   "source": [
    "#use start and end dates to loop through months and load GEE data\n",
    "start = pd.date_range(start=start_date, end=end_date, freq='MS') \n",
    "end = pd.date_range(start=start_date, end=end_date, freq='M')\n",
    "\n",
    "i = 0\n",
    "for s, e in zip(start,end):\n",
    "    print(\" {:03}/{:03}\\r\".format(i+1, len(start)), end=\"\")\n",
    "\n",
    "    ss = s+pd.Timedelta(14, 'd')\n",
    "    s = s.strftime('%Y-%m-%d')\n",
    "    e = e.strftime('%Y-%m-%d')\n",
    "\n",
    "    ds = (ee.ImageCollection(product) \n",
    "      .filterDate(s,e) \n",
    "      .map(lambda image: image.clip(region))\n",
    "      .map(filterqa)\n",
    "      .select([\"Nadir_Reflectance_Band1\", \"Nadir_Reflectance_Band2\"], [\"red\", \"nir\"])\n",
    "      .map(lambda image: image.multiply(0.0001))\n",
    "      .map(calc_ndvi)\n",
    "      .reduce(ee.Reducer.median())\n",
    "      .select('NDVI_median')\n",
    "         )\n",
    " \n",
    "    export = ee.batch.Export.image.toDrive(ds,\n",
    "        description='MODIS_NDVI_median'+'_'+ss.strftime('%Y-%m-%d'),\n",
    "        folder='MODIS_NDVI_median',\n",
    "        region=region,\n",
    "        scale=resolution,\n",
    "        crs=output_crs,\n",
    "        maxPixels=1e13,\n",
    "        fileFormat='GeoTIFF',\n",
    "        formatOptions={\n",
    "            'cloudOptimized':True\n",
    "              }\n",
    "        )\n",
    "    export.start()\n",
    "    \n",
    "    i+=1"
   ]
  },
  {
   "cell_type": "code",
   "execution_count": null,
   "metadata": {},
   "outputs": [],
   "source": [
    "export.status()"
   ]
  },
  {
   "cell_type": "code",
   "execution_count": null,
   "metadata": {},
   "outputs": [],
   "source": [
    "# Using basemap in geemap\n",
    "Map = geemap.Map(center=[-35.2041, 149.2721], zoom=4)\n",
    "\n",
    "ndvi_palette=['FFFFFF', 'CE7E45', 'DF923D', 'F1B555', 'FCD163', '99B718',\n",
    "               '74A901', '66A000', '529400', '3E8601', '207401', '056201',\n",
    "               '004C00', '023B01', '012E01', '011D01', '011301']\n",
    "\n",
    "ndviVis = {'min': 0, 'max': 1, 'palette': ndvi_palette}\n",
    "\n",
    "Map.addLayer(ds, ndviVis)\n",
    "Map"
   ]
  },
  {
   "cell_type": "markdown",
   "metadata": {},
   "source": [
    "## Stitch together geotiffs"
   ]
  },
  {
   "cell_type": "code",
   "execution_count": null,
   "metadata": {},
   "outputs": [],
   "source": [
    "import os\n",
    "import xarray as xr\n",
    "import numpy as np\n",
    "import pandas as pd\n",
    "from odc.geo.xr import assign_crs"
   ]
  },
  {
   "cell_type": "code",
   "execution_count": null,
   "metadata": {},
   "outputs": [],
   "source": [
    "base='/g/data/os22/chad_tmp/climate-carbon-interactions/data/MODIS_NDVI_median/'\n",
    "name= 'NDVI_median'\n",
    "dates_start = '2000-03-01'\n",
    "dates_end = '2022-12-31'\n"
   ]
  },
  {
   "cell_type": "code",
   "execution_count": null,
   "metadata": {},
   "outputs": [],
   "source": [
    "files = [base+i for i in os.listdir(base) if i.endswith('.tif')]\n",
    "files.sort()\n",
    "\n",
    "time = (pd.date_range(dates_start, dates_end, freq='MS') + pd.DateOffset(days=14)).to_numpy()\n",
    "time = list(time)\n",
    "\n",
    "print(len(files), print(len(time)))"
   ]
  },
  {
   "cell_type": "code",
   "execution_count": null,
   "metadata": {},
   "outputs": [],
   "source": [
    "i=0\n",
    "arrs=[]\n",
    "for f, t in zip(files, time):\n",
    "    print(\" {:02}/{:02}\\r\".format(i + 1, len(files)), end=\"\")\n",
    "    \n",
    "    ds = xr.open_dataarray(f).squeeze().drop('band').astype('float32')\n",
    "    ds = ds.expand_dims(time=[t])\n",
    "    ds = ds.rename(name)\n",
    "    del ds.attrs['long_name']\n",
    "    del ds.attrs['AREA_OR_POINT']\n",
    "\n",
    "    ds.attrs['nodata']=np.nan\n",
    "    ds = ds.drop('spatial_ref')\n",
    "    ds = assign_crs(ds, crs='epsg:3577')\n",
    "    arrs.append(ds)\n",
    "\n",
    "    i+=1 \n",
    "    "
   ]
  },
  {
   "cell_type": "code",
   "execution_count": null,
   "metadata": {},
   "outputs": [],
   "source": [
    "ds = xr.concat(arrs, dim='time').sortby('time')"
   ]
  },
  {
   "cell_type": "code",
   "execution_count": null,
   "metadata": {},
   "outputs": [],
   "source": [
    "mask = xr.open_dataarray('/g/data/os22/chad_tmp/climate-carbon-interactions/data/NDVI_harmonization/MODIS_NDVI_5km_monthly_2001_2022.nc').mean('time')\n",
    "mask = ~np.isnan(mask)"
   ]
  },
  {
   "cell_type": "code",
   "execution_count": null,
   "metadata": {},
   "outputs": [],
   "source": [
    "ds = ds.where(mask)"
   ]
  },
  {
   "cell_type": "code",
   "execution_count": null,
   "metadata": {},
   "outputs": [],
   "source": [
    "ds.to_netcdf('/g/data/os22/chad_tmp/climate-carbon-interactions/data/NDVI_harmonization/MODIS_'+name+'_5km_monthly_2000.nc')"
   ]
  },
  {
   "cell_type": "code",
   "execution_count": null,
   "metadata": {},
   "outputs": [],
   "source": []
  }
 ],
 "metadata": {
  "kernelspec": {
   "display_name": "Python 3 (ipykernel)",
   "language": "python",
   "name": "python3"
  },
  "language_info": {
   "codemirror_mode": {
    "name": "ipython",
    "version": 3
   },
   "file_extension": ".py",
   "mimetype": "text/x-python",
   "name": "python",
   "nbconvert_exporter": "python",
   "pygments_lexer": "ipython3",
   "version": "3.9.2"
  }
 },
 "nbformat": 4,
 "nbformat_minor": 4
}
