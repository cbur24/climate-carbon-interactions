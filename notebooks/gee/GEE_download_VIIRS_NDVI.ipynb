{
 "cells": [
  {
   "cell_type": "markdown",
   "metadata": {},
   "source": [
    "# Downloading VIIRS NDVI\n",
    "\n",
    "VNP13A1 https://developers.google.com/earth-engine/datasets/catalog/NOAA_VIIRS_001_VNP13A1#description"
   ]
  },
  {
   "cell_type": "markdown",
   "metadata": {},
   "source": [
    "## Load packages"
   ]
  },
  {
   "cell_type": "code",
   "execution_count": null,
   "metadata": {},
   "outputs": [],
   "source": [
    "import os\n",
    "import ee\n",
    "import eemont\n",
    "import geemap\n",
    "import wxee\n",
    "import math\n",
    "import warnings\n",
    "import xarray as xr\n",
    "import pandas as pd\n",
    "import numpy as np\n",
    "from odc.geo.xr import assign_crs"
   ]
  },
  {
   "cell_type": "markdown",
   "metadata": {},
   "source": [
    "## Authenticate GEE    "
   ]
  },
  {
   "cell_type": "code",
   "execution_count": null,
   "metadata": {},
   "outputs": [],
   "source": [
    "# Trigger the authentication flow.\n",
    "ee.Authenticate()\n",
    "\n",
    "# Initialize the library.\n",
    "ee.Initialize()"
   ]
  },
  {
   "cell_type": "markdown",
   "metadata": {},
   "source": [
    "## Analysis parameters\n"
   ]
  },
  {
   "cell_type": "code",
   "execution_count": null,
   "metadata": {},
   "outputs": [],
   "source": [
    "product = 'NOAA/VIIRS/001/VNP13A1' \n",
    "bands =  ['NDVI']\n",
    "start_date = '1/1/2012'\n",
    "end_date = '12/31/2022'\n",
    "output_crs = \"EPSG:3577\"\n",
    "resolution = 5000\n",
    "\n",
    "region = ee.Geometry.Polygon([[\n",
    "            [112,-43.0],\n",
    "            [155,-43.0],\n",
    "            [155,-9.0],\n",
    "            [112,-9.0],\n",
    "            [112,-43.0]]])\n"
   ]
  },
  {
   "cell_type": "code",
   "execution_count": null,
   "metadata": {},
   "outputs": [],
   "source": [
    "# def getQABits(image, start, end, newName):\n",
    "#     # Compute the bits we need to extract.\n",
    "#     pattern = 0\n",
    "#     for i in range(start, end, 1):\n",
    "#        pattern += math.pow(2, i)\n",
    "\n",
    "#     out = (image.select([0], [newName])\n",
    "#                   .bitwiseAnd(pattern)\n",
    "#                   .rightShift(start))\n",
    "#     return(image.addBands(out))\n",
    "\n",
    "# def qualityFlag(image):\n",
    "#     qa = getQABits(image.select('QC'), 0,1,\"good\").eq(0)\n",
    "#     return image.updateMask(qa.select('good'))\n",
    "\n",
    "# def qualityFlagMOD11A1(image):\n",
    "#   qa = image.select('QC')\n",
    "#   bitMask2 = 1 << 2\n",
    "#   bitMask3 = 1 << 3\n",
    "#   mask = qa.bitwiseAnd(bitMask2).eq(0).And(qa.bitwiseAnd(bitMask3).eq(0))\n",
    "#   return image.updateMask(mask)"
   ]
  },
  {
   "cell_type": "code",
   "execution_count": null,
   "metadata": {},
   "outputs": [],
   "source": [
    "#use start and end dates to loop through months and load GEE data\n",
    "start = pd.date_range(start=start_date, end=end_date, freq='MS') \n",
    "end = pd.date_range(start=start_date, end=end_date, freq='M')\n",
    "\n",
    "i = 0\n",
    "for s, e in zip(start,end):\n",
    "    print(\" {:03}/{:03}\\r\".format(i+1, len(start)), end=\"\")\n",
    "\n",
    "    ss = s+pd.Timedelta(14, 'd')\n",
    "\n",
    "    s = s.strftime('%Y-%m-%d')\n",
    "    e = e.strftime('%Y-%m-%d')\n",
    "\n",
    "    ds = (ee.ImageCollection(product)\n",
    "      .filterDate(s,e)\n",
    "      .map(qualityFlag)\n",
    "      .map(lambda image: image.clip(region))\n",
    "      .select(bands)\n",
    "      # .reduce(ee.Reducer.count())  \n",
    "      # .reduce(ee.Reducer.stdDev())\n",
    "      .median()\n",
    "         )\n",
    "\n",
    "    export = ee.batch.Export.image.toDrive(ds,\n",
    "        description='VIIRS_NDVI'+'_'+ss.strftime('%Y-%m-%d'),\n",
    "        folder='VIIRS_NDVI_VNP13A1_5km',\n",
    "        region=region,\n",
    "        scale=resolution,\n",
    "        crs=output_crs,\n",
    "        maxPixels=1e13,\n",
    "        fileFormat='GeoTIFF',\n",
    "        formatOptions={\n",
    "            'cloudOptimized':True\n",
    "              }\n",
    "        )\n",
    "    export.start()\n",
    "    \n",
    "    i+=1\n",
    "    "
   ]
  },
  {
   "cell_type": "code",
   "execution_count": null,
   "metadata": {},
   "outputs": [],
   "source": [
    "export.status()"
   ]
  },
  {
   "cell_type": "code",
   "execution_count": null,
   "metadata": {},
   "outputs": [],
   "source": [
    "Map = geemap.Map()\n",
    "visParams = {'min':280, 'max':320, 'palette': ['green', 'yellow', 'red']}\n",
    "\n",
    "Map.addLayer(ds,visParams,'LST')\n",
    "Map"
   ]
  },
  {
   "cell_type": "markdown",
   "metadata": {},
   "source": [
    "## Stitch together geotiffs"
   ]
  },
  {
   "cell_type": "code",
   "execution_count": null,
   "metadata": {},
   "outputs": [],
   "source": [
    "import os\n",
    "import xarray as xr\n",
    "import numpy as np\n",
    "import pandas as pd\n",
    "from odc.geo.xr import assign_crs"
   ]
  },
  {
   "cell_type": "code",
   "execution_count": null,
   "metadata": {},
   "outputs": [],
   "source": [
    "# base='/g/data/os22/chad_tmp/climate-carbon-interactions/data/MODIS_LST/'\n",
    "base='/g/data/os22/chad_tmp/climate-carbon-interactions/data/MODIS_NDVI_median/'\n",
    "name= 'LST_median'\n",
    "dates_start = '2000-03-01'\n",
    "dates_end = '2000-12-31'\n"
   ]
  },
  {
   "cell_type": "code",
   "execution_count": null,
   "metadata": {},
   "outputs": [],
   "source": [
    "files = [base+i for i in os.listdir(base) if i.endswith('.tif')]\n",
    "files.sort()\n",
    "\n",
    "time = (pd.date_range(dates_start, dates_end, freq='MS') + pd.DateOffset(days=14)).to_numpy()\n",
    "time = list(time)\n",
    "\n",
    "print(len(files), print(len(time)))"
   ]
  },
  {
   "cell_type": "code",
   "execution_count": null,
   "metadata": {},
   "outputs": [],
   "source": [
    "i=0\n",
    "arrs=[]\n",
    "for f, t in zip(files, time):\n",
    "    print(\" {:02}/{:02}\\r\".format(i + 1, len(files)), end=\"\")\n",
    "    \n",
    "    ds = xr.open_dataarray(f).squeeze().drop('band').astype('float32')\n",
    "    ds = ds.expand_dims(time=[t])\n",
    "    ds = ds.rename(name)\n",
    "    del ds.attrs['long_name']\n",
    "    del ds.attrs['AREA_OR_POINT']\n",
    "\n",
    "    ds.attrs['nodata']=np.nan\n",
    "    ds = ds.drop('spatial_ref')\n",
    "    ds = assign_crs(ds, crs='epsg:3577')\n",
    "    arrs.append(ds)\n",
    "\n",
    "    i+=1 "
   ]
  },
  {
   "cell_type": "code",
   "execution_count": null,
   "metadata": {},
   "outputs": [],
   "source": [
    "ds = xr.concat(arrs, dim='time').sortby('time')"
   ]
  },
  {
   "cell_type": "code",
   "execution_count": null,
   "metadata": {},
   "outputs": [],
   "source": [
    "# ds.plot.imshow(col='time')"
   ]
  },
  {
   "cell_type": "code",
   "execution_count": null,
   "metadata": {},
   "outputs": [],
   "source": [
    "gbox = xr.open_dataset('/g/data/os22/chad_tmp/climate-carbon-interactions/data/5km/WCF_5km_monthly_1982_2022.nc').odc.geobox"
   ]
  },
  {
   "cell_type": "code",
   "execution_count": null,
   "metadata": {},
   "outputs": [],
   "source": [
    "ds = ds.odc.reproject(how=gbox, resampling='bilinear').compute()"
   ]
  },
  {
   "cell_type": "code",
   "execution_count": null,
   "metadata": {},
   "outputs": [],
   "source": [
    "dss = assign_crs(xr.open_dataset('/g/data/os22/chad_tmp/climate-carbon-interactions/data/LST_harmonization/MODIS_LST_5km_monthly_2001_2022.nc'), crs='epsg:4326')"
   ]
  },
  {
   "cell_type": "code",
   "execution_count": null,
   "metadata": {},
   "outputs": [],
   "source": [
    "out = xr.concat([ds.to_dataset(name='LST_median'), dss], dim='time').sortby('time')"
   ]
  },
  {
   "cell_type": "code",
   "execution_count": null,
   "metadata": {},
   "outputs": [],
   "source": [
    "out.to_netcdf('/g/data/os22/chad_tmp/climate-carbon-interactions/data/LST_harmonization/MODIS_LST_5km_monthly_20003_202212.nc')"
   ]
  },
  {
   "cell_type": "code",
   "execution_count": null,
   "metadata": {},
   "outputs": [],
   "source": []
  }
 ],
 "metadata": {
  "kernelspec": {
   "display_name": "Python 3 (ipykernel)",
   "language": "python",
   "name": "python3"
  },
  "language_info": {
   "codemirror_mode": {
    "name": "ipython",
    "version": 3
   },
   "file_extension": ".py",
   "mimetype": "text/x-python",
   "name": "python",
   "nbconvert_exporter": "python",
   "pygments_lexer": "ipython3",
   "version": "3.9.2"
  }
 },
 "nbformat": 4,
 "nbformat_minor": 4
}
