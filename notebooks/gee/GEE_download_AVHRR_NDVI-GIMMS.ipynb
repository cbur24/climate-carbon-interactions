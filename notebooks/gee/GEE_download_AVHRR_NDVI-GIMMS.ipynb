{
 "cells": [
  {
   "cell_type": "markdown",
   "metadata": {},
   "source": [
    "# Downloading AVHRR NDVI GIMMS3g\n"
   ]
  },
  {
   "cell_type": "markdown",
   "metadata": {},
   "source": [
    "## Load packages"
   ]
  },
  {
   "cell_type": "code",
   "execution_count": null,
   "metadata": {},
   "outputs": [],
   "source": [
    "import os\n",
    "import ee\n",
    "import wxee\n",
    "import math\n",
    "import eemont\n",
    "import warnings\n",
    "import xarray as xr\n",
    "import pandas as pd\n",
    "import geemap\n",
    "import numpy as np\n",
    "from odc.geo.xr import assign_crs"
   ]
  },
  {
   "cell_type": "markdown",
   "metadata": {},
   "source": [
    "## Authenticate GEE    "
   ]
  },
  {
   "cell_type": "code",
   "execution_count": null,
   "metadata": {},
   "outputs": [],
   "source": [
    "# Trigger the authentication flow.\n",
    "ee.Authenticate()\n",
    "\n",
    "# Initialize the library.\n",
    "ee.Initialize()"
   ]
  },
  {
   "cell_type": "markdown",
   "metadata": {},
   "source": [
    "## Analysis parameters\n"
   ]
  },
  {
   "cell_type": "code",
   "execution_count": null,
   "metadata": {},
   "outputs": [],
   "source": [
    "# product = 'NOAA/CDR/AVHRR/SR/V5'\n",
    "product = 'NASA/GIMMS/3GV0'\n",
    "bands =  ['ndvi']\n",
    "start_date = '1/1/1982'\n",
    "end_date = '12/31/2013'\n",
    "output_crs = \"EPSG:4326\"\n",
    "resolution = 0.08\n",
    "\n",
    "# ~Aus region (slightly less to trick google into giving me 1km res)\n",
    "region = ee.Geometry.Polygon([[\n",
    "            [112,-43.0],\n",
    "            [155,-43.0],\n",
    "            [155,-9.0],\n",
    "            [112,-9.0],\n",
    "            [112,-43.0]]])\n"
   ]
  },
  {
   "cell_type": "markdown",
   "metadata": {},
   "source": [
    "## QA mask"
   ]
  },
  {
   "cell_type": "code",
   "execution_count": null,
   "metadata": {
    "tags": []
   },
   "outputs": [],
   "source": [
    "def getQABits(image, start, end, newName):\n",
    "    # Compute the bits we need to extract.\n",
    "    pattern = 0\n",
    "    for i in range(start, end, 1):\n",
    "       pattern += math.pow(2, i)\n",
    "\n",
    "    out = image.select([0], [newName]) \\\n",
    "                  .bitwiseAnd(pattern) \\\n",
    "                  .rightShift(start)\n",
    "    return(image.addBands(out))\n",
    "\n",
    "def qa_gimms(image):\n",
    "  good = getQABits(image.select(\"qa\"),0,2,'good')\n",
    "  good = good.lte(2)\n",
    "  out = image.updateMask(good)\n",
    "  return (out)"
   ]
  },
  {
   "cell_type": "markdown",
   "metadata": {},
   "source": [
    "## Loop through months and export geotiff"
   ]
  },
  {
   "cell_type": "code",
   "execution_count": null,
   "metadata": {},
   "outputs": [],
   "source": [
    "#use start and end dates to loop through months and load GEE data\n",
    "start = pd.date_range(start=start_date, end=end_date, freq='MS') \n",
    "end = pd.date_range(start=start_date, end=end_date, freq='M')\n",
    "\n",
    "i = 0\n",
    "for s, e in zip(start,end):\n",
    "    print(\" {:03}/{:03}\\r\".format(i+1, len(start)), end=\"\")\n",
    "\n",
    "    ss = s+pd.Timedelta(14, 'd')\n",
    "\n",
    "    s = s.strftime('%Y-%m-%d')\n",
    "    e = e.strftime('%Y-%m-%d')\n",
    "\n",
    "    ds = (ee.ImageCollection(product)\n",
    "          .filterDate(s,e)\n",
    "          .map(lambda image: image.clip(region))\n",
    "          .map(lambda image: qa_gimms(image))\n",
    "          .select(bands)\n",
    "          .median()\n",
    "          )\n",
    "\n",
    "    export = ee.batch.Export.image.toDrive(ds,\n",
    "        description='AVHRR_NDVI_GIMMS'+'_'+ss.strftime('%Y-%m-%d'),\n",
    "        folder='AVHRR_NDVI_GIMMS',\n",
    "        region=region,\n",
    "        scale=resolution,\n",
    "        crs=output_crs,\n",
    "        maxPixels=1e13,\n",
    "        fileFormat='GeoTIFF',\n",
    "        formatOptions={\n",
    "            'cloudOptimized':True\n",
    "              }\n",
    "        )\n",
    "    export.start()\n",
    "    \n",
    "    i+=1"
   ]
  },
  {
   "cell_type": "code",
   "execution_count": null,
   "metadata": {},
   "outputs": [],
   "source": [
    "export.status()"
   ]
  },
  {
   "cell_type": "markdown",
   "metadata": {},
   "source": [
    "## Plot on map"
   ]
  },
  {
   "cell_type": "code",
   "execution_count": null,
   "metadata": {},
   "outputs": [],
   "source": [
    "# # Using basemap in geemap\n",
    "# Map = geemap.Map(center=[-35.2041, 149.2721], zoom=6)\n",
    "\n",
    "# ndviVis = {\n",
    "#   'min': 0,\n",
    "#   'max': 1.0,\n",
    "#   'palette': ['000000', 'f5f5f5', '119701']}\n",
    "\n",
    "\n",
    "# Map.addLayer(ds, ndviVis)\n",
    "# Map"
   ]
  },
  {
   "cell_type": "markdown",
   "metadata": {},
   "source": [
    "## Stitch together geotiffs"
   ]
  },
  {
   "cell_type": "code",
   "execution_count": null,
   "metadata": {},
   "outputs": [],
   "source": [
    "import os\n",
    "import xarray as xr\n",
    "import numpy as np\n",
    "import pandas as pd\n",
    "from odc.geo.xr import assign_crs"
   ]
  },
  {
   "cell_type": "code",
   "execution_count": null,
   "metadata": {},
   "outputs": [],
   "source": [
    "base='/g/data/os22/chad_tmp/climate-carbon-interactions/data/AVHRR_NDVI_count/'\n",
    "name= 'n_obs'\n",
    "dates_start = '1982-01-01'\n",
    "dates_end = '2013-12-31'\n"
   ]
  },
  {
   "cell_type": "code",
   "execution_count": null,
   "metadata": {},
   "outputs": [],
   "source": [
    "files = [base+i for i in os.listdir(base) if i.endswith('.tif')]\n",
    "files.sort()\n",
    "\n",
    "time = (pd.date_range(dates_start, dates_end, freq='MS') + pd.DateOffset(days=14)).to_numpy()\n",
    "time = list(time)"
   ]
  },
  {
   "cell_type": "code",
   "execution_count": null,
   "metadata": {},
   "outputs": [],
   "source": [
    "i=0\n",
    "arrs=[]\n",
    "for f, t in zip(files, time):\n",
    "    print(\" {:02}/{:02}\\r\".format(i + 1, len(files)), end=\"\")\n",
    "    \n",
    "    if name=='SR_median':\n",
    "        ds = xr.open_dataarray(f).astype('float32')\n",
    "        tod = ds.isel(band=0).squeeze().drop('band').rename('TIMEOFDAY_median')\n",
    "        sza = ds.isel(band=1).squeeze().drop('band').rename('SZEN_median')\n",
    "        ds = tod.to_dataset()\n",
    "        ds['SZEN_median'] = sza\n",
    "    else:\n",
    "        ds = xr.open_dataarray(f).squeeze().drop('band').astype('float32')\n",
    "        ds = ds.expand_dims(time=[t])\n",
    "        ds = ds.rename(name)\n",
    "        del ds.attrs['long_name']\n",
    "        del ds.attrs['AREA_OR_POINT']\n",
    "    \n",
    "    ds.attrs['nodata']=np.nan\n",
    "    ds = ds.drop('spatial_ref')\n",
    "    ds = assign_crs(ds, crs='epsg:3577')\n",
    "    arrs.append(ds)\n",
    "    i+=1 \n",
    "    "
   ]
  },
  {
   "cell_type": "code",
   "execution_count": null,
   "metadata": {},
   "outputs": [],
   "source": [
    "ds = xr.concat(arrs, dim='time').sortby('time')"
   ]
  },
  {
   "cell_type": "code",
   "execution_count": null,
   "metadata": {},
   "outputs": [],
   "source": [
    "ds.to_netcdf('/g/data/os22/chad_tmp/climate-carbon-interactions/data/AVHRR_'+name+'_5km_monthly_1982_2013.nc')"
   ]
  },
  {
   "cell_type": "markdown",
   "metadata": {},
   "source": [
    "### Combine netcdfs"
   ]
  },
  {
   "cell_type": "code",
   "execution_count": null,
   "metadata": {},
   "outputs": [],
   "source": [
    "nobs = assign_crs(xr.open_dataset('/g/data/os22/chad_tmp/climate-carbon-interactions/data/AVHRR_n_obs_5km_monthly_1982_2013.nc'), crs='epsg:3577')\n",
    "ndvi_med = assign_crs(xr.open_dataset('/g/data/os22/chad_tmp/climate-carbon-interactions/data/AVHRR_NDVI_median_5km_monthly_1982_2013.nc'), crs='epsg:3577')\n",
    "ndvi_std = assign_crs(xr.open_dataset('/g/data/os22/chad_tmp/climate-carbon-interactions/data/AVHRR_NDVI_stddev_5km_monthly_1982_2013.nc'), crs='epsg:3577')\n",
    "ndvi_sr = assign_crs(xr.open_dataset('/g/data/os22/chad_tmp/climate-carbon-interactions/data/AVHRR_SR_median_5km_monthly_1982_2013.nc'), crs='epsg:3577')"
   ]
  },
  {
   "cell_type": "code",
   "execution_count": null,
   "metadata": {
    "tags": []
   },
   "outputs": [],
   "source": [
    "ds = xr.merge([nobs, ndvi_med, ndvi_sr, ndvi_std])"
   ]
  },
  {
   "cell_type": "code",
   "execution_count": null,
   "metadata": {
    "tags": []
   },
   "outputs": [],
   "source": [
    "for i in ds.data_vars:\n",
    "    del ds[i].attrs['grid_mapping']"
   ]
  },
  {
   "cell_type": "code",
   "execution_count": null,
   "metadata": {
    "tags": []
   },
   "outputs": [],
   "source": [
    "ds.to_netcdf('/g/data/os22/chad_tmp/climate-carbon-interactions/data/AVHRR_5km_monthly_1982_2013.nc')"
   ]
  },
  {
   "cell_type": "code",
   "execution_count": null,
   "metadata": {},
   "outputs": [],
   "source": [
    "import xarray as xr"
   ]
  },
  {
   "cell_type": "code",
   "execution_count": null,
   "metadata": {},
   "outputs": [],
   "source": [
    "xr.open_dataset('/g/data/os22/chad_tmp/climate-carbon-interactions/data/AVHRR_5km_monthly_1982_2013.nc')"
   ]
  },
  {
   "cell_type": "code",
   "execution_count": null,
   "metadata": {},
   "outputs": [],
   "source": []
  },
  {
   "cell_type": "code",
   "execution_count": null,
   "metadata": {},
   "outputs": [],
   "source": [
    "# #use start and end dates to loop through months and load GEE data\n",
    "# start = pd.date_range(start=start_date, end=end_date, freq='MS') \n",
    "# end = pd.date_range(start=start_date, end=end_date, freq='M')\n",
    "\n",
    "# i = 0\n",
    "# for s, e in zip(start,end):\n",
    "#     print(\" {:03}/{:03}\\r\".format(i+1, len(start)), end=\"\")\n",
    "\n",
    "#     ss = s+pd.Timedelta(14, 'd')\n",
    "\n",
    "#     if os.path.isfile(output_path+'AVHRR_SR_'+ss.strftime('%Y-%m')+'.nc'):\n",
    "#         i+=1\n",
    "#         pass\n",
    "\n",
    "#     else:\n",
    "#         s = s.strftime('%Y-%m-%d')\n",
    "#         e = e.strftime('%Y-%m-%d')\n",
    "\n",
    "#         ds = ee.ImageCollection(product) \\\n",
    "#           .filterDate(s,e) \\\n",
    "#           .map(lambda image: image.clip(region)) \\\n",
    "#           .map(qualityFlag)\n",
    "\n",
    "#         ds = ds.select(bands)\n",
    "\n",
    "#         ts = wxee.TimeSeries(ds)\n",
    "#         ds = ts.wx.to_xarray(region=region, scale=resolution, crs=output_crs, progress=False, num_cores=4)\n",
    "\n",
    "#         ds[bands] = ds[bands] * scale\n",
    "        \n",
    "#         warnings.filterwarnings(\"ignore\")\n",
    "#         ds = ds.astype(np.float32)\n",
    "#         ds_mean = ds.resample(time='MS', loffset=pd.Timedelta(14, 'd')).mean().compute()\n",
    "#         # ds_std = ds.resample(time='MS', loffset=pd.Timedelta(14, 'd')).std().compute()\n",
    "#         # count = (~np.isnan(ds))\n",
    "#         # count =  count.resample(time='MS', loffset=pd.Timedelta(14, 'd')).sum().compute()\n",
    "        \n",
    "#         ds_mean = ds_mean.rename({'TIMEOFDAY':'TIMEOFDAY_mean', 'SZEN':'SZEN_mean'})\n",
    "\n",
    "#         ds_mean.attrs['nodata'] = np.nan\n",
    "#         # ds_std = ds_std.rename('NDVI_std').to_dataset()\n",
    "#         # ds_std.attrs['nodata'] = np.nan\n",
    "#         # count = count.rename('n_obs').to_dataset()\n",
    "#         # count.attrs['nodata'] = 0\n",
    "        \n",
    "#         # ds_out = xr.merge([ds_mean, ds_std, count])\n",
    "#         # ds_out.attrs['nodata'] = np.nan\n",
    "#         ds_out = assign_crs(ds_mean, crs='epsg:3577')\n",
    "        \n",
    "#         ds_out.to_netcdf(output_path+'AVHRR_SR_'+ss.strftime('%Y-%m')+'.nc')\n",
    "\n",
    "#         i+=1\n"
   ]
  },
  {
   "cell_type": "code",
   "execution_count": null,
   "metadata": {},
   "outputs": [],
   "source": []
  }
 ],
 "metadata": {
  "kernelspec": {
   "display_name": "Python 3 (ipykernel)",
   "language": "python",
   "name": "python3"
  },
  "language_info": {
   "codemirror_mode": {
    "name": "ipython",
    "version": 3
   },
   "file_extension": ".py",
   "mimetype": "text/x-python",
   "name": "python",
   "nbconvert_exporter": "python",
   "pygments_lexer": "ipython3",
   "version": "3.9.2"
  }
 },
 "nbformat": 4,
 "nbformat_minor": 4
}
