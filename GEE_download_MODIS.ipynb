{
 "cells": [
  {
   "cell_type": "markdown",
   "metadata": {},
   "source": [
    "# Downloading products from GEE into netcdfs\n"
   ]
  },
  {
   "cell_type": "markdown",
   "metadata": {},
   "source": [
    "## Load packages"
   ]
  },
  {
   "cell_type": "code",
   "execution_count": null,
   "metadata": {},
   "outputs": [],
   "source": [
    "import os\n",
    "import ee\n",
    "import wxee\n",
    "import warnings\n",
    "import xarray as xr\n",
    "import pandas as pd\n",
    "import numpy as np\n",
    "from odc.geo.xr import assign_crs"
   ]
  },
  {
   "cell_type": "markdown",
   "metadata": {},
   "source": [
    "## Authenticate GEE    "
   ]
  },
  {
   "cell_type": "code",
   "execution_count": null,
   "metadata": {},
   "outputs": [],
   "source": [
    "# Trigger the authentication flow.\n",
    "# ee.Authenticate()\n",
    "\n",
    "# Initialize the library.\n",
    "ee.Initialize()"
   ]
  },
  {
   "cell_type": "markdown",
   "metadata": {},
   "source": [
    "## Analysis parameters\n"
   ]
  },
  {
   "cell_type": "code",
   "execution_count": null,
   "metadata": {},
   "outputs": [],
   "source": [
    "product = 'MODIS/MCD43A4_006_NDVI'\n",
    "bands = ['NDVI']\n",
    "start_date = '1/1/2001'\n",
    "end_date = '12/31/2022'\n",
    "output_crs = \"EPSG:3577\"\n",
    "resolution = 5000\n",
    "\n",
    "# ~Aus region (slightly less to trick google into giving me 1km res)\n",
    "region = ee.Geometry.Polygon([[\n",
    "            [114,-43.0],\n",
    "            [154.0,-43.0],\n",
    "            [154.0,-10.0],\n",
    "            [113,-10.0],\n",
    "            [113,-43.0]]])\n"
   ]
  },
  {
   "cell_type": "code",
   "execution_count": null,
   "metadata": {},
   "outputs": [],
   "source": [
    "#use start and end dates to loop through months and load GEE data\n",
    "start = pd.date_range(start=start_date, end=end_date, freq='MS') \n",
    "end = pd.date_range(start=start_date, end=end_date, freq='M')\n",
    "\n",
    "i = 0\n",
    "for s, e in zip(start,end):\n",
    "    print(\" {:03}/{:03}\\r\".format(i+1, len(start)), end=\"\")\n",
    "\n",
    "    ss = s+pd.Timedelta(14, 'd')\n",
    "\n",
    "    s = s.strftime('%Y-%m-%d')\n",
    "    e = e.strftime('%Y-%m-%d')\n",
    "\n",
    "    ds = ee.ImageCollection(product) \\\n",
    "      .filterDate(s,e) \\\n",
    "      .map(lambda image: image.clip(region)) \\\n",
    "      .select(bands) \\\n",
    "      .reduce(ee.Reducer.median())  \n",
    "      \n",
    "    export = ee.batch.Export.image.toDrive(ds,\n",
    "        description='MODIS_NDVI_median'+'_'+ss.strftime('%Y-%m-%d'),\n",
    "        folder='MODIS_NDVI_median',\n",
    "        region=region,\n",
    "        scale=resolution,\n",
    "        crs=output_crs,\n",
    "        maxPixels=1e13,\n",
    "        fileFormat='GeoTIFF',\n",
    "        formatOptions={\n",
    "            'cloudOptimized':True\n",
    "              }\n",
    "        )\n",
    "    export.start()\n",
    "    break\n",
    "    i+=1"
   ]
  },
  {
   "cell_type": "code",
   "execution_count": null,
   "metadata": {},
   "outputs": [],
   "source": []
  },
  {
   "cell_type": "code",
   "execution_count": null,
   "metadata": {},
   "outputs": [],
   "source": [
    "# %%time\n",
    "# #use start and end dates to loop through months and load GEE data\n",
    "\n",
    "# start = pd.date_range(start=start_date, end=end_date, freq='MS') \n",
    "# end = pd.date_range(start=start_date, end=end_date, freq='M')\n",
    "\n",
    "# i = 0\n",
    "# for s, e in zip(start,end):\n",
    "#     print(\" {:03}/{:03}\\r\".format(i+1, len(start)), end=\"\")\n",
    "\n",
    "#     ss = s+pd.Timedelta(14, 'd')\n",
    "\n",
    "#     if os.path.isfile(output_path+'MODIS_NDVI_'+ss.strftime('%Y-%m')+'.nc'):\n",
    "#         i+=1\n",
    "#         pass\n",
    "\n",
    "#     else:\n",
    "#         s = s.strftime('%Y-%m-%d')\n",
    "#         e = e.strftime('%Y-%m-%d')\n",
    "\n",
    "#         ds = ee.ImageCollection(product) \\\n",
    "#           .filterDate(s,e) \\\n",
    "#           .map(lambda image: image.clip(region))\n",
    "\n",
    "#         ds = ds.select(bands)\n",
    "\n",
    "#         ts = wxee.TimeSeries(ds)\n",
    "#         ds = ts.wx.to_xarray(region=region, scale=resolution, crs=output_crs, progress=False, num_cores=4)\n",
    "\n",
    "#         warnings.filterwarnings(\"ignore\")\n",
    "#         ds = ds.astype(np.float32)\n",
    "\n",
    "#         ds_mean = ds.resample(time='MS', loffset=pd.Timedelta(14, 'd')).mean()\n",
    "\n",
    "#         ds_mean = ds_mean.rename({'NDVI':'NDVI_mean'})\n",
    "#         ds_mean.attrs['nodata'] = np.nan\n",
    "\n",
    "#         ds_out = assign_crs(ds_mean, crs='epsg:3577')\n",
    "\n",
    "#         ds_out.to_netcdf(output_path+'MODIS_NDVI_'+ss.strftime('%Y-%m')+'.nc')\n",
    "\n",
    "#         i+=1\n"
   ]
  },
  {
   "cell_type": "code",
   "execution_count": null,
   "metadata": {},
   "outputs": [],
   "source": []
  }
 ],
 "metadata": {
  "kernelspec": {
   "display_name": "Python 3 (ipykernel)",
   "language": "python",
   "name": "python3"
  },
  "language_info": {
   "codemirror_mode": {
    "name": "ipython",
    "version": 3
   },
   "file_extension": ".py",
   "mimetype": "text/x-python",
   "name": "python",
   "nbconvert_exporter": "python",
   "pygments_lexer": "ipython3",
   "version": "3.11.0"
  }
 },
 "nbformat": 4,
 "nbformat_minor": 4
}
