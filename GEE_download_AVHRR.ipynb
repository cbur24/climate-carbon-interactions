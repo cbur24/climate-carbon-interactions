{
 "cells": [
  {
   "cell_type": "markdown",
   "metadata": {},
   "source": [
    "# Downloading products from GEE into netcdfs\n"
   ]
  },
  {
   "cell_type": "markdown",
   "metadata": {},
   "source": [
    "## Load packages"
   ]
  },
  {
   "cell_type": "code",
   "execution_count": 1,
   "metadata": {},
   "outputs": [
    {
     "name": "stderr",
     "output_type": "stream",
     "text": [
      "/g/data/os22/chad_tmp/climate-carbon-interactions/envs/python3110/lib/python3.11/site-packages/tqdm/auto.py:21: TqdmWarning: IProgress not found. Please update jupyter and ipywidgets. See https://ipywidgets.readthedocs.io/en/stable/user_install.html\n",
      "  from .autonotebook import tqdm as notebook_tqdm\n"
     ]
    }
   ],
   "source": [
    "import os\n",
    "import ee\n",
    "import wxee\n",
    "import math\n",
    "import warnings\n",
    "import xarray as xr\n",
    "import pandas as pd\n",
    "import numpy as np\n",
    "from odc.geo.xr import assign_crs"
   ]
  },
  {
   "cell_type": "markdown",
   "metadata": {},
   "source": [
    "## Authenticate GEE    "
   ]
  },
  {
   "cell_type": "code",
   "execution_count": 2,
   "metadata": {},
   "outputs": [],
   "source": [
    "# Trigger the authentication flow.\n",
    "# ee.Authenticate()\n",
    "\n",
    "# Initialize the library.\n",
    "ee.Initialize()"
   ]
  },
  {
   "cell_type": "markdown",
   "metadata": {},
   "source": [
    "## Analysis parameters\n"
   ]
  },
  {
   "cell_type": "code",
   "execution_count": 36,
   "metadata": {},
   "outputs": [],
   "source": [
    "# product = 'NOAA/CDR/AVHRR/SR/V5'\n",
    "product = 'NOAA/CDR/AVHRR/NDVI/V5'\n",
    "bands =  ['NDVI']\n",
    "start_date = '1/1/1982'\n",
    "end_date = '12/31/2013'\n",
    "output_crs = \"EPSG:3577\"\n",
    "resolution = 5000\n",
    "scale = 0.0001 #NDVI\n",
    "# scale = 0.01 #SR\n",
    "\n",
    "# ~Aus region (slightly less to trick google into giving me 1km res)\n",
    "region = ee.Geometry.Polygon([[\n",
    "            [114,-43.0],\n",
    "            [154.0,-43.0],\n",
    "            [154.0,-10.0],\n",
    "            [113,-10.0],\n",
    "            [113,-43.0]]])\n"
   ]
  },
  {
   "cell_type": "code",
   "execution_count": 37,
   "metadata": {
    "tags": []
   },
   "outputs": [],
   "source": [
    "def qualityFlag(image):\n",
    "    qa = image.select('QA')\n",
    "    # Select bits\n",
    "    cloudBitMask = math.pow(2, 1)\n",
    "    shadowBitMask = math.pow(2, 2)\n",
    "    brdfBitMask = math.pow(2, 14)\n",
    "    ch_1_5_BitMask = math.pow(2, 7)\n",
    "\n",
    "    mask = qa.bitwiseAnd(cloudBitMask).eq(0) \\\n",
    "            .And(qa.bitwiseAnd(shadowBitMask).eq(0))\n",
    "\n",
    "    image = image.updateMask(mask)\n",
    "    \n",
    "    return(image)"
   ]
  },
  {
   "cell_type": "code",
   "execution_count": 38,
   "metadata": {},
   "outputs": [
    {
     "name": "stdout",
     "output_type": "stream",
     "text": [
      " 384/384\r"
     ]
    }
   ],
   "source": [
    "#use start and end dates to loop through months and load GEE data\n",
    "start = pd.date_range(start=start_date, end=end_date, freq='MS') \n",
    "end = pd.date_range(start=start_date, end=end_date, freq='M')\n",
    "\n",
    "i = 0\n",
    "for s, e in zip(start,end):\n",
    "    print(\" {:03}/{:03}\\r\".format(i+1, len(start)), end=\"\")\n",
    "\n",
    "    ss = s+pd.Timedelta(14, 'd')\n",
    "\n",
    "    s = s.strftime('%Y-%m-%d')\n",
    "    e = e.strftime('%Y-%m-%d')\n",
    "\n",
    "    ds = ee.ImageCollection(product) \\\n",
    "      .filterDate(s,e) \\\n",
    "      .map(lambda image: image.clip(region)) \\\n",
    "      .map(qualityFlag) \\\n",
    "      .select(bands) \\\n",
    "      .map(lambda image: image.multiply(scale)) \\\n",
    "      .reduce(ee.Reducer.count())  \n",
    "      # .reduce(ee.Reducer.stdDev())\n",
    "      # .median()\n",
    "      \n",
    "\n",
    "    export = ee.batch.Export.image.toDrive(ds,\n",
    "        description='AVHRR_NDVI_count'+'_'+ss.strftime('%Y-%m-%d'),\n",
    "        folder='AVHRR_NDVI_count',\n",
    "        region=region,\n",
    "        scale=resolution,\n",
    "        crs=output_crs,\n",
    "        maxPixels=1e13,\n",
    "        fileFormat='GeoTIFF',\n",
    "        formatOptions={\n",
    "            'cloudOptimized':True\n",
    "              }\n",
    "        )\n",
    "    export.start()\n",
    "    \n",
    "    i+=1"
   ]
  },
  {
   "cell_type": "code",
   "execution_count": null,
   "metadata": {},
   "outputs": [],
   "source": []
  },
  {
   "cell_type": "code",
   "execution_count": null,
   "metadata": {},
   "outputs": [],
   "source": []
  },
  {
   "cell_type": "code",
   "execution_count": null,
   "metadata": {},
   "outputs": [],
   "source": []
  },
  {
   "cell_type": "code",
   "execution_count": null,
   "metadata": {},
   "outputs": [],
   "source": []
  },
  {
   "cell_type": "code",
   "execution_count": null,
   "metadata": {},
   "outputs": [],
   "source": [
    "# #use start and end dates to loop through months and load GEE data\n",
    "# start = pd.date_range(start=start_date, end=end_date, freq='MS') \n",
    "# end = pd.date_range(start=start_date, end=end_date, freq='M')\n",
    "\n",
    "# i = 0\n",
    "# for s, e in zip(start,end):\n",
    "#     print(\" {:03}/{:03}\\r\".format(i+1, len(start)), end=\"\")\n",
    "\n",
    "#     ss = s+pd.Timedelta(14, 'd')\n",
    "\n",
    "#     if os.path.isfile(output_path+'AVHRR_SR_'+ss.strftime('%Y-%m')+'.nc'):\n",
    "#         i+=1\n",
    "#         pass\n",
    "\n",
    "#     else:\n",
    "#         s = s.strftime('%Y-%m-%d')\n",
    "#         e = e.strftime('%Y-%m-%d')\n",
    "\n",
    "#         ds = ee.ImageCollection(product) \\\n",
    "#           .filterDate(s,e) \\\n",
    "#           .map(lambda image: image.clip(region)) \\\n",
    "#           .map(qualityFlag)\n",
    "\n",
    "#         ds = ds.select(bands)\n",
    "\n",
    "#         ts = wxee.TimeSeries(ds)\n",
    "#         ds = ts.wx.to_xarray(region=region, scale=resolution, crs=output_crs, progress=False, num_cores=4)\n",
    "\n",
    "#         ds[bands] = ds[bands] * scale\n",
    "        \n",
    "#         warnings.filterwarnings(\"ignore\")\n",
    "#         ds = ds.astype(np.float32)\n",
    "#         ds_mean = ds.resample(time='MS', loffset=pd.Timedelta(14, 'd')).mean().compute()\n",
    "#         # ds_std = ds.resample(time='MS', loffset=pd.Timedelta(14, 'd')).std().compute()\n",
    "#         # count = (~np.isnan(ds))\n",
    "#         # count =  count.resample(time='MS', loffset=pd.Timedelta(14, 'd')).sum().compute()\n",
    "        \n",
    "#         ds_mean = ds_mean.rename({'TIMEOFDAY':'TIMEOFDAY_mean', 'SZEN':'SZEN_mean'})\n",
    "\n",
    "#         ds_mean.attrs['nodata'] = np.nan\n",
    "#         # ds_std = ds_std.rename('NDVI_std').to_dataset()\n",
    "#         # ds_std.attrs['nodata'] = np.nan\n",
    "#         # count = count.rename('n_obs').to_dataset()\n",
    "#         # count.attrs['nodata'] = 0\n",
    "        \n",
    "#         # ds_out = xr.merge([ds_mean, ds_std, count])\n",
    "#         # ds_out.attrs['nodata'] = np.nan\n",
    "#         ds_out = assign_crs(ds_mean, crs='epsg:3577')\n",
    "        \n",
    "#         ds_out.to_netcdf(output_path+'AVHRR_SR_'+ss.strftime('%Y-%m')+'.nc')\n",
    "\n",
    "#         i+=1\n"
   ]
  },
  {
   "cell_type": "code",
   "execution_count": null,
   "metadata": {},
   "outputs": [],
   "source": []
  }
 ],
 "metadata": {
  "kernelspec": {
   "display_name": "Python 3 (ipykernel)",
   "language": "python",
   "name": "python3"
  },
  "language_info": {
   "codemirror_mode": {
    "name": "ipython",
    "version": 3
   },
   "file_extension": ".py",
   "mimetype": "text/x-python",
   "name": "python",
   "nbconvert_exporter": "python",
   "pygments_lexer": "ipython3",
   "version": "3.11.0"
  }
 },
 "nbformat": 4,
 "nbformat_minor": 4
}
