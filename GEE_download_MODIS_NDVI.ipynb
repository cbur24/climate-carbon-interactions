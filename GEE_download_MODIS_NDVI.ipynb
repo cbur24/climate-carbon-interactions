{
 "cells": [
  {
   "cell_type": "markdown",
   "metadata": {},
   "source": [
    "# Downloading MODIS NDVI\n"
   ]
  },
  {
   "cell_type": "markdown",
   "metadata": {},
   "source": [
    "## Load packages"
   ]
  },
  {
   "cell_type": "code",
   "execution_count": null,
   "metadata": {},
   "outputs": [],
   "source": [
    "import os\n",
    "import ee\n",
    "import wxee\n",
    "import warnings\n",
    "import xarray as xr\n",
    "import pandas as pd\n",
    "import numpy as np\n",
    "from odc.geo.xr import assign_crs"
   ]
  },
  {
   "cell_type": "markdown",
   "metadata": {},
   "source": [
    "## Authenticate GEE    "
   ]
  },
  {
   "cell_type": "code",
   "execution_count": null,
   "metadata": {},
   "outputs": [],
   "source": [
    "# Trigger the authentication flow.\n",
    "# ee.Authenticate()\n",
    "\n",
    "# Initialize the library.\n",
    "ee.Initialize()"
   ]
  },
  {
   "cell_type": "markdown",
   "metadata": {},
   "source": [
    "## Analysis parameters\n"
   ]
  },
  {
   "cell_type": "code",
   "execution_count": null,
   "metadata": {},
   "outputs": [],
   "source": [
    "product = 'MODIS/MCD43A4_006_NDVI'\n",
    "bands = ['NDVI']\n",
    "start_date = '1/1/2001'\n",
    "end_date = '12/31/2022'\n",
    "output_crs = \"EPSG:3577\"\n",
    "resolution = 5000\n",
    "\n",
    "# ~Aus region (slightly less to trick google into giving me 1km res)\n",
    "region = ee.Geometry.Polygon([[\n",
    "            [114,-43.0],\n",
    "            [154.0,-43.0],\n",
    "            [154.0,-10.0],\n",
    "            [113,-10.0],\n",
    "            [113,-43.0]]])\n"
   ]
  },
  {
   "cell_type": "code",
   "execution_count": null,
   "metadata": {
    "tags": []
   },
   "outputs": [],
   "source": [
    "#use start and end dates to loop through months and load GEE data\n",
    "start = pd.date_range(start=start_date, end=end_date, freq='MS') \n",
    "end = pd.date_range(start=start_date, end=end_date, freq='M')\n",
    "\n",
    "i = 0\n",
    "for s, e in zip(start,end):\n",
    "    print(\" {:03}/{:03}\\r\".format(i+1, len(start)), end=\"\")\n",
    "\n",
    "    ss = s+pd.Timedelta(14, 'd')\n",
    "\n",
    "    s = s.strftime('%Y-%m-%d')\n",
    "    e = e.strftime('%Y-%m-%d')\n",
    "\n",
    "    ds = ee.ImageCollection(product) \\\n",
    "      .filterDate(s,e) \\\n",
    "      .map(lambda image: image.clip(region)) \\\n",
    "      .select(bands) \\\n",
    "      .reduce(ee.Reducer.median())  \n",
    "      \n",
    "    export = ee.batch.Export.image.toDrive(ds,\n",
    "        description='MODIS_NDVI_median'+'_'+ss.strftime('%Y-%m-%d'),\n",
    "        folder='MODIS_NDVI_median',\n",
    "        region=region,\n",
    "        scale=resolution,\n",
    "        crs=output_crs,\n",
    "        maxPixels=1e13,\n",
    "        fileFormat='GeoTIFF',\n",
    "        formatOptions={\n",
    "            'cloudOptimized':True\n",
    "              }\n",
    "        )\n",
    "    export.start()\n",
    "\n",
    "    i+=1"
   ]
  },
  {
   "cell_type": "markdown",
   "metadata": {},
   "source": [
    "## Stitch together geotiffs"
   ]
  },
  {
   "cell_type": "code",
   "execution_count": null,
   "metadata": {},
   "outputs": [],
   "source": [
    "import os\n",
    "import xarray as xr\n",
    "import numpy as np\n",
    "import pandas as pd\n",
    "from odc.geo.xr import assign_crs"
   ]
  },
  {
   "cell_type": "code",
   "execution_count": null,
   "metadata": {},
   "outputs": [],
   "source": [
    "base='/g/data/os22/chad_tmp/climate-carbon-interactions/data/MODIS_NDVI_median/'\n",
    "name= 'NDVI_median'\n",
    "dates_start = '2001-01-01'\n",
    "dates_end = '2022-12-31'\n"
   ]
  },
  {
   "cell_type": "code",
   "execution_count": null,
   "metadata": {},
   "outputs": [],
   "source": [
    "files = [base+i for i in os.listdir(base) if i.endswith('.tif')]\n",
    "files.sort()\n",
    "\n",
    "time = (pd.date_range(dates_start, dates_end, freq='MS') + pd.DateOffset(days=14)).to_numpy()\n",
    "time = list(time)\n",
    "\n",
    "print(len(files), print(len(time)))"
   ]
  },
  {
   "cell_type": "code",
   "execution_count": null,
   "metadata": {},
   "outputs": [],
   "source": [
    "i=0\n",
    "arrs=[]\n",
    "for f, t in zip(files, time):\n",
    "    print(\" {:02}/{:02}\\r\".format(i + 1, len(files)), end=\"\")\n",
    "    \n",
    "    ds = xr.open_dataarray(f).squeeze().drop('band').astype('float32')\n",
    "    ds = ds.expand_dims(time=[t])\n",
    "    ds = ds.rename(name)\n",
    "    del ds.attrs['long_name']\n",
    "    del ds.attrs['AREA_OR_POINT']\n",
    "\n",
    "    ds.attrs['nodata']=np.nan\n",
    "    ds = ds.drop('spatial_ref')\n",
    "    ds = assign_crs(ds, crs='epsg:3577')\n",
    "    arrs.append(ds)\n",
    "\n",
    "    i+=1 \n",
    "    "
   ]
  },
  {
   "cell_type": "code",
   "execution_count": null,
   "metadata": {},
   "outputs": [],
   "source": [
    "ds = xr.concat(arrs, dim='time').sortby('time')"
   ]
  },
  {
   "cell_type": "code",
   "execution_count": null,
   "metadata": {},
   "outputs": [],
   "source": [
    "ds.to_netcdf('/g/data/os22/chad_tmp/climate-carbon-interactions/data/MODIS_'+name+'_5km_monthly_2001_2022.nc')"
   ]
  },
  {
   "cell_type": "code",
   "execution_count": null,
   "metadata": {},
   "outputs": [],
   "source": [
    "# %%time\n",
    "# #use start and end dates to loop through months and load GEE data\n",
    "\n",
    "# start = pd.date_range(start=start_date, end=end_date, freq='MS') \n",
    "# end = pd.date_range(start=start_date, end=end_date, freq='M')\n",
    "\n",
    "# i = 0\n",
    "# for s, e in zip(start,end):\n",
    "#     print(\" {:03}/{:03}\\r\".format(i+1, len(start)), end=\"\")\n",
    "\n",
    "#     ss = s+pd.Timedelta(14, 'd')\n",
    "\n",
    "#     if os.path.isfile(output_path+'MODIS_NDVI_'+ss.strftime('%Y-%m')+'.nc'):\n",
    "#         i+=1\n",
    "#         pass\n",
    "\n",
    "#     else:\n",
    "#         s = s.strftime('%Y-%m-%d')\n",
    "#         e = e.strftime('%Y-%m-%d')\n",
    "\n",
    "#         ds = ee.ImageCollection(product) \\\n",
    "#           .filterDate(s,e) \\\n",
    "#           .map(lambda image: image.clip(region))\n",
    "\n",
    "#         ds = ds.select(bands)\n",
    "\n",
    "#         ts = wxee.TimeSeries(ds)\n",
    "#         ds = ts.wx.to_xarray(region=region, scale=resolution, crs=output_crs, progress=False, num_cores=4)\n",
    "\n",
    "#         warnings.filterwarnings(\"ignore\")\n",
    "#         ds = ds.astype(np.float32)\n",
    "\n",
    "#         ds_mean = ds.resample(time='MS', loffset=pd.Timedelta(14, 'd')).mean()\n",
    "\n",
    "#         ds_mean = ds_mean.rename({'NDVI':'NDVI_mean'})\n",
    "#         ds_mean.attrs['nodata'] = np.nan\n",
    "\n",
    "#         ds_out = assign_crs(ds_mean, crs='epsg:3577')\n",
    "\n",
    "#         ds_out.to_netcdf(output_path+'MODIS_NDVI_'+ss.strftime('%Y-%m')+'.nc')\n",
    "\n",
    "#         i+=1\n"
   ]
  },
  {
   "cell_type": "code",
   "execution_count": null,
   "metadata": {},
   "outputs": [],
   "source": []
  }
 ],
 "metadata": {
  "kernelspec": {
   "display_name": "Python 3 (ipykernel)",
   "language": "python",
   "name": "python3"
  },
  "language_info": {
   "codemirror_mode": {
    "name": "ipython",
    "version": 3
   },
   "file_extension": ".py",
   "mimetype": "text/x-python",
   "name": "python",
   "nbconvert_exporter": "python",
   "pygments_lexer": "ipython3",
   "version": "3.9.2"
  }
 },
 "nbformat": 4,
 "nbformat_minor": 4
}
